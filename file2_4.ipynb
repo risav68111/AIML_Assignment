{
 "cells": [
  {
   "cell_type": "markdown",
   "metadata": {},
   "source": [
    "#####   Name: RISHAV KUMAR\n",
    "#####   Roll no. 2301560042\n",
    "This was taken from: 'pandas-explode.ipynb [Link](https://github.com/pradeepsf729/pandas_101/blob/72fc5d6b72e01a50126876d229d66fd95869e81f/pandas-explode.ipynb)'"
   ]
  },
  {
   "cell_type": "code",
   "execution_count": null,
   "metadata": {},
   "outputs": [],
   "source": [
    "import pandas as pd"
   ]
  },
  {
   "cell_type": "code",
   "execution_count": null,
   "metadata": {},
   "outputs": [],
   "source": [
    "data = {\n",
    "    'Coffee_Shop': ['Brewed Awakening', 'Coffee Cloud', 'Bean Dream', 'Espresso Express', 'Latte Love',\n",
    "    'Mocha Magic', 'Cafe Comfort', 'Seattle Sip', 'Drip Drop', 'Grind Ground'],\n",
    "    'Location': ['Downtown', 'Capitol Hill', 'Green Lake', 'Ballard', 'West Seattle',\n",
    "    'Fremont', 'Queen Anne', 'Belltown', 'University District', 'Magnolia'],\n",
    "    'Avg_Rating': [4.5, 4.2, 5.0, 4.8, 4.6, 4.3, 4.9, 4.0, 4.7, 4.6],\n",
    "    'Coffee_Type': ['Espresso', 'Latte', 'Cappuccino', 'Americano', 'Cold Brew',\n",
    "    'Macchiato', 'Espresso', 'Latte', 'Drip Coffee', 'Americano'],\n",
    "    'Tables_Available': [5, 8, 6, 7, 5, 9, 7, 8, 6, 5]\n",
    "}"
   ]
  },
  {
   "cell_type": "code",
   "execution_count": null,
   "metadata": {},
   "outputs": [],
   "source": []
  }
 ],
 "metadata": {
  "language_info": {
   "name": "python"
  }
 },
 "nbformat": 4,
 "nbformat_minor": 2
}

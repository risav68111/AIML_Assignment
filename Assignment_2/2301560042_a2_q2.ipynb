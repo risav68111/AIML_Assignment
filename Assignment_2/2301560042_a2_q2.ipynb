{
 "cells": [
  {
   "cell_type": "markdown",
   "metadata": {},
   "source": [
    "#    QUESTION 2\n",
    "####  NAME: RISHAV KUMAR\n",
    "####  ROLL NO. 2301560042\n",
    "\n",
    "MY GITHUB LINK: [click me](https://github.com/risav68111/AIML_Assignment)"
   ]
  },
  {
   "cell_type": "markdown",
   "metadata": {},
   "source": [
    "# pandas-astype\n",
    "\n",
    "This was taken from: 'pandas-astype.ipynb [Link](https://github.com/pradeepsf729/pandas_101/blob/72fc5d6b72e01a50126876d229d66fd95869e81f/pandas-astype.ipynb)'\n"
   ]
  },
  {
   "cell_type": "code",
   "execution_count": null,
   "metadata": {},
   "outputs": [],
   "source": [
    "import pandas as pd\n",
    "\n",
    "data = {\n",
    "    'Product_ID': [101, 102, 103, 104, 105],\n",
    "    'Product_Name': ['iPhone', 'MacBook Pro', 'iPad', 'Apple Watch', 'AirPods'],\n",
    "    'Release_Year': ['2020', '2019', '2018', '2021', '2019'],\n",
    "    'Price ($)': [999, 1299, 329, 399, 159],\n",
    "    'Units_Sold_Millions': ['75', '20', '40', '25', '30']\n",
    "}\n",
    "\n",
    "df = pd.DataFrame(data)"
   ]
  },
  {
   "cell_type": "code",
   "execution_count": null,
   "metadata": {},
   "outputs": [
    {
     "data": {
      "text/html": [
       "<div>\n",
       "<style scoped>\n",
       "    .dataframe tbody tr th:only-of-type {\n",
       "        vertical-align: middle;\n",
       "    }\n",
       "\n",
       "    .dataframe tbody tr th {\n",
       "        vertical-align: top;\n",
       "    }\n",
       "\n",
       "    .dataframe thead th {\n",
       "        text-align: right;\n",
       "    }\n",
       "</style>\n",
       "<table border=\"1\" class=\"dataframe\">\n",
       "  <thead>\n",
       "    <tr style=\"text-align: right;\">\n",
       "      <th></th>\n",
       "      <th>Product_ID</th>\n",
       "      <th>Product_Name</th>\n",
       "      <th>Release_Year</th>\n",
       "      <th>Price ($)</th>\n",
       "      <th>Units_Sold_Millions</th>\n",
       "    </tr>\n",
       "  </thead>\n",
       "  <tbody>\n",
       "    <tr>\n",
       "      <th>0</th>\n",
       "      <td>101</td>\n",
       "      <td>iPhone</td>\n",
       "      <td>2020</td>\n",
       "      <td>999</td>\n",
       "      <td>75</td>\n",
       "    </tr>\n",
       "    <tr>\n",
       "      <th>1</th>\n",
       "      <td>102</td>\n",
       "      <td>MacBook Pro</td>\n",
       "      <td>2019</td>\n",
       "      <td>1299</td>\n",
       "      <td>20</td>\n",
       "    </tr>\n",
       "    <tr>\n",
       "      <th>2</th>\n",
       "      <td>103</td>\n",
       "      <td>iPad</td>\n",
       "      <td>2018</td>\n",
       "      <td>329</td>\n",
       "      <td>40</td>\n",
       "    </tr>\n",
       "    <tr>\n",
       "      <th>3</th>\n",
       "      <td>104</td>\n",
       "      <td>Apple Watch</td>\n",
       "      <td>2021</td>\n",
       "      <td>399</td>\n",
       "      <td>25</td>\n",
       "    </tr>\n",
       "    <tr>\n",
       "      <th>4</th>\n",
       "      <td>105</td>\n",
       "      <td>AirPods</td>\n",
       "      <td>2019</td>\n",
       "      <td>159</td>\n",
       "      <td>30</td>\n",
       "    </tr>\n",
       "  </tbody>\n",
       "</table>\n",
       "</div>"
      ],
      "text/plain": [
       "   Product_ID Product_Name Release_Year  Price ($) Units_Sold_Millions\n",
       "0         101       iPhone         2020        999                  75\n",
       "1         102  MacBook Pro         2019       1299                  20\n",
       "2         103         iPad         2018        329                  40\n",
       "3         104  Apple Watch         2021        399                  25\n",
       "4         105      AirPods         2019        159                  30"
      ]
     },
     "metadata": {},
     "output_type": "display_data"
    }
   ],
   "source": [
    "df"
   ]
  },
  {
   "cell_type": "code",
   "execution_count": null,
   "metadata": {},
   "outputs": [
    {
     "data": {
      "text/plain": [
       "Product_ID              int64\n",
       "Product_Name           object\n",
       "Release_Year           object\n",
       "Price ($)               int64\n",
       "Units_Sold_Millions    object\n",
       "dtype: object"
      ]
     },
     "metadata": {},
     "output_type": "display_data"
    }
   ],
   "source": [
    "df.dtypes"
   ]
  },
  {
   "cell_type": "code",
   "execution_count": null,
   "metadata": {},
   "outputs": [
    {
     "data": {
      "text/plain": [
       "Product_ID              int64\n",
       "Product_Name           object\n",
       "Release_Year            int64\n",
       "Price ($)               int64\n",
       "Units_Sold_Millions    object\n",
       "dtype: object"
      ]
     },
     "metadata": {},
     "output_type": "display_data"
    }
   ],
   "source": [
    "df.astype({\"Release_Year\":'int64'}).dtypes"
   ]
  },
  {
   "cell_type": "code",
   "execution_count": null,
   "metadata": {},
   "outputs": [
    {
     "data": {
      "text/plain": [
       "Product_ID              int64\n",
       "Product_Name           object\n",
       "Release_Year           object\n",
       "Price ($)               int64\n",
       "Units_Sold_Millions     int64\n",
       "dtype: object"
      ]
     },
     "metadata": {},
     "output_type": "display_data"
    }
   ],
   "source": [
    "df.astype({'Units_Sold_Millions':'int64'}).dtypes"
   ]
  },
  {
   "cell_type": "code",
   "execution_count": null,
   "metadata": {},
   "outputs": [
    {
     "data": {
      "text/plain": [
       "Product_ID               int64\n",
       "Product_Name            object\n",
       "Release_Year            object\n",
       "Price ($)              float64\n",
       "Units_Sold_Millions     object\n",
       "dtype: object"
      ]
     },
     "metadata": {},
     "output_type": "display_data"
    }
   ],
   "source": [
    "df.astype({'Price ($)': 'float64'}).dtypes"
   ]
  },
  {
   "cell_type": "code",
   "execution_count": null,
   "metadata": {},
   "outputs": [
    {
     "data": {
      "text/plain": [
       "Product_ID             object\n",
       "Product_Name           object\n",
       "Release_Year           object\n",
       "Price ($)               int64\n",
       "Units_Sold_Millions    object\n",
       "dtype: object"
      ]
     },
     "metadata": {},
     "output_type": "display_data"
    }
   ],
   "source": [
    "df.astype({'Product_ID': 'str'}).dtypes"
   ]
  },
  {
   "cell_type": "code",
   "execution_count": null,
   "metadata": {},
   "outputs": [
    {
     "data": {
      "text/html": [
       "<div>\n",
       "<style scoped>\n",
       "    .dataframe tbody tr th:only-of-type {\n",
       "        vertical-align: middle;\n",
       "    }\n",
       "\n",
       "    .dataframe tbody tr th {\n",
       "        vertical-align: top;\n",
       "    }\n",
       "\n",
       "    .dataframe thead th {\n",
       "        text-align: right;\n",
       "    }\n",
       "</style>\n",
       "<table border=\"1\" class=\"dataframe\">\n",
       "  <thead>\n",
       "    <tr style=\"text-align: right;\">\n",
       "      <th></th>\n",
       "      <th>Product_ID</th>\n",
       "      <th>Product_Name</th>\n",
       "      <th>Release_Year</th>\n",
       "      <th>Price ($)</th>\n",
       "      <th>Units_Sold_Millions</th>\n",
       "    </tr>\n",
       "  </thead>\n",
       "  <tbody>\n",
       "    <tr>\n",
       "      <th>0</th>\n",
       "      <td>101</td>\n",
       "      <td>iPhone</td>\n",
       "      <td>2020</td>\n",
       "      <td>999</td>\n",
       "      <td>75</td>\n",
       "    </tr>\n",
       "    <tr>\n",
       "      <th>1</th>\n",
       "      <td>102</td>\n",
       "      <td>MacBook Pro</td>\n",
       "      <td>2019</td>\n",
       "      <td>1299</td>\n",
       "      <td>20</td>\n",
       "    </tr>\n",
       "    <tr>\n",
       "      <th>2</th>\n",
       "      <td>103</td>\n",
       "      <td>iPad</td>\n",
       "      <td>2018</td>\n",
       "      <td>329</td>\n",
       "      <td>40</td>\n",
       "    </tr>\n",
       "    <tr>\n",
       "      <th>3</th>\n",
       "      <td>104</td>\n",
       "      <td>Apple Watch</td>\n",
       "      <td>2021</td>\n",
       "      <td>399</td>\n",
       "      <td>25</td>\n",
       "    </tr>\n",
       "    <tr>\n",
       "      <th>4</th>\n",
       "      <td>105</td>\n",
       "      <td>AirPods</td>\n",
       "      <td>2019</td>\n",
       "      <td>159</td>\n",
       "      <td>30</td>\n",
       "    </tr>\n",
       "  </tbody>\n",
       "</table>\n",
       "</div>"
      ],
      "text/plain": [
       "   Product_ID Product_Name Release_Year  Price ($) Units_Sold_Millions\n",
       "0         101       iPhone         2020        999                  75\n",
       "1         102  MacBook Pro         2019       1299                  20\n",
       "2         103         iPad         2018        329                  40\n",
       "3         104  Apple Watch         2021        399                  25\n",
       "4         105      AirPods         2019        159                  30"
      ]
     },
     "metadata": {},
     "output_type": "display_data"
    }
   ],
   "source": [
    "df"
   ]
  },
  {
   "cell_type": "code",
   "execution_count": null,
   "metadata": {},
   "outputs": [
    {
     "data": {
      "text/html": [
       "<div>\n",
       "<style scoped>\n",
       "    .dataframe tbody tr th:only-of-type {\n",
       "        vertical-align: middle;\n",
       "    }\n",
       "\n",
       "    .dataframe tbody tr th {\n",
       "        vertical-align: top;\n",
       "    }\n",
       "\n",
       "    .dataframe thead th {\n",
       "        text-align: right;\n",
       "    }\n",
       "</style>\n",
       "<table border=\"1\" class=\"dataframe\">\n",
       "  <thead>\n",
       "    <tr style=\"text-align: right;\">\n",
       "      <th></th>\n",
       "      <th>Units_Sold_Millions</th>\n",
       "    </tr>\n",
       "  </thead>\n",
       "  <tbody>\n",
       "    <tr>\n",
       "      <th>0</th>\n",
       "      <td>75000000.0</td>\n",
       "    </tr>\n",
       "    <tr>\n",
       "      <th>1</th>\n",
       "      <td>20000000.0</td>\n",
       "    </tr>\n",
       "    <tr>\n",
       "      <th>2</th>\n",
       "      <td>40000000.0</td>\n",
       "    </tr>\n",
       "    <tr>\n",
       "      <th>3</th>\n",
       "      <td>25000000.0</td>\n",
       "    </tr>\n",
       "    <tr>\n",
       "      <th>4</th>\n",
       "      <td>30000000.0</td>\n",
       "    </tr>\n",
       "  </tbody>\n",
       "</table>\n",
       "</div>"
      ],
      "text/plain": [
       "   Units_Sold_Millions\n",
       "0           75000000.0\n",
       "1           20000000.0\n",
       "2           40000000.0\n",
       "3           25000000.0\n",
       "4           30000000.0"
      ]
     },
     "metadata": {},
     "output_type": "display_data"
    }
   ],
   "source": [
    "df.loc[:, ['Units_Sold_Millions']].astype('float64').apply(lambda x: x * 1000000)"
   ]
  },
  {
   "cell_type": "code",
   "execution_count": null,
   "metadata": {},
   "outputs": [
    {
     "data": {
      "text/plain": [
       "Product_ID             category\n",
       "Product_Name           category\n",
       "Release_Year           category\n",
       "Price ($)              category\n",
       "Units_Sold_Millions    category\n",
       "dtype: object"
      ]
     },
     "metadata": {},
     "output_type": "display_data"
    }
   ],
   "source": [
    "df.astype('category').dtypes"
   ]
  },
  {
   "cell_type": "code",
   "execution_count": null,
   "metadata": {},
   "outputs": [
    {
     "data": {
      "text/html": [
       "<div>\n",
       "<style scoped>\n",
       "    .dataframe tbody tr th:only-of-type {\n",
       "        vertical-align: middle;\n",
       "    }\n",
       "\n",
       "    .dataframe tbody tr th {\n",
       "        vertical-align: top;\n",
       "    }\n",
       "\n",
       "    .dataframe thead th {\n",
       "        text-align: right;\n",
       "    }\n",
       "</style>\n",
       "<table border=\"1\" class=\"dataframe\">\n",
       "  <thead>\n",
       "    <tr style=\"text-align: right;\">\n",
       "      <th></th>\n",
       "      <th>Product_Name</th>\n",
       "      <th>Release_Year</th>\n",
       "      <th>Units_Sold_Millions</th>\n",
       "    </tr>\n",
       "  </thead>\n",
       "  <tbody>\n",
       "    <tr>\n",
       "      <th>0</th>\n",
       "      <td>IPHONE</td>\n",
       "      <td>2020</td>\n",
       "      <td>75</td>\n",
       "    </tr>\n",
       "    <tr>\n",
       "      <th>1</th>\n",
       "      <td>MACBOOK PRO</td>\n",
       "      <td>2019</td>\n",
       "      <td>20</td>\n",
       "    </tr>\n",
       "    <tr>\n",
       "      <th>2</th>\n",
       "      <td>IPAD</td>\n",
       "      <td>2018</td>\n",
       "      <td>40</td>\n",
       "    </tr>\n",
       "    <tr>\n",
       "      <th>3</th>\n",
       "      <td>APPLE WATCH</td>\n",
       "      <td>2021</td>\n",
       "      <td>25</td>\n",
       "    </tr>\n",
       "    <tr>\n",
       "      <th>4</th>\n",
       "      <td>AIRPODS</td>\n",
       "      <td>2019</td>\n",
       "      <td>30</td>\n",
       "    </tr>\n",
       "  </tbody>\n",
       "</table>\n",
       "</div>"
      ],
      "text/plain": [
       "  Product_Name Release_Year Units_Sold_Millions\n",
       "0       IPHONE         2020                  75\n",
       "1  MACBOOK PRO         2019                  20\n",
       "2         IPAD         2018                  40\n",
       "3  APPLE WATCH         2021                  25\n",
       "4      AIRPODS         2019                  30"
      ]
     },
     "metadata": {},
     "output_type": "display_data"
    }
   ],
   "source": [
    "df.select_dtypes(include=['object']).map(lambda x: x.upper() if isinstance(x, str) else x).astype('category')"
   ]
  },
  {
   "cell_type": "code",
   "execution_count": null,
   "metadata": {},
   "outputs": [
    {
     "data": {
      "text/plain": [
       "Product_ID                int64\n",
       "Product_Name           category\n",
       "Release_Year             object\n",
       "Price ($)                 int64\n",
       "Units_Sold_Millions      object\n",
       "dtype: object"
      ]
     },
     "metadata": {},
     "output_type": "display_data"
    }
   ],
   "source": [
    "df.astype({'Product_Name':'category'}).dtypes"
   ]
  },
  {
   "cell_type": "code",
   "execution_count": null,
   "metadata": {},
   "outputs": [
    {
     "data": {
      "text/plain": [
       "0         iPhone\n",
       "1    MacBook Pro\n",
       "2           iPad\n",
       "3    Apple Watch\n",
       "4        AirPods\n",
       "Name: Product_Name, dtype: category\n",
       "Categories (5, object): ['AirPods', 'Apple Watch', 'MacBook Pro', 'iPad', 'iPhone']"
      ]
     },
     "metadata": {},
     "output_type": "display_data"
    }
   ],
   "source": [
    "df.astype({'Product_Name':'category'}).loc[:, 'Product_Name']"
   ]
  },
  {
   "cell_type": "code",
   "execution_count": null,
   "metadata": {},
   "outputs": [
    {
     "data": {
      "text/plain": [
       "{'iPhone': 'IP',\n",
       " 'MacBook Pro': 'MBP',\n",
       " 'iPad': 'IPD',\n",
       " 'Apple Watch': 'AW',\n",
       " 'AirPods': 'AP'}"
      ]
     },
     "metadata": {},
     "output_type": "display_data"
    }
   ],
   "source": [
    "name_map = {'iPhone':'IP', 'MacBook Pro':'MBP', 'iPad':'IPD', 'Apple Watch':'AW', 'AirPods':'AP'}\n",
    "name_map\n"
   ]
  },
  {
   "cell_type": "code",
   "execution_count": null,
   "metadata": {},
   "outputs": [],
   "source": [
    "df['Product_Name'] = df['Product_Name'].astype('category')\n"
   ]
  },
  {
   "cell_type": "code",
   "execution_count": null,
   "metadata": {},
   "outputs": [
    {
     "data": {
      "text/plain": [
       "Product_ID                int64\n",
       "Product_Name           category\n",
       "Release_Year             object\n",
       "Price ($)                 int64\n",
       "Units_Sold_Millions      object\n",
       "dtype: object"
      ]
     },
     "metadata": {},
     "output_type": "display_data"
    }
   ],
   "source": [
    "df.dtypes"
   ]
  },
  {
   "cell_type": "code",
   "execution_count": null,
   "metadata": {},
   "outputs": [
    {
     "data": {
      "text/plain": [
       "0         iPhone\n",
       "1    MacBook Pro\n",
       "2           iPad\n",
       "3    Apple Watch\n",
       "4        AirPods\n",
       "Name: Product_Name, dtype: category\n",
       "Categories (5, object): ['AirPods', 'Apple Watch', 'MacBook Pro', 'iPad', 'iPhone']"
      ]
     },
     "metadata": {},
     "output_type": "display_data"
    }
   ],
   "source": [
    "df['Product_Name']"
   ]
  },
  {
   "cell_type": "code",
   "execution_count": null,
   "metadata": {},
   "outputs": [],
   "source": [
    "df['Product_Name']= df['Product_Name'].cat.rename_categories(name_map) "
   ]
  },
  {
   "cell_type": "code",
   "execution_count": null,
   "metadata": {},
   "outputs": [
    {
     "data": {
      "text/plain": [
       "0     IP\n",
       "1    MBP\n",
       "2    IPD\n",
       "3     AW\n",
       "4     AP\n",
       "Name: Product_Name, dtype: category\n",
       "Categories (5, object): ['AP', 'AW', 'MBP', 'IPD', 'IP']"
      ]
     },
     "metadata": {},
     "output_type": "display_data"
    }
   ],
   "source": [
    "df['Product_Name']"
   ]
  },
  {
   "cell_type": "code",
   "execution_count": null,
   "metadata": {},
   "outputs": [
    {
     "data": {
      "text/plain": [
       "Product_Name    category\n",
       "dtype: object"
      ]
     },
     "metadata": {},
     "output_type": "display_data"
    }
   ],
   "source": [
    "df.astype({'Product_Name': 'category'}).loc[:, ['Product_Name']].dtypes"
   ]
  },
  {
   "cell_type": "code",
   "execution_count": null,
   "metadata": {},
   "outputs": [
    {
     "data": {
      "text/plain": [
       "Product_ID                int64\n",
       "Product_Name           category\n",
       "Release_Year              int64\n",
       "Price ($)                 int64\n",
       "Units_Sold_Millions       int64\n",
       "dtype: object"
      ]
     },
     "metadata": {},
     "output_type": "display_data"
    }
   ],
   "source": [
    "df.astype({'Release_Year':'int64', 'Units_Sold_Millions':'int64'}).dtypes"
   ]
  },
  {
   "cell_type": "code",
   "execution_count": null,
   "metadata": {},
   "outputs": [],
   "source": []
  },
  {
   "cell_type": "markdown",
   "metadata": {},
   "source": [
    "This was taken from: 'pandas-size.ipynb [Link](https://github.com/pradeepsf729/pandas_101/blob/72fc5d6b72e01a50126876d229d66fd95869e81f/pandas-size.ipynb)'"
   ]
  },
  {
   "cell_type": "code",
   "execution_count": null,
   "metadata": {},
   "outputs": [],
   "source": [
    "import pandas as pd\n",
    "from datetime import datetime\n",
    "import numpy as np"
   ]
  },
  {
   "cell_type": "code",
   "execution_count": null,
   "metadata": {},
   "outputs": [],
   "source": [
    "data = {\n",
    "    'Order_ID': [1, 2, 3, 4, 5],\n",
    "    'Customer_ID': [101, 102, 103, 104, 105],\n",
    "    'Restaurant_ID': [201, 202, 203, 204, 205],\n",
    "    'Order_Date': [datetime(2023, 8, 1), datetime(2023, 8, 2), datetime(2023, 8, 3), datetime(2023, 8, 4), datetime(2023, 8, 5)],\n",
    "    'Order_Time': ['12:30:00', '18:45:00', '19:20:00', '13:15:00', '09:30:00'],\n",
    "    'Food_Item': ['Burger', 'Sushi', 'Pasta', 'Pizza', 'Salad'],\n",
    "    'Quantity': [2, 1, 3, 1, 1],\n",
    "    'Price': [12.99, 18.50, 10.99, 14.99, 7.99],\n",
    "    'Delivery_Time(min)': [30, 45, 40, 35, 25],\n",
    "    'Rating': [4.5, 4.0, 5.0, 3.5, 4.0]\n",
    "}"
   ]
  },
  {
   "cell_type": "code",
   "execution_count": null,
   "metadata": {},
   "outputs": [
    {
     "data": {
      "text/html": [
       "<div>\n",
       "<style scoped>\n",
       "    .dataframe tbody tr th:only-of-type {\n",
       "        vertical-align: middle;\n",
       "    }\n",
       "\n",
       "    .dataframe tbody tr th {\n",
       "        vertical-align: top;\n",
       "    }\n",
       "\n",
       "    .dataframe thead th {\n",
       "        text-align: right;\n",
       "    }\n",
       "</style>\n",
       "<table border=\"1\" class=\"dataframe\">\n",
       "  <thead>\n",
       "    <tr style=\"text-align: right;\">\n",
       "      <th></th>\n",
       "      <th>Order_ID</th>\n",
       "      <th>Customer_ID</th>\n",
       "      <th>Restaurant_ID</th>\n",
       "      <th>Order_Date</th>\n",
       "      <th>Order_Time</th>\n",
       "      <th>Food_Item</th>\n",
       "      <th>Quantity</th>\n",
       "      <th>Price</th>\n",
       "      <th>Delivery_Time(min)</th>\n",
       "      <th>Rating</th>\n",
       "    </tr>\n",
       "  </thead>\n",
       "  <tbody>\n",
       "    <tr>\n",
       "      <th>0</th>\n",
       "      <td>1</td>\n",
       "      <td>101</td>\n",
       "      <td>201</td>\n",
       "      <td>2023-08-01</td>\n",
       "      <td>12:30:00</td>\n",
       "      <td>Burger</td>\n",
       "      <td>2</td>\n",
       "      <td>12.99</td>\n",
       "      <td>30</td>\n",
       "      <td>4.5</td>\n",
       "    </tr>\n",
       "    <tr>\n",
       "      <th>1</th>\n",
       "      <td>2</td>\n",
       "      <td>102</td>\n",
       "      <td>202</td>\n",
       "      <td>2023-08-02</td>\n",
       "      <td>18:45:00</td>\n",
       "      <td>Sushi</td>\n",
       "      <td>1</td>\n",
       "      <td>18.50</td>\n",
       "      <td>45</td>\n",
       "      <td>4.0</td>\n",
       "    </tr>\n",
       "    <tr>\n",
       "      <th>2</th>\n",
       "      <td>3</td>\n",
       "      <td>103</td>\n",
       "      <td>203</td>\n",
       "      <td>2023-08-03</td>\n",
       "      <td>19:20:00</td>\n",
       "      <td>Pasta</td>\n",
       "      <td>3</td>\n",
       "      <td>10.99</td>\n",
       "      <td>40</td>\n",
       "      <td>5.0</td>\n",
       "    </tr>\n",
       "    <tr>\n",
       "      <th>3</th>\n",
       "      <td>4</td>\n",
       "      <td>104</td>\n",
       "      <td>204</td>\n",
       "      <td>2023-08-04</td>\n",
       "      <td>13:15:00</td>\n",
       "      <td>Pizza</td>\n",
       "      <td>1</td>\n",
       "      <td>14.99</td>\n",
       "      <td>35</td>\n",
       "      <td>3.5</td>\n",
       "    </tr>\n",
       "    <tr>\n",
       "      <th>4</th>\n",
       "      <td>5</td>\n",
       "      <td>105</td>\n",
       "      <td>205</td>\n",
       "      <td>2023-08-05</td>\n",
       "      <td>09:30:00</td>\n",
       "      <td>Salad</td>\n",
       "      <td>1</td>\n",
       "      <td>7.99</td>\n",
       "      <td>25</td>\n",
       "      <td>4.0</td>\n",
       "    </tr>\n",
       "  </tbody>\n",
       "</table>\n",
       "</div>"
      ],
      "text/plain": [
       "   Order_ID  Customer_ID  Restaurant_ID Order_Date Order_Time Food_Item  \\\n",
       "0         1          101            201 2023-08-01   12:30:00    Burger   \n",
       "1         2          102            202 2023-08-02   18:45:00     Sushi   \n",
       "2         3          103            203 2023-08-03   19:20:00     Pasta   \n",
       "3         4          104            204 2023-08-04   13:15:00     Pizza   \n",
       "4         5          105            205 2023-08-05   09:30:00     Salad   \n",
       "\n",
       "   Quantity  Price  Delivery_Time(min)  Rating  \n",
       "0         2  12.99                  30     4.5  \n",
       "1         1  18.50                  45     4.0  \n",
       "2         3  10.99                  40     5.0  \n",
       "3         1  14.99                  35     3.5  \n",
       "4         1   7.99                  25     4.0  "
      ]
     },
     "metadata": {},
     "output_type": "display_data"
    }
   ],
   "source": [
    "df = pd.DataFrame(data)\n",
    "df"
   ]
  },
  {
   "cell_type": "markdown",
   "metadata": {},
   "source": [
    "What will the size attribute return when applied to the df DataFrame?"
   ]
  },
  {
   "cell_type": "code",
   "execution_count": null,
   "metadata": {},
   "outputs": [
    {
     "data": {
      "text/plain": [
       "(50, 50)"
      ]
     },
     "metadata": {},
     "output_type": "display_data"
    }
   ],
   "source": [
    "size= len(df)* len(df.loc[0])\n",
    "size, df.size"
   ]
  },
  {
   "cell_type": "markdown",
   "metadata": {},
   "source": [
    "How would you verify if the size attribute counts the number of rows, columns, or individual elements in the DataFrame?"
   ]
  },
  {
   "cell_type": "code",
   "execution_count": null,
   "metadata": {},
   "outputs": [
    {
     "data": {
      "text/plain": [
       "True"
      ]
     },
     "metadata": {},
     "output_type": "display_data"
    }
   ],
   "source": [
    "x=(len(df) * len(df.loc[0]) == df.size)\n",
    "x"
   ]
  },
  {
   "cell_type": "markdown",
   "metadata": {},
   "source": [
    "If you apply a filter to df to only include rows where Rating is greater than or equal to 4.5, what will the size attribute return for the filtered DataFrame?"
   ]
  },
  {
   "cell_type": "code",
   "execution_count": null,
   "metadata": {},
   "outputs": [
    {
     "data": {
      "text/plain": [
       "10"
      ]
     },
     "metadata": {},
     "output_type": "display_data"
    }
   ],
   "source": [
    " l=df[df['Rating'] > 4.5].size\n",
    " l"
   ]
  },
  {
   "cell_type": "markdown",
   "metadata": {},
   "source": [
    "Compare the output of df.size and df.shape. What mathematical operation could you apply to the values in shape to derive the value of size?"
   ]
  },
  {
   "cell_type": "code",
   "execution_count": null,
   "metadata": {},
   "outputs": [
    {
     "data": {
      "text/plain": [
       "True"
      ]
     },
     "metadata": {},
     "output_type": "display_data"
    }
   ],
   "source": [
    "com=(df.size == df.shape[0]* df.shape[1])\n",
    "com"
   ]
  },
  {
   "cell_type": "markdown",
   "metadata": {},
   "source": [
    "How would the size attribute change if you dropped a row from df? Can you confirm this by coding it?"
   ]
  },
  {
   "cell_type": "code",
   "execution_count": null,
   "metadata": {},
   "outputs": [
    {
     "name": "stdout",
     "output_type": "stream",
     "text": [
      "Before : 50\n",
      "After : 40\n"
     ]
    }
   ],
   "source": [
    "print(\"Before :\",df.size)\n",
    "df = df.drop(4)\n",
    "print(\"After :\",df.size)"
   ]
  },
  {
   "cell_type": "markdown",
   "metadata": {},
   "source": [
    "Create a Series object by selecting the Price column from df. What does the size attribute show for this Series object?"
   ]
  },
  {
   "cell_type": "code",
   "execution_count": null,
   "metadata": {},
   "outputs": [
    {
     "data": {
      "text/plain": [
       "4"
      ]
     },
     "metadata": {},
     "output_type": "display_data"
    }
   ],
   "source": [
    "si= df['Price'].size\n",
    "si"
   ]
  },
  {
   "cell_type": "markdown",
   "metadata": {},
   "source": [
    "Does the size attribute include NaN values if they were present in the DataFrame?"
   ]
  },
  {
   "cell_type": "code",
   "execution_count": null,
   "metadata": {},
   "outputs": [
    {
     "name": "stdout",
     "output_type": "stream",
     "text": [
      "without nan :  40\n",
      "with nan :  50\n"
     ]
    }
   ],
   "source": [
    "print(\"without nan : \", df.size)\n",
    "df.loc[4, 'Food_Item'] = np.nan\n",
    "print(\"with nan : \", df.size)"
   ]
  },
  {
   "cell_type": "markdown",
   "metadata": {},
   "source": [
    "How would the output of uber_eats_df.size change if you added a new column to the DataFrame? Can you confirm your answer by coding it?"
   ]
  },
  {
   "cell_type": "code",
   "execution_count": null,
   "metadata": {},
   "outputs": [
    {
     "data": {
      "text/plain": [
       "55"
      ]
     },
     "metadata": {},
     "output_type": "display_data"
    }
   ],
   "source": [
    "df.loc[:, 'Location'] = ['NewYork', \"California\", \"Texas\", \"Dallas\", \"Colorado\"]\n",
    "df.size"
   ]
  },
  {
   "cell_type": "code",
   "execution_count": null,
   "metadata": {},
   "outputs": [],
   "source": []
  },
  {
   "cell_type": "markdown",
   "metadata": {},
   "source": [
    "This was taken from: 'pandas-concat.ipynb [Link](https://github.com/pradeepsf729/pandas_101/blob/72fc5d6b72e01a50126876d229d66fd95869e81f/pandas-concat.ipynb)'"
   ]
  },
  {
   "cell_type": "code",
   "execution_count": null,
   "metadata": {},
   "outputs": [],
   "source": [
    "import pandas as pd"
   ]
  },
  {
   "cell_type": "code",
   "execution_count": null,
   "metadata": {},
   "outputs": [],
   "source": [
    "data = {\n",
    "    'Shop_ID' : [1, 2, 3, 4, 2, 5, 6],\n",
    "    'Shop_Name': ['Starbucks', 'Blue Bottle', 'Verve Coffee', 'Stumptown', 'Blue Bottle', 'Gregorys Coffee', 'Cafe Grumpy'],\n",
    "    'Location': ['Hollywood', 'San Diego', 'Hollywood', 'San Diego', 'New York', 'New York', 'New York'],\n",
    "    'Rating': [4.5, 4.8, 4.4, 4.3, 4.6, 4.2, 4.7],\n",
    "    'Revenue': [50000, 30000, 25000, 28000, 52000, 20000, 24000]\n",
    "}\n",
    "shop = pd.DataFrame(data)\n"
   ]
  },
  {
   "cell_type": "code",
   "execution_count": null,
   "metadata": {},
   "outputs": [],
   "source": [
    "data = {\n",
    "    'Shop_ID': [1, 2, 3, 4, 5, 6, 7, 8, 9, 10],\n",
    "    'Shop_Name': ['Bean Town Brews', 'Cafe Arabica', 'Espresso Junction', 'Morning Mocha', 'Perk Up Cafe', 'The Grindhouse', 'Java Jive', 'Steamy Cups', 'Cappuccino Corner', 'Latte Lounge'],\n",
    "    'Location': ['New York, NY', 'Los Angeles, CA', 'Chicago, IL', 'San Francisco, CA', 'Miami, FL', 'Seattle, WA', 'Austin', 'Denver CO', 'Philadelphia, PH', 'Boston, BO'],\n",
    "    'Rating': [4.5, 4.2, 4.0, 4.7, 4.3, 4.8, 4.0, 4.6, 4.4, 4.1],\n",
    "    'Revenue': [3500, 2800, 2200, 4100, 3200, 4500, 2300, 3900, 3400, 2700]\n",
    "}\n",
    "shop1 = pd.DataFrame(data)"
   ]
  },
  {
   "cell_type": "code",
   "execution_count": null,
   "metadata": {},
   "outputs": [
    {
     "data": {
      "text/html": [
       "<div>\n",
       "<style scoped>\n",
       "    .dataframe tbody tr th:only-of-type {\n",
       "        vertical-align: middle;\n",
       "    }\n",
       "\n",
       "    .dataframe tbody tr th {\n",
       "        vertical-align: top;\n",
       "    }\n",
       "\n",
       "    .dataframe thead th {\n",
       "        text-align: right;\n",
       "    }\n",
       "</style>\n",
       "<table border=\"1\" class=\"dataframe\">\n",
       "  <thead>\n",
       "    <tr style=\"text-align: right;\">\n",
       "      <th></th>\n",
       "      <th>Shop_ID</th>\n",
       "      <th>Shop_Name</th>\n",
       "      <th>Location</th>\n",
       "      <th>Rating</th>\n",
       "      <th>Revenue</th>\n",
       "    </tr>\n",
       "  </thead>\n",
       "  <tbody>\n",
       "    <tr>\n",
       "      <th>0</th>\n",
       "      <td>1</td>\n",
       "      <td>Starbucks</td>\n",
       "      <td>Hollywood</td>\n",
       "      <td>4.5</td>\n",
       "      <td>50000</td>\n",
       "    </tr>\n",
       "    <tr>\n",
       "      <th>1</th>\n",
       "      <td>2</td>\n",
       "      <td>Blue Bottle</td>\n",
       "      <td>San Diego</td>\n",
       "      <td>4.8</td>\n",
       "      <td>30000</td>\n",
       "    </tr>\n",
       "    <tr>\n",
       "      <th>2</th>\n",
       "      <td>3</td>\n",
       "      <td>Verve Coffee</td>\n",
       "      <td>Hollywood</td>\n",
       "      <td>4.4</td>\n",
       "      <td>25000</td>\n",
       "    </tr>\n",
       "    <tr>\n",
       "      <th>3</th>\n",
       "      <td>4</td>\n",
       "      <td>Stumptown</td>\n",
       "      <td>San Diego</td>\n",
       "      <td>4.3</td>\n",
       "      <td>28000</td>\n",
       "    </tr>\n",
       "    <tr>\n",
       "      <th>4</th>\n",
       "      <td>2</td>\n",
       "      <td>Blue Bottle</td>\n",
       "      <td>New York</td>\n",
       "      <td>4.6</td>\n",
       "      <td>52000</td>\n",
       "    </tr>\n",
       "    <tr>\n",
       "      <th>5</th>\n",
       "      <td>5</td>\n",
       "      <td>Gregorys Coffee</td>\n",
       "      <td>New York</td>\n",
       "      <td>4.2</td>\n",
       "      <td>20000</td>\n",
       "    </tr>\n",
       "    <tr>\n",
       "      <th>6</th>\n",
       "      <td>6</td>\n",
       "      <td>Cafe Grumpy</td>\n",
       "      <td>New York</td>\n",
       "      <td>4.7</td>\n",
       "      <td>24000</td>\n",
       "    </tr>\n",
       "  </tbody>\n",
       "</table>\n",
       "</div>"
      ],
      "text/plain": [
       "   Shop_ID        Shop_Name   Location  Rating  Revenue\n",
       "0        1        Starbucks  Hollywood     4.5    50000\n",
       "1        2      Blue Bottle  San Diego     4.8    30000\n",
       "2        3     Verve Coffee  Hollywood     4.4    25000\n",
       "3        4        Stumptown  San Diego     4.3    28000\n",
       "4        2      Blue Bottle   New York     4.6    52000\n",
       "5        5  Gregorys Coffee   New York     4.2    20000\n",
       "6        6      Cafe Grumpy   New York     4.7    24000"
      ]
     },
     "metadata": {},
     "output_type": "display_data"
    }
   ],
   "source": [
    "shop"
   ]
  },
  {
   "cell_type": "code",
   "execution_count": null,
   "metadata": {},
   "outputs": [
    {
     "data": {
      "text/html": [
       "<div>\n",
       "<style scoped>\n",
       "    .dataframe tbody tr th:only-of-type {\n",
       "        vertical-align: middle;\n",
       "    }\n",
       "\n",
       "    .dataframe tbody tr th {\n",
       "        vertical-align: top;\n",
       "    }\n",
       "\n",
       "    .dataframe thead th {\n",
       "        text-align: right;\n",
       "    }\n",
       "</style>\n",
       "<table border=\"1\" class=\"dataframe\">\n",
       "  <thead>\n",
       "    <tr style=\"text-align: right;\">\n",
       "      <th></th>\n",
       "      <th>Shop_ID</th>\n",
       "      <th>Shop_Name</th>\n",
       "      <th>Location</th>\n",
       "      <th>Rating</th>\n",
       "      <th>Revenue</th>\n",
       "    </tr>\n",
       "  </thead>\n",
       "  <tbody>\n",
       "    <tr>\n",
       "      <th>0</th>\n",
       "      <td>1</td>\n",
       "      <td>Bean Town Brews</td>\n",
       "      <td>New York, NY</td>\n",
       "      <td>4.5</td>\n",
       "      <td>3500</td>\n",
       "    </tr>\n",
       "    <tr>\n",
       "      <th>1</th>\n",
       "      <td>2</td>\n",
       "      <td>Cafe Arabica</td>\n",
       "      <td>Los Angeles, CA</td>\n",
       "      <td>4.2</td>\n",
       "      <td>2800</td>\n",
       "    </tr>\n",
       "    <tr>\n",
       "      <th>2</th>\n",
       "      <td>3</td>\n",
       "      <td>Espresso Junction</td>\n",
       "      <td>Chicago, IL</td>\n",
       "      <td>4.0</td>\n",
       "      <td>2200</td>\n",
       "    </tr>\n",
       "    <tr>\n",
       "      <th>3</th>\n",
       "      <td>4</td>\n",
       "      <td>Morning Mocha</td>\n",
       "      <td>San Francisco, CA</td>\n",
       "      <td>4.7</td>\n",
       "      <td>4100</td>\n",
       "    </tr>\n",
       "    <tr>\n",
       "      <th>4</th>\n",
       "      <td>5</td>\n",
       "      <td>Perk Up Cafe</td>\n",
       "      <td>Miami, FL</td>\n",
       "      <td>4.3</td>\n",
       "      <td>3200</td>\n",
       "    </tr>\n",
       "    <tr>\n",
       "      <th>5</th>\n",
       "      <td>6</td>\n",
       "      <td>The Grindhouse</td>\n",
       "      <td>Seattle, WA</td>\n",
       "      <td>4.8</td>\n",
       "      <td>4500</td>\n",
       "    </tr>\n",
       "    <tr>\n",
       "      <th>6</th>\n",
       "      <td>7</td>\n",
       "      <td>Java Jive</td>\n",
       "      <td>Austin</td>\n",
       "      <td>4.0</td>\n",
       "      <td>2300</td>\n",
       "    </tr>\n",
       "    <tr>\n",
       "      <th>7</th>\n",
       "      <td>8</td>\n",
       "      <td>Steamy Cups</td>\n",
       "      <td>Denver CO</td>\n",
       "      <td>4.6</td>\n",
       "      <td>3900</td>\n",
       "    </tr>\n",
       "    <tr>\n",
       "      <th>8</th>\n",
       "      <td>9</td>\n",
       "      <td>Cappuccino Corner</td>\n",
       "      <td>Philadelphia, PH</td>\n",
       "      <td>4.4</td>\n",
       "      <td>3400</td>\n",
       "    </tr>\n",
       "    <tr>\n",
       "      <th>9</th>\n",
       "      <td>10</td>\n",
       "      <td>Latte Lounge</td>\n",
       "      <td>Boston, BO</td>\n",
       "      <td>4.1</td>\n",
       "      <td>2700</td>\n",
       "    </tr>\n",
       "  </tbody>\n",
       "</table>\n",
       "</div>"
      ],
      "text/plain": [
       "   Shop_ID          Shop_Name           Location  Rating  Revenue\n",
       "0        1    Bean Town Brews       New York, NY     4.5     3500\n",
       "1        2       Cafe Arabica    Los Angeles, CA     4.2     2800\n",
       "2        3  Espresso Junction        Chicago, IL     4.0     2200\n",
       "3        4      Morning Mocha  San Francisco, CA     4.7     4100\n",
       "4        5       Perk Up Cafe          Miami, FL     4.3     3200\n",
       "5        6     The Grindhouse        Seattle, WA     4.8     4500\n",
       "6        7          Java Jive             Austin     4.0     2300\n",
       "7        8        Steamy Cups          Denver CO     4.6     3900\n",
       "8        9  Cappuccino Corner   Philadelphia, PH     4.4     3400\n",
       "9       10       Latte Lounge         Boston, BO     4.1     2700"
      ]
     },
     "metadata": {},
     "output_type": "display_data"
    }
   ],
   "source": [
    "shop1"
   ]
  },
  {
   "cell_type": "code",
   "execution_count": null,
   "metadata": {},
   "outputs": [],
   "source": [
    "suppliers_data = {\n",
    "'Shop_ID': [1, 2, 3, 4, 5, 6, 7],\n",
    "'Shop_Name': ['Starbucks', 'Blue Bottle', 'Verve Coffee', 'Stumptown', 'Gregorys Coffee', 'Blue Bottle', 'Gregorys Coffee'],\n",
    "'Supplier_Name': ['Beans R Us', 'Premium Beans', 'South Coffee Suppliers', 'San Diego Beans', 'NY Fresh Beans', 'Mexico tea', 'Chayyos'],\n",
    "'Delivery_Days': [7, 5, 7, 4, 6,9, 10]\n",
    "}\n",
    "\n",
    "sdf = pd.DataFrame(suppliers_data)"
   ]
  },
  {
   "cell_type": "markdown",
   "metadata": {},
   "source": [
    "### Basic Concatenation\n",
    "#### How would you concatenate coffee_shops and more_coffee_shops vertically ?"
   ]
  },
  {
   "cell_type": "code",
   "execution_count": null,
   "metadata": {},
   "outputs": [
    {
     "data": {
      "text/html": [
       "<div>\n",
       "<style scoped>\n",
       "    .dataframe tbody tr th:only-of-type {\n",
       "        vertical-align: middle;\n",
       "    }\n",
       "\n",
       "    .dataframe tbody tr th {\n",
       "        vertical-align: top;\n",
       "    }\n",
       "\n",
       "    .dataframe thead th {\n",
       "        text-align: right;\n",
       "    }\n",
       "</style>\n",
       "<table border=\"1\" class=\"dataframe\">\n",
       "  <thead>\n",
       "    <tr style=\"text-align: right;\">\n",
       "      <th></th>\n",
       "      <th>Shop_ID</th>\n",
       "      <th>Shop_Name</th>\n",
       "      <th>Location</th>\n",
       "      <th>Rating</th>\n",
       "      <th>Revenue</th>\n",
       "    </tr>\n",
       "  </thead>\n",
       "  <tbody>\n",
       "    <tr>\n",
       "      <th>0</th>\n",
       "      <td>1</td>\n",
       "      <td>Starbucks</td>\n",
       "      <td>Hollywood</td>\n",
       "      <td>4.5</td>\n",
       "      <td>50000</td>\n",
       "    </tr>\n",
       "    <tr>\n",
       "      <th>1</th>\n",
       "      <td>2</td>\n",
       "      <td>Blue Bottle</td>\n",
       "      <td>San Diego</td>\n",
       "      <td>4.8</td>\n",
       "      <td>30000</td>\n",
       "    </tr>\n",
       "    <tr>\n",
       "      <th>2</th>\n",
       "      <td>3</td>\n",
       "      <td>Verve Coffee</td>\n",
       "      <td>Hollywood</td>\n",
       "      <td>4.4</td>\n",
       "      <td>25000</td>\n",
       "    </tr>\n",
       "    <tr>\n",
       "      <th>3</th>\n",
       "      <td>4</td>\n",
       "      <td>Stumptown</td>\n",
       "      <td>San Diego</td>\n",
       "      <td>4.3</td>\n",
       "      <td>28000</td>\n",
       "    </tr>\n",
       "    <tr>\n",
       "      <th>4</th>\n",
       "      <td>2</td>\n",
       "      <td>Blue Bottle</td>\n",
       "      <td>New York</td>\n",
       "      <td>4.6</td>\n",
       "      <td>52000</td>\n",
       "    </tr>\n",
       "    <tr>\n",
       "      <th>5</th>\n",
       "      <td>5</td>\n",
       "      <td>Gregorys Coffee</td>\n",
       "      <td>New York</td>\n",
       "      <td>4.2</td>\n",
       "      <td>20000</td>\n",
       "    </tr>\n",
       "    <tr>\n",
       "      <th>6</th>\n",
       "      <td>6</td>\n",
       "      <td>Cafe Grumpy</td>\n",
       "      <td>New York</td>\n",
       "      <td>4.7</td>\n",
       "      <td>24000</td>\n",
       "    </tr>\n",
       "    <tr>\n",
       "      <th>0</th>\n",
       "      <td>1</td>\n",
       "      <td>Bean Town Brews</td>\n",
       "      <td>New York, NY</td>\n",
       "      <td>4.5</td>\n",
       "      <td>3500</td>\n",
       "    </tr>\n",
       "    <tr>\n",
       "      <th>1</th>\n",
       "      <td>2</td>\n",
       "      <td>Cafe Arabica</td>\n",
       "      <td>Los Angeles, CA</td>\n",
       "      <td>4.2</td>\n",
       "      <td>2800</td>\n",
       "    </tr>\n",
       "    <tr>\n",
       "      <th>2</th>\n",
       "      <td>3</td>\n",
       "      <td>Espresso Junction</td>\n",
       "      <td>Chicago, IL</td>\n",
       "      <td>4.0</td>\n",
       "      <td>2200</td>\n",
       "    </tr>\n",
       "    <tr>\n",
       "      <th>3</th>\n",
       "      <td>4</td>\n",
       "      <td>Morning Mocha</td>\n",
       "      <td>San Francisco, CA</td>\n",
       "      <td>4.7</td>\n",
       "      <td>4100</td>\n",
       "    </tr>\n",
       "    <tr>\n",
       "      <th>4</th>\n",
       "      <td>5</td>\n",
       "      <td>Perk Up Cafe</td>\n",
       "      <td>Miami, FL</td>\n",
       "      <td>4.3</td>\n",
       "      <td>3200</td>\n",
       "    </tr>\n",
       "    <tr>\n",
       "      <th>5</th>\n",
       "      <td>6</td>\n",
       "      <td>The Grindhouse</td>\n",
       "      <td>Seattle, WA</td>\n",
       "      <td>4.8</td>\n",
       "      <td>4500</td>\n",
       "    </tr>\n",
       "    <tr>\n",
       "      <th>6</th>\n",
       "      <td>7</td>\n",
       "      <td>Java Jive</td>\n",
       "      <td>Austin</td>\n",
       "      <td>4.0</td>\n",
       "      <td>2300</td>\n",
       "    </tr>\n",
       "    <tr>\n",
       "      <th>7</th>\n",
       "      <td>8</td>\n",
       "      <td>Steamy Cups</td>\n",
       "      <td>Denver CO</td>\n",
       "      <td>4.6</td>\n",
       "      <td>3900</td>\n",
       "    </tr>\n",
       "    <tr>\n",
       "      <th>8</th>\n",
       "      <td>9</td>\n",
       "      <td>Cappuccino Corner</td>\n",
       "      <td>Philadelphia, PH</td>\n",
       "      <td>4.4</td>\n",
       "      <td>3400</td>\n",
       "    </tr>\n",
       "    <tr>\n",
       "      <th>9</th>\n",
       "      <td>10</td>\n",
       "      <td>Latte Lounge</td>\n",
       "      <td>Boston, BO</td>\n",
       "      <td>4.1</td>\n",
       "      <td>2700</td>\n",
       "    </tr>\n",
       "  </tbody>\n",
       "</table>\n",
       "</div>"
      ],
      "text/plain": [
       "   Shop_ID          Shop_Name           Location  Rating  Revenue\n",
       "0        1          Starbucks          Hollywood     4.5    50000\n",
       "1        2        Blue Bottle          San Diego     4.8    30000\n",
       "2        3       Verve Coffee          Hollywood     4.4    25000\n",
       "3        4          Stumptown          San Diego     4.3    28000\n",
       "4        2        Blue Bottle           New York     4.6    52000\n",
       "5        5    Gregorys Coffee           New York     4.2    20000\n",
       "6        6        Cafe Grumpy           New York     4.7    24000\n",
       "0        1    Bean Town Brews       New York, NY     4.5     3500\n",
       "1        2       Cafe Arabica    Los Angeles, CA     4.2     2800\n",
       "2        3  Espresso Junction        Chicago, IL     4.0     2200\n",
       "3        4      Morning Mocha  San Francisco, CA     4.7     4100\n",
       "4        5       Perk Up Cafe          Miami, FL     4.3     3200\n",
       "5        6     The Grindhouse        Seattle, WA     4.8     4500\n",
       "6        7          Java Jive             Austin     4.0     2300\n",
       "7        8        Steamy Cups          Denver CO     4.6     3900\n",
       "8        9  Cappuccino Corner   Philadelphia, PH     4.4     3400\n",
       "9       10       Latte Lounge         Boston, BO     4.1     2700"
      ]
     },
     "metadata": {},
     "output_type": "display_data"
    }
   ],
   "source": [
    "pd.concat([shop, shop1])"
   ]
  },
  {
   "cell_type": "markdown",
   "metadata": {},
   "source": [
    "###  Ignoring index\n",
    "####  reseting the index"
   ]
  },
  {
   "cell_type": "code",
   "execution_count": null,
   "metadata": {},
   "outputs": [
    {
     "data": {
      "text/html": [
       "<div>\n",
       "<style scoped>\n",
       "    .dataframe tbody tr th:only-of-type {\n",
       "        vertical-align: middle;\n",
       "    }\n",
       "\n",
       "    .dataframe tbody tr th {\n",
       "        vertical-align: top;\n",
       "    }\n",
       "\n",
       "    .dataframe thead th {\n",
       "        text-align: right;\n",
       "    }\n",
       "</style>\n",
       "<table border=\"1\" class=\"dataframe\">\n",
       "  <thead>\n",
       "    <tr style=\"text-align: right;\">\n",
       "      <th></th>\n",
       "      <th>Shop_ID</th>\n",
       "      <th>Shop_Name</th>\n",
       "      <th>Location</th>\n",
       "      <th>Rating</th>\n",
       "      <th>Revenue</th>\n",
       "    </tr>\n",
       "  </thead>\n",
       "  <tbody>\n",
       "    <tr>\n",
       "      <th>0</th>\n",
       "      <td>1</td>\n",
       "      <td>Starbucks</td>\n",
       "      <td>Hollywood</td>\n",
       "      <td>4.5</td>\n",
       "      <td>50000</td>\n",
       "    </tr>\n",
       "    <tr>\n",
       "      <th>1</th>\n",
       "      <td>2</td>\n",
       "      <td>Blue Bottle</td>\n",
       "      <td>San Diego</td>\n",
       "      <td>4.8</td>\n",
       "      <td>30000</td>\n",
       "    </tr>\n",
       "    <tr>\n",
       "      <th>2</th>\n",
       "      <td>3</td>\n",
       "      <td>Verve Coffee</td>\n",
       "      <td>Hollywood</td>\n",
       "      <td>4.4</td>\n",
       "      <td>25000</td>\n",
       "    </tr>\n",
       "    <tr>\n",
       "      <th>3</th>\n",
       "      <td>4</td>\n",
       "      <td>Stumptown</td>\n",
       "      <td>San Diego</td>\n",
       "      <td>4.3</td>\n",
       "      <td>28000</td>\n",
       "    </tr>\n",
       "    <tr>\n",
       "      <th>4</th>\n",
       "      <td>2</td>\n",
       "      <td>Blue Bottle</td>\n",
       "      <td>New York</td>\n",
       "      <td>4.6</td>\n",
       "      <td>52000</td>\n",
       "    </tr>\n",
       "    <tr>\n",
       "      <th>5</th>\n",
       "      <td>5</td>\n",
       "      <td>Gregorys Coffee</td>\n",
       "      <td>New York</td>\n",
       "      <td>4.2</td>\n",
       "      <td>20000</td>\n",
       "    </tr>\n",
       "    <tr>\n",
       "      <th>6</th>\n",
       "      <td>6</td>\n",
       "      <td>Cafe Grumpy</td>\n",
       "      <td>New York</td>\n",
       "      <td>4.7</td>\n",
       "      <td>24000</td>\n",
       "    </tr>\n",
       "    <tr>\n",
       "      <th>7</th>\n",
       "      <td>1</td>\n",
       "      <td>Bean Town Brews</td>\n",
       "      <td>New York, NY</td>\n",
       "      <td>4.5</td>\n",
       "      <td>3500</td>\n",
       "    </tr>\n",
       "    <tr>\n",
       "      <th>8</th>\n",
       "      <td>2</td>\n",
       "      <td>Cafe Arabica</td>\n",
       "      <td>Los Angeles, CA</td>\n",
       "      <td>4.2</td>\n",
       "      <td>2800</td>\n",
       "    </tr>\n",
       "    <tr>\n",
       "      <th>9</th>\n",
       "      <td>3</td>\n",
       "      <td>Espresso Junction</td>\n",
       "      <td>Chicago, IL</td>\n",
       "      <td>4.0</td>\n",
       "      <td>2200</td>\n",
       "    </tr>\n",
       "    <tr>\n",
       "      <th>10</th>\n",
       "      <td>4</td>\n",
       "      <td>Morning Mocha</td>\n",
       "      <td>San Francisco, CA</td>\n",
       "      <td>4.7</td>\n",
       "      <td>4100</td>\n",
       "    </tr>\n",
       "    <tr>\n",
       "      <th>11</th>\n",
       "      <td>5</td>\n",
       "      <td>Perk Up Cafe</td>\n",
       "      <td>Miami, FL</td>\n",
       "      <td>4.3</td>\n",
       "      <td>3200</td>\n",
       "    </tr>\n",
       "    <tr>\n",
       "      <th>12</th>\n",
       "      <td>6</td>\n",
       "      <td>The Grindhouse</td>\n",
       "      <td>Seattle, WA</td>\n",
       "      <td>4.8</td>\n",
       "      <td>4500</td>\n",
       "    </tr>\n",
       "    <tr>\n",
       "      <th>13</th>\n",
       "      <td>7</td>\n",
       "      <td>Java Jive</td>\n",
       "      <td>Austin</td>\n",
       "      <td>4.0</td>\n",
       "      <td>2300</td>\n",
       "    </tr>\n",
       "    <tr>\n",
       "      <th>14</th>\n",
       "      <td>8</td>\n",
       "      <td>Steamy Cups</td>\n",
       "      <td>Denver CO</td>\n",
       "      <td>4.6</td>\n",
       "      <td>3900</td>\n",
       "    </tr>\n",
       "    <tr>\n",
       "      <th>15</th>\n",
       "      <td>9</td>\n",
       "      <td>Cappuccino Corner</td>\n",
       "      <td>Philadelphia, PH</td>\n",
       "      <td>4.4</td>\n",
       "      <td>3400</td>\n",
       "    </tr>\n",
       "    <tr>\n",
       "      <th>16</th>\n",
       "      <td>10</td>\n",
       "      <td>Latte Lounge</td>\n",
       "      <td>Boston, BO</td>\n",
       "      <td>4.1</td>\n",
       "      <td>2700</td>\n",
       "    </tr>\n",
       "  </tbody>\n",
       "</table>\n",
       "</div>"
      ],
      "text/plain": [
       "    Shop_ID          Shop_Name           Location  Rating  Revenue\n",
       "0         1          Starbucks          Hollywood     4.5    50000\n",
       "1         2        Blue Bottle          San Diego     4.8    30000\n",
       "2         3       Verve Coffee          Hollywood     4.4    25000\n",
       "3         4          Stumptown          San Diego     4.3    28000\n",
       "4         2        Blue Bottle           New York     4.6    52000\n",
       "5         5    Gregorys Coffee           New York     4.2    20000\n",
       "6         6        Cafe Grumpy           New York     4.7    24000\n",
       "7         1    Bean Town Brews       New York, NY     4.5     3500\n",
       "8         2       Cafe Arabica    Los Angeles, CA     4.2     2800\n",
       "9         3  Espresso Junction        Chicago, IL     4.0     2200\n",
       "10        4      Morning Mocha  San Francisco, CA     4.7     4100\n",
       "11        5       Perk Up Cafe          Miami, FL     4.3     3200\n",
       "12        6     The Grindhouse        Seattle, WA     4.8     4500\n",
       "13        7          Java Jive             Austin     4.0     2300\n",
       "14        8        Steamy Cups          Denver CO     4.6     3900\n",
       "15        9  Cappuccino Corner   Philadelphia, PH     4.4     3400\n",
       "16       10       Latte Lounge         Boston, BO     4.1     2700"
      ]
     },
     "metadata": {},
     "output_type": "display_data"
    }
   ],
   "source": [
    "pd.concat([shop, shop1], ignore_index=True)"
   ]
  },
  {
   "cell_type": "markdown",
   "metadata": {},
   "source": [
    "### Adding multiIndex"
   ]
  },
  {
   "cell_type": "code",
   "execution_count": null,
   "metadata": {},
   "outputs": [
    {
     "data": {
      "text/html": [
       "<div>\n",
       "<style scoped>\n",
       "    .dataframe tbody tr th:only-of-type {\n",
       "        vertical-align: middle;\n",
       "    }\n",
       "\n",
       "    .dataframe tbody tr th {\n",
       "        vertical-align: top;\n",
       "    }\n",
       "\n",
       "    .dataframe thead th {\n",
       "        text-align: right;\n",
       "    }\n",
       "</style>\n",
       "<table border=\"1\" class=\"dataframe\">\n",
       "  <thead>\n",
       "    <tr style=\"text-align: right;\">\n",
       "      <th></th>\n",
       "      <th></th>\n",
       "      <th>Shop_ID</th>\n",
       "      <th>Shop_Name</th>\n",
       "      <th>Location</th>\n",
       "      <th>Rating</th>\n",
       "      <th>Revenue</th>\n",
       "    </tr>\n",
       "  </thead>\n",
       "  <tbody>\n",
       "    <tr>\n",
       "      <th rowspan=\"7\" valign=\"top\">First</th>\n",
       "      <th>0</th>\n",
       "      <td>1</td>\n",
       "      <td>Starbucks</td>\n",
       "      <td>Hollywood</td>\n",
       "      <td>4.5</td>\n",
       "      <td>50000</td>\n",
       "    </tr>\n",
       "    <tr>\n",
       "      <th>1</th>\n",
       "      <td>2</td>\n",
       "      <td>Blue Bottle</td>\n",
       "      <td>San Diego</td>\n",
       "      <td>4.8</td>\n",
       "      <td>30000</td>\n",
       "    </tr>\n",
       "    <tr>\n",
       "      <th>2</th>\n",
       "      <td>3</td>\n",
       "      <td>Verve Coffee</td>\n",
       "      <td>Hollywood</td>\n",
       "      <td>4.4</td>\n",
       "      <td>25000</td>\n",
       "    </tr>\n",
       "    <tr>\n",
       "      <th>3</th>\n",
       "      <td>4</td>\n",
       "      <td>Stumptown</td>\n",
       "      <td>San Diego</td>\n",
       "      <td>4.3</td>\n",
       "      <td>28000</td>\n",
       "    </tr>\n",
       "    <tr>\n",
       "      <th>4</th>\n",
       "      <td>2</td>\n",
       "      <td>Blue Bottle</td>\n",
       "      <td>New York</td>\n",
       "      <td>4.6</td>\n",
       "      <td>52000</td>\n",
       "    </tr>\n",
       "    <tr>\n",
       "      <th>5</th>\n",
       "      <td>5</td>\n",
       "      <td>Gregorys Coffee</td>\n",
       "      <td>New York</td>\n",
       "      <td>4.2</td>\n",
       "      <td>20000</td>\n",
       "    </tr>\n",
       "    <tr>\n",
       "      <th>6</th>\n",
       "      <td>6</td>\n",
       "      <td>Cafe Grumpy</td>\n",
       "      <td>New York</td>\n",
       "      <td>4.7</td>\n",
       "      <td>24000</td>\n",
       "    </tr>\n",
       "    <tr>\n",
       "      <th rowspan=\"10\" valign=\"top\">Second</th>\n",
       "      <th>0</th>\n",
       "      <td>1</td>\n",
       "      <td>Bean Town Brews</td>\n",
       "      <td>New York, NY</td>\n",
       "      <td>4.5</td>\n",
       "      <td>3500</td>\n",
       "    </tr>\n",
       "    <tr>\n",
       "      <th>1</th>\n",
       "      <td>2</td>\n",
       "      <td>Cafe Arabica</td>\n",
       "      <td>Los Angeles, CA</td>\n",
       "      <td>4.2</td>\n",
       "      <td>2800</td>\n",
       "    </tr>\n",
       "    <tr>\n",
       "      <th>2</th>\n",
       "      <td>3</td>\n",
       "      <td>Espresso Junction</td>\n",
       "      <td>Chicago, IL</td>\n",
       "      <td>4.0</td>\n",
       "      <td>2200</td>\n",
       "    </tr>\n",
       "    <tr>\n",
       "      <th>3</th>\n",
       "      <td>4</td>\n",
       "      <td>Morning Mocha</td>\n",
       "      <td>San Francisco, CA</td>\n",
       "      <td>4.7</td>\n",
       "      <td>4100</td>\n",
       "    </tr>\n",
       "    <tr>\n",
       "      <th>4</th>\n",
       "      <td>5</td>\n",
       "      <td>Perk Up Cafe</td>\n",
       "      <td>Miami, FL</td>\n",
       "      <td>4.3</td>\n",
       "      <td>3200</td>\n",
       "    </tr>\n",
       "    <tr>\n",
       "      <th>5</th>\n",
       "      <td>6</td>\n",
       "      <td>The Grindhouse</td>\n",
       "      <td>Seattle, WA</td>\n",
       "      <td>4.8</td>\n",
       "      <td>4500</td>\n",
       "    </tr>\n",
       "    <tr>\n",
       "      <th>6</th>\n",
       "      <td>7</td>\n",
       "      <td>Java Jive</td>\n",
       "      <td>Austin</td>\n",
       "      <td>4.0</td>\n",
       "      <td>2300</td>\n",
       "    </tr>\n",
       "    <tr>\n",
       "      <th>7</th>\n",
       "      <td>8</td>\n",
       "      <td>Steamy Cups</td>\n",
       "      <td>Denver CO</td>\n",
       "      <td>4.6</td>\n",
       "      <td>3900</td>\n",
       "    </tr>\n",
       "    <tr>\n",
       "      <th>8</th>\n",
       "      <td>9</td>\n",
       "      <td>Cappuccino Corner</td>\n",
       "      <td>Philadelphia, PH</td>\n",
       "      <td>4.4</td>\n",
       "      <td>3400</td>\n",
       "    </tr>\n",
       "    <tr>\n",
       "      <th>9</th>\n",
       "      <td>10</td>\n",
       "      <td>Latte Lounge</td>\n",
       "      <td>Boston, BO</td>\n",
       "      <td>4.1</td>\n",
       "      <td>2700</td>\n",
       "    </tr>\n",
       "  </tbody>\n",
       "</table>\n",
       "</div>"
      ],
      "text/plain": [
       "          Shop_ID          Shop_Name           Location  Rating  Revenue\n",
       "First  0        1          Starbucks          Hollywood     4.5    50000\n",
       "       1        2        Blue Bottle          San Diego     4.8    30000\n",
       "       2        3       Verve Coffee          Hollywood     4.4    25000\n",
       "       3        4          Stumptown          San Diego     4.3    28000\n",
       "       4        2        Blue Bottle           New York     4.6    52000\n",
       "       5        5    Gregorys Coffee           New York     4.2    20000\n",
       "       6        6        Cafe Grumpy           New York     4.7    24000\n",
       "Second 0        1    Bean Town Brews       New York, NY     4.5     3500\n",
       "       1        2       Cafe Arabica    Los Angeles, CA     4.2     2800\n",
       "       2        3  Espresso Junction        Chicago, IL     4.0     2200\n",
       "       3        4      Morning Mocha  San Francisco, CA     4.7     4100\n",
       "       4        5       Perk Up Cafe          Miami, FL     4.3     3200\n",
       "       5        6     The Grindhouse        Seattle, WA     4.8     4500\n",
       "       6        7          Java Jive             Austin     4.0     2300\n",
       "       7        8        Steamy Cups          Denver CO     4.6     3900\n",
       "       8        9  Cappuccino Corner   Philadelphia, PH     4.4     3400\n",
       "       9       10       Latte Lounge         Boston, BO     4.1     2700"
      ]
     },
     "metadata": {},
     "output_type": "display_data"
    }
   ],
   "source": [
    "pd.concat([shop, shop1], keys=['First','Second'])"
   ]
  },
  {
   "cell_type": "code",
   "execution_count": null,
   "metadata": {},
   "outputs": [
    {
     "data": {
      "text/html": [
       "<div>\n",
       "<style scoped>\n",
       "    .dataframe tbody tr th:only-of-type {\n",
       "        vertical-align: middle;\n",
       "    }\n",
       "\n",
       "    .dataframe tbody tr th {\n",
       "        vertical-align: top;\n",
       "    }\n",
       "\n",
       "    .dataframe thead th {\n",
       "        text-align: right;\n",
       "    }\n",
       "</style>\n",
       "<table border=\"1\" class=\"dataframe\">\n",
       "  <thead>\n",
       "    <tr style=\"text-align: right;\">\n",
       "      <th></th>\n",
       "      <th>Shop_ID</th>\n",
       "      <th>Shop_Name</th>\n",
       "      <th>Supplier_Name</th>\n",
       "      <th>Delivery_Days</th>\n",
       "    </tr>\n",
       "  </thead>\n",
       "  <tbody>\n",
       "    <tr>\n",
       "      <th>0</th>\n",
       "      <td>1</td>\n",
       "      <td>Starbucks</td>\n",
       "      <td>Beans R Us</td>\n",
       "      <td>7</td>\n",
       "    </tr>\n",
       "    <tr>\n",
       "      <th>1</th>\n",
       "      <td>2</td>\n",
       "      <td>Blue Bottle</td>\n",
       "      <td>Premium Beans</td>\n",
       "      <td>5</td>\n",
       "    </tr>\n",
       "    <tr>\n",
       "      <th>2</th>\n",
       "      <td>3</td>\n",
       "      <td>Verve Coffee</td>\n",
       "      <td>South Coffee Suppliers</td>\n",
       "      <td>7</td>\n",
       "    </tr>\n",
       "    <tr>\n",
       "      <th>3</th>\n",
       "      <td>4</td>\n",
       "      <td>Stumptown</td>\n",
       "      <td>San Diego Beans</td>\n",
       "      <td>4</td>\n",
       "    </tr>\n",
       "    <tr>\n",
       "      <th>4</th>\n",
       "      <td>5</td>\n",
       "      <td>Gregorys Coffee</td>\n",
       "      <td>NY Fresh Beans</td>\n",
       "      <td>6</td>\n",
       "    </tr>\n",
       "    <tr>\n",
       "      <th>5</th>\n",
       "      <td>6</td>\n",
       "      <td>Blue Bottle</td>\n",
       "      <td>Mexico tea</td>\n",
       "      <td>9</td>\n",
       "    </tr>\n",
       "    <tr>\n",
       "      <th>6</th>\n",
       "      <td>7</td>\n",
       "      <td>Gregorys Coffee</td>\n",
       "      <td>Chayyos</td>\n",
       "      <td>10</td>\n",
       "    </tr>\n",
       "  </tbody>\n",
       "</table>\n",
       "</div>"
      ],
      "text/plain": [
       "   Shop_ID        Shop_Name           Supplier_Name  Delivery_Days\n",
       "0        1        Starbucks              Beans R Us              7\n",
       "1        2      Blue Bottle           Premium Beans              5\n",
       "2        3     Verve Coffee  South Coffee Suppliers              7\n",
       "3        4        Stumptown         San Diego Beans              4\n",
       "4        5  Gregorys Coffee          NY Fresh Beans              6\n",
       "5        6      Blue Bottle              Mexico tea              9\n",
       "6        7  Gregorys Coffee                 Chayyos             10"
      ]
     },
     "metadata": {},
     "output_type": "display_data"
    }
   ],
   "source": [
    "sdf"
   ]
  },
  {
   "cell_type": "markdown",
   "metadata": {},
   "source": [
    "####  Copying sdf data to sdf1 and dropping two index"
   ]
  },
  {
   "cell_type": "code",
   "execution_count": null,
   "metadata": {},
   "outputs": [
    {
     "data": {
      "text/html": [
       "<div>\n",
       "<style scoped>\n",
       "    .dataframe tbody tr th:only-of-type {\n",
       "        vertical-align: middle;\n",
       "    }\n",
       "\n",
       "    .dataframe tbody tr th {\n",
       "        vertical-align: top;\n",
       "    }\n",
       "\n",
       "    .dataframe thead th {\n",
       "        text-align: right;\n",
       "    }\n",
       "</style>\n",
       "<table border=\"1\" class=\"dataframe\">\n",
       "  <thead>\n",
       "    <tr style=\"text-align: right;\">\n",
       "      <th></th>\n",
       "      <th>Supplier_Name</th>\n",
       "      <th>Delivery_Days</th>\n",
       "    </tr>\n",
       "  </thead>\n",
       "  <tbody>\n",
       "    <tr>\n",
       "      <th>0</th>\n",
       "      <td>Beans R Us</td>\n",
       "      <td>7</td>\n",
       "    </tr>\n",
       "    <tr>\n",
       "      <th>1</th>\n",
       "      <td>Premium Beans</td>\n",
       "      <td>5</td>\n",
       "    </tr>\n",
       "    <tr>\n",
       "      <th>2</th>\n",
       "      <td>South Coffee Suppliers</td>\n",
       "      <td>7</td>\n",
       "    </tr>\n",
       "    <tr>\n",
       "      <th>3</th>\n",
       "      <td>San Diego Beans</td>\n",
       "      <td>4</td>\n",
       "    </tr>\n",
       "    <tr>\n",
       "      <th>4</th>\n",
       "      <td>NY Fresh Beans</td>\n",
       "      <td>6</td>\n",
       "    </tr>\n",
       "    <tr>\n",
       "      <th>5</th>\n",
       "      <td>Mexico tea</td>\n",
       "      <td>9</td>\n",
       "    </tr>\n",
       "    <tr>\n",
       "      <th>6</th>\n",
       "      <td>Chayyos</td>\n",
       "      <td>10</td>\n",
       "    </tr>\n",
       "  </tbody>\n",
       "</table>\n",
       "</div>"
      ],
      "text/plain": [
       "            Supplier_Name  Delivery_Days\n",
       "0              Beans R Us              7\n",
       "1           Premium Beans              5\n",
       "2  South Coffee Suppliers              7\n",
       "3         San Diego Beans              4\n",
       "4          NY Fresh Beans              6\n",
       "5              Mexico tea              9\n",
       "6                 Chayyos             10"
      ]
     },
     "metadata": {},
     "output_type": "display_data"
    }
   ],
   "source": [
    "sdf1= sdf.drop(['Shop_ID', 'Shop_Name'], axis=1)\n",
    "sdf1"
   ]
  },
  {
   "cell_type": "markdown",
   "metadata": {},
   "source": [
    "###   Adding sdf1 to shop data"
   ]
  },
  {
   "cell_type": "code",
   "execution_count": null,
   "metadata": {},
   "outputs": [],
   "source": [
    "shop=pd.concat([shop, sdf1], axis=1)"
   ]
  },
  {
   "cell_type": "code",
   "execution_count": null,
   "metadata": {},
   "outputs": [
    {
     "data": {
      "text/html": [
       "<div>\n",
       "<style scoped>\n",
       "    .dataframe tbody tr th:only-of-type {\n",
       "        vertical-align: middle;\n",
       "    }\n",
       "\n",
       "    .dataframe tbody tr th {\n",
       "        vertical-align: top;\n",
       "    }\n",
       "\n",
       "    .dataframe thead th {\n",
       "        text-align: right;\n",
       "    }\n",
       "</style>\n",
       "<table border=\"1\" class=\"dataframe\">\n",
       "  <thead>\n",
       "    <tr style=\"text-align: right;\">\n",
       "      <th></th>\n",
       "      <th>Shop_ID</th>\n",
       "      <th>Shop_Name</th>\n",
       "      <th>Location</th>\n",
       "      <th>Rating</th>\n",
       "      <th>Revenue</th>\n",
       "      <th>Supplier_Name</th>\n",
       "      <th>Delivery_Days</th>\n",
       "    </tr>\n",
       "  </thead>\n",
       "  <tbody>\n",
       "    <tr>\n",
       "      <th>0</th>\n",
       "      <td>1</td>\n",
       "      <td>Starbucks</td>\n",
       "      <td>Hollywood</td>\n",
       "      <td>4.5</td>\n",
       "      <td>50000</td>\n",
       "      <td>Beans R Us</td>\n",
       "      <td>7</td>\n",
       "    </tr>\n",
       "    <tr>\n",
       "      <th>1</th>\n",
       "      <td>2</td>\n",
       "      <td>Blue Bottle</td>\n",
       "      <td>San Diego</td>\n",
       "      <td>4.8</td>\n",
       "      <td>30000</td>\n",
       "      <td>Premium Beans</td>\n",
       "      <td>5</td>\n",
       "    </tr>\n",
       "    <tr>\n",
       "      <th>2</th>\n",
       "      <td>3</td>\n",
       "      <td>Verve Coffee</td>\n",
       "      <td>Hollywood</td>\n",
       "      <td>4.4</td>\n",
       "      <td>25000</td>\n",
       "      <td>South Coffee Suppliers</td>\n",
       "      <td>7</td>\n",
       "    </tr>\n",
       "    <tr>\n",
       "      <th>3</th>\n",
       "      <td>4</td>\n",
       "      <td>Stumptown</td>\n",
       "      <td>San Diego</td>\n",
       "      <td>4.3</td>\n",
       "      <td>28000</td>\n",
       "      <td>San Diego Beans</td>\n",
       "      <td>4</td>\n",
       "    </tr>\n",
       "    <tr>\n",
       "      <th>4</th>\n",
       "      <td>2</td>\n",
       "      <td>Blue Bottle</td>\n",
       "      <td>New York</td>\n",
       "      <td>4.6</td>\n",
       "      <td>52000</td>\n",
       "      <td>NY Fresh Beans</td>\n",
       "      <td>6</td>\n",
       "    </tr>\n",
       "    <tr>\n",
       "      <th>5</th>\n",
       "      <td>5</td>\n",
       "      <td>Gregorys Coffee</td>\n",
       "      <td>New York</td>\n",
       "      <td>4.2</td>\n",
       "      <td>20000</td>\n",
       "      <td>Mexico tea</td>\n",
       "      <td>9</td>\n",
       "    </tr>\n",
       "    <tr>\n",
       "      <th>6</th>\n",
       "      <td>6</td>\n",
       "      <td>Cafe Grumpy</td>\n",
       "      <td>New York</td>\n",
       "      <td>4.7</td>\n",
       "      <td>24000</td>\n",
       "      <td>Chayyos</td>\n",
       "      <td>10</td>\n",
       "    </tr>\n",
       "  </tbody>\n",
       "</table>\n",
       "</div>"
      ],
      "text/plain": [
       "   Shop_ID        Shop_Name   Location  Rating  Revenue  \\\n",
       "0        1        Starbucks  Hollywood     4.5    50000   \n",
       "1        2      Blue Bottle  San Diego     4.8    30000   \n",
       "2        3     Verve Coffee  Hollywood     4.4    25000   \n",
       "3        4        Stumptown  San Diego     4.3    28000   \n",
       "4        2      Blue Bottle   New York     4.6    52000   \n",
       "5        5  Gregorys Coffee   New York     4.2    20000   \n",
       "6        6      Cafe Grumpy   New York     4.7    24000   \n",
       "\n",
       "            Supplier_Name  Delivery_Days  \n",
       "0              Beans R Us              7  \n",
       "1           Premium Beans              5  \n",
       "2  South Coffee Suppliers              7  \n",
       "3         San Diego Beans              4  \n",
       "4          NY Fresh Beans              6  \n",
       "5              Mexico tea              9  \n",
       "6                 Chayyos             10  "
      ]
     },
     "metadata": {},
     "output_type": "display_data"
    }
   ],
   "source": [
    "shop"
   ]
  },
  {
   "cell_type": "code",
   "execution_count": null,
   "metadata": {},
   "outputs": [],
   "source": []
  },
  {
   "cell_type": "markdown",
   "metadata": {},
   "source": [
    "This was taken from: 'pandas-explode.ipynb [Link](https://github.com/pradeepsf729/pandas_101/blob/72fc5d6b72e01a50126876d229d66fd95869e81f/pandas-explode.ipynb)'"
   ]
  },
  {
   "cell_type": "code",
   "execution_count": null,
   "metadata": {},
   "outputs": [],
   "source": [
    "import pandas as pd"
   ]
  },
  {
   "cell_type": "code",
   "execution_count": null,
   "metadata": {},
   "outputs": [],
   "source": [
    "data = {\n",
    "    'Coffee_Shop': ['Brewed Awakening', 'Coffee Cloud', 'Bean Dream', 'Espresso Express', 'Latte Love',\n",
    "    'Mocha Magic', 'Cafe Comfort', 'Seattle Sip', 'Drip Drop', 'Grind Ground'],\n",
    "    'Location': ['Downtown', 'Capitol Hill', 'Green Lake', 'Ballard', 'West Seattle',\n",
    "    'Fremont', 'Queen Anne', 'Belltown', 'University District', 'Magnolia'],\n",
    "    'Avg_Rating': [4.5, 4.2, 5.0, 4.8, 4.6, 4.3, 4.9, 4.0, 4.7, 4.6],\n",
    "    'Coffee_Type': ['Espresso', 'Latte', 'Cappuccino', 'Americano', 'Cold Brew',\n",
    "    'Macchiato', 'Espresso', 'Latte', 'Drip Coffee', 'Americano'],\n",
    "    'Tables_Available': [5, 8, 6, 7, 5, 9, 7, 8, 6, 5]\n",
    "}"
   ]
  },
  {
   "cell_type": "code",
   "execution_count": null,
   "metadata": {},
   "outputs": [],
   "source": []
  },
  {
   "cell_type": "code",
   "execution_count": null,
   "metadata": {},
   "outputs": [],
   "source": [
    "coffee_shops_df = pd.DataFrame(data)"
   ]
  },
  {
   "cell_type": "code",
   "execution_count": null,
   "metadata": {},
   "outputs": [
    {
     "data": {
      "text/html": [
       "<div>\n",
       "<style scoped>\n",
       "    .dataframe tbody tr th:only-of-type {\n",
       "        vertical-align: middle;\n",
       "    }\n",
       "\n",
       "    .dataframe tbody tr th {\n",
       "        vertical-align: top;\n",
       "    }\n",
       "\n",
       "    .dataframe thead th {\n",
       "        text-align: right;\n",
       "    }\n",
       "</style>\n",
       "<table border=\"1\" class=\"dataframe\">\n",
       "  <thead>\n",
       "    <tr style=\"text-align: right;\">\n",
       "      <th></th>\n",
       "      <th>Coffee_Shop</th>\n",
       "      <th>Location</th>\n",
       "      <th>Avg_Rating</th>\n",
       "      <th>Coffee_Type</th>\n",
       "      <th>Tables_Available</th>\n",
       "    </tr>\n",
       "  </thead>\n",
       "  <tbody>\n",
       "    <tr>\n",
       "      <th>0</th>\n",
       "      <td>Brewed Awakening</td>\n",
       "      <td>Downtown</td>\n",
       "      <td>4.5</td>\n",
       "      <td>Espresso</td>\n",
       "      <td>5</td>\n",
       "    </tr>\n",
       "    <tr>\n",
       "      <th>1</th>\n",
       "      <td>Coffee Cloud</td>\n",
       "      <td>Capitol Hill</td>\n",
       "      <td>4.2</td>\n",
       "      <td>Latte</td>\n",
       "      <td>8</td>\n",
       "    </tr>\n",
       "    <tr>\n",
       "      <th>2</th>\n",
       "      <td>Bean Dream</td>\n",
       "      <td>Green Lake</td>\n",
       "      <td>5.0</td>\n",
       "      <td>Cappuccino</td>\n",
       "      <td>6</td>\n",
       "    </tr>\n",
       "    <tr>\n",
       "      <th>3</th>\n",
       "      <td>Espresso Express</td>\n",
       "      <td>Ballard</td>\n",
       "      <td>4.8</td>\n",
       "      <td>Americano</td>\n",
       "      <td>7</td>\n",
       "    </tr>\n",
       "    <tr>\n",
       "      <th>4</th>\n",
       "      <td>Latte Love</td>\n",
       "      <td>West Seattle</td>\n",
       "      <td>4.6</td>\n",
       "      <td>Cold Brew</td>\n",
       "      <td>5</td>\n",
       "    </tr>\n",
       "    <tr>\n",
       "      <th>5</th>\n",
       "      <td>Mocha Magic</td>\n",
       "      <td>Fremont</td>\n",
       "      <td>4.3</td>\n",
       "      <td>Macchiato</td>\n",
       "      <td>9</td>\n",
       "    </tr>\n",
       "    <tr>\n",
       "      <th>6</th>\n",
       "      <td>Cafe Comfort</td>\n",
       "      <td>Queen Anne</td>\n",
       "      <td>4.9</td>\n",
       "      <td>Espresso</td>\n",
       "      <td>7</td>\n",
       "    </tr>\n",
       "    <tr>\n",
       "      <th>7</th>\n",
       "      <td>Seattle Sip</td>\n",
       "      <td>Belltown</td>\n",
       "      <td>4.0</td>\n",
       "      <td>Latte</td>\n",
       "      <td>8</td>\n",
       "    </tr>\n",
       "    <tr>\n",
       "      <th>8</th>\n",
       "      <td>Drip Drop</td>\n",
       "      <td>University District</td>\n",
       "      <td>4.7</td>\n",
       "      <td>Drip Coffee</td>\n",
       "      <td>6</td>\n",
       "    </tr>\n",
       "    <tr>\n",
       "      <th>9</th>\n",
       "      <td>Grind Ground</td>\n",
       "      <td>Magnolia</td>\n",
       "      <td>4.6</td>\n",
       "      <td>Americano</td>\n",
       "      <td>5</td>\n",
       "    </tr>\n",
       "  </tbody>\n",
       "</table>\n",
       "</div>"
      ],
      "text/plain": [
       "        Coffee_Shop             Location  Avg_Rating  Coffee_Type  \\\n",
       "0  Brewed Awakening             Downtown         4.5     Espresso   \n",
       "1      Coffee Cloud         Capitol Hill         4.2        Latte   \n",
       "2        Bean Dream           Green Lake         5.0   Cappuccino   \n",
       "3  Espresso Express              Ballard         4.8    Americano   \n",
       "4        Latte Love         West Seattle         4.6    Cold Brew   \n",
       "5       Mocha Magic              Fremont         4.3    Macchiato   \n",
       "6      Cafe Comfort           Queen Anne         4.9     Espresso   \n",
       "7       Seattle Sip             Belltown         4.0        Latte   \n",
       "8         Drip Drop  University District         4.7  Drip Coffee   \n",
       "9      Grind Ground             Magnolia         4.6    Americano   \n",
       "\n",
       "   Tables_Available  \n",
       "0                 5  \n",
       "1                 8  \n",
       "2                 6  \n",
       "3                 7  \n",
       "4                 5  \n",
       "5                 9  \n",
       "6                 7  \n",
       "7                 8  \n",
       "8                 6  \n",
       "9                 5  "
      ]
     },
     "metadata": {},
     "output_type": "display_data"
    }
   ],
   "source": [
    "coffee_shops_df"
   ]
  },
  {
   "cell_type": "markdown",
   "metadata": {},
   "source": [
    "#### If you had a column in coffee_shops_df that contained lists of coffee varieties offered, how would you use explode to create a separate row for each coffee type?"
   ]
  },
  {
   "cell_type": "code",
   "execution_count": null,
   "metadata": {},
   "outputs": [],
   "source": [
    "coffee_varieties = [[\"Arabica\", \"Robusta\"], [\"Typica\", \"Bourbon\", \"Geisha\"], \"Hawaiian\", \"Sumatra\"]"
   ]
  },
  {
   "cell_type": "code",
   "execution_count": null,
   "metadata": {},
   "outputs": [],
   "source": [
    "temp = coffee_shops_df.loc[0:3].copy()"
   ]
  },
  {
   "cell_type": "code",
   "execution_count": null,
   "metadata": {},
   "outputs": [
    {
     "data": {
      "text/html": [
       "<div>\n",
       "<style scoped>\n",
       "    .dataframe tbody tr th:only-of-type {\n",
       "        vertical-align: middle;\n",
       "    }\n",
       "\n",
       "    .dataframe tbody tr th {\n",
       "        vertical-align: top;\n",
       "    }\n",
       "\n",
       "    .dataframe thead th {\n",
       "        text-align: right;\n",
       "    }\n",
       "</style>\n",
       "<table border=\"1\" class=\"dataframe\">\n",
       "  <thead>\n",
       "    <tr style=\"text-align: right;\">\n",
       "      <th></th>\n",
       "      <th>Coffee_Shop</th>\n",
       "      <th>Location</th>\n",
       "      <th>Avg_Rating</th>\n",
       "      <th>Coffee_Type</th>\n",
       "      <th>Tables_Available</th>\n",
       "    </tr>\n",
       "  </thead>\n",
       "  <tbody>\n",
       "    <tr>\n",
       "      <th>0</th>\n",
       "      <td>Brewed Awakening</td>\n",
       "      <td>Downtown</td>\n",
       "      <td>4.5</td>\n",
       "      <td>Espresso</td>\n",
       "      <td>5</td>\n",
       "    </tr>\n",
       "    <tr>\n",
       "      <th>1</th>\n",
       "      <td>Coffee Cloud</td>\n",
       "      <td>Capitol Hill</td>\n",
       "      <td>4.2</td>\n",
       "      <td>Latte</td>\n",
       "      <td>8</td>\n",
       "    </tr>\n",
       "    <tr>\n",
       "      <th>2</th>\n",
       "      <td>Bean Dream</td>\n",
       "      <td>Green Lake</td>\n",
       "      <td>5.0</td>\n",
       "      <td>Cappuccino</td>\n",
       "      <td>6</td>\n",
       "    </tr>\n",
       "    <tr>\n",
       "      <th>3</th>\n",
       "      <td>Espresso Express</td>\n",
       "      <td>Ballard</td>\n",
       "      <td>4.8</td>\n",
       "      <td>Americano</td>\n",
       "      <td>7</td>\n",
       "    </tr>\n",
       "  </tbody>\n",
       "</table>\n",
       "</div>"
      ],
      "text/plain": [
       "        Coffee_Shop      Location  Avg_Rating Coffee_Type  Tables_Available\n",
       "0  Brewed Awakening      Downtown         4.5    Espresso                 5\n",
       "1      Coffee Cloud  Capitol Hill         4.2       Latte                 8\n",
       "2        Bean Dream    Green Lake         5.0  Cappuccino                 6\n",
       "3  Espresso Express       Ballard         4.8   Americano                 7"
      ]
     },
     "metadata": {},
     "output_type": "display_data"
    }
   ],
   "source": [
    "temp"
   ]
  },
  {
   "cell_type": "code",
   "execution_count": null,
   "metadata": {},
   "outputs": [],
   "source": [
    "temp['Coffee_Varieties'] = coffee_varieties"
   ]
  },
  {
   "cell_type": "code",
   "execution_count": null,
   "metadata": {},
   "outputs": [
    {
     "data": {
      "text/html": [
       "<div>\n",
       "<style scoped>\n",
       "    .dataframe tbody tr th:only-of-type {\n",
       "        vertical-align: middle;\n",
       "    }\n",
       "\n",
       "    .dataframe tbody tr th {\n",
       "        vertical-align: top;\n",
       "    }\n",
       "\n",
       "    .dataframe thead th {\n",
       "        text-align: right;\n",
       "    }\n",
       "</style>\n",
       "<table border=\"1\" class=\"dataframe\">\n",
       "  <thead>\n",
       "    <tr style=\"text-align: right;\">\n",
       "      <th></th>\n",
       "      <th>Coffee_Shop</th>\n",
       "      <th>Location</th>\n",
       "      <th>Avg_Rating</th>\n",
       "      <th>Coffee_Type</th>\n",
       "      <th>Tables_Available</th>\n",
       "      <th>Coffee_Varieties</th>\n",
       "    </tr>\n",
       "  </thead>\n",
       "  <tbody>\n",
       "    <tr>\n",
       "      <th>0</th>\n",
       "      <td>Brewed Awakening</td>\n",
       "      <td>Downtown</td>\n",
       "      <td>4.5</td>\n",
       "      <td>Espresso</td>\n",
       "      <td>5</td>\n",
       "      <td>[Arabica, Robusta]</td>\n",
       "    </tr>\n",
       "    <tr>\n",
       "      <th>1</th>\n",
       "      <td>Coffee Cloud</td>\n",
       "      <td>Capitol Hill</td>\n",
       "      <td>4.2</td>\n",
       "      <td>Latte</td>\n",
       "      <td>8</td>\n",
       "      <td>[Typica, Bourbon, Geisha]</td>\n",
       "    </tr>\n",
       "    <tr>\n",
       "      <th>2</th>\n",
       "      <td>Bean Dream</td>\n",
       "      <td>Green Lake</td>\n",
       "      <td>5.0</td>\n",
       "      <td>Cappuccino</td>\n",
       "      <td>6</td>\n",
       "      <td>Hawaiian</td>\n",
       "    </tr>\n",
       "    <tr>\n",
       "      <th>3</th>\n",
       "      <td>Espresso Express</td>\n",
       "      <td>Ballard</td>\n",
       "      <td>4.8</td>\n",
       "      <td>Americano</td>\n",
       "      <td>7</td>\n",
       "      <td>Sumatra</td>\n",
       "    </tr>\n",
       "  </tbody>\n",
       "</table>\n",
       "</div>"
      ],
      "text/plain": [
       "        Coffee_Shop      Location  Avg_Rating Coffee_Type  Tables_Available  \\\n",
       "0  Brewed Awakening      Downtown         4.5    Espresso                 5   \n",
       "1      Coffee Cloud  Capitol Hill         4.2       Latte                 8   \n",
       "2        Bean Dream    Green Lake         5.0  Cappuccino                 6   \n",
       "3  Espresso Express       Ballard         4.8   Americano                 7   \n",
       "\n",
       "            Coffee_Varieties  \n",
       "0         [Arabica, Robusta]  \n",
       "1  [Typica, Bourbon, Geisha]  \n",
       "2                   Hawaiian  \n",
       "3                    Sumatra  "
      ]
     },
     "metadata": {},
     "output_type": "display_data"
    }
   ],
   "source": [
    "temp"
   ]
  },
  {
   "cell_type": "code",
   "execution_count": null,
   "metadata": {},
   "outputs": [
    {
     "data": {
      "text/html": [
       "<div>\n",
       "<style scoped>\n",
       "    .dataframe tbody tr th:only-of-type {\n",
       "        vertical-align: middle;\n",
       "    }\n",
       "\n",
       "    .dataframe tbody tr th {\n",
       "        vertical-align: top;\n",
       "    }\n",
       "\n",
       "    .dataframe thead th {\n",
       "        text-align: right;\n",
       "    }\n",
       "</style>\n",
       "<table border=\"1\" class=\"dataframe\">\n",
       "  <thead>\n",
       "    <tr style=\"text-align: right;\">\n",
       "      <th></th>\n",
       "      <th>Coffee_Shop</th>\n",
       "      <th>Location</th>\n",
       "      <th>Avg_Rating</th>\n",
       "      <th>Coffee_Type</th>\n",
       "      <th>Tables_Available</th>\n",
       "      <th>Coffee_Varieties</th>\n",
       "    </tr>\n",
       "  </thead>\n",
       "  <tbody>\n",
       "    <tr>\n",
       "      <th>0</th>\n",
       "      <td>Brewed Awakening</td>\n",
       "      <td>Downtown</td>\n",
       "      <td>4.5</td>\n",
       "      <td>Espresso</td>\n",
       "      <td>5</td>\n",
       "      <td>Arabica</td>\n",
       "    </tr>\n",
       "    <tr>\n",
       "      <th>0</th>\n",
       "      <td>Brewed Awakening</td>\n",
       "      <td>Downtown</td>\n",
       "      <td>4.5</td>\n",
       "      <td>Espresso</td>\n",
       "      <td>5</td>\n",
       "      <td>Robusta</td>\n",
       "    </tr>\n",
       "    <tr>\n",
       "      <th>1</th>\n",
       "      <td>Coffee Cloud</td>\n",
       "      <td>Capitol Hill</td>\n",
       "      <td>4.2</td>\n",
       "      <td>Latte</td>\n",
       "      <td>8</td>\n",
       "      <td>Typica</td>\n",
       "    </tr>\n",
       "    <tr>\n",
       "      <th>1</th>\n",
       "      <td>Coffee Cloud</td>\n",
       "      <td>Capitol Hill</td>\n",
       "      <td>4.2</td>\n",
       "      <td>Latte</td>\n",
       "      <td>8</td>\n",
       "      <td>Bourbon</td>\n",
       "    </tr>\n",
       "    <tr>\n",
       "      <th>1</th>\n",
       "      <td>Coffee Cloud</td>\n",
       "      <td>Capitol Hill</td>\n",
       "      <td>4.2</td>\n",
       "      <td>Latte</td>\n",
       "      <td>8</td>\n",
       "      <td>Geisha</td>\n",
       "    </tr>\n",
       "    <tr>\n",
       "      <th>2</th>\n",
       "      <td>Bean Dream</td>\n",
       "      <td>Green Lake</td>\n",
       "      <td>5.0</td>\n",
       "      <td>Cappuccino</td>\n",
       "      <td>6</td>\n",
       "      <td>Hawaiian</td>\n",
       "    </tr>\n",
       "    <tr>\n",
       "      <th>3</th>\n",
       "      <td>Espresso Express</td>\n",
       "      <td>Ballard</td>\n",
       "      <td>4.8</td>\n",
       "      <td>Americano</td>\n",
       "      <td>7</td>\n",
       "      <td>Sumatra</td>\n",
       "    </tr>\n",
       "  </tbody>\n",
       "</table>\n",
       "</div>"
      ],
      "text/plain": [
       "        Coffee_Shop      Location  Avg_Rating Coffee_Type  Tables_Available  \\\n",
       "0  Brewed Awakening      Downtown         4.5    Espresso                 5   \n",
       "0  Brewed Awakening      Downtown         4.5    Espresso                 5   \n",
       "1      Coffee Cloud  Capitol Hill         4.2       Latte                 8   \n",
       "1      Coffee Cloud  Capitol Hill         4.2       Latte                 8   \n",
       "1      Coffee Cloud  Capitol Hill         4.2       Latte                 8   \n",
       "2        Bean Dream    Green Lake         5.0  Cappuccino                 6   \n",
       "3  Espresso Express       Ballard         4.8   Americano                 7   \n",
       "\n",
       "  Coffee_Varieties  \n",
       "0          Arabica  \n",
       "0          Robusta  \n",
       "1           Typica  \n",
       "1          Bourbon  \n",
       "1           Geisha  \n",
       "2         Hawaiian  \n",
       "3          Sumatra  "
      ]
     },
     "metadata": {},
     "output_type": "display_data"
    }
   ],
   "source": [
    "temp.explode('Coffee_Varieties')"
   ]
  },
  {
   "cell_type": "code",
   "execution_count": null,
   "metadata": {},
   "outputs": [
    {
     "data": {
      "text/html": [
       "<div>\n",
       "<style scoped>\n",
       "    .dataframe tbody tr th:only-of-type {\n",
       "        vertical-align: middle;\n",
       "    }\n",
       "\n",
       "    .dataframe tbody tr th {\n",
       "        vertical-align: top;\n",
       "    }\n",
       "\n",
       "    .dataframe thead th {\n",
       "        text-align: right;\n",
       "    }\n",
       "</style>\n",
       "<table border=\"1\" class=\"dataframe\">\n",
       "  <thead>\n",
       "    <tr style=\"text-align: right;\">\n",
       "      <th></th>\n",
       "      <th>Coffee_Shop</th>\n",
       "      <th>Location</th>\n",
       "      <th>Avg_Rating</th>\n",
       "      <th>Coffee_Type</th>\n",
       "      <th>Tables_Available</th>\n",
       "      <th>Coffee_Varieties</th>\n",
       "    </tr>\n",
       "  </thead>\n",
       "  <tbody>\n",
       "    <tr>\n",
       "      <th>0</th>\n",
       "      <td>Brewed Awakening</td>\n",
       "      <td>Downtown</td>\n",
       "      <td>4.5</td>\n",
       "      <td>Espresso</td>\n",
       "      <td>5</td>\n",
       "      <td>Arabica</td>\n",
       "    </tr>\n",
       "    <tr>\n",
       "      <th>1</th>\n",
       "      <td>Brewed Awakening</td>\n",
       "      <td>Downtown</td>\n",
       "      <td>4.5</td>\n",
       "      <td>Espresso</td>\n",
       "      <td>5</td>\n",
       "      <td>Robusta</td>\n",
       "    </tr>\n",
       "    <tr>\n",
       "      <th>2</th>\n",
       "      <td>Coffee Cloud</td>\n",
       "      <td>Capitol Hill</td>\n",
       "      <td>4.2</td>\n",
       "      <td>Latte</td>\n",
       "      <td>8</td>\n",
       "      <td>Typica</td>\n",
       "    </tr>\n",
       "    <tr>\n",
       "      <th>3</th>\n",
       "      <td>Coffee Cloud</td>\n",
       "      <td>Capitol Hill</td>\n",
       "      <td>4.2</td>\n",
       "      <td>Latte</td>\n",
       "      <td>8</td>\n",
       "      <td>Bourbon</td>\n",
       "    </tr>\n",
       "    <tr>\n",
       "      <th>4</th>\n",
       "      <td>Coffee Cloud</td>\n",
       "      <td>Capitol Hill</td>\n",
       "      <td>4.2</td>\n",
       "      <td>Latte</td>\n",
       "      <td>8</td>\n",
       "      <td>Geisha</td>\n",
       "    </tr>\n",
       "    <tr>\n",
       "      <th>5</th>\n",
       "      <td>Bean Dream</td>\n",
       "      <td>Green Lake</td>\n",
       "      <td>5.0</td>\n",
       "      <td>Cappuccino</td>\n",
       "      <td>6</td>\n",
       "      <td>Hawaiian</td>\n",
       "    </tr>\n",
       "    <tr>\n",
       "      <th>6</th>\n",
       "      <td>Espresso Express</td>\n",
       "      <td>Ballard</td>\n",
       "      <td>4.8</td>\n",
       "      <td>Americano</td>\n",
       "      <td>7</td>\n",
       "      <td>Sumatra</td>\n",
       "    </tr>\n",
       "  </tbody>\n",
       "</table>\n",
       "</div>"
      ],
      "text/plain": [
       "        Coffee_Shop      Location  Avg_Rating Coffee_Type  Tables_Available  \\\n",
       "0  Brewed Awakening      Downtown         4.5    Espresso                 5   \n",
       "1  Brewed Awakening      Downtown         4.5    Espresso                 5   \n",
       "2      Coffee Cloud  Capitol Hill         4.2       Latte                 8   \n",
       "3      Coffee Cloud  Capitol Hill         4.2       Latte                 8   \n",
       "4      Coffee Cloud  Capitol Hill         4.2       Latte                 8   \n",
       "5        Bean Dream    Green Lake         5.0  Cappuccino                 6   \n",
       "6  Espresso Express       Ballard         4.8   Americano                 7   \n",
       "\n",
       "  Coffee_Varieties  \n",
       "0          Arabica  \n",
       "1          Robusta  \n",
       "2           Typica  \n",
       "3          Bourbon  \n",
       "4           Geisha  \n",
       "5         Hawaiian  \n",
       "6          Sumatra  "
      ]
     },
     "metadata": {},
     "output_type": "display_data"
    }
   ],
   "source": [
    "temp.explode('Coffee_Varieties', ignore_index=True)"
   ]
  },
  {
   "cell_type": "code",
   "execution_count": null,
   "metadata": {},
   "outputs": [
    {
     "data": {
      "text/html": [
       "<div>\n",
       "<style scoped>\n",
       "    .dataframe tbody tr th:only-of-type {\n",
       "        vertical-align: middle;\n",
       "    }\n",
       "\n",
       "    .dataframe tbody tr th {\n",
       "        vertical-align: top;\n",
       "    }\n",
       "\n",
       "    .dataframe thead th {\n",
       "        text-align: right;\n",
       "    }\n",
       "</style>\n",
       "<table border=\"1\" class=\"dataframe\">\n",
       "  <thead>\n",
       "    <tr style=\"text-align: right;\">\n",
       "      <th></th>\n",
       "      <th>A</th>\n",
       "      <th>B</th>\n",
       "    </tr>\n",
       "  </thead>\n",
       "  <tbody>\n",
       "    <tr>\n",
       "      <th>0</th>\n",
       "      <td>[1, 2, 3]</td>\n",
       "      <td>bar</td>\n",
       "    </tr>\n",
       "    <tr>\n",
       "      <th>1</th>\n",
       "      <td>foo</td>\n",
       "      <td>text</td>\n",
       "    </tr>\n",
       "    <tr>\n",
       "      <th>2</th>\n",
       "      <td>1</td>\n",
       "      <td>str</td>\n",
       "    </tr>\n",
       "    <tr>\n",
       "      <th>3</th>\n",
       "      <td>3</td>\n",
       "      <td>night</td>\n",
       "    </tr>\n",
       "  </tbody>\n",
       "</table>\n",
       "</div>"
      ],
      "text/plain": [
       "           A      B\n",
       "0  [1, 2, 3]    bar\n",
       "1        foo   text\n",
       "2          1    str\n",
       "3          3  night"
      ]
     },
     "metadata": {},
     "output_type": "display_data"
    }
   ],
   "source": [
    "data = {'A' : [[1,2,3], \"foo\", 1, 3],\n",
    "        'B' : ['bar', 'text', 'str', 'night']}\n",
    "df = pd.DataFrame(data)\n",
    "df"
   ]
  },
  {
   "cell_type": "code",
   "execution_count": null,
   "metadata": {},
   "outputs": [
    {
     "data": {
      "text/html": [
       "<div>\n",
       "<style scoped>\n",
       "    .dataframe tbody tr th:only-of-type {\n",
       "        vertical-align: middle;\n",
       "    }\n",
       "\n",
       "    .dataframe tbody tr th {\n",
       "        vertical-align: top;\n",
       "    }\n",
       "\n",
       "    .dataframe thead th {\n",
       "        text-align: right;\n",
       "    }\n",
       "</style>\n",
       "<table border=\"1\" class=\"dataframe\">\n",
       "  <thead>\n",
       "    <tr style=\"text-align: right;\">\n",
       "      <th></th>\n",
       "      <th>A</th>\n",
       "      <th>B</th>\n",
       "    </tr>\n",
       "  </thead>\n",
       "  <tbody>\n",
       "    <tr>\n",
       "      <th>0</th>\n",
       "      <td>1</td>\n",
       "      <td>bar</td>\n",
       "    </tr>\n",
       "    <tr>\n",
       "      <th>0</th>\n",
       "      <td>2</td>\n",
       "      <td>bar</td>\n",
       "    </tr>\n",
       "    <tr>\n",
       "      <th>0</th>\n",
       "      <td>3</td>\n",
       "      <td>bar</td>\n",
       "    </tr>\n",
       "    <tr>\n",
       "      <th>1</th>\n",
       "      <td>foo</td>\n",
       "      <td>text</td>\n",
       "    </tr>\n",
       "    <tr>\n",
       "      <th>2</th>\n",
       "      <td>1</td>\n",
       "      <td>str</td>\n",
       "    </tr>\n",
       "    <tr>\n",
       "      <th>3</th>\n",
       "      <td>3</td>\n",
       "      <td>night</td>\n",
       "    </tr>\n",
       "  </tbody>\n",
       "</table>\n",
       "</div>"
      ],
      "text/plain": [
       "     A      B\n",
       "0    1    bar\n",
       "0    2    bar\n",
       "0    3    bar\n",
       "1  foo   text\n",
       "2    1    str\n",
       "3    3  night"
      ]
     },
     "metadata": {},
     "output_type": "display_data"
    }
   ],
   "source": [
    "df.explode('A')"
   ]
  },
  {
   "cell_type": "code",
   "execution_count": null,
   "metadata": {},
   "outputs": [
    {
     "data": {
      "text/html": [
       "<div>\n",
       "<style scoped>\n",
       "    .dataframe tbody tr th:only-of-type {\n",
       "        vertical-align: middle;\n",
       "    }\n",
       "\n",
       "    .dataframe tbody tr th {\n",
       "        vertical-align: top;\n",
       "    }\n",
       "\n",
       "    .dataframe thead th {\n",
       "        text-align: right;\n",
       "    }\n",
       "</style>\n",
       "<table border=\"1\" class=\"dataframe\">\n",
       "  <thead>\n",
       "    <tr style=\"text-align: right;\">\n",
       "      <th></th>\n",
       "      <th>A</th>\n",
       "      <th>B</th>\n",
       "      <th>C</th>\n",
       "    </tr>\n",
       "  </thead>\n",
       "  <tbody>\n",
       "    <tr>\n",
       "      <th>0</th>\n",
       "      <td>a</td>\n",
       "      <td>1</td>\n",
       "      <td>2</td>\n",
       "    </tr>\n",
       "    <tr>\n",
       "      <th>1</th>\n",
       "      <td>b</td>\n",
       "      <td>3</td>\n",
       "      <td>4</td>\n",
       "    </tr>\n",
       "    <tr>\n",
       "      <th>2</th>\n",
       "      <td>c</td>\n",
       "      <td>5</td>\n",
       "      <td>6</td>\n",
       "    </tr>\n",
       "  </tbody>\n",
       "</table>\n",
       "</div>"
      ],
      "text/plain": [
       "   A  B  C\n",
       "0  a  1  2\n",
       "1  b  3  4\n",
       "2  c  5  6"
      ]
     },
     "metadata": {},
     "output_type": "display_data"
    }
   ],
   "source": [
    "data = {'A' : ['a', 'b', 'c'],\n",
    "        'B' : [1 ,3, 5],\n",
    "        'C' : [2, 4, 6]}\n",
    "df= pd.DataFrame(data)\n",
    "df"
   ]
  },
  {
   "cell_type": "code",
   "execution_count": null,
   "metadata": {},
   "outputs": [
    {
     "data": {
      "text/html": [
       "<div>\n",
       "<style scoped>\n",
       "    .dataframe tbody tr th:only-of-type {\n",
       "        vertical-align: middle;\n",
       "    }\n",
       "\n",
       "    .dataframe tbody tr th {\n",
       "        vertical-align: top;\n",
       "    }\n",
       "\n",
       "    .dataframe thead th {\n",
       "        text-align: right;\n",
       "    }\n",
       "</style>\n",
       "<table border=\"1\" class=\"dataframe\">\n",
       "  <thead>\n",
       "    <tr style=\"text-align: right;\">\n",
       "      <th></th>\n",
       "      <th>A</th>\n",
       "      <th>variable</th>\n",
       "      <th>value</th>\n",
       "    </tr>\n",
       "  </thead>\n",
       "  <tbody>\n",
       "    <tr>\n",
       "      <th>0</th>\n",
       "      <td>a</td>\n",
       "      <td>B</td>\n",
       "      <td>1</td>\n",
       "    </tr>\n",
       "    <tr>\n",
       "      <th>1</th>\n",
       "      <td>b</td>\n",
       "      <td>B</td>\n",
       "      <td>3</td>\n",
       "    </tr>\n",
       "    <tr>\n",
       "      <th>2</th>\n",
       "      <td>c</td>\n",
       "      <td>B</td>\n",
       "      <td>5</td>\n",
       "    </tr>\n",
       "    <tr>\n",
       "      <th>3</th>\n",
       "      <td>a</td>\n",
       "      <td>C</td>\n",
       "      <td>2</td>\n",
       "    </tr>\n",
       "    <tr>\n",
       "      <th>4</th>\n",
       "      <td>b</td>\n",
       "      <td>C</td>\n",
       "      <td>4</td>\n",
       "    </tr>\n",
       "    <tr>\n",
       "      <th>5</th>\n",
       "      <td>c</td>\n",
       "      <td>C</td>\n",
       "      <td>6</td>\n",
       "    </tr>\n",
       "  </tbody>\n",
       "</table>\n",
       "</div>"
      ],
      "text/plain": [
       "   A variable  value\n",
       "0  a        B      1\n",
       "1  b        B      3\n",
       "2  c        B      5\n",
       "3  a        C      2\n",
       "4  b        C      4\n",
       "5  c        C      6"
      ]
     },
     "metadata": {},
     "output_type": "display_data"
    }
   ],
   "source": [
    "df.melt(id_vars=['A'], value_vars=['B', 'C'])"
   ]
  },
  {
   "cell_type": "code",
   "execution_count": null,
   "metadata": {},
   "outputs": [
    {
     "data": {
      "text/html": [
       "<div>\n",
       "<style scoped>\n",
       "    .dataframe tbody tr th:only-of-type {\n",
       "        vertical-align: middle;\n",
       "    }\n",
       "\n",
       "    .dataframe tbody tr th {\n",
       "        vertical-align: top;\n",
       "    }\n",
       "\n",
       "    .dataframe thead th {\n",
       "        text-align: right;\n",
       "    }\n",
       "</style>\n",
       "<table border=\"1\" class=\"dataframe\">\n",
       "  <thead>\n",
       "    <tr style=\"text-align: right;\">\n",
       "      <th></th>\n",
       "      <th>A</th>\n",
       "      <th>B</th>\n",
       "      <th>C</th>\n",
       "    </tr>\n",
       "  </thead>\n",
       "  <tbody>\n",
       "    <tr>\n",
       "      <th>0</th>\n",
       "      <td>a</td>\n",
       "      <td>1</td>\n",
       "      <td>2</td>\n",
       "    </tr>\n",
       "    <tr>\n",
       "      <th>1</th>\n",
       "      <td>b</td>\n",
       "      <td>3</td>\n",
       "      <td>4</td>\n",
       "    </tr>\n",
       "    <tr>\n",
       "      <th>2</th>\n",
       "      <td>c</td>\n",
       "      <td>5</td>\n",
       "      <td>6</td>\n",
       "    </tr>\n",
       "  </tbody>\n",
       "</table>\n",
       "</div>"
      ],
      "text/plain": [
       "   A  B  C\n",
       "0  a  1  2\n",
       "1  b  3  4\n",
       "2  c  5  6"
      ]
     },
     "metadata": {},
     "output_type": "display_data"
    }
   ],
   "source": [
    "df.explode('A')"
   ]
  },
  {
   "cell_type": "code",
   "execution_count": null,
   "metadata": {},
   "outputs": [],
   "source": []
  },
  {
   "cell_type": "markdown",
   "metadata": {},
   "source": [
    "This was taken from: 'pandas-group-z2.ipynb [Link](https://github.com/pradeepsf729/pandas_101/blob/72fc5d6b72e01a50126876d229d66fd95869e81f/pandas-groupby-z2.ipynb)'"
   ]
  },
  {
   "cell_type": "code",
   "execution_count": null,
   "metadata": {},
   "outputs": [],
   "source": [
    "import pandas as pd"
   ]
  },
  {
   "cell_type": "code",
   "execution_count": null,
   "metadata": {},
   "outputs": [],
   "source": [
    "data = {\n",
    "'Shop_Name': ['Starbucks', 'Blue Bottle', 'Dunkin', 'Peets', 'Starbucks', 'La Colombe', 'Blue Bottle', 'Peets', 'Starbucks', 'Dunkin'],\n",
    "'Location': ['Hollywood', 'San Diego', 'San Diego', 'Hollywood', 'New York', 'New York', 'Hollywood', 'San Diego', 'New York', 'Hollywood'],\n",
    "'Rating': [4.5, 4.7, 4.1, 4.3, 4.5, 4.8, 4.6, 4.2, 4.4, 3.9],\n",
    "'Type': ['Chain', 'Independent', 'Chain', 'Chain', 'Chain', 'Independent', 'Independent', 'Chain', 'Chain', 'Chain']\n",
    "}"
   ]
  },
  {
   "cell_type": "code",
   "execution_count": null,
   "metadata": {},
   "outputs": [],
   "source": [
    "df = pd.DataFrame(data)"
   ]
  },
  {
   "cell_type": "code",
   "execution_count": null,
   "metadata": {},
   "outputs": [
    {
     "data": {
      "text/html": [
       "<div>\n",
       "<style scoped>\n",
       "    .dataframe tbody tr th:only-of-type {\n",
       "        vertical-align: middle;\n",
       "    }\n",
       "\n",
       "    .dataframe tbody tr th {\n",
       "        vertical-align: top;\n",
       "    }\n",
       "\n",
       "    .dataframe thead th {\n",
       "        text-align: right;\n",
       "    }\n",
       "</style>\n",
       "<table border=\"1\" class=\"dataframe\">\n",
       "  <thead>\n",
       "    <tr style=\"text-align: right;\">\n",
       "      <th></th>\n",
       "      <th>Shop_Name</th>\n",
       "      <th>Location</th>\n",
       "      <th>Rating</th>\n",
       "      <th>Type</th>\n",
       "    </tr>\n",
       "  </thead>\n",
       "  <tbody>\n",
       "    <tr>\n",
       "      <th>0</th>\n",
       "      <td>Starbucks</td>\n",
       "      <td>Hollywood</td>\n",
       "      <td>4.5</td>\n",
       "      <td>Chain</td>\n",
       "    </tr>\n",
       "    <tr>\n",
       "      <th>1</th>\n",
       "      <td>Blue Bottle</td>\n",
       "      <td>San Diego</td>\n",
       "      <td>4.7</td>\n",
       "      <td>Independent</td>\n",
       "    </tr>\n",
       "    <tr>\n",
       "      <th>2</th>\n",
       "      <td>Dunkin</td>\n",
       "      <td>San Diego</td>\n",
       "      <td>4.1</td>\n",
       "      <td>Chain</td>\n",
       "    </tr>\n",
       "    <tr>\n",
       "      <th>3</th>\n",
       "      <td>Peets</td>\n",
       "      <td>Hollywood</td>\n",
       "      <td>4.3</td>\n",
       "      <td>Chain</td>\n",
       "    </tr>\n",
       "    <tr>\n",
       "      <th>4</th>\n",
       "      <td>Starbucks</td>\n",
       "      <td>New York</td>\n",
       "      <td>4.5</td>\n",
       "      <td>Chain</td>\n",
       "    </tr>\n",
       "    <tr>\n",
       "      <th>5</th>\n",
       "      <td>La Colombe</td>\n",
       "      <td>New York</td>\n",
       "      <td>4.8</td>\n",
       "      <td>Independent</td>\n",
       "    </tr>\n",
       "    <tr>\n",
       "      <th>6</th>\n",
       "      <td>Blue Bottle</td>\n",
       "      <td>Hollywood</td>\n",
       "      <td>4.6</td>\n",
       "      <td>Independent</td>\n",
       "    </tr>\n",
       "    <tr>\n",
       "      <th>7</th>\n",
       "      <td>Peets</td>\n",
       "      <td>San Diego</td>\n",
       "      <td>4.2</td>\n",
       "      <td>Chain</td>\n",
       "    </tr>\n",
       "    <tr>\n",
       "      <th>8</th>\n",
       "      <td>Starbucks</td>\n",
       "      <td>New York</td>\n",
       "      <td>4.4</td>\n",
       "      <td>Chain</td>\n",
       "    </tr>\n",
       "    <tr>\n",
       "      <th>9</th>\n",
       "      <td>Dunkin</td>\n",
       "      <td>Hollywood</td>\n",
       "      <td>3.9</td>\n",
       "      <td>Chain</td>\n",
       "    </tr>\n",
       "  </tbody>\n",
       "</table>\n",
       "</div>"
      ],
      "text/plain": [
       "     Shop_Name   Location  Rating         Type\n",
       "0    Starbucks  Hollywood     4.5        Chain\n",
       "1  Blue Bottle  San Diego     4.7  Independent\n",
       "2       Dunkin  San Diego     4.1        Chain\n",
       "3        Peets  Hollywood     4.3        Chain\n",
       "4    Starbucks   New York     4.5        Chain\n",
       "5   La Colombe   New York     4.8  Independent\n",
       "6  Blue Bottle  Hollywood     4.6  Independent\n",
       "7        Peets  San Diego     4.2        Chain\n",
       "8    Starbucks   New York     4.4        Chain\n",
       "9       Dunkin  Hollywood     3.9        Chain"
      ]
     },
     "metadata": {},
     "output_type": "display_data"
    }
   ],
   "source": [
    "df"
   ]
  },
  {
   "cell_type": "markdown",
   "metadata": {},
   "source": [
    "#### 1) Group by the Location column and calculate the mean of the Rating for each location. Which location has the highest average rating?"
   ]
  },
  {
   "cell_type": "code",
   "execution_count": null,
   "metadata": {},
   "outputs": [
    {
     "data": {
      "text/html": [
       "<div>\n",
       "<style scoped>\n",
       "    .dataframe tbody tr th:only-of-type {\n",
       "        vertical-align: middle;\n",
       "    }\n",
       "\n",
       "    .dataframe tbody tr th {\n",
       "        vertical-align: top;\n",
       "    }\n",
       "\n",
       "    .dataframe thead th {\n",
       "        text-align: right;\n",
       "    }\n",
       "</style>\n",
       "<table border=\"1\" class=\"dataframe\">\n",
       "  <thead>\n",
       "    <tr style=\"text-align: right;\">\n",
       "      <th></th>\n",
       "      <th>Rating</th>\n",
       "    </tr>\n",
       "    <tr>\n",
       "      <th>Location</th>\n",
       "      <th></th>\n",
       "    </tr>\n",
       "  </thead>\n",
       "  <tbody>\n",
       "    <tr>\n",
       "      <th>Hollywood</th>\n",
       "      <td>4.325000</td>\n",
       "    </tr>\n",
       "    <tr>\n",
       "      <th>New York</th>\n",
       "      <td>4.566667</td>\n",
       "    </tr>\n",
       "    <tr>\n",
       "      <th>San Diego</th>\n",
       "      <td>4.333333</td>\n",
       "    </tr>\n",
       "  </tbody>\n",
       "</table>\n",
       "</div>"
      ],
      "text/plain": [
       "             Rating\n",
       "Location           \n",
       "Hollywood  4.325000\n",
       "New York   4.566667\n",
       "San Diego  4.333333"
      ]
     },
     "metadata": {},
     "output_type": "display_data"
    }
   ],
   "source": [
    "rt_mn = df.groupby('Location').agg({'Rating':'mean'})\n",
    "rt_mn"
   ]
  },
  {
   "cell_type": "code",
   "execution_count": null,
   "metadata": {},
   "outputs": [
    {
     "data": {
      "text/plain": [
       "Rating    4.566667\n",
       "Name: New York, dtype: float64"
      ]
     },
     "metadata": {},
     "output_type": "display_data"
    }
   ],
   "source": [
    "rt_mn.sort_values('Rating', ascending=False).iloc[0]"
   ]
  },
  {
   "cell_type": "markdown",
   "metadata": {},
   "source": [
    "#### 2) Group by the Type column and calculate the total count of each type. Which type of coffee shop is most prevalent?"
   ]
  },
  {
   "cell_type": "code",
   "execution_count": null,
   "metadata": {},
   "outputs": [
    {
     "data": {
      "text/html": [
       "<div>\n",
       "<style scoped>\n",
       "    .dataframe tbody tr th:only-of-type {\n",
       "        vertical-align: middle;\n",
       "    }\n",
       "\n",
       "    .dataframe tbody tr th {\n",
       "        vertical-align: top;\n",
       "    }\n",
       "\n",
       "    .dataframe thead th {\n",
       "        text-align: right;\n",
       "    }\n",
       "</style>\n",
       "<table border=\"1\" class=\"dataframe\">\n",
       "  <thead>\n",
       "    <tr style=\"text-align: right;\">\n",
       "      <th></th>\n",
       "      <th>Shop_Name</th>\n",
       "    </tr>\n",
       "    <tr>\n",
       "      <th>Type</th>\n",
       "      <th></th>\n",
       "    </tr>\n",
       "  </thead>\n",
       "  <tbody>\n",
       "    <tr>\n",
       "      <th>Chain</th>\n",
       "      <td>7</td>\n",
       "    </tr>\n",
       "    <tr>\n",
       "      <th>Independent</th>\n",
       "      <td>3</td>\n",
       "    </tr>\n",
       "  </tbody>\n",
       "</table>\n",
       "</div>"
      ],
      "text/plain": [
       "             Shop_Name\n",
       "Type                  \n",
       "Chain                7\n",
       "Independent          3"
      ]
     },
     "metadata": {},
     "output_type": "display_data"
    }
   ],
   "source": [
    "df.groupby('Type').agg({'Shop_Name':'count'})"
   ]
  },
  {
   "cell_type": "code",
   "execution_count": null,
   "metadata": {},
   "outputs": [
    {
     "data": {
      "text/plain": [
       "Shop_Name    7\n",
       "Name: Chain, dtype: int64"
      ]
     },
     "metadata": {},
     "output_type": "display_data"
    }
   ],
   "source": [
    "df.groupby('Type').agg({'Shop_Name':'count'}).sort_values('Shop_Name').iloc[-1]"
   ]
  },
  {
   "cell_type": "markdown",
   "metadata": {},
   "source": [
    "#### 3) Group the data by both Location and Type. What's the maximum rating a 'Chain' coffee shop received in 'Hollywood'?"
   ]
  },
  {
   "cell_type": "code",
   "execution_count": null,
   "metadata": {},
   "outputs": [],
   "source": [
    "ratings_loc_type = df.groupby(['Location', 'Type']).agg({'Rating':'max'})"
   ]
  },
  {
   "cell_type": "code",
   "execution_count": null,
   "metadata": {},
   "outputs": [
    {
     "data": {
      "text/html": [
       "<div>\n",
       "<style scoped>\n",
       "    .dataframe tbody tr th:only-of-type {\n",
       "        vertical-align: middle;\n",
       "    }\n",
       "\n",
       "    .dataframe tbody tr th {\n",
       "        vertical-align: top;\n",
       "    }\n",
       "\n",
       "    .dataframe thead th {\n",
       "        text-align: right;\n",
       "    }\n",
       "</style>\n",
       "<table border=\"1\" class=\"dataframe\">\n",
       "  <thead>\n",
       "    <tr style=\"text-align: right;\">\n",
       "      <th></th>\n",
       "      <th></th>\n",
       "      <th>Rating</th>\n",
       "    </tr>\n",
       "    <tr>\n",
       "      <th>Location</th>\n",
       "      <th>Type</th>\n",
       "      <th></th>\n",
       "    </tr>\n",
       "  </thead>\n",
       "  <tbody>\n",
       "    <tr>\n",
       "      <th rowspan=\"2\" valign=\"top\">Hollywood</th>\n",
       "      <th>Chain</th>\n",
       "      <td>4.5</td>\n",
       "    </tr>\n",
       "    <tr>\n",
       "      <th>Independent</th>\n",
       "      <td>4.6</td>\n",
       "    </tr>\n",
       "    <tr>\n",
       "      <th rowspan=\"2\" valign=\"top\">New York</th>\n",
       "      <th>Chain</th>\n",
       "      <td>4.5</td>\n",
       "    </tr>\n",
       "    <tr>\n",
       "      <th>Independent</th>\n",
       "      <td>4.8</td>\n",
       "    </tr>\n",
       "    <tr>\n",
       "      <th rowspan=\"2\" valign=\"top\">San Diego</th>\n",
       "      <th>Chain</th>\n",
       "      <td>4.2</td>\n",
       "    </tr>\n",
       "    <tr>\n",
       "      <th>Independent</th>\n",
       "      <td>4.7</td>\n",
       "    </tr>\n",
       "  </tbody>\n",
       "</table>\n",
       "</div>"
      ],
      "text/plain": [
       "                       Rating\n",
       "Location  Type               \n",
       "Hollywood Chain           4.5\n",
       "          Independent     4.6\n",
       "New York  Chain           4.5\n",
       "          Independent     4.8\n",
       "San Diego Chain           4.2\n",
       "          Independent     4.7"
      ]
     },
     "metadata": {},
     "output_type": "display_data"
    }
   ],
   "source": [
    "ratings_loc_type"
   ]
  },
  {
   "cell_type": "code",
   "execution_count": null,
   "metadata": {},
   "outputs": [
    {
     "data": {
      "text/plain": [
       "Rating    4.8\n",
       "Name: (New York, Independent), dtype: float64"
      ]
     },
     "metadata": {},
     "output_type": "display_data"
    }
   ],
   "source": [
    "ratings_loc_type.sort_values('Rating', ascending=False).iloc[0]"
   ]
  },
  {
   "cell_type": "markdown",
   "metadata": {},
   "source": [
    "#### 4) By grouping based on the Shop_Name column, can you calculate the range (max-min) of Rating each shop received?"
   ]
  },
  {
   "cell_type": "code",
   "execution_count": null,
   "metadata": {},
   "outputs": [
    {
     "data": {
      "text/html": [
       "<div>\n",
       "<style scoped>\n",
       "    .dataframe tbody tr th:only-of-type {\n",
       "        vertical-align: middle;\n",
       "    }\n",
       "\n",
       "    .dataframe tbody tr th {\n",
       "        vertical-align: top;\n",
       "    }\n",
       "\n",
       "    .dataframe thead th {\n",
       "        text-align: right;\n",
       "    }\n",
       "</style>\n",
       "<table border=\"1\" class=\"dataframe\">\n",
       "  <thead>\n",
       "    <tr style=\"text-align: right;\">\n",
       "      <th></th>\n",
       "      <th>Shop_Name</th>\n",
       "      <th>Rating</th>\n",
       "    </tr>\n",
       "  </thead>\n",
       "  <tbody>\n",
       "    <tr>\n",
       "      <th>1</th>\n",
       "      <td>Blue Bottle</td>\n",
       "      <td>4.7</td>\n",
       "    </tr>\n",
       "    <tr>\n",
       "      <th>6</th>\n",
       "      <td>Blue Bottle</td>\n",
       "      <td>4.6</td>\n",
       "    </tr>\n",
       "    <tr>\n",
       "      <th>2</th>\n",
       "      <td>Dunkin</td>\n",
       "      <td>4.1</td>\n",
       "    </tr>\n",
       "    <tr>\n",
       "      <th>9</th>\n",
       "      <td>Dunkin</td>\n",
       "      <td>3.9</td>\n",
       "    </tr>\n",
       "    <tr>\n",
       "      <th>5</th>\n",
       "      <td>La Colombe</td>\n",
       "      <td>4.8</td>\n",
       "    </tr>\n",
       "    <tr>\n",
       "      <th>3</th>\n",
       "      <td>Peets</td>\n",
       "      <td>4.3</td>\n",
       "    </tr>\n",
       "    <tr>\n",
       "      <th>7</th>\n",
       "      <td>Peets</td>\n",
       "      <td>4.2</td>\n",
       "    </tr>\n",
       "    <tr>\n",
       "      <th>0</th>\n",
       "      <td>Starbucks</td>\n",
       "      <td>4.5</td>\n",
       "    </tr>\n",
       "    <tr>\n",
       "      <th>4</th>\n",
       "      <td>Starbucks</td>\n",
       "      <td>4.5</td>\n",
       "    </tr>\n",
       "    <tr>\n",
       "      <th>8</th>\n",
       "      <td>Starbucks</td>\n",
       "      <td>4.4</td>\n",
       "    </tr>\n",
       "  </tbody>\n",
       "</table>\n",
       "</div>"
      ],
      "text/plain": [
       "     Shop_Name  Rating\n",
       "1  Blue Bottle     4.7\n",
       "6  Blue Bottle     4.6\n",
       "2       Dunkin     4.1\n",
       "9       Dunkin     3.9\n",
       "5   La Colombe     4.8\n",
       "3        Peets     4.3\n",
       "7        Peets     4.2\n",
       "0    Starbucks     4.5\n",
       "4    Starbucks     4.5\n",
       "8    Starbucks     4.4"
      ]
     },
     "metadata": {},
     "output_type": "display_data"
    }
   ],
   "source": [
    "df.loc[:, ['Shop_Name', 'Rating']].sort_values('Shop_Name')"
   ]
  },
  {
   "cell_type": "code",
   "execution_count": null,
   "metadata": {},
   "outputs": [
    {
     "data": {
      "text/html": [
       "<div>\n",
       "<style scoped>\n",
       "    .dataframe tbody tr th:only-of-type {\n",
       "        vertical-align: middle;\n",
       "    }\n",
       "\n",
       "    .dataframe tbody tr th {\n",
       "        vertical-align: top;\n",
       "    }\n",
       "\n",
       "    .dataframe thead th {\n",
       "        text-align: right;\n",
       "    }\n",
       "</style>\n",
       "<table border=\"1\" class=\"dataframe\">\n",
       "  <thead>\n",
       "    <tr style=\"text-align: right;\">\n",
       "      <th></th>\n",
       "      <th>Rating</th>\n",
       "    </tr>\n",
       "    <tr>\n",
       "      <th>Shop_Name</th>\n",
       "      <th></th>\n",
       "    </tr>\n",
       "  </thead>\n",
       "  <tbody>\n",
       "    <tr>\n",
       "      <th>Blue Bottle</th>\n",
       "      <td>0.1</td>\n",
       "    </tr>\n",
       "    <tr>\n",
       "      <th>Dunkin</th>\n",
       "      <td>0.2</td>\n",
       "    </tr>\n",
       "    <tr>\n",
       "      <th>La Colombe</th>\n",
       "      <td>0.0</td>\n",
       "    </tr>\n",
       "    <tr>\n",
       "      <th>Peets</th>\n",
       "      <td>0.1</td>\n",
       "    </tr>\n",
       "    <tr>\n",
       "      <th>Starbucks</th>\n",
       "      <td>0.1</td>\n",
       "    </tr>\n",
       "  </tbody>\n",
       "</table>\n",
       "</div>"
      ],
      "text/plain": [
       "             Rating\n",
       "Shop_Name          \n",
       "Blue Bottle     0.1\n",
       "Dunkin          0.2\n",
       "La Colombe      0.0\n",
       "Peets           0.1\n",
       "Starbucks       0.1"
      ]
     },
     "metadata": {},
     "output_type": "display_data"
    }
   ],
   "source": [
    "df.groupby('Shop_Name').agg({'Rating': lambda x : x.astype(float).max() - x.astype(float).min()})"
   ]
  },
  {
   "cell_type": "markdown",
   "metadata": {},
   "source": [
    "#### 5) Group by the Location and find the shop with the highest rating in each location."
   ]
  },
  {
   "cell_type": "code",
   "execution_count": null,
   "metadata": {},
   "outputs": [
    {
     "data": {
      "text/plain": [
       "Location\n",
       "Hollywood    Starbucks\n",
       "New York     Starbucks\n",
       "San Diego        Peets\n",
       "Name: Shop_Name, dtype: object"
      ]
     },
     "metadata": {},
     "output_type": "display_data"
    }
   ],
   "source": [
    "df.groupby('Location').max().loc[:, 'Shop_Name']"
   ]
  },
  {
   "cell_type": "markdown",
   "metadata": {},
   "source": [
    "#### 6) Calculate the median rating for each Shop_Name by grouping based on the shop name. Which shop has the median rating of 4.5?"
   ]
  },
  {
   "cell_type": "code",
   "execution_count": null,
   "metadata": {},
   "outputs": [],
   "source": [
    "med_ratings = df.groupby('Shop_Name').agg({'Rating':'median'})"
   ]
  },
  {
   "cell_type": "code",
   "execution_count": null,
   "metadata": {},
   "outputs": [
    {
     "data": {
      "text/html": [
       "<div>\n",
       "<style scoped>\n",
       "    .dataframe tbody tr th:only-of-type {\n",
       "        vertical-align: middle;\n",
       "    }\n",
       "\n",
       "    .dataframe tbody tr th {\n",
       "        vertical-align: top;\n",
       "    }\n",
       "\n",
       "    .dataframe thead th {\n",
       "        text-align: right;\n",
       "    }\n",
       "</style>\n",
       "<table border=\"1\" class=\"dataframe\">\n",
       "  <thead>\n",
       "    <tr style=\"text-align: right;\">\n",
       "      <th></th>\n",
       "      <th>Rating</th>\n",
       "    </tr>\n",
       "    <tr>\n",
       "      <th>Shop_Name</th>\n",
       "      <th></th>\n",
       "    </tr>\n",
       "  </thead>\n",
       "  <tbody>\n",
       "    <tr>\n",
       "      <th>Blue Bottle</th>\n",
       "      <td>4.65</td>\n",
       "    </tr>\n",
       "    <tr>\n",
       "      <th>Dunkin</th>\n",
       "      <td>4.00</td>\n",
       "    </tr>\n",
       "    <tr>\n",
       "      <th>La Colombe</th>\n",
       "      <td>4.80</td>\n",
       "    </tr>\n",
       "    <tr>\n",
       "      <th>Peets</th>\n",
       "      <td>4.25</td>\n",
       "    </tr>\n",
       "    <tr>\n",
       "      <th>Starbucks</th>\n",
       "      <td>4.50</td>\n",
       "    </tr>\n",
       "  </tbody>\n",
       "</table>\n",
       "</div>"
      ],
      "text/plain": [
       "             Rating\n",
       "Shop_Name          \n",
       "Blue Bottle    4.65\n",
       "Dunkin         4.00\n",
       "La Colombe     4.80\n",
       "Peets          4.25\n",
       "Starbucks      4.50"
      ]
     },
     "metadata": {},
     "output_type": "display_data"
    }
   ],
   "source": [
    "med_ratings"
   ]
  },
  {
   "cell_type": "code",
   "execution_count": null,
   "metadata": {},
   "outputs": [
    {
     "data": {
      "text/html": [
       "<div>\n",
       "<style scoped>\n",
       "    .dataframe tbody tr th:only-of-type {\n",
       "        vertical-align: middle;\n",
       "    }\n",
       "\n",
       "    .dataframe tbody tr th {\n",
       "        vertical-align: top;\n",
       "    }\n",
       "\n",
       "    .dataframe thead th {\n",
       "        text-align: right;\n",
       "    }\n",
       "</style>\n",
       "<table border=\"1\" class=\"dataframe\">\n",
       "  <thead>\n",
       "    <tr style=\"text-align: right;\">\n",
       "      <th></th>\n",
       "      <th>Rating</th>\n",
       "    </tr>\n",
       "    <tr>\n",
       "      <th>Shop_Name</th>\n",
       "      <th></th>\n",
       "    </tr>\n",
       "  </thead>\n",
       "  <tbody>\n",
       "    <tr>\n",
       "      <th>Blue Bottle</th>\n",
       "      <td>4.65</td>\n",
       "    </tr>\n",
       "  </tbody>\n",
       "</table>\n",
       "</div>"
      ],
      "text/plain": [
       "             Rating\n",
       "Shop_Name          \n",
       "Blue Bottle    4.65"
      ]
     },
     "metadata": {},
     "output_type": "display_data"
    }
   ],
   "source": [
    "med_ratings[med_ratings['Rating'] == 4.65]"
   ]
  },
  {
   "cell_type": "markdown",
   "metadata": {},
   "source": [
    "#### 7) Group by Type and find the standard deviation of Rating for both 'Independent' and 'Chain' shops. Which type has a more consistent rating?"
   ]
  },
  {
   "cell_type": "code",
   "execution_count": null,
   "metadata": {},
   "outputs": [
    {
     "data": {
      "text/html": [
       "<div>\n",
       "<style scoped>\n",
       "    .dataframe tbody tr th:only-of-type {\n",
       "        vertical-align: middle;\n",
       "    }\n",
       "\n",
       "    .dataframe tbody tr th {\n",
       "        vertical-align: top;\n",
       "    }\n",
       "\n",
       "    .dataframe thead th {\n",
       "        text-align: right;\n",
       "    }\n",
       "</style>\n",
       "<table border=\"1\" class=\"dataframe\">\n",
       "  <thead>\n",
       "    <tr style=\"text-align: right;\">\n",
       "      <th></th>\n",
       "      <th>Rating</th>\n",
       "    </tr>\n",
       "    <tr>\n",
       "      <th>Type</th>\n",
       "      <th></th>\n",
       "    </tr>\n",
       "  </thead>\n",
       "  <tbody>\n",
       "    <tr>\n",
       "      <th>Chain</th>\n",
       "      <td>0.221467</td>\n",
       "    </tr>\n",
       "    <tr>\n",
       "      <th>Independent</th>\n",
       "      <td>0.100000</td>\n",
       "    </tr>\n",
       "  </tbody>\n",
       "</table>\n",
       "</div>"
      ],
      "text/plain": [
       "               Rating\n",
       "Type                 \n",
       "Chain        0.221467\n",
       "Independent  0.100000"
      ]
     },
     "metadata": {},
     "output_type": "display_data"
    }
   ],
   "source": [
    "df.groupby('Type').agg({'Rating':'std'})"
   ]
  },
  {
   "cell_type": "markdown",
   "metadata": {},
   "source": [
    "#### 8) After grouping by Location, find the total number of reviews each location received (assuming each row is a unique review)."
   ]
  },
  {
   "cell_type": "code",
   "execution_count": null,
   "metadata": {},
   "outputs": [
    {
     "data": {
      "text/plain": [
       "Location\n",
       "Hollywood    4\n",
       "New York     3\n",
       "San Diego    3\n",
       "Name: Type, dtype: int64"
      ]
     },
     "metadata": {},
     "output_type": "display_data"
    }
   ],
   "source": [
    "df.groupby('Location').count()['Type']"
   ]
  },
  {
   "cell_type": "markdown",
   "metadata": {},
   "source": [
    "#### 9) Group by both Location and Type and calculate the sum of the Rating. Which combination of location and type has the highest total rating?"
   ]
  },
  {
   "cell_type": "code",
   "execution_count": null,
   "metadata": {},
   "outputs": [
    {
     "data": {
      "text/html": [
       "<div>\n",
       "<style scoped>\n",
       "    .dataframe tbody tr th:only-of-type {\n",
       "        vertical-align: middle;\n",
       "    }\n",
       "\n",
       "    .dataframe tbody tr th {\n",
       "        vertical-align: top;\n",
       "    }\n",
       "\n",
       "    .dataframe thead th {\n",
       "        text-align: right;\n",
       "    }\n",
       "</style>\n",
       "<table border=\"1\" class=\"dataframe\">\n",
       "  <thead>\n",
       "    <tr style=\"text-align: right;\">\n",
       "      <th></th>\n",
       "      <th>Shop_Name</th>\n",
       "      <th>Location</th>\n",
       "      <th>Rating</th>\n",
       "      <th>Type</th>\n",
       "    </tr>\n",
       "  </thead>\n",
       "  <tbody>\n",
       "    <tr>\n",
       "      <th>0</th>\n",
       "      <td>Starbucks</td>\n",
       "      <td>Hollywood</td>\n",
       "      <td>4.5</td>\n",
       "      <td>Chain</td>\n",
       "    </tr>\n",
       "    <tr>\n",
       "      <th>3</th>\n",
       "      <td>Peets</td>\n",
       "      <td>Hollywood</td>\n",
       "      <td>4.3</td>\n",
       "      <td>Chain</td>\n",
       "    </tr>\n",
       "    <tr>\n",
       "      <th>9</th>\n",
       "      <td>Dunkin</td>\n",
       "      <td>Hollywood</td>\n",
       "      <td>3.9</td>\n",
       "      <td>Chain</td>\n",
       "    </tr>\n",
       "    <tr>\n",
       "      <th>6</th>\n",
       "      <td>Blue Bottle</td>\n",
       "      <td>Hollywood</td>\n",
       "      <td>4.6</td>\n",
       "      <td>Independent</td>\n",
       "    </tr>\n",
       "    <tr>\n",
       "      <th>4</th>\n",
       "      <td>Starbucks</td>\n",
       "      <td>New York</td>\n",
       "      <td>4.5</td>\n",
       "      <td>Chain</td>\n",
       "    </tr>\n",
       "    <tr>\n",
       "      <th>8</th>\n",
       "      <td>Starbucks</td>\n",
       "      <td>New York</td>\n",
       "      <td>4.4</td>\n",
       "      <td>Chain</td>\n",
       "    </tr>\n",
       "    <tr>\n",
       "      <th>5</th>\n",
       "      <td>La Colombe</td>\n",
       "      <td>New York</td>\n",
       "      <td>4.8</td>\n",
       "      <td>Independent</td>\n",
       "    </tr>\n",
       "    <tr>\n",
       "      <th>2</th>\n",
       "      <td>Dunkin</td>\n",
       "      <td>San Diego</td>\n",
       "      <td>4.1</td>\n",
       "      <td>Chain</td>\n",
       "    </tr>\n",
       "    <tr>\n",
       "      <th>7</th>\n",
       "      <td>Peets</td>\n",
       "      <td>San Diego</td>\n",
       "      <td>4.2</td>\n",
       "      <td>Chain</td>\n",
       "    </tr>\n",
       "    <tr>\n",
       "      <th>1</th>\n",
       "      <td>Blue Bottle</td>\n",
       "      <td>San Diego</td>\n",
       "      <td>4.7</td>\n",
       "      <td>Independent</td>\n",
       "    </tr>\n",
       "  </tbody>\n",
       "</table>\n",
       "</div>"
      ],
      "text/plain": [
       "     Shop_Name   Location  Rating         Type\n",
       "0    Starbucks  Hollywood     4.5        Chain\n",
       "3        Peets  Hollywood     4.3        Chain\n",
       "9       Dunkin  Hollywood     3.9        Chain\n",
       "6  Blue Bottle  Hollywood     4.6  Independent\n",
       "4    Starbucks   New York     4.5        Chain\n",
       "8    Starbucks   New York     4.4        Chain\n",
       "5   La Colombe   New York     4.8  Independent\n",
       "2       Dunkin  San Diego     4.1        Chain\n",
       "7        Peets  San Diego     4.2        Chain\n",
       "1  Blue Bottle  San Diego     4.7  Independent"
      ]
     },
     "metadata": {},
     "output_type": "display_data"
    }
   ],
   "source": [
    "df.sort_values(['Location', 'Type'])"
   ]
  },
  {
   "cell_type": "code",
   "execution_count": null,
   "metadata": {},
   "outputs": [],
   "source": [
    "sum_ratings = df.groupby(['Location', 'Type']).agg({'Rating':'sum'})"
   ]
  },
  {
   "cell_type": "code",
   "execution_count": null,
   "metadata": {},
   "outputs": [
    {
     "data": {
      "text/html": [
       "<div>\n",
       "<style scoped>\n",
       "    .dataframe tbody tr th:only-of-type {\n",
       "        vertical-align: middle;\n",
       "    }\n",
       "\n",
       "    .dataframe tbody tr th {\n",
       "        vertical-align: top;\n",
       "    }\n",
       "\n",
       "    .dataframe thead th {\n",
       "        text-align: right;\n",
       "    }\n",
       "</style>\n",
       "<table border=\"1\" class=\"dataframe\">\n",
       "  <thead>\n",
       "    <tr style=\"text-align: right;\">\n",
       "      <th></th>\n",
       "      <th></th>\n",
       "      <th>Rating</th>\n",
       "    </tr>\n",
       "    <tr>\n",
       "      <th>Location</th>\n",
       "      <th>Type</th>\n",
       "      <th></th>\n",
       "    </tr>\n",
       "  </thead>\n",
       "  <tbody>\n",
       "    <tr>\n",
       "      <th rowspan=\"2\" valign=\"top\">Hollywood</th>\n",
       "      <th>Chain</th>\n",
       "      <td>12.7</td>\n",
       "    </tr>\n",
       "    <tr>\n",
       "      <th>Independent</th>\n",
       "      <td>4.6</td>\n",
       "    </tr>\n",
       "    <tr>\n",
       "      <th rowspan=\"2\" valign=\"top\">New York</th>\n",
       "      <th>Chain</th>\n",
       "      <td>8.9</td>\n",
       "    </tr>\n",
       "    <tr>\n",
       "      <th>Independent</th>\n",
       "      <td>4.8</td>\n",
       "    </tr>\n",
       "    <tr>\n",
       "      <th rowspan=\"2\" valign=\"top\">San Diego</th>\n",
       "      <th>Chain</th>\n",
       "      <td>8.3</td>\n",
       "    </tr>\n",
       "    <tr>\n",
       "      <th>Independent</th>\n",
       "      <td>4.7</td>\n",
       "    </tr>\n",
       "  </tbody>\n",
       "</table>\n",
       "</div>"
      ],
      "text/plain": [
       "                       Rating\n",
       "Location  Type               \n",
       "Hollywood Chain          12.7\n",
       "          Independent     4.6\n",
       "New York  Chain           8.9\n",
       "          Independent     4.8\n",
       "San Diego Chain           8.3\n",
       "          Independent     4.7"
      ]
     },
     "metadata": {},
     "output_type": "display_data"
    }
   ],
   "source": [
    "sum_ratings"
   ]
  },
  {
   "cell_type": "code",
   "execution_count": null,
   "metadata": {},
   "outputs": [
    {
     "data": {
      "text/plain": [
       "Rating    (Hollywood, Chain)\n",
       "dtype: object"
      ]
     },
     "metadata": {},
     "output_type": "display_data"
    }
   ],
   "source": [
    "sum_ratings.idxmax()"
   ]
  },
  {
   "cell_type": "markdown",
   "metadata": {},
   "source": [
    "#### 10) Group by Location and find out the 25th percentile of the Rating for each location."
   ]
  },
  {
   "cell_type": "code",
   "execution_count": null,
   "metadata": {},
   "outputs": [
    {
     "data": {
      "text/plain": [
       "Location\n",
       "Hollywood    4.20\n",
       "New York     4.45\n",
       "San Diego    4.15\n",
       "Name: Rating, dtype: float64"
      ]
     },
     "metadata": {},
     "output_type": "display_data"
    }
   ],
   "source": [
    "df.groupby('Location')['Rating'].quantile(0.25)"
   ]
  },
  {
   "cell_type": "code",
   "execution_count": null,
   "metadata": {},
   "outputs": [],
   "source": []
  },
  {
   "cell_type": "markdown",
   "metadata": {},
   "source": [
    "#### This file was created by me and i used it to prefom different methods of pandas libraries.\n"
   ]
  },
  {
   "cell_type": "code",
   "execution_count": null,
   "metadata": {},
   "outputs": [],
   "source": [
    "import pandas as pd\n"
   ]
  },
  {
   "cell_type": "code",
   "execution_count": null,
   "metadata": {},
   "outputs": [],
   "source": [
    "data = {\n",
    "    'Name': ['Alice', 'Bob', 'Charlie', 'David', 'Emily'],\n",
    "    'Age': [25, 30, 22, 35, 28],\n",
    "    'City': ['New York', 'San Francisco', 'Los Angeles', 'Chicago', 'Boston'],\n",
    "    'Salary': [60000, 80000, 55000, 75000, 70000]\n",
    "}"
   ]
  },
  {
   "cell_type": "code",
   "execution_count": null,
   "metadata": {},
   "outputs": [],
   "source": [
    "\n",
    "df = pd.DataFrame(data)"
   ]
  },
  {
   "cell_type": "code",
   "execution_count": null,
   "metadata": {},
   "outputs": [
    {
     "data": {
      "text/html": [
       "<div>\n",
       "<style scoped>\n",
       "    .dataframe tbody tr th:only-of-type {\n",
       "        vertical-align: middle;\n",
       "    }\n",
       "\n",
       "    .dataframe tbody tr th {\n",
       "        vertical-align: top;\n",
       "    }\n",
       "\n",
       "    .dataframe thead th {\n",
       "        text-align: right;\n",
       "    }\n",
       "</style>\n",
       "<table border=\"1\" class=\"dataframe\">\n",
       "  <thead>\n",
       "    <tr style=\"text-align: right;\">\n",
       "      <th></th>\n",
       "      <th>Name</th>\n",
       "      <th>City</th>\n",
       "    </tr>\n",
       "  </thead>\n",
       "  <tbody>\n",
       "    <tr>\n",
       "      <th>1</th>\n",
       "      <td>Bob</td>\n",
       "      <td>San Francisco</td>\n",
       "    </tr>\n",
       "    <tr>\n",
       "      <th>3</th>\n",
       "      <td>David</td>\n",
       "      <td>Chicago</td>\n",
       "    </tr>\n",
       "    <tr>\n",
       "      <th>4</th>\n",
       "      <td>Emily</td>\n",
       "      <td>Boston</td>\n",
       "    </tr>\n",
       "  </tbody>\n",
       "</table>\n",
       "</div>"
      ],
      "text/plain": [
       "    Name           City\n",
       "1    Bob  San Francisco\n",
       "3  David        Chicago\n",
       "4  Emily         Boston"
      ]
     },
     "metadata": {},
     "output_type": "display_data"
    }
   ],
   "source": [
    "selected_data = df.loc[df['Age'] > 25, ['Name', 'City']]\n",
    "selected_data"
   ]
  },
  {
   "cell_type": "code",
   "execution_count": null,
   "metadata": {},
   "outputs": [
    {
     "data": {
      "text/html": [
       "<div>\n",
       "<style scoped>\n",
       "    .dataframe tbody tr th:only-of-type {\n",
       "        vertical-align: middle;\n",
       "    }\n",
       "\n",
       "    .dataframe tbody tr th {\n",
       "        vertical-align: top;\n",
       "    }\n",
       "\n",
       "    .dataframe thead th {\n",
       "        text-align: right;\n",
       "    }\n",
       "</style>\n",
       "<table border=\"1\" class=\"dataframe\">\n",
       "  <thead>\n",
       "    <tr style=\"text-align: right;\">\n",
       "      <th></th>\n",
       "      <th>Name</th>\n",
       "      <th>Age</th>\n",
       "      <th>City</th>\n",
       "      <th>Salary</th>\n",
       "    </tr>\n",
       "  </thead>\n",
       "  <tbody>\n",
       "    <tr>\n",
       "      <th>0</th>\n",
       "      <td>Alice</td>\n",
       "      <td>25</td>\n",
       "      <td>New York</td>\n",
       "      <td>60000</td>\n",
       "    </tr>\n",
       "    <tr>\n",
       "      <th>3</th>\n",
       "      <td>David</td>\n",
       "      <td>35</td>\n",
       "      <td>Chicago</td>\n",
       "      <td>75000</td>\n",
       "    </tr>\n",
       "  </tbody>\n",
       "</table>\n",
       "</div>"
      ],
      "text/plain": [
       "    Name  Age      City  Salary\n",
       "0  Alice   25  New York   60000\n",
       "3  David   35   Chicago   75000"
      ]
     },
     "metadata": {},
     "output_type": "display_data"
    }
   ],
   "source": [
    "\n",
    "filtered_data = df[df['City'].isin(['New York', 'Chicago'])]\n",
    "filtered_data"
   ]
  },
  {
   "cell_type": "code",
   "execution_count": null,
   "metadata": {},
   "outputs": [
    {
     "data": {
      "text/html": [
       "<div>\n",
       "<style scoped>\n",
       "    .dataframe tbody tr th:only-of-type {\n",
       "        vertical-align: middle;\n",
       "    }\n",
       "\n",
       "    .dataframe tbody tr th {\n",
       "        vertical-align: top;\n",
       "    }\n",
       "\n",
       "    .dataframe thead th {\n",
       "        text-align: right;\n",
       "    }\n",
       "</style>\n",
       "<table border=\"1\" class=\"dataframe\">\n",
       "  <thead>\n",
       "    <tr style=\"text-align: right;\">\n",
       "      <th></th>\n",
       "      <th>Name</th>\n",
       "      <th>Age</th>\n",
       "      <th>City</th>\n",
       "      <th>Salary</th>\n",
       "    </tr>\n",
       "  </thead>\n",
       "  <tbody>\n",
       "    <tr>\n",
       "      <th>0</th>\n",
       "      <td>False</td>\n",
       "      <td>False</td>\n",
       "      <td>False</td>\n",
       "      <td>False</td>\n",
       "    </tr>\n",
       "    <tr>\n",
       "      <th>1</th>\n",
       "      <td>False</td>\n",
       "      <td>False</td>\n",
       "      <td>False</td>\n",
       "      <td>False</td>\n",
       "    </tr>\n",
       "    <tr>\n",
       "      <th>2</th>\n",
       "      <td>False</td>\n",
       "      <td>False</td>\n",
       "      <td>False</td>\n",
       "      <td>False</td>\n",
       "    </tr>\n",
       "    <tr>\n",
       "      <th>3</th>\n",
       "      <td>False</td>\n",
       "      <td>False</td>\n",
       "      <td>False</td>\n",
       "      <td>False</td>\n",
       "    </tr>\n",
       "    <tr>\n",
       "      <th>4</th>\n",
       "      <td>False</td>\n",
       "      <td>False</td>\n",
       "      <td>False</td>\n",
       "      <td>False</td>\n",
       "    </tr>\n",
       "  </tbody>\n",
       "</table>\n",
       "</div>"
      ],
      "text/plain": [
       "    Name    Age   City  Salary\n",
       "0  False  False  False   False\n",
       "1  False  False  False   False\n",
       "2  False  False  False   False\n",
       "3  False  False  False   False\n",
       "4  False  False  False   False"
      ]
     },
     "metadata": {},
     "output_type": "display_data"
    }
   ],
   "source": [
    "missing_values = df.isnull()\n",
    "missing_values"
   ]
  },
  {
   "cell_type": "code",
   "execution_count": null,
   "metadata": {},
   "outputs": [
    {
     "data": {
      "text/html": [
       "<div>\n",
       "<style scoped>\n",
       "    .dataframe tbody tr th:only-of-type {\n",
       "        vertical-align: middle;\n",
       "    }\n",
       "\n",
       "    .dataframe tbody tr th {\n",
       "        vertical-align: top;\n",
       "    }\n",
       "\n",
       "    .dataframe thead th {\n",
       "        text-align: right;\n",
       "    }\n",
       "</style>\n",
       "<table border=\"1\" class=\"dataframe\">\n",
       "  <thead>\n",
       "    <tr style=\"text-align: right;\">\n",
       "      <th></th>\n",
       "      <th>Name</th>\n",
       "      <th>Age</th>\n",
       "    </tr>\n",
       "  </thead>\n",
       "  <tbody>\n",
       "    <tr>\n",
       "      <th>1</th>\n",
       "      <td>Bob</td>\n",
       "      <td>30</td>\n",
       "    </tr>\n",
       "    <tr>\n",
       "      <th>2</th>\n",
       "      <td>Charlie</td>\n",
       "      <td>22</td>\n",
       "    </tr>\n",
       "    <tr>\n",
       "      <th>3</th>\n",
       "      <td>David</td>\n",
       "      <td>35</td>\n",
       "    </tr>\n",
       "  </tbody>\n",
       "</table>\n",
       "</div>"
      ],
      "text/plain": [
       "      Name  Age\n",
       "1      Bob   30\n",
       "2  Charlie   22\n",
       "3    David   35"
      ]
     },
     "metadata": {},
     "output_type": "display_data"
    }
   ],
   "source": [
    "selected_rows = df.iloc[1:4, 0:2]\n",
    "selected_rows"
   ]
  },
  {
   "cell_type": "code",
   "execution_count": null,
   "metadata": {},
   "outputs": [],
   "source": []
  }
 ],
 "metadata": {
  "language_info": {
   "name": "python"
  }
 },
 "nbformat": 4,
 "nbformat_minor": 2
}

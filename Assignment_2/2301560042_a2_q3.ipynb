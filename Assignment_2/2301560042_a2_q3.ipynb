{
 "cells": [
  {
   "cell_type": "markdown",
   "metadata": {},
   "source": [
    "#    QUESTION 3\n",
    "####  NAME: RISHAV KUMAR\n",
    "####  ROLL NO. 2301560042\n",
    "\n",
    "MY GITHUB LINK: [click me](https://github.com/risav68111/AIML_Assignment)"
   ]
  },
  {
   "cell_type": "markdown",
   "metadata": {},
   "source": [
    "------------------------------------------------------------------------------------------------------------------------------------------------------------"
   ]
  },
  {
   "cell_type": "markdown",
   "metadata": {},
   "source": [
    "## Data Validation with Voluptuous (Schema Definitions)\n"
   ]
  },
  {
   "cell_type": "code",
   "execution_count": null,
   "metadata": {},
   "outputs": [],
   "source": [
    "import logging\n",
    "import pandas as pd\n",
    "from datetime import datetime\n",
    "from voluptuous import Schema, Required, Range, All, ALLOW_EXTRA\n",
    "from voluptuous.error import MultipleInvalid, Invalid\n"
   ]
  },
  {
   "cell_type": "code",
   "execution_count": null,
   "metadata": {},
   "outputs": [],
   "source": [
    "logger = logging.getLogger(0)\n",
    "logger.setLevel(logging.WARNING)"
   ]
  },
  {
   "cell_type": "code",
   "execution_count": null,
   "metadata": {},
   "outputs": [
    {
     "data": {
      "text/html": [
       "<div>\n",
       "<style scoped>\n",
       "    .dataframe tbody tr th:only-of-type {\n",
       "        vertical-align: middle;\n",
       "    }\n",
       "\n",
       "    .dataframe tbody tr th {\n",
       "        vertical-align: top;\n",
       "    }\n",
       "\n",
       "    .dataframe thead th {\n",
       "        text-align: right;\n",
       "    }\n",
       "</style>\n",
       "<table border=\"1\" class=\"dataframe\">\n",
       "  <thead>\n",
       "    <tr style=\"text-align: right;\">\n",
       "      <th></th>\n",
       "      <th>Unnamed: 0</th>\n",
       "      <th>timestamp</th>\n",
       "      <th>city</th>\n",
       "      <th>store_id</th>\n",
       "      <th>sale_number</th>\n",
       "      <th>sale_amount</th>\n",
       "      <th>associate</th>\n",
       "    </tr>\n",
       "  </thead>\n",
       "  <tbody>\n",
       "    <tr>\n",
       "      <th>0</th>\n",
       "      <td>0</td>\n",
       "      <td>2018-09-10 05:00:45</td>\n",
       "      <td>Williamburgh</td>\n",
       "      <td>6</td>\n",
       "      <td>1530</td>\n",
       "      <td>1167.0</td>\n",
       "      <td>Gary Lee</td>\n",
       "    </tr>\n",
       "    <tr>\n",
       "      <th>1</th>\n",
       "      <td>1</td>\n",
       "      <td>2018-09-12 10:01:27</td>\n",
       "      <td>Ibarraberg</td>\n",
       "      <td>1</td>\n",
       "      <td>2744</td>\n",
       "      <td>258.0</td>\n",
       "      <td>Daniel Davis</td>\n",
       "    </tr>\n",
       "    <tr>\n",
       "      <th>2</th>\n",
       "      <td>2</td>\n",
       "      <td>2018-09-13 12:01:48</td>\n",
       "      <td>Sarachester</td>\n",
       "      <td>2</td>\n",
       "      <td>1908</td>\n",
       "      <td>266.0</td>\n",
       "      <td>Michael Roth</td>\n",
       "    </tr>\n",
       "    <tr>\n",
       "      <th>3</th>\n",
       "      <td>3</td>\n",
       "      <td>2018-09-14 20:02:19</td>\n",
       "      <td>Caldwellbury</td>\n",
       "      <td>14</td>\n",
       "      <td>771</td>\n",
       "      <td>-108.0</td>\n",
       "      <td>Michaela Stewart</td>\n",
       "    </tr>\n",
       "    <tr>\n",
       "      <th>4</th>\n",
       "      <td>4</td>\n",
       "      <td>2018-09-16 01:03:21</td>\n",
       "      <td>Erikaland</td>\n",
       "      <td>11</td>\n",
       "      <td>1571</td>\n",
       "      <td>-372.0</td>\n",
       "      <td>Mark Taylor</td>\n",
       "    </tr>\n",
       "  </tbody>\n",
       "</table>\n",
       "</div>"
      ],
      "text/plain": [
       "   Unnamed: 0            timestamp          city  store_id  sale_number  \\\n",
       "0           0  2018-09-10 05:00:45  Williamburgh         6         1530   \n",
       "1           1  2018-09-12 10:01:27    Ibarraberg         1         2744   \n",
       "2           2  2018-09-13 12:01:48   Sarachester         2         1908   \n",
       "3           3  2018-09-14 20:02:19  Caldwellbury        14          771   \n",
       "4           4  2018-09-16 01:03:21     Erikaland        11         1571   \n",
       "\n",
       "   sale_amount         associate  \n",
       "0       1167.0          Gary Lee  \n",
       "1        258.0      Daniel Davis  \n",
       "2        266.0      Michael Roth  \n",
       "3       -108.0  Michaela Stewart  \n",
       "4       -372.0       Mark Taylor  "
      ]
     },
     "metadata": {},
     "output_type": "display_data"
    }
   ],
   "source": [
    "path =r'C:\\Users\\risha\\Documents\\KRMU\\AIML_assigment\\datasets\\sales_data.csv'\n",
    "sales = pd.read_csv(path)\n",
    "sales.head()"
   ]
  },
  {
   "cell_type": "code",
   "execution_count": null,
   "metadata": {},
   "outputs": [],
   "source": [
    "sales=sales.drop(['Unnamed: 0'], axis=1)"
   ]
  },
  {
   "cell_type": "code",
   "execution_count": null,
   "metadata": {},
   "outputs": [
    {
     "data": {
      "text/plain": [
       "timestamp       object\n",
       "city            object\n",
       "store_id         int64\n",
       "sale_number      int64\n",
       "sale_amount    float64\n",
       "associate       object\n",
       "dtype: object"
      ]
     },
     "metadata": {},
     "output_type": "display_data"
    }
   ],
   "source": [
    "sales.dtypes"
   ]
  },
  {
   "cell_type": "code",
   "execution_count": null,
   "metadata": {},
   "outputs": [
    {
     "data": {
      "text/plain": [
       "0     2018-09-10 05:00:45\n",
       "1     2018-09-12 10:01:27\n",
       "2     2018-09-13 12:01:48\n",
       "3     2018-09-14 20:02:19\n",
       "4     2018-09-16 01:03:21\n",
       "              ...        \n",
       "208   2019-09-01 06:46:44\n",
       "209   2019-09-03 12:47:26\n",
       "210   2019-09-05 18:47:30\n",
       "211   2019-09-07 23:48:08\n",
       "212   2018-09-09 04:48:48\n",
       "Name: timestamp, Length: 213, dtype: datetime64[ns]"
      ]
     },
     "metadata": {},
     "output_type": "display_data"
    }
   ],
   "source": [
    "sales['timestamp'].map(lambda x: datetime.strptime(x,'%Y-%m-%d %H:%M:%S'))"
   ]
  },
  {
   "cell_type": "markdown",
   "metadata": {},
   "source": [
    "### Data Quality Check"
   ]
  },
  {
   "cell_type": "code",
   "execution_count": null,
   "metadata": {},
   "outputs": [
    {
     "data": {
      "text/html": [
       "<div>\n",
       "<style scoped>\n",
       "    .dataframe tbody tr th:only-of-type {\n",
       "        vertical-align: middle;\n",
       "    }\n",
       "\n",
       "    .dataframe tbody tr th {\n",
       "        vertical-align: top;\n",
       "    }\n",
       "\n",
       "    .dataframe thead th {\n",
       "        text-align: right;\n",
       "    }\n",
       "</style>\n",
       "<table border=\"1\" class=\"dataframe\">\n",
       "  <thead>\n",
       "    <tr style=\"text-align: right;\">\n",
       "      <th></th>\n",
       "      <th>timestamp</th>\n",
       "      <th>city</th>\n",
       "      <th>store_id</th>\n",
       "      <th>sale_number</th>\n",
       "      <th>sale_amount</th>\n",
       "      <th>associate</th>\n",
       "    </tr>\n",
       "  </thead>\n",
       "  <tbody>\n",
       "    <tr>\n",
       "      <th>0</th>\n",
       "      <td>2018-09-10 05:00:45</td>\n",
       "      <td>Williamburgh</td>\n",
       "      <td>6</td>\n",
       "      <td>1530</td>\n",
       "      <td>1167.0</td>\n",
       "      <td>Gary Lee</td>\n",
       "    </tr>\n",
       "    <tr>\n",
       "      <th>1</th>\n",
       "      <td>2018-09-12 10:01:27</td>\n",
       "      <td>Ibarraberg</td>\n",
       "      <td>1</td>\n",
       "      <td>2744</td>\n",
       "      <td>258.0</td>\n",
       "      <td>Daniel Davis</td>\n",
       "    </tr>\n",
       "    <tr>\n",
       "      <th>2</th>\n",
       "      <td>2018-09-13 12:01:48</td>\n",
       "      <td>Sarachester</td>\n",
       "      <td>2</td>\n",
       "      <td>1908</td>\n",
       "      <td>266.0</td>\n",
       "      <td>Michael Roth</td>\n",
       "    </tr>\n",
       "    <tr>\n",
       "      <th>3</th>\n",
       "      <td>2018-09-14 20:02:19</td>\n",
       "      <td>Caldwellbury</td>\n",
       "      <td>14</td>\n",
       "      <td>771</td>\n",
       "      <td>-108.0</td>\n",
       "      <td>Michaela Stewart</td>\n",
       "    </tr>\n",
       "    <tr>\n",
       "      <th>4</th>\n",
       "      <td>2018-09-16 01:03:21</td>\n",
       "      <td>Erikaland</td>\n",
       "      <td>11</td>\n",
       "      <td>1571</td>\n",
       "      <td>-372.0</td>\n",
       "      <td>Mark Taylor</td>\n",
       "    </tr>\n",
       "  </tbody>\n",
       "</table>\n",
       "</div>"
      ],
      "text/plain": [
       "             timestamp          city  store_id  sale_number  sale_amount  \\\n",
       "0  2018-09-10 05:00:45  Williamburgh         6         1530       1167.0   \n",
       "1  2018-09-12 10:01:27    Ibarraberg         1         2744        258.0   \n",
       "2  2018-09-13 12:01:48   Sarachester         2         1908        266.0   \n",
       "3  2018-09-14 20:02:19  Caldwellbury        14          771       -108.0   \n",
       "4  2018-09-16 01:03:21     Erikaland        11         1571       -372.0   \n",
       "\n",
       "          associate  \n",
       "0          Gary Lee  \n",
       "1      Daniel Davis  \n",
       "2      Michael Roth  \n",
       "3  Michaela Stewart  \n",
       "4       Mark Taylor  "
      ]
     },
     "metadata": {},
     "output_type": "display_data"
    }
   ],
   "source": [
    "sales.head()"
   ]
  },
  {
   "cell_type": "code",
   "execution_count": null,
   "metadata": {},
   "outputs": [
    {
     "data": {
      "text/plain": [
       "timestamp       object\n",
       "city            object\n",
       "store_id         int64\n",
       "sale_number      int64\n",
       "sale_amount    float64\n",
       "associate       object\n",
       "dtype: object"
      ]
     },
     "metadata": {},
     "output_type": "display_data"
    }
   ],
   "source": [
    "sales.dtypes"
   ]
  },
  {
   "cell_type": "markdown",
   "metadata": {},
   "source": [
    "## Defining our first schema"
   ]
  },
  {
   "cell_type": "code",
   "execution_count": null,
   "metadata": {},
   "outputs": [],
   "source": [
    "schema = Schema({ Required('sale_amount'): All(float, Range(min=2.50, max=1450.99)),}, extra=ALLOW_EXTRA)"
   ]
  },
  {
   "cell_type": "code",
   "execution_count": null,
   "metadata": {},
   "outputs": [
    {
     "name": "stderr",
     "output_type": "stream",
     "text": [
      "WARNING:root:issue with sale: 3 (-108.0) - value must be at least 2.5 for dictionary value @ data['sale_amount']\n",
      "WARNING:root:issue with sale: 4 (-372.0) - value must be at least 2.5 for dictionary value @ data['sale_amount']\n",
      "WARNING:root:issue with sale: 5 (-399.0) - value must be at least 2.5 for dictionary value @ data['sale_amount']\n",
      "WARNING:root:issue with sale: 6 (-304.0) - value must be at least 2.5 for dictionary value @ data['sale_amount']\n",
      "WARNING:root:issue with sale: 7 (-295.0) - value must be at least 2.5 for dictionary value @ data['sale_amount']\n",
      "WARNING:root:issue with sale: 10 (-89.0) - value must be at least 2.5 for dictionary value @ data['sale_amount']\n",
      "WARNING:root:issue with sale: 13 (-303.0) - value must be at least 2.5 for dictionary value @ data['sale_amount']\n",
      "WARNING:root:issue with sale: 15 (-432.0) - value must be at least 2.5 for dictionary value @ data['sale_amount']\n",
      "WARNING:root:issue with sale: 19 (-177.0) - value must be at least 2.5 for dictionary value @ data['sale_amount']\n",
      "WARNING:root:issue with sale: 20 (-154.0) - value must be at least 2.5 for dictionary value @ data['sale_amount']\n",
      "WARNING:root:issue with sale: 22 (-130.0) - value must be at least 2.5 for dictionary value @ data['sale_amount']\n",
      "WARNING:root:issue with sale: 23 (1487.0) - value must be at most 1450.99 for dictionary value @ data['sale_amount']\n",
      "WARNING:root:issue with sale: 25 (-145.0) - value must be at least 2.5 for dictionary value @ data['sale_amount']\n",
      "WARNING:root:issue with sale: 28 (1471.0) - value must be at most 1450.99 for dictionary value @ data['sale_amount']\n",
      "WARNING:root:issue with sale: 31 (-259.0) - value must be at least 2.5 for dictionary value @ data['sale_amount']\n",
      "WARNING:root:issue with sale: 38 (-241.0) - value must be at least 2.5 for dictionary value @ data['sale_amount']\n",
      "WARNING:root:issue with sale: 40 (-4.0) - value must be at least 2.5 for dictionary value @ data['sale_amount']\n",
      "WARNING:root:issue with sale: 41 (1581.0) - value must be at most 1450.99 for dictionary value @ data['sale_amount']\n",
      "WARNING:root:issue with sale: 45 (1529.0) - value must be at most 1450.99 for dictionary value @ data['sale_amount']\n",
      "WARNING:root:issue with sale: 46 (-238.0) - value must be at least 2.5 for dictionary value @ data['sale_amount']\n",
      "WARNING:root:issue with sale: 48 (-284.0) - value must be at least 2.5 for dictionary value @ data['sale_amount']\n",
      "WARNING:root:issue with sale: 51 (-164.0) - value must be at least 2.5 for dictionary value @ data['sale_amount']\n",
      "WARNING:root:issue with sale: 55 (-184.0) - value must be at least 2.5 for dictionary value @ data['sale_amount']\n",
      "WARNING:root:issue with sale: 56 (-304.0) - value must be at least 2.5 for dictionary value @ data['sale_amount']\n",
      "WARNING:root:issue with sale: 59 (1579.0) - value must be at most 1450.99 for dictionary value @ data['sale_amount']\n",
      "WARNING:root:issue with sale: 60 (-455.0) - value must be at least 2.5 for dictionary value @ data['sale_amount']\n",
      "WARNING:root:issue with sale: 63 (1551.0) - value must be at most 1450.99 for dictionary value @ data['sale_amount']\n",
      "WARNING:root:issue with sale: 65 (-397.0) - value must be at least 2.5 for dictionary value @ data['sale_amount']\n",
      "WARNING:root:issue with sale: 69 (-400.0) - value must be at least 2.5 for dictionary value @ data['sale_amount']\n",
      "WARNING:root:issue with sale: 70 (1482.0) - value must be at most 1450.99 for dictionary value @ data['sale_amount']\n",
      "WARNING:root:issue with sale: 71 (-321.0) - value must be at least 2.5 for dictionary value @ data['sale_amount']\n",
      "WARNING:root:issue with sale: 74 (-47.0) - value must be at least 2.5 for dictionary value @ data['sale_amount']\n",
      "WARNING:root:issue with sale: 76 (-68.0) - value must be at least 2.5 for dictionary value @ data['sale_amount']\n",
      "WARNING:root:issue with sale: 86 (1454.0) - value must be at most 1450.99 for dictionary value @ data['sale_amount']\n",
      "WARNING:root:issue with sale: 101 (-213.0) - value must be at least 2.5 for dictionary value @ data['sale_amount']\n",
      "WARNING:root:issue with sale: 103 (-144.0) - value must be at least 2.5 for dictionary value @ data['sale_amount']\n",
      "WARNING:root:issue with sale: 104 (-265.0) - value must be at least 2.5 for dictionary value @ data['sale_amount']\n",
      "WARNING:root:issue with sale: 107 (-349.0) - value must be at least 2.5 for dictionary value @ data['sale_amount']\n",
      "WARNING:root:issue with sale: 111 (-78.0) - value must be at least 2.5 for dictionary value @ data['sale_amount']\n",
      "WARNING:root:issue with sale: 112 (-310.0) - value must be at least 2.5 for dictionary value @ data['sale_amount']\n",
      "WARNING:root:issue with sale: 116 (1570.0) - value must be at most 1450.99 for dictionary value @ data['sale_amount']\n",
      "WARNING:root:issue with sale: 120 (1490.0) - value must be at most 1450.99 for dictionary value @ data['sale_amount']\n",
      "WARNING:root:issue with sale: 123 (-179.0) - value must be at least 2.5 for dictionary value @ data['sale_amount']\n",
      "WARNING:root:issue with sale: 124 (-391.0) - value must be at least 2.5 for dictionary value @ data['sale_amount']\n",
      "WARNING:root:issue with sale: 129 (1504.0) - value must be at most 1450.99 for dictionary value @ data['sale_amount']\n",
      "WARNING:root:issue with sale: 130 (-91.0) - value must be at least 2.5 for dictionary value @ data['sale_amount']\n",
      "WARNING:root:issue with sale: 132 (-372.0) - value must be at least 2.5 for dictionary value @ data['sale_amount']\n",
      "WARNING:root:issue with sale: 141 (1512.0) - value must be at most 1450.99 for dictionary value @ data['sale_amount']\n",
      "WARNING:root:issue with sale: 142 (-449.0) - value must be at least 2.5 for dictionary value @ data['sale_amount']\n",
      "WARNING:root:issue with sale: 149 (1494.0) - value must be at most 1450.99 for dictionary value @ data['sale_amount']\n",
      "WARNING:root:issue with sale: 152 (-405.0) - value must be at least 2.5 for dictionary value @ data['sale_amount']\n",
      "WARNING:root:issue with sale: 155 (1599.0) - value must be at most 1450.99 for dictionary value @ data['sale_amount']\n",
      "WARNING:root:issue with sale: 156 (1527.0) - value must be at most 1450.99 for dictionary value @ data['sale_amount']\n",
      "WARNING:root:issue with sale: 157 (-462.0) - value must be at least 2.5 for dictionary value @ data['sale_amount']\n",
      "WARNING:root:issue with sale: 162 (-358.0) - value must be at least 2.5 for dictionary value @ data['sale_amount']\n",
      "WARNING:root:issue with sale: 164 (-78.0) - value must be at least 2.5 for dictionary value @ data['sale_amount']\n",
      "WARNING:root:issue with sale: 167 (-358.0) - value must be at least 2.5 for dictionary value @ data['sale_amount']\n",
      "WARNING:root:issue with sale: 171 (-391.0) - value must be at least 2.5 for dictionary value @ data['sale_amount']\n",
      "WARNING:root:issue with sale: 178 (-304.0) - value must be at least 2.5 for dictionary value @ data['sale_amount']\n",
      "WARNING:root:issue with sale: 180 (-9.0) - value must be at least 2.5 for dictionary value @ data['sale_amount']\n",
      "WARNING:root:issue with sale: 187 (1475.0) - value must be at most 1450.99 for dictionary value @ data['sale_amount']\n",
      "WARNING:root:issue with sale: 194 (-433.0) - value must be at least 2.5 for dictionary value @ data['sale_amount']\n",
      "WARNING:root:issue with sale: 195 (-329.0) - value must be at least 2.5 for dictionary value @ data['sale_amount']\n",
      "WARNING:root:issue with sale: 196 (-147.0) - value must be at least 2.5 for dictionary value @ data['sale_amount']\n",
      "WARNING:root:issue with sale: 203 (-319.0) - value must be at least 2.5 for dictionary value @ data['sale_amount']\n",
      "WARNING:root:issue with sale: 206 (-132.0) - value must be at least 2.5 for dictionary value @ data['sale_amount']\n",
      "WARNING:root:issue with sale: 207 (-20.0) - value must be at least 2.5 for dictionary value @ data['sale_amount']\n",
      "WARNING:root:issue with sale: 209 (1539.0) - value must be at most 1450.99 for dictionary value @ data['sale_amount']\n",
      "WARNING:root:issue with sale: 211 (-167.0) - value must be at least 2.5 for dictionary value @ data['sale_amount']\n"
     ]
    }
   ],
   "source": [
    "error_count = 0\n",
    "for s_id, sale in sales.T.to_dict().items():\n",
    "    try:\n",
    "        schema(sale)\n",
    "    except MultipleInvalid as e:\n",
    "        logging.warning('issue with sale: %s (%s) - %s', s_id, sale['sale_amount'], e)\n",
    "        error_count += 1"
   ]
  },
  {
   "cell_type": "code",
   "execution_count": null,
   "metadata": {},
   "outputs": [
    {
     "data": {
      "text/plain": [
       "69"
      ]
     },
     "metadata": {},
     "output_type": "display_data"
    }
   ],
   "source": [
    "error_count"
   ]
  },
  {
   "cell_type": "code",
   "execution_count": null,
   "metadata": {},
   "outputs": [
    {
     "data": {
      "text/plain": [
       "(213, 6)"
      ]
     },
     "metadata": {},
     "output_type": "display_data"
    }
   ],
   "source": [
    "sales.shape"
   ]
  },
  {
   "cell_type": "markdown",
   "metadata": {},
   "source": [
    "### Questions we might want to answer:\n",
    "- Do we have an improperly defined schema?\n",
    "- Are negative values possibly returns or falsely marked? (data entry proceedures)\n",
    "- Are higher values combined purchases or special sales? (or potentially fraud?)\n",
    "- What should we do with our schema and our failing data points?"
   ]
  },
  {
   "cell_type": "markdown",
   "metadata": {},
   "source": [
    "### Adding a custom Validation Case"
   ]
  },
  {
   "cell_type": "code",
   "execution_count": null,
   "metadata": {},
   "outputs": [],
   "source": [
    "def ValidDate(fmt='%Y-%m-%d %H:%M:%S'):\n",
    "    return lambda v: datetime.strptime(v, fmt)"
   ]
  },
  {
   "cell_type": "code",
   "execution_count": null,
   "metadata": {},
   "outputs": [],
   "source": [
    "schema = Schema({\n",
    "    Required('timestamp'): All(ValidDate()),}, extra=ALLOW_EXTRA)"
   ]
  },
  {
   "cell_type": "code",
   "execution_count": null,
   "metadata": {},
   "outputs": [],
   "source": [
    "error_count = 0\n",
    "for s_id, sale in sales.T.to_dict().items():\n",
    "    try:\n",
    "        schema(sale)\n",
    "    except MultipleInvalid as e:\n",
    "        logging.warning('issue with sale: %s (%s) - %s', s_id, sale['timestamp'], e)\n",
    "        error_count += 1"
   ]
  },
  {
   "cell_type": "code",
   "execution_count": null,
   "metadata": {},
   "outputs": [
    {
     "data": {
      "text/plain": [
       "0"
      ]
     },
     "metadata": {},
     "output_type": "display_data"
    }
   ],
   "source": [
    "error_count"
   ]
  },
  {
   "cell_type": "markdown",
   "metadata": {},
   "source": [
    "## So we have valid date structures, what about actual valid dates?"
   ]
  },
  {
   "cell_type": "code",
   "execution_count": null,
   "metadata": {},
   "outputs": [],
   "source": [
    "def ValidDate(fmt='%Y-%m-%d %H:%M:%S'):\n",
    "    def validation_func(v):\n",
    "        try:\n",
    "            assert datetime.strptime(v, fmt) <= datetime.now()\n",
    "        except AssertionError:\n",
    "            raise Invalid('date is in the future! %s' % v)\n",
    "    return validation_func"
   ]
  },
  {
   "cell_type": "code",
   "execution_count": null,
   "metadata": {},
   "outputs": [],
   "source": [
    "schema = Schema({\n",
    "    Required('timestamp'): All(ValidDate()),}, extra=ALLOW_EXTRA)"
   ]
  },
  {
   "cell_type": "code",
   "execution_count": null,
   "metadata": {},
   "outputs": [],
   "source": [
    "error_count = 0\n",
    "for s_id, sale in sales.T.to_dict().items():\n",
    "    try:\n",
    "        schema(sale)\n",
    "    except MultipleInvalid as e:\n",
    "        logging.warning('issue with sale: %s (%s) - %s', \n",
    "                        s_id, sale['timestamp'], e)\n",
    "        error_count += 1"
   ]
  },
  {
   "cell_type": "code",
   "execution_count": null,
   "metadata": {},
   "outputs": [
    {
     "data": {
      "text/plain": [
       "0"
      ]
     },
     "metadata": {},
     "output_type": "display_data"
    }
   ],
   "source": [
    "error_count"
   ]
  },
  {
   "cell_type": "code",
   "execution_count": null,
   "metadata": {},
   "outputs": [],
   "source": []
  },
  {
   "cell_type": "code",
   "execution_count": null,
   "metadata": {},
   "outputs": [],
   "source": [
    "import pandas as pd\n",
    "import numpy as np"
   ]
  },
  {
   "cell_type": "code",
   "execution_count": null,
   "metadata": {},
   "outputs": [],
   "source": [
    "df = pd.read_csv(r'C:\\Users\\risha\\Documents\\KRMU\\AIML_assigment\\datasets\\HVAC_with_nulls.csv', encoding='utf-8')"
   ]
  },
  {
   "cell_type": "code",
   "execution_count": null,
   "metadata": {},
   "outputs": [
    {
     "data": {
      "text/html": [
       "<div>\n",
       "<style scoped>\n",
       "    .dataframe tbody tr th:only-of-type {\n",
       "        vertical-align: middle;\n",
       "    }\n",
       "\n",
       "    .dataframe tbody tr th {\n",
       "        vertical-align: top;\n",
       "    }\n",
       "\n",
       "    .dataframe thead th {\n",
       "        text-align: right;\n",
       "    }\n",
       "</style>\n",
       "<table border=\"1\" class=\"dataframe\">\n",
       "  <thead>\n",
       "    <tr style=\"text-align: right;\">\n",
       "      <th></th>\n",
       "      <th>Date</th>\n",
       "      <th>Time</th>\n",
       "      <th>TargetTemp</th>\n",
       "      <th>ActualTemp</th>\n",
       "      <th>System</th>\n",
       "      <th>SystemAge</th>\n",
       "      <th>BuildingID</th>\n",
       "      <th>10</th>\n",
       "    </tr>\n",
       "  </thead>\n",
       "  <tbody>\n",
       "    <tr>\n",
       "      <th>0</th>\n",
       "      <td>6/1/13</td>\n",
       "      <td>0:00:01</td>\n",
       "      <td>66.0</td>\n",
       "      <td>58</td>\n",
       "      <td>13</td>\n",
       "      <td>20.0</td>\n",
       "      <td>4</td>\n",
       "      <td>NaN</td>\n",
       "    </tr>\n",
       "    <tr>\n",
       "      <th>1</th>\n",
       "      <td>6/2/13</td>\n",
       "      <td>1:00:01</td>\n",
       "      <td>NaN</td>\n",
       "      <td>68</td>\n",
       "      <td>3</td>\n",
       "      <td>20.0</td>\n",
       "      <td>17</td>\n",
       "      <td>NaN</td>\n",
       "    </tr>\n",
       "    <tr>\n",
       "      <th>2</th>\n",
       "      <td>6/3/13</td>\n",
       "      <td>2:00:01</td>\n",
       "      <td>70.0</td>\n",
       "      <td>73</td>\n",
       "      <td>17</td>\n",
       "      <td>20.0</td>\n",
       "      <td>18</td>\n",
       "      <td>NaN</td>\n",
       "    </tr>\n",
       "    <tr>\n",
       "      <th>3</th>\n",
       "      <td>6/4/13</td>\n",
       "      <td>3:00:01</td>\n",
       "      <td>67.0</td>\n",
       "      <td>63</td>\n",
       "      <td>2</td>\n",
       "      <td>NaN</td>\n",
       "      <td>15</td>\n",
       "      <td>NaN</td>\n",
       "    </tr>\n",
       "    <tr>\n",
       "      <th>4</th>\n",
       "      <td>6/5/13</td>\n",
       "      <td>4:00:01</td>\n",
       "      <td>68.0</td>\n",
       "      <td>74</td>\n",
       "      <td>16</td>\n",
       "      <td>9.0</td>\n",
       "      <td>3</td>\n",
       "      <td>NaN</td>\n",
       "    </tr>\n",
       "  </tbody>\n",
       "</table>\n",
       "</div>"
      ],
      "text/plain": [
       "     Date     Time  TargetTemp  ActualTemp  System  SystemAge  BuildingID  10\n",
       "0  6/1/13  0:00:01        66.0          58      13       20.0           4 NaN\n",
       "1  6/2/13  1:00:01         NaN          68       3       20.0          17 NaN\n",
       "2  6/3/13  2:00:01        70.0          73      17       20.0          18 NaN\n",
       "3  6/4/13  3:00:01        67.0          63       2        NaN          15 NaN\n",
       "4  6/5/13  4:00:01        68.0          74      16        9.0           3 NaN"
      ]
     },
     "metadata": {},
     "output_type": "display_data"
    }
   ],
   "source": [
    "df.head()"
   ]
  },
  {
   "cell_type": "code",
   "execution_count": null,
   "metadata": {},
   "outputs": [
    {
     "data": {
      "text/plain": [
       "Date             0\n",
       "Time             0\n",
       "TargetTemp     760\n",
       "ActualTemp       0\n",
       "System           0\n",
       "SystemAge      753\n",
       "BuildingID       0\n",
       "10            8000\n",
       "dtype: int64"
      ]
     },
     "metadata": {},
     "output_type": "display_data"
    }
   ],
   "source": [
    "df.isnull().sum()"
   ]
  },
  {
   "cell_type": "code",
   "execution_count": null,
   "metadata": {},
   "outputs": [
    {
     "data": {
      "text/html": [
       "<div>\n",
       "<style scoped>\n",
       "    .dataframe tbody tr th:only-of-type {\n",
       "        vertical-align: middle;\n",
       "    }\n",
       "\n",
       "    .dataframe tbody tr th {\n",
       "        vertical-align: top;\n",
       "    }\n",
       "\n",
       "    .dataframe thead th {\n",
       "        text-align: right;\n",
       "    }\n",
       "</style>\n",
       "<table border=\"1\" class=\"dataframe\">\n",
       "  <thead>\n",
       "    <tr style=\"text-align: right;\">\n",
       "      <th></th>\n",
       "      <th>Date</th>\n",
       "      <th>Time</th>\n",
       "      <th>TargetTemp</th>\n",
       "      <th>ActualTemp</th>\n",
       "      <th>System</th>\n",
       "      <th>SystemAge</th>\n",
       "      <th>BuildingID</th>\n",
       "      <th>10</th>\n",
       "    </tr>\n",
       "  </thead>\n",
       "  <tbody>\n",
       "    <tr>\n",
       "      <th>0</th>\n",
       "      <td>False</td>\n",
       "      <td>False</td>\n",
       "      <td>False</td>\n",
       "      <td>False</td>\n",
       "      <td>False</td>\n",
       "      <td>False</td>\n",
       "      <td>False</td>\n",
       "      <td>True</td>\n",
       "    </tr>\n",
       "    <tr>\n",
       "      <th>1</th>\n",
       "      <td>False</td>\n",
       "      <td>False</td>\n",
       "      <td>True</td>\n",
       "      <td>False</td>\n",
       "      <td>False</td>\n",
       "      <td>False</td>\n",
       "      <td>False</td>\n",
       "      <td>True</td>\n",
       "    </tr>\n",
       "    <tr>\n",
       "      <th>2</th>\n",
       "      <td>False</td>\n",
       "      <td>False</td>\n",
       "      <td>False</td>\n",
       "      <td>False</td>\n",
       "      <td>False</td>\n",
       "      <td>False</td>\n",
       "      <td>False</td>\n",
       "      <td>True</td>\n",
       "    </tr>\n",
       "    <tr>\n",
       "      <th>3</th>\n",
       "      <td>False</td>\n",
       "      <td>False</td>\n",
       "      <td>False</td>\n",
       "      <td>False</td>\n",
       "      <td>False</td>\n",
       "      <td>True</td>\n",
       "      <td>False</td>\n",
       "      <td>True</td>\n",
       "    </tr>\n",
       "    <tr>\n",
       "      <th>4</th>\n",
       "      <td>False</td>\n",
       "      <td>False</td>\n",
       "      <td>False</td>\n",
       "      <td>False</td>\n",
       "      <td>False</td>\n",
       "      <td>False</td>\n",
       "      <td>False</td>\n",
       "      <td>True</td>\n",
       "    </tr>\n",
       "    <tr>\n",
       "      <th>...</th>\n",
       "      <td>...</td>\n",
       "      <td>...</td>\n",
       "      <td>...</td>\n",
       "      <td>...</td>\n",
       "      <td>...</td>\n",
       "      <td>...</td>\n",
       "      <td>...</td>\n",
       "      <td>...</td>\n",
       "    </tr>\n",
       "    <tr>\n",
       "      <th>7995</th>\n",
       "      <td>False</td>\n",
       "      <td>False</td>\n",
       "      <td>False</td>\n",
       "      <td>False</td>\n",
       "      <td>False</td>\n",
       "      <td>False</td>\n",
       "      <td>False</td>\n",
       "      <td>True</td>\n",
       "    </tr>\n",
       "    <tr>\n",
       "      <th>7996</th>\n",
       "      <td>False</td>\n",
       "      <td>False</td>\n",
       "      <td>False</td>\n",
       "      <td>False</td>\n",
       "      <td>False</td>\n",
       "      <td>False</td>\n",
       "      <td>False</td>\n",
       "      <td>True</td>\n",
       "    </tr>\n",
       "    <tr>\n",
       "      <th>7997</th>\n",
       "      <td>False</td>\n",
       "      <td>False</td>\n",
       "      <td>True</td>\n",
       "      <td>False</td>\n",
       "      <td>False</td>\n",
       "      <td>False</td>\n",
       "      <td>False</td>\n",
       "      <td>True</td>\n",
       "    </tr>\n",
       "    <tr>\n",
       "      <th>7998</th>\n",
       "      <td>False</td>\n",
       "      <td>False</td>\n",
       "      <td>False</td>\n",
       "      <td>False</td>\n",
       "      <td>False</td>\n",
       "      <td>False</td>\n",
       "      <td>False</td>\n",
       "      <td>True</td>\n",
       "    </tr>\n",
       "    <tr>\n",
       "      <th>7999</th>\n",
       "      <td>False</td>\n",
       "      <td>False</td>\n",
       "      <td>False</td>\n",
       "      <td>False</td>\n",
       "      <td>False</td>\n",
       "      <td>False</td>\n",
       "      <td>False</td>\n",
       "      <td>True</td>\n",
       "    </tr>\n",
       "  </tbody>\n",
       "</table>\n",
       "<p>8000 rows × 8 columns</p>\n",
       "</div>"
      ],
      "text/plain": [
       "       Date   Time  TargetTemp  ActualTemp  System  SystemAge  BuildingID  \\\n",
       "0     False  False       False       False   False      False       False   \n",
       "1     False  False        True       False   False      False       False   \n",
       "2     False  False       False       False   False      False       False   \n",
       "3     False  False       False       False   False       True       False   \n",
       "4     False  False       False       False   False      False       False   \n",
       "...     ...    ...         ...         ...     ...        ...         ...   \n",
       "7995  False  False       False       False   False      False       False   \n",
       "7996  False  False       False       False   False      False       False   \n",
       "7997  False  False        True       False   False      False       False   \n",
       "7998  False  False       False       False   False      False       False   \n",
       "7999  False  False       False       False   False      False       False   \n",
       "\n",
       "        10  \n",
       "0     True  \n",
       "1     True  \n",
       "2     True  \n",
       "3     True  \n",
       "4     True  \n",
       "...    ...  \n",
       "7995  True  \n",
       "7996  True  \n",
       "7997  True  \n",
       "7998  True  \n",
       "7999  True  \n",
       "\n",
       "[8000 rows x 8 columns]"
      ]
     },
     "metadata": {},
     "output_type": "display_data"
    }
   ],
   "source": [
    "df.isna()"
   ]
  },
  {
   "cell_type": "code",
   "execution_count": null,
   "metadata": {},
   "outputs": [
    {
     "data": {
      "text/html": [
       "<div>\n",
       "<style scoped>\n",
       "    .dataframe tbody tr th:only-of-type {\n",
       "        vertical-align: middle;\n",
       "    }\n",
       "\n",
       "    .dataframe tbody tr th {\n",
       "        vertical-align: top;\n",
       "    }\n",
       "\n",
       "    .dataframe thead th {\n",
       "        text-align: right;\n",
       "    }\n",
       "</style>\n",
       "<table border=\"1\" class=\"dataframe\">\n",
       "  <thead>\n",
       "    <tr style=\"text-align: right;\">\n",
       "      <th></th>\n",
       "      <th>Date</th>\n",
       "      <th>Time</th>\n",
       "      <th>TargetTemp</th>\n",
       "      <th>ActualTemp</th>\n",
       "      <th>System</th>\n",
       "      <th>SystemAge</th>\n",
       "      <th>BuildingID</th>\n",
       "      <th>10</th>\n",
       "    </tr>\n",
       "  </thead>\n",
       "  <tbody>\n",
       "    <tr>\n",
       "      <th>0</th>\n",
       "      <td>6/1/13</td>\n",
       "      <td>0:00:01</td>\n",
       "      <td>66.0</td>\n",
       "      <td>58</td>\n",
       "      <td>13</td>\n",
       "      <td>20.0</td>\n",
       "      <td>4</td>\n",
       "      <td>NaN</td>\n",
       "    </tr>\n",
       "    <tr>\n",
       "      <th>1</th>\n",
       "      <td>6/2/13</td>\n",
       "      <td>1:00:01</td>\n",
       "      <td>NaN</td>\n",
       "      <td>68</td>\n",
       "      <td>3</td>\n",
       "      <td>20.0</td>\n",
       "      <td>17</td>\n",
       "      <td>NaN</td>\n",
       "    </tr>\n",
       "    <tr>\n",
       "      <th>2</th>\n",
       "      <td>6/3/13</td>\n",
       "      <td>2:00:01</td>\n",
       "      <td>70.0</td>\n",
       "      <td>73</td>\n",
       "      <td>17</td>\n",
       "      <td>20.0</td>\n",
       "      <td>18</td>\n",
       "      <td>NaN</td>\n",
       "    </tr>\n",
       "    <tr>\n",
       "      <th>3</th>\n",
       "      <td>6/4/13</td>\n",
       "      <td>3:00:01</td>\n",
       "      <td>67.0</td>\n",
       "      <td>63</td>\n",
       "      <td>2</td>\n",
       "      <td>NaN</td>\n",
       "      <td>15</td>\n",
       "      <td>NaN</td>\n",
       "    </tr>\n",
       "    <tr>\n",
       "      <th>4</th>\n",
       "      <td>6/5/13</td>\n",
       "      <td>4:00:01</td>\n",
       "      <td>68.0</td>\n",
       "      <td>74</td>\n",
       "      <td>16</td>\n",
       "      <td>9.0</td>\n",
       "      <td>3</td>\n",
       "      <td>NaN</td>\n",
       "    </tr>\n",
       "    <tr>\n",
       "      <th>...</th>\n",
       "      <td>...</td>\n",
       "      <td>...</td>\n",
       "      <td>...</td>\n",
       "      <td>...</td>\n",
       "      <td>...</td>\n",
       "      <td>...</td>\n",
       "      <td>...</td>\n",
       "      <td>...</td>\n",
       "    </tr>\n",
       "    <tr>\n",
       "      <th>7995</th>\n",
       "      <td>6/16/13</td>\n",
       "      <td>1:33:07</td>\n",
       "      <td>66.0</td>\n",
       "      <td>58</td>\n",
       "      <td>17</td>\n",
       "      <td>18.0</td>\n",
       "      <td>20</td>\n",
       "      <td>NaN</td>\n",
       "    </tr>\n",
       "    <tr>\n",
       "      <th>7996</th>\n",
       "      <td>6/17/13</td>\n",
       "      <td>2:33:07</td>\n",
       "      <td>68.0</td>\n",
       "      <td>72</td>\n",
       "      <td>17</td>\n",
       "      <td>27.0</td>\n",
       "      <td>12</td>\n",
       "      <td>NaN</td>\n",
       "    </tr>\n",
       "    <tr>\n",
       "      <th>7997</th>\n",
       "      <td>6/18/13</td>\n",
       "      <td>3:33:07</td>\n",
       "      <td>NaN</td>\n",
       "      <td>69</td>\n",
       "      <td>10</td>\n",
       "      <td>4.0</td>\n",
       "      <td>3</td>\n",
       "      <td>NaN</td>\n",
       "    </tr>\n",
       "    <tr>\n",
       "      <th>7998</th>\n",
       "      <td>6/19/13</td>\n",
       "      <td>4:33:07</td>\n",
       "      <td>65.0</td>\n",
       "      <td>63</td>\n",
       "      <td>7</td>\n",
       "      <td>23.0</td>\n",
       "      <td>20</td>\n",
       "      <td>NaN</td>\n",
       "    </tr>\n",
       "    <tr>\n",
       "      <th>7999</th>\n",
       "      <td>6/20/13</td>\n",
       "      <td>5:33:07</td>\n",
       "      <td>66.0</td>\n",
       "      <td>66</td>\n",
       "      <td>9</td>\n",
       "      <td>21.0</td>\n",
       "      <td>3</td>\n",
       "      <td>NaN</td>\n",
       "    </tr>\n",
       "  </tbody>\n",
       "</table>\n",
       "<p>8000 rows × 8 columns</p>\n",
       "</div>"
      ],
      "text/plain": [
       "         Date     Time  TargetTemp  ActualTemp  System  SystemAge  BuildingID  \\\n",
       "0      6/1/13  0:00:01        66.0          58      13       20.0           4   \n",
       "1      6/2/13  1:00:01         NaN          68       3       20.0          17   \n",
       "2      6/3/13  2:00:01        70.0          73      17       20.0          18   \n",
       "3      6/4/13  3:00:01        67.0          63       2        NaN          15   \n",
       "4      6/5/13  4:00:01        68.0          74      16        9.0           3   \n",
       "...       ...      ...         ...         ...     ...        ...         ...   \n",
       "7995  6/16/13  1:33:07        66.0          58      17       18.0          20   \n",
       "7996  6/17/13  2:33:07        68.0          72      17       27.0          12   \n",
       "7997  6/18/13  3:33:07         NaN          69      10        4.0           3   \n",
       "7998  6/19/13  4:33:07        65.0          63       7       23.0          20   \n",
       "7999  6/20/13  5:33:07        66.0          66       9       21.0           3   \n",
       "\n",
       "      10  \n",
       "0    NaN  \n",
       "1    NaN  \n",
       "2    NaN  \n",
       "3    NaN  \n",
       "4    NaN  \n",
       "...   ..  \n",
       "7995 NaN  \n",
       "7996 NaN  \n",
       "7997 NaN  \n",
       "7998 NaN  \n",
       "7999 NaN  \n",
       "\n",
       "[8000 rows x 8 columns]"
      ]
     },
     "metadata": {},
     "output_type": "display_data"
    }
   ],
   "source": [
    "df.drop_duplicates()"
   ]
  },
  {
   "cell_type": "code",
   "execution_count": null,
   "metadata": {},
   "outputs": [],
   "source": [
    "df=df.drop(['10'], axis=1)"
   ]
  },
  {
   "cell_type": "code",
   "execution_count": null,
   "metadata": {},
   "outputs": [],
   "source": [
    "df['TargetTemp'] = df['TargetTemp'].fillna(df['TargetTemp'].mean())\n"
   ]
  },
  {
   "cell_type": "code",
   "execution_count": null,
   "metadata": {},
   "outputs": [
    {
     "data": {
      "text/plain": [
       "0"
      ]
     },
     "metadata": {},
     "output_type": "display_data"
    }
   ],
   "source": [
    "df.TargetTemp.isna().sum()\n"
   ]
  },
  {
   "cell_type": "code",
   "execution_count": null,
   "metadata": {},
   "outputs": [
    {
     "data": {
      "text/plain": [
       "0"
      ]
     },
     "metadata": {},
     "output_type": "display_data"
    }
   ],
   "source": [
    "df.ActualTemp.isna().sum()"
   ]
  },
  {
   "cell_type": "code",
   "execution_count": null,
   "metadata": {},
   "outputs": [
    {
     "data": {
      "text/plain": [
       "753"
      ]
     },
     "metadata": {},
     "output_type": "display_data"
    }
   ],
   "source": [
    "df.SystemAge.isna().sum()"
   ]
  },
  {
   "cell_type": "code",
   "execution_count": null,
   "metadata": {},
   "outputs": [],
   "source": [
    "df.SystemAge= df.SystemAge.fillna(df.SystemAge.mean())"
   ]
  },
  {
   "cell_type": "code",
   "execution_count": null,
   "metadata": {},
   "outputs": [
    {
     "data": {
      "text/plain": [
       "0"
      ]
     },
     "metadata": {},
     "output_type": "display_data"
    }
   ],
   "source": [
    "df.SystemAge.isna().sum()"
   ]
  },
  {
   "cell_type": "code",
   "execution_count": null,
   "metadata": {},
   "outputs": [],
   "source": []
  },
  {
   "cell_type": "markdown",
   "metadata": {},
   "source": [
    "### Managing Nulls "
   ]
  },
  {
   "cell_type": "code",
   "execution_count": null,
   "metadata": {},
   "outputs": [],
   "source": [
    "import pandas as pd\n",
    "from numpy import random"
   ]
  },
  {
   "cell_type": "code",
   "execution_count": null,
   "metadata": {},
   "outputs": [],
   "source": [
    "df = pd.read_csv(r'C:\\Users\\risha\\Documents\\KRMU\\AIML_assigment\\datasets\\iot_example_with_nulls.csv')"
   ]
  },
  {
   "cell_type": "markdown",
   "metadata": {},
   "source": [
    "### Data Quality Check"
   ]
  },
  {
   "cell_type": "code",
   "execution_count": null,
   "metadata": {},
   "outputs": [
    {
     "data": {
      "text/html": [
       "<div>\n",
       "<style scoped>\n",
       "    .dataframe tbody tr th:only-of-type {\n",
       "        vertical-align: middle;\n",
       "    }\n",
       "\n",
       "    .dataframe tbody tr th {\n",
       "        vertical-align: top;\n",
       "    }\n",
       "\n",
       "    .dataframe thead th {\n",
       "        text-align: right;\n",
       "    }\n",
       "</style>\n",
       "<table border=\"1\" class=\"dataframe\">\n",
       "  <thead>\n",
       "    <tr style=\"text-align: right;\">\n",
       "      <th></th>\n",
       "      <th>timestamp</th>\n",
       "      <th>username</th>\n",
       "      <th>temperature</th>\n",
       "      <th>heartrate</th>\n",
       "      <th>build</th>\n",
       "      <th>latest</th>\n",
       "      <th>note</th>\n",
       "    </tr>\n",
       "  </thead>\n",
       "  <tbody>\n",
       "    <tr>\n",
       "      <th>0</th>\n",
       "      <td>2017-01-01T12:00:23</td>\n",
       "      <td>michaelsmith</td>\n",
       "      <td>12.0</td>\n",
       "      <td>67</td>\n",
       "      <td>4e6a7805-8faa-2768-6ef6-eb3198b483ac</td>\n",
       "      <td>0.0</td>\n",
       "      <td>interval</td>\n",
       "    </tr>\n",
       "    <tr>\n",
       "      <th>1</th>\n",
       "      <td>2017-01-01T12:01:09</td>\n",
       "      <td>kharrison</td>\n",
       "      <td>6.0</td>\n",
       "      <td>78</td>\n",
       "      <td>7256b7b0-e502-f576-62ec-ed73533c9c84</td>\n",
       "      <td>0.0</td>\n",
       "      <td>wake</td>\n",
       "    </tr>\n",
       "    <tr>\n",
       "      <th>2</th>\n",
       "      <td>2017-01-01T12:01:34</td>\n",
       "      <td>smithadam</td>\n",
       "      <td>5.0</td>\n",
       "      <td>89</td>\n",
       "      <td>9226c94b-bb4b-a6c8-8e02-cb42b53e9c90</td>\n",
       "      <td>0.0</td>\n",
       "      <td>NaN</td>\n",
       "    </tr>\n",
       "    <tr>\n",
       "      <th>3</th>\n",
       "      <td>2017-01-01T12:02:09</td>\n",
       "      <td>eddierodriguez</td>\n",
       "      <td>28.0</td>\n",
       "      <td>76</td>\n",
       "      <td>NaN</td>\n",
       "      <td>0.0</td>\n",
       "      <td>update</td>\n",
       "    </tr>\n",
       "    <tr>\n",
       "      <th>4</th>\n",
       "      <td>2017-01-01T12:02:36</td>\n",
       "      <td>kenneth94</td>\n",
       "      <td>29.0</td>\n",
       "      <td>62</td>\n",
       "      <td>122f1c6a-403c-2221-6ed1-b5caa08f11e0</td>\n",
       "      <td>NaN</td>\n",
       "      <td>NaN</td>\n",
       "    </tr>\n",
       "  </tbody>\n",
       "</table>\n",
       "</div>"
      ],
      "text/plain": [
       "             timestamp        username  temperature  heartrate  \\\n",
       "0  2017-01-01T12:00:23    michaelsmith         12.0         67   \n",
       "1  2017-01-01T12:01:09       kharrison          6.0         78   \n",
       "2  2017-01-01T12:01:34       smithadam          5.0         89   \n",
       "3  2017-01-01T12:02:09  eddierodriguez         28.0         76   \n",
       "4  2017-01-01T12:02:36       kenneth94         29.0         62   \n",
       "\n",
       "                                  build  latest      note  \n",
       "0  4e6a7805-8faa-2768-6ef6-eb3198b483ac     0.0  interval  \n",
       "1  7256b7b0-e502-f576-62ec-ed73533c9c84     0.0      wake  \n",
       "2  9226c94b-bb4b-a6c8-8e02-cb42b53e9c90     0.0       NaN  \n",
       "3                                   NaN     0.0    update  \n",
       "4  122f1c6a-403c-2221-6ed1-b5caa08f11e0     NaN       NaN  "
      ]
     },
     "metadata": {},
     "output_type": "display_data"
    }
   ],
   "source": [
    "df.head()"
   ]
  },
  {
   "cell_type": "code",
   "execution_count": null,
   "metadata": {},
   "outputs": [
    {
     "data": {
      "text/plain": [
       "timestamp       object\n",
       "username        object\n",
       "temperature    float64\n",
       "heartrate        int64\n",
       "build           object\n",
       "latest         float64\n",
       "note            object\n",
       "dtype: object"
      ]
     },
     "metadata": {},
     "output_type": "display_data"
    }
   ],
   "source": [
    "df.dtypes"
   ]
  },
  {
   "cell_type": "code",
   "execution_count": null,
   "metadata": {},
   "outputs": [
    {
     "data": {
      "text/plain": [
       "note\n",
       "wake        16496\n",
       "user        16416\n",
       "interval    16274\n",
       "sleep       16226\n",
       "update      16213\n",
       "test        16068\n",
       "Name: count, dtype: int64"
      ]
     },
     "metadata": {},
     "output_type": "display_data"
    }
   ],
   "source": [
    "df.note.value_counts()"
   ]
  },
  {
   "cell_type": "markdown",
   "metadata": {},
   "source": [
    "### Let's remove all null values (including the note: n/a)"
   ]
  },
  {
   "cell_type": "code",
   "execution_count": null,
   "metadata": {},
   "outputs": [],
   "source": [
    "df = pd.read_csv(r'C:\\Users\\risha\\Documents\\KRMU\\AIML_assigment\\datasets\\iot_example_with_nulls.csv', na_values=['n/a'])"
   ]
  },
  {
   "cell_type": "markdown",
   "metadata": {},
   "source": [
    "### Test to see if we can use dropna"
   ]
  },
  {
   "cell_type": "code",
   "execution_count": null,
   "metadata": {},
   "outputs": [
    {
     "data": {
      "text/plain": [
       "(146397, 7)"
      ]
     },
     "metadata": {},
     "output_type": "display_data"
    }
   ],
   "source": [
    "df.shape"
   ]
  },
  {
   "cell_type": "code",
   "execution_count": null,
   "metadata": {},
   "outputs": [
    {
     "data": {
      "text/plain": [
       "(46116, 7)"
      ]
     },
     "metadata": {},
     "output_type": "display_data"
    }
   ],
   "source": [
    "df.dropna().shape"
   ]
  },
  {
   "cell_type": "code",
   "execution_count": null,
   "metadata": {},
   "outputs": [
    {
     "data": {
      "text/plain": [
       "(146397, 7)"
      ]
     },
     "metadata": {},
     "output_type": "display_data"
    }
   ],
   "source": [
    "df.dropna(how='all', axis=1).shape"
   ]
  },
  {
   "cell_type": "markdown",
   "metadata": {},
   "source": [
    "### Test to see if we can drop columns"
   ]
  },
  {
   "cell_type": "code",
   "execution_count": null,
   "metadata": {},
   "outputs": [],
   "source": [
    "my_columns = list(df.columns)"
   ]
  },
  {
   "cell_type": "code",
   "execution_count": null,
   "metadata": {},
   "outputs": [
    {
     "data": {
      "text/plain": [
       "['timestamp',\n",
       " 'username',\n",
       " 'temperature',\n",
       " 'heartrate',\n",
       " 'build',\n",
       " 'latest',\n",
       " 'note']"
      ]
     },
     "metadata": {},
     "output_type": "display_data"
    }
   ],
   "source": [
    "my_columns"
   ]
  },
  {
   "cell_type": "code",
   "execution_count": null,
   "metadata": {},
   "outputs": [
    {
     "data": {
      "text/plain": [
       "['timestamp', 'username', 'heartrate']"
      ]
     },
     "metadata": {},
     "output_type": "display_data"
    }
   ],
   "source": [
    "list(df.dropna(thresh=int(df.shape[0] * .9), axis=1).columns)"
   ]
  },
  {
   "cell_type": "markdown",
   "metadata": {},
   "source": [
    "### I want to find all columns that have missing data"
   ]
  },
  {
   "cell_type": "code",
   "execution_count": null,
   "metadata": {},
   "outputs": [],
   "source": [
    "missing_info = list(df.columns[df.isnull().any()])"
   ]
  },
  {
   "cell_type": "code",
   "execution_count": null,
   "metadata": {},
   "outputs": [
    {
     "data": {
      "text/plain": [
       "['temperature', 'build', 'latest', 'note']"
      ]
     },
     "metadata": {},
     "output_type": "display_data"
    }
   ],
   "source": [
    "missing_info"
   ]
  },
  {
   "cell_type": "code",
   "execution_count": null,
   "metadata": {},
   "outputs": [
    {
     "name": "stdout",
     "output_type": "stream",
     "text": [
      "number missing for column temperature: 32357\n",
      "number missing for column build: 32350\n",
      "number missing for column latest: 32298\n",
      "number missing for column note: 48704\n"
     ]
    }
   ],
   "source": [
    "for col in missing_info:\n",
    "    num_missing = df[df[col].isnull() == True].shape[0]\n",
    "    print('number missing for column {}: {}'.format(col, \n",
    "                                                    num_missing))"
   ]
  },
  {
   "cell_type": "code",
   "execution_count": null,
   "metadata": {},
   "outputs": [
    {
     "name": "stdout",
     "output_type": "stream",
     "text": [
      "percent missing for column temperature: 0.22102228870810195\n",
      "percent missing for column build: 0.22097447352063226\n",
      "percent missing for column latest: 0.22061927498514314\n",
      "percent missing for column note: 0.332684412931959\n"
     ]
    }
   ],
   "source": [
    "for col in missing_info:\n",
    "    percent_missing = df[df[col].isnull() == True].shape[0] / df.shape[0]\n",
    "    print('percent missing for column {}: {}'.format(\n",
    "        col, percent_missing))"
   ]
  },
  {
   "cell_type": "markdown",
   "metadata": {},
   "source": [
    "### Can I easily substitute majority values in for missing data?"
   ]
  },
  {
   "cell_type": "code",
   "execution_count": null,
   "metadata": {},
   "outputs": [
    {
     "data": {
      "text/plain": [
       "note\n",
       "wake        16496\n",
       "user        16416\n",
       "interval    16274\n",
       "sleep       16226\n",
       "update      16213\n",
       "test        16068\n",
       "Name: count, dtype: int64"
      ]
     },
     "metadata": {},
     "output_type": "display_data"
    }
   ],
   "source": [
    "df.note.value_counts()"
   ]
  },
  {
   "cell_type": "code",
   "execution_count": null,
   "metadata": {},
   "outputs": [
    {
     "data": {
      "text/plain": [
       "build\n",
       "4e6a7805-8faa-2768-6ef6-eb3198b483ac    1\n",
       "12aefc6b-272c-751e-6117-134ee73e2649    1\n",
       "fd4049c3-2297-14ac-a27e-6da57129dd10    1\n",
       "0bcfab8f-bc25-3f8f-8585-0614e1555fd1    1\n",
       "b0de05dd-2860-abbb-8be6-f5c0e30ca063    1\n",
       "Name: count, dtype: int64"
      ]
     },
     "metadata": {},
     "output_type": "display_data"
    }
   ],
   "source": [
    "df.build.value_counts().head()"
   ]
  },
  {
   "cell_type": "code",
   "execution_count": null,
   "metadata": {},
   "outputs": [
    {
     "data": {
      "text/plain": [
       "latest\n",
       "0.0    75735\n",
       "1.0    38364\n",
       "Name: count, dtype: int64"
      ]
     },
     "metadata": {},
     "output_type": "display_data"
    }
   ],
   "source": [
    "df.latest.value_counts()"
   ]
  },
  {
   "cell_type": "code",
   "execution_count": null,
   "metadata": {},
   "outputs": [],
   "source": [
    "df.latest = df.latest.fillna(0)"
   ]
  },
  {
   "cell_type": "markdown",
   "metadata": {},
   "source": [
    "### Have not yet addressed temperature missing values... Let's find a way to fill"
   ]
  },
  {
   "cell_type": "code",
   "execution_count": null,
   "metadata": {},
   "outputs": [
    {
     "data": {
      "text/plain": [
       "username\n",
       "esmith    45\n",
       "zsmith    43\n",
       "vsmith    41\n",
       "ysmith    40\n",
       "jsmith    37\n",
       "Name: count, dtype: int64"
      ]
     },
     "metadata": {},
     "output_type": "display_data"
    }
   ],
   "source": [
    "df.username.value_counts().head()"
   ]
  },
  {
   "cell_type": "code",
   "execution_count": null,
   "metadata": {},
   "outputs": [],
   "source": [
    "df = df.set_index('timestamp')"
   ]
  },
  {
   "cell_type": "code",
   "execution_count": null,
   "metadata": {},
   "outputs": [
    {
     "data": {
      "text/html": [
       "<div>\n",
       "<style scoped>\n",
       "    .dataframe tbody tr th:only-of-type {\n",
       "        vertical-align: middle;\n",
       "    }\n",
       "\n",
       "    .dataframe tbody tr th {\n",
       "        vertical-align: top;\n",
       "    }\n",
       "\n",
       "    .dataframe thead th {\n",
       "        text-align: right;\n",
       "    }\n",
       "</style>\n",
       "<table border=\"1\" class=\"dataframe\">\n",
       "  <thead>\n",
       "    <tr style=\"text-align: right;\">\n",
       "      <th></th>\n",
       "      <th>username</th>\n",
       "      <th>temperature</th>\n",
       "      <th>heartrate</th>\n",
       "      <th>build</th>\n",
       "      <th>latest</th>\n",
       "      <th>note</th>\n",
       "    </tr>\n",
       "    <tr>\n",
       "      <th>timestamp</th>\n",
       "      <th></th>\n",
       "      <th></th>\n",
       "      <th></th>\n",
       "      <th></th>\n",
       "      <th></th>\n",
       "      <th></th>\n",
       "    </tr>\n",
       "  </thead>\n",
       "  <tbody>\n",
       "    <tr>\n",
       "      <th>2017-01-01T12:00:23</th>\n",
       "      <td>michaelsmith</td>\n",
       "      <td>12.0</td>\n",
       "      <td>67</td>\n",
       "      <td>4e6a7805-8faa-2768-6ef6-eb3198b483ac</td>\n",
       "      <td>0.0</td>\n",
       "      <td>interval</td>\n",
       "    </tr>\n",
       "    <tr>\n",
       "      <th>2017-01-01T12:01:09</th>\n",
       "      <td>kharrison</td>\n",
       "      <td>6.0</td>\n",
       "      <td>78</td>\n",
       "      <td>7256b7b0-e502-f576-62ec-ed73533c9c84</td>\n",
       "      <td>0.0</td>\n",
       "      <td>wake</td>\n",
       "    </tr>\n",
       "    <tr>\n",
       "      <th>2017-01-01T12:01:34</th>\n",
       "      <td>smithadam</td>\n",
       "      <td>5.0</td>\n",
       "      <td>89</td>\n",
       "      <td>9226c94b-bb4b-a6c8-8e02-cb42b53e9c90</td>\n",
       "      <td>0.0</td>\n",
       "      <td>NaN</td>\n",
       "    </tr>\n",
       "    <tr>\n",
       "      <th>2017-01-01T12:02:09</th>\n",
       "      <td>eddierodriguez</td>\n",
       "      <td>28.0</td>\n",
       "      <td>76</td>\n",
       "      <td>NaN</td>\n",
       "      <td>0.0</td>\n",
       "      <td>update</td>\n",
       "    </tr>\n",
       "    <tr>\n",
       "      <th>2017-01-01T12:02:36</th>\n",
       "      <td>kenneth94</td>\n",
       "      <td>29.0</td>\n",
       "      <td>62</td>\n",
       "      <td>122f1c6a-403c-2221-6ed1-b5caa08f11e0</td>\n",
       "      <td>0.0</td>\n",
       "      <td>NaN</td>\n",
       "    </tr>\n",
       "  </tbody>\n",
       "</table>\n",
       "</div>"
      ],
      "text/plain": [
       "                           username  temperature  heartrate  \\\n",
       "timestamp                                                     \n",
       "2017-01-01T12:00:23    michaelsmith         12.0         67   \n",
       "2017-01-01T12:01:09       kharrison          6.0         78   \n",
       "2017-01-01T12:01:34       smithadam          5.0         89   \n",
       "2017-01-01T12:02:09  eddierodriguez         28.0         76   \n",
       "2017-01-01T12:02:36       kenneth94         29.0         62   \n",
       "\n",
       "                                                    build  latest      note  \n",
       "timestamp                                                                    \n",
       "2017-01-01T12:00:23  4e6a7805-8faa-2768-6ef6-eb3198b483ac     0.0  interval  \n",
       "2017-01-01T12:01:09  7256b7b0-e502-f576-62ec-ed73533c9c84     0.0      wake  \n",
       "2017-01-01T12:01:34  9226c94b-bb4b-a6c8-8e02-cb42b53e9c90     0.0       NaN  \n",
       "2017-01-01T12:02:09                                   NaN     0.0    update  \n",
       "2017-01-01T12:02:36  122f1c6a-403c-2221-6ed1-b5caa08f11e0     0.0       NaN  "
      ]
     },
     "metadata": {},
     "output_type": "display_data"
    }
   ],
   "source": [
    "df.head()"
   ]
  },
  {
   "cell_type": "code",
   "execution_count": null,
   "metadata": {},
   "outputs": [],
   "source": [
    "df.temperature = df.groupby(df['username']).temperature.fillna(df.temperature.mean())"
   ]
  },
  {
   "cell_type": "markdown",
   "metadata": {},
   "source": [
    "### Exercise: How many temperature values did I fill? What percentage of values are still missing (for temperature)?"
   ]
  },
  {
   "cell_type": "code",
   "execution_count": null,
   "metadata": {},
   "outputs": [],
   "source": [
    "rows_filled = 32357 - df[df.temperature.isnull() == True].shape[0] \n",
    "still_missing = df[df.temperature.isnull() == True].shape[0] / df.shape[0]\n"
   ]
  },
  {
   "cell_type": "code",
   "execution_count": null,
   "metadata": {},
   "outputs": [
    {
     "data": {
      "text/plain": [
       "32357"
      ]
     },
     "metadata": {},
     "output_type": "display_data"
    }
   ],
   "source": [
    "rows_filled"
   ]
  },
  {
   "cell_type": "code",
   "execution_count": null,
   "metadata": {},
   "outputs": [
    {
     "data": {
      "text/plain": [
       "0.0"
      ]
     },
     "metadata": {},
     "output_type": "display_data"
    }
   ],
   "source": [
    "still_missing"
   ]
  },
  {
   "cell_type": "code",
   "execution_count": null,
   "metadata": {},
   "outputs": [],
   "source": []
  },
  {
   "cell_type": "code",
   "execution_count": null,
   "metadata": {},
   "outputs": [],
   "source": [
    "from fuzzywuzzy import fuzz, process"
   ]
  },
  {
   "cell_type": "code",
   "execution_count": null,
   "metadata": {},
   "outputs": [],
   "source": [
    "berlin = ['Berlin, Germany', \n",
    "          'Berlin, Deutschland', \n",
    "          'Berlin', \n",
    "          'Berlin, DE']"
   ]
  },
  {
   "cell_type": "code",
   "execution_count": null,
   "metadata": {},
   "outputs": [
    {
     "data": {
      "text/plain": [
       "60"
      ]
     },
     "metadata": {},
     "output_type": "display_data"
    }
   ],
   "source": [
    "fuzz.partial_ratio(berlin[0], berlin[1])"
   ]
  },
  {
   "cell_type": "code",
   "execution_count": null,
   "metadata": {},
   "outputs": [
    {
     "name": "stdout",
     "output_type": "stream",
     "text": [
      "\u001b[1;31mSignature:\u001b[0m \u001b[0mfuzz\u001b[0m\u001b[1;33m.\u001b[0m\u001b[0mratio\u001b[0m\u001b[1;33m(\u001b[0m\u001b[0ms1\u001b[0m\u001b[1;33m,\u001b[0m \u001b[0ms2\u001b[0m\u001b[1;33m)\u001b[0m\u001b[1;33m\u001b[0m\u001b[1;33m\u001b[0m\u001b[0m\n",
      "\u001b[1;31mDocstring:\u001b[0m <no docstring>\n",
      "\u001b[1;31mFile:\u001b[0m      c:\\users\\risha\\appdata\\local\\programs\\python\\python312\\lib\\site-packages\\fuzzywuzzy\\fuzz.py\n",
      "\u001b[1;31mType:\u001b[0m      function"
     ]
    }
   ],
   "source": [
    "fuzz.ratio?"
   ]
  },
  {
   "cell_type": "code",
   "execution_count": null,
   "metadata": {},
   "outputs": [
    {
     "data": {
      "text/plain": [
       "65"
      ]
     },
     "metadata": {},
     "output_type": "display_data"
    }
   ],
   "source": [
    "fuzz.ratio(berlin[0], berlin[1])"
   ]
  },
  {
   "cell_type": "code",
   "execution_count": null,
   "metadata": {},
   "outputs": [
    {
     "data": {
      "text/plain": [
       "62"
      ]
     },
     "metadata": {},
     "output_type": "display_data"
    }
   ],
   "source": [
    "fuzz.token_set_ratio(berlin[0], berlin[1])"
   ]
  },
  {
   "cell_type": "code",
   "execution_count": null,
   "metadata": {},
   "outputs": [
    {
     "data": {
      "text/plain": [
       "62"
      ]
     },
     "metadata": {},
     "output_type": "display_data"
    }
   ],
   "source": [
    "fuzz.token_sort_ratio(berlin[0], berlin[1])"
   ]
  },
  {
   "cell_type": "code",
   "execution_count": null,
   "metadata": {},
   "outputs": [
    {
     "data": {
      "text/plain": [
       "100"
      ]
     },
     "metadata": {},
     "output_type": "display_data"
    }
   ],
   "source": [
    "fuzz.partial_ratio(berlin[1], berlin[2])"
   ]
  },
  {
   "cell_type": "code",
   "execution_count": null,
   "metadata": {},
   "outputs": [
    {
     "data": {
      "text/plain": [
       "48"
      ]
     },
     "metadata": {},
     "output_type": "display_data"
    }
   ],
   "source": [
    "fuzz.ratio(berlin[1], berlin[2])"
   ]
  },
  {
   "cell_type": "code",
   "execution_count": null,
   "metadata": {},
   "outputs": [
    {
     "data": {
      "text/plain": [
       "50"
      ]
     },
     "metadata": {},
     "output_type": "display_data"
    }
   ],
   "source": [
    "fuzz.token_sort_ratio(berlin[1], berlin[2])"
   ]
  },
  {
   "cell_type": "code",
   "execution_count": null,
   "metadata": {},
   "outputs": [
    {
     "data": {
      "text/plain": [
       "100"
      ]
     },
     "metadata": {},
     "output_type": "display_data"
    }
   ],
   "source": [
    "fuzz.token_set_ratio(berlin[2], berlin[3])"
   ]
  },
  {
   "cell_type": "code",
   "execution_count": null,
   "metadata": {},
   "outputs": [],
   "source": [
    "choices = ['Germany', 'Deutschland', 'France', \n",
    "           'United Kingdom', 'Great Britain', \n",
    "           'United States']"
   ]
  },
  {
   "cell_type": "code",
   "execution_count": null,
   "metadata": {},
   "outputs": [
    {
     "data": {
      "text/plain": [
       "[('Deutschland', 90), ('United States', 57)]"
      ]
     },
     "metadata": {},
     "output_type": "display_data"
    }
   ],
   "source": [
    "process.extract('DE', choices, limit=2)"
   ]
  },
  {
   "cell_type": "code",
   "execution_count": null,
   "metadata": {},
   "outputs": [
    {
     "data": {
      "text/plain": [
       "[('Deutschland', 45),\n",
       " ('United Kingdom', 45),\n",
       " ('United States', 45),\n",
       " ('Germany', 0),\n",
       " ('France', 0)]"
      ]
     },
     "metadata": {},
     "output_type": "display_data"
    }
   ],
   "source": [
    "process.extract('UK', choices)"
   ]
  },
  {
   "cell_type": "code",
   "execution_count": null,
   "metadata": {},
   "outputs": [
    {
     "data": {
      "text/plain": [
       "[('France', 62),\n",
       " ('Great Britain', 41),\n",
       " ('Germany', 35),\n",
       " ('United Kingdom', 25),\n",
       " ('United States', 25)]"
      ]
     },
     "metadata": {},
     "output_type": "display_data"
    }
   ],
   "source": [
    "process.extract('frankreich', choices)"
   ]
  },
  {
   "cell_type": "code",
   "execution_count": null,
   "metadata": {},
   "outputs": [
    {
     "data": {
      "text/plain": [
       "[('United States', 86),\n",
       " ('Deutschland', 60),\n",
       " ('United Kingdom', 57),\n",
       " ('Great Britain', 30),\n",
       " ('Germany', 0)]"
      ]
     },
     "metadata": {},
     "output_type": "display_data"
    }
   ],
   "source": [
    "process.extract('U.S.', choices)"
   ]
  },
  {
   "cell_type": "code",
   "execution_count": null,
   "metadata": {},
   "outputs": [],
   "source": []
  },
  {
   "cell_type": "code",
   "execution_count": null,
   "metadata": {},
   "outputs": [],
   "source": [
    "from sklearn import preprocessing\n",
    "import pandas as pd\n",
    "from datetime import datetime\n",
    "from sklearn.impute import SimpleImputer"
   ]
  },
  {
   "cell_type": "code",
   "execution_count": null,
   "metadata": {},
   "outputs": [],
   "source": [
    "hvac = pd.read_csv(r\"C:\\Users\\risha\\Documents\\KRMU\\AIML_assigment\\datasets\\HVAC_with_nulls.csv\")"
   ]
  },
  {
   "cell_type": "markdown",
   "metadata": {},
   "source": [
    "### Checking Data Quality"
   ]
  },
  {
   "cell_type": "code",
   "execution_count": null,
   "metadata": {},
   "outputs": [
    {
     "data": {
      "text/plain": [
       "Date           object\n",
       "Time           object\n",
       "TargetTemp    float64\n",
       "ActualTemp      int64\n",
       "System          int64\n",
       "SystemAge     float64\n",
       "BuildingID      int64\n",
       "10            float64\n",
       "dtype: object"
      ]
     },
     "metadata": {},
     "output_type": "display_data"
    }
   ],
   "source": [
    "hvac.dtypes"
   ]
  },
  {
   "cell_type": "code",
   "execution_count": null,
   "metadata": {},
   "outputs": [
    {
     "data": {
      "text/plain": [
       "(8000, 8)"
      ]
     },
     "metadata": {},
     "output_type": "display_data"
    }
   ],
   "source": [
    "hvac.shape"
   ]
  },
  {
   "cell_type": "code",
   "execution_count": null,
   "metadata": {},
   "outputs": [],
   "source": [
    "hvac= hvac.drop(['10'], axis=1)"
   ]
  },
  {
   "cell_type": "code",
   "execution_count": null,
   "metadata": {},
   "outputs": [
    {
     "data": {
      "text/html": [
       "<div>\n",
       "<style scoped>\n",
       "    .dataframe tbody tr th:only-of-type {\n",
       "        vertical-align: middle;\n",
       "    }\n",
       "\n",
       "    .dataframe tbody tr th {\n",
       "        vertical-align: top;\n",
       "    }\n",
       "\n",
       "    .dataframe thead th {\n",
       "        text-align: right;\n",
       "    }\n",
       "</style>\n",
       "<table border=\"1\" class=\"dataframe\">\n",
       "  <thead>\n",
       "    <tr style=\"text-align: right;\">\n",
       "      <th></th>\n",
       "      <th>Date</th>\n",
       "      <th>Time</th>\n",
       "      <th>TargetTemp</th>\n",
       "      <th>ActualTemp</th>\n",
       "      <th>System</th>\n",
       "      <th>SystemAge</th>\n",
       "      <th>BuildingID</th>\n",
       "    </tr>\n",
       "  </thead>\n",
       "  <tbody>\n",
       "    <tr>\n",
       "      <th>0</th>\n",
       "      <td>6/1/13</td>\n",
       "      <td>0:00:01</td>\n",
       "      <td>66.0</td>\n",
       "      <td>58</td>\n",
       "      <td>13</td>\n",
       "      <td>20.0</td>\n",
       "      <td>4</td>\n",
       "    </tr>\n",
       "    <tr>\n",
       "      <th>1</th>\n",
       "      <td>6/2/13</td>\n",
       "      <td>1:00:01</td>\n",
       "      <td>NaN</td>\n",
       "      <td>68</td>\n",
       "      <td>3</td>\n",
       "      <td>20.0</td>\n",
       "      <td>17</td>\n",
       "    </tr>\n",
       "    <tr>\n",
       "      <th>2</th>\n",
       "      <td>6/3/13</td>\n",
       "      <td>2:00:01</td>\n",
       "      <td>70.0</td>\n",
       "      <td>73</td>\n",
       "      <td>17</td>\n",
       "      <td>20.0</td>\n",
       "      <td>18</td>\n",
       "    </tr>\n",
       "    <tr>\n",
       "      <th>3</th>\n",
       "      <td>6/4/13</td>\n",
       "      <td>3:00:01</td>\n",
       "      <td>67.0</td>\n",
       "      <td>63</td>\n",
       "      <td>2</td>\n",
       "      <td>NaN</td>\n",
       "      <td>15</td>\n",
       "    </tr>\n",
       "    <tr>\n",
       "      <th>4</th>\n",
       "      <td>6/5/13</td>\n",
       "      <td>4:00:01</td>\n",
       "      <td>68.0</td>\n",
       "      <td>74</td>\n",
       "      <td>16</td>\n",
       "      <td>9.0</td>\n",
       "      <td>3</td>\n",
       "    </tr>\n",
       "  </tbody>\n",
       "</table>\n",
       "</div>"
      ],
      "text/plain": [
       "     Date     Time  TargetTemp  ActualTemp  System  SystemAge  BuildingID\n",
       "0  6/1/13  0:00:01        66.0          58      13       20.0           4\n",
       "1  6/2/13  1:00:01         NaN          68       3       20.0          17\n",
       "2  6/3/13  2:00:01        70.0          73      17       20.0          18\n",
       "3  6/4/13  3:00:01        67.0          63       2        NaN          15\n",
       "4  6/5/13  4:00:01        68.0          74      16        9.0           3"
      ]
     },
     "metadata": {},
     "output_type": "display_data"
    }
   ],
   "source": [
    "hvac.head()"
   ]
  },
  {
   "cell_type": "markdown",
   "metadata": {},
   "source": [
    "### Impute missing values with mean"
   ]
  },
  {
   "cell_type": "code",
   "execution_count": null,
   "metadata": {},
   "outputs": [],
   "source": [
    "\n",
    "# imp = SimpleImputer(missing_values='NaN', strategy='mean')\n",
    "hvac.TargetTemp= hvac.TargetTemp.fillna(hvac.TargetTemp.mean())"
   ]
  },
  {
   "cell_type": "code",
   "execution_count": null,
   "metadata": {},
   "outputs": [],
   "source": [
    "hvac_numeric = hvac[['TargetTemp', 'SystemAge']]"
   ]
  },
  {
   "cell_type": "code",
   "execution_count": null,
   "metadata": {},
   "outputs": [
    {
     "data": {
      "text/html": [
       "<div>\n",
       "<style scoped>\n",
       "    .dataframe tbody tr th:only-of-type {\n",
       "        vertical-align: middle;\n",
       "    }\n",
       "\n",
       "    .dataframe tbody tr th {\n",
       "        vertical-align: top;\n",
       "    }\n",
       "\n",
       "    .dataframe thead th {\n",
       "        text-align: right;\n",
       "    }\n",
       "</style>\n",
       "<table border=\"1\" class=\"dataframe\">\n",
       "  <thead>\n",
       "    <tr style=\"text-align: right;\">\n",
       "      <th></th>\n",
       "      <th>Date</th>\n",
       "      <th>Time</th>\n",
       "      <th>TargetTemp</th>\n",
       "      <th>ActualTemp</th>\n",
       "      <th>System</th>\n",
       "      <th>SystemAge</th>\n",
       "      <th>BuildingID</th>\n",
       "    </tr>\n",
       "  </thead>\n",
       "  <tbody>\n",
       "    <tr>\n",
       "      <th>0</th>\n",
       "      <td>6/1/13</td>\n",
       "      <td>0:00:01</td>\n",
       "      <td>66.000000</td>\n",
       "      <td>58</td>\n",
       "      <td>13</td>\n",
       "      <td>20.0</td>\n",
       "      <td>4</td>\n",
       "    </tr>\n",
       "    <tr>\n",
       "      <th>1</th>\n",
       "      <td>6/2/13</td>\n",
       "      <td>1:00:01</td>\n",
       "      <td>67.507735</td>\n",
       "      <td>68</td>\n",
       "      <td>3</td>\n",
       "      <td>20.0</td>\n",
       "      <td>17</td>\n",
       "    </tr>\n",
       "    <tr>\n",
       "      <th>2</th>\n",
       "      <td>6/3/13</td>\n",
       "      <td>2:00:01</td>\n",
       "      <td>70.000000</td>\n",
       "      <td>73</td>\n",
       "      <td>17</td>\n",
       "      <td>20.0</td>\n",
       "      <td>18</td>\n",
       "    </tr>\n",
       "    <tr>\n",
       "      <th>3</th>\n",
       "      <td>6/4/13</td>\n",
       "      <td>3:00:01</td>\n",
       "      <td>67.000000</td>\n",
       "      <td>63</td>\n",
       "      <td>2</td>\n",
       "      <td>NaN</td>\n",
       "      <td>15</td>\n",
       "    </tr>\n",
       "    <tr>\n",
       "      <th>4</th>\n",
       "      <td>6/5/13</td>\n",
       "      <td>4:00:01</td>\n",
       "      <td>68.000000</td>\n",
       "      <td>74</td>\n",
       "      <td>16</td>\n",
       "      <td>9.0</td>\n",
       "      <td>3</td>\n",
       "    </tr>\n",
       "  </tbody>\n",
       "</table>\n",
       "</div>"
      ],
      "text/plain": [
       "     Date     Time  TargetTemp  ActualTemp  System  SystemAge  BuildingID\n",
       "0  6/1/13  0:00:01   66.000000          58      13       20.0           4\n",
       "1  6/2/13  1:00:01   67.507735          68       3       20.0          17\n",
       "2  6/3/13  2:00:01   70.000000          73      17       20.0          18\n",
       "3  6/4/13  3:00:01   67.000000          63       2        NaN          15\n",
       "4  6/5/13  4:00:01   68.000000          74      16        9.0           3"
      ]
     },
     "metadata": {},
     "output_type": "display_data"
    }
   ],
   "source": [
    "hvac.head()"
   ]
  },
  {
   "cell_type": "markdown",
   "metadata": {},
   "source": [
    "### Scale temperature values"
   ]
  },
  {
   "cell_type": "code",
   "execution_count": null,
   "metadata": {},
   "outputs": [],
   "source": [
    "hvac['ScaledTemp'] = preprocessing.scale(hvac['ActualTemp'])"
   ]
  },
  {
   "cell_type": "code",
   "execution_count": null,
   "metadata": {},
   "outputs": [
    {
     "data": {
      "text/plain": [
       "0   -1.293272\n",
       "1    0.048732\n",
       "2    0.719733\n",
       "3   -0.622270\n",
       "4    0.853934\n",
       "Name: ScaledTemp, dtype: float64"
      ]
     },
     "metadata": {},
     "output_type": "display_data"
    }
   ],
   "source": [
    "hvac['ScaledTemp'].head()"
   ]
  },
  {
   "cell_type": "markdown",
   "metadata": {},
   "source": [
    "### Scale using a min and max scaler "
   ]
  },
  {
   "cell_type": "code",
   "execution_count": null,
   "metadata": {},
   "outputs": [],
   "source": [
    "min_max_scaler = preprocessing.MinMaxScaler()"
   ]
  },
  {
   "cell_type": "code",
   "execution_count": null,
   "metadata": {},
   "outputs": [],
   "source": [
    "temp_minmax = min_max_scaler.fit_transform(hvac[['ActualTemp']])"
   ]
  },
  {
   "cell_type": "code",
   "execution_count": null,
   "metadata": {},
   "outputs": [
    {
     "data": {
      "text/plain": [
       "array([[0.12],\n",
       "       [0.52],\n",
       "       [0.72],\n",
       "       ...,\n",
       "       [0.56],\n",
       "       [0.32],\n",
       "       [0.44]])"
      ]
     },
     "metadata": {},
     "output_type": "display_data"
    }
   ],
   "source": [
    "temp_minmax"
   ]
  },
  {
   "cell_type": "markdown",
   "metadata": {},
   "source": [
    "### Exercise: add the temp_minmax back to the dataframe as a new column"
   ]
  },
  {
   "cell_type": "code",
   "execution_count": null,
   "metadata": {},
   "outputs": [
    {
     "data": {
      "text/plain": [
       "0    0.12\n",
       "1    0.52\n",
       "2    0.72\n",
       "3    0.32\n",
       "4    0.76\n",
       "Name: MinMaxScaledTemp, dtype: float64"
      ]
     },
     "metadata": {},
     "output_type": "display_data"
    }
   ],
   "source": [
    "hvac['MinMaxScaledTemp'] = temp_minmax[:,0]\n",
    "hvac['MinMaxScaledTemp'].head()"
   ]
  },
  {
   "cell_type": "code",
   "execution_count": null,
   "metadata": {},
   "outputs": [],
   "source": []
  },
  {
   "cell_type": "markdown",
   "metadata": {},
   "source": [
    "## Case Study: Preparing Lobste.rs"
   ]
  },
  {
   "cell_type": "code",
   "execution_count": null,
   "metadata": {},
   "outputs": [],
   "source": [
    "import pandas as pd\n",
    "import requests\n",
    "from fuzzywuzzy import fuzz\n",
    "from collections import Counter\n",
    "from sklearn import preprocessing"
   ]
  },
  {
   "cell_type": "markdown",
   "metadata": {},
   "source": [
    "### If you'd rather read from the API to get the latest, uncomment the details (and add comment to the final line)"
   ]
  },
  {
   "cell_type": "code",
   "execution_count": null,
   "metadata": {},
   "outputs": [],
   "source": [
    "stories = pd.read_json(r'C:\\Users\\risha\\Documents\\KRMU\\AIML_assigment\\datasets\\all_lobsters.json')"
   ]
  },
  {
   "cell_type": "code",
   "execution_count": null,
   "metadata": {},
   "outputs": [
    {
     "data": {
      "text/html": [
       "<div>\n",
       "<style scoped>\n",
       "    .dataframe tbody tr th:only-of-type {\n",
       "        vertical-align: middle;\n",
       "    }\n",
       "\n",
       "    .dataframe tbody tr th {\n",
       "        vertical-align: top;\n",
       "    }\n",
       "\n",
       "    .dataframe thead th {\n",
       "        text-align: right;\n",
       "    }\n",
       "</style>\n",
       "<table border=\"1\" class=\"dataframe\">\n",
       "  <thead>\n",
       "    <tr style=\"text-align: right;\">\n",
       "      <th></th>\n",
       "      <th>comment_count</th>\n",
       "      <th>comments_url</th>\n",
       "      <th>created_at</th>\n",
       "      <th>description</th>\n",
       "      <th>downvotes</th>\n",
       "      <th>last_updated</th>\n",
       "      <th>score</th>\n",
       "      <th>short_id_url</th>\n",
       "      <th>submitter_user</th>\n",
       "      <th>tags</th>\n",
       "      <th>title</th>\n",
       "      <th>upvotes</th>\n",
       "      <th>url</th>\n",
       "    </tr>\n",
       "  </thead>\n",
       "  <tbody>\n",
       "    <tr>\n",
       "      <th>09zw7r</th>\n",
       "      <td>0</td>\n",
       "      <td>https://lobste.rs/s/09zw7r/edited_truth</td>\n",
       "      <td>2017-08-08 20:11:09</td>\n",
       "      <td></td>\n",
       "      <td>0</td>\n",
       "      <td>2017-08-09T11:03:57.014269</td>\n",
       "      <td>3</td>\n",
       "      <td>https://lobste.rs/s/09zw7r</td>\n",
       "      <td>{'avatar_url': 'https://lobste.rs/avatars/trn-...</td>\n",
       "      <td>[crypto, pdf]</td>\n",
       "      <td>The Edited Truth</td>\n",
       "      <td>3</td>\n",
       "      <td>https://eprint.iacr.org/2017/714.pdf</td>\n",
       "    </tr>\n",
       "    <tr>\n",
       "      <th>0bdne7</th>\n",
       "      <td>17</td>\n",
       "      <td>https://lobste.rs/s/0bdne7/rise_social_media_v...</td>\n",
       "      <td>2017-08-08 21:12:38</td>\n",
       "      <td></td>\n",
       "      <td>9</td>\n",
       "      <td>2017-08-09T11:03:57.014269</td>\n",
       "      <td>-1</td>\n",
       "      <td>https://lobste.rs/s/0bdne7</td>\n",
       "      <td>{'avatar_url': 'https://lobste.rs/avatars/nkhu...</td>\n",
       "      <td>[law, privacy]</td>\n",
       "      <td>The Rise of The Social Media Vigilante</td>\n",
       "      <td>8</td>\n",
       "      <td>https://medium.com/@nkhumphreys_89452/the-rise...</td>\n",
       "    </tr>\n",
       "    <tr>\n",
       "      <th>1bhbod</th>\n",
       "      <td>11</td>\n",
       "      <td>https://lobste.rs/s/1bhbod/tcl_misunderstood_a...</td>\n",
       "      <td>2017-04-30 20:28:52</td>\n",
       "      <td>&lt;p&gt;Did any language end up taking that “highly...</td>\n",
       "      <td>0</td>\n",
       "      <td>2017-05-01T06:29:11.725518</td>\n",
       "      <td>17</td>\n",
       "      <td>https://lobste.rs/s/1bhbod</td>\n",
       "      <td>{'is_moderator': False, 'is_admin': False, 'us...</td>\n",
       "      <td>[programming]</td>\n",
       "      <td>Tcl the misunderstood - antirez</td>\n",
       "      <td>17</td>\n",
       "      <td>http://antirez.com/articoli/tclmisunderstood.html</td>\n",
       "    </tr>\n",
       "    <tr>\n",
       "      <th>1xkje1</th>\n",
       "      <td>0</td>\n",
       "      <td>https://lobste.rs/s/1xkje1/interview_4_jonatha...</td>\n",
       "      <td>2017-05-01 02:31:35</td>\n",
       "      <td>&lt;p&gt;Rust’s own Jonathan Turner on his backgroun...</td>\n",
       "      <td>0</td>\n",
       "      <td>2017-05-01T06:29:11.725518</td>\n",
       "      <td>1</td>\n",
       "      <td>https://lobste.rs/s/1xkje1</td>\n",
       "      <td>{'is_moderator': False, 'is_admin': False, 'us...</td>\n",
       "      <td>[audio, javascript, rust]</td>\n",
       "      <td>🎤🎙 Interview 4 – Jonathan Turner: Part 1/3</td>\n",
       "      <td>1</td>\n",
       "      <td>http://www.newrustacean.com/show_notes/intervi...</td>\n",
       "    </tr>\n",
       "    <tr>\n",
       "      <th>2dasvh</th>\n",
       "      <td>19</td>\n",
       "      <td>https://lobste.rs/s/2dasvh/return_hipster_pda</td>\n",
       "      <td>2017-08-08 14:25:29</td>\n",
       "      <td></td>\n",
       "      <td>0</td>\n",
       "      <td>2017-08-09T11:03:56.287654</td>\n",
       "      <td>20</td>\n",
       "      <td>https://lobste.rs/s/2dasvh</td>\n",
       "      <td>{'created_at': '2017-01-19T14:56:50.000-06:00'...</td>\n",
       "      <td>[practices]</td>\n",
       "      <td>The Return of the Hipster PDA</td>\n",
       "      <td>20</td>\n",
       "      <td>http://www.agilesysadmin.net/return-of-the-hip...</td>\n",
       "    </tr>\n",
       "  </tbody>\n",
       "</table>\n",
       "</div>"
      ],
      "text/plain": [
       "        comment_count                                       comments_url  \\\n",
       "09zw7r              0            https://lobste.rs/s/09zw7r/edited_truth   \n",
       "0bdne7             17  https://lobste.rs/s/0bdne7/rise_social_media_v...   \n",
       "1bhbod             11  https://lobste.rs/s/1bhbod/tcl_misunderstood_a...   \n",
       "1xkje1              0  https://lobste.rs/s/1xkje1/interview_4_jonatha...   \n",
       "2dasvh             19      https://lobste.rs/s/2dasvh/return_hipster_pda   \n",
       "\n",
       "                created_at                                        description  \\\n",
       "09zw7r 2017-08-08 20:11:09                                                      \n",
       "0bdne7 2017-08-08 21:12:38                                                      \n",
       "1bhbod 2017-04-30 20:28:52  <p>Did any language end up taking that “highly...   \n",
       "1xkje1 2017-05-01 02:31:35  <p>Rust’s own Jonathan Turner on his backgroun...   \n",
       "2dasvh 2017-08-08 14:25:29                                                      \n",
       "\n",
       "        downvotes                last_updated  score  \\\n",
       "09zw7r          0  2017-08-09T11:03:57.014269      3   \n",
       "0bdne7          9  2017-08-09T11:03:57.014269     -1   \n",
       "1bhbod          0  2017-05-01T06:29:11.725518     17   \n",
       "1xkje1          0  2017-05-01T06:29:11.725518      1   \n",
       "2dasvh          0  2017-08-09T11:03:56.287654     20   \n",
       "\n",
       "                      short_id_url  \\\n",
       "09zw7r  https://lobste.rs/s/09zw7r   \n",
       "0bdne7  https://lobste.rs/s/0bdne7   \n",
       "1bhbod  https://lobste.rs/s/1bhbod   \n",
       "1xkje1  https://lobste.rs/s/1xkje1   \n",
       "2dasvh  https://lobste.rs/s/2dasvh   \n",
       "\n",
       "                                           submitter_user  \\\n",
       "09zw7r  {'avatar_url': 'https://lobste.rs/avatars/trn-...   \n",
       "0bdne7  {'avatar_url': 'https://lobste.rs/avatars/nkhu...   \n",
       "1bhbod  {'is_moderator': False, 'is_admin': False, 'us...   \n",
       "1xkje1  {'is_moderator': False, 'is_admin': False, 'us...   \n",
       "2dasvh  {'created_at': '2017-01-19T14:56:50.000-06:00'...   \n",
       "\n",
       "                             tags                                       title  \\\n",
       "09zw7r              [crypto, pdf]                            The Edited Truth   \n",
       "0bdne7             [law, privacy]      The Rise of The Social Media Vigilante   \n",
       "1bhbod              [programming]             Tcl the misunderstood - antirez   \n",
       "1xkje1  [audio, javascript, rust]  🎤🎙 Interview 4 – Jonathan Turner: Part 1/3   \n",
       "2dasvh                [practices]               The Return of the Hipster PDA   \n",
       "\n",
       "        upvotes                                                url  \n",
       "09zw7r        3               https://eprint.iacr.org/2017/714.pdf  \n",
       "0bdne7        8  https://medium.com/@nkhumphreys_89452/the-rise...  \n",
       "1bhbod       17  http://antirez.com/articoli/tclmisunderstood.html  \n",
       "1xkje1        1  http://www.newrustacean.com/show_notes/intervi...  \n",
       "2dasvh       20  http://www.agilesysadmin.net/return-of-the-hip...  "
      ]
     },
     "metadata": {},
     "output_type": "display_data"
    }
   ],
   "source": [
    "stories.head()"
   ]
  },
  {
   "cell_type": "code",
   "execution_count": null,
   "metadata": {},
   "outputs": [
    {
     "data": {
      "text/plain": [
       "comment_count              int64\n",
       "comments_url              object\n",
       "created_at        datetime64[ns]\n",
       "description               object\n",
       "downvotes                  int64\n",
       "last_updated              object\n",
       "score                      int64\n",
       "short_id_url              object\n",
       "submitter_user            object\n",
       "tags                      object\n",
       "title                     object\n",
       "upvotes                    int64\n",
       "url                       object\n",
       "dtype: object"
      ]
     },
     "metadata": {},
     "output_type": "display_data"
    }
   ],
   "source": [
    "stories.dtypes"
   ]
  },
  {
   "cell_type": "markdown",
   "metadata": {},
   "source": [
    "### Let's take a look at the submitter_user field, as it appears like a dict"
   ]
  },
  {
   "cell_type": "code",
   "execution_count": null,
   "metadata": {},
   "outputs": [
    {
     "data": {
      "text/plain": [
       "{'is_moderator': False,\n",
       " 'is_admin': False,\n",
       " 'username': 'chriskrycho',\n",
       " 'karma': 27,\n",
       " 'avatar_url': 'https://secure.gravatar.com/avatar/c096ed07142659408dc6651f8320acd3?r=pg&d=identicon&s=100',\n",
       " 'created_at': '2016-08-15T09:33:28.000-05:00',\n",
       " 'about': \"I'm a husband and father; a theologian, composer, poet, and essayist; a front end developer at [Olo](http://www.olo.com); a [Rust](https://www.rust-lang.org/en-US/) enthusiast host; and the host of the [Winning Slowly](http://www.winningslowly.org), [New Rustacean](http://www.newrustacean.com/), [Sap.py](http://www.sap-py.com), and [Run With Me](http://runwith.chriskrycho.com/) podcasts.\"}"
      ]
     },
     "metadata": {},
     "output_type": "display_data"
    }
   ],
   "source": [
    "stories.submitter_user.iloc[3]"
   ]
  },
  {
   "cell_type": "code",
   "execution_count": null,
   "metadata": {},
   "outputs": [],
   "source": [
    "user_df = stories['submitter_user'].apply(pd.Series)"
   ]
  },
  {
   "cell_type": "code",
   "execution_count": null,
   "metadata": {},
   "outputs": [
    {
     "data": {
      "text/html": [
       "<div>\n",
       "<style scoped>\n",
       "    .dataframe tbody tr th:only-of-type {\n",
       "        vertical-align: middle;\n",
       "    }\n",
       "\n",
       "    .dataframe tbody tr th {\n",
       "        vertical-align: top;\n",
       "    }\n",
       "\n",
       "    .dataframe thead th {\n",
       "        text-align: right;\n",
       "    }\n",
       "</style>\n",
       "<table border=\"1\" class=\"dataframe\">\n",
       "  <thead>\n",
       "    <tr style=\"text-align: right;\">\n",
       "      <th></th>\n",
       "      <th>avatar_url</th>\n",
       "      <th>created_at</th>\n",
       "      <th>is_admin</th>\n",
       "      <th>username</th>\n",
       "      <th>karma</th>\n",
       "      <th>is_moderator</th>\n",
       "      <th>about</th>\n",
       "      <th>github_username</th>\n",
       "    </tr>\n",
       "  </thead>\n",
       "  <tbody>\n",
       "    <tr>\n",
       "      <th>09zw7r</th>\n",
       "      <td>https://lobste.rs/avatars/trn-100.png</td>\n",
       "      <td>2017-01-19T14:56:50.000-06:00</td>\n",
       "      <td>False</td>\n",
       "      <td>trn</td>\n",
       "      <td>429</td>\n",
       "      <td>False</td>\n",
       "      <td></td>\n",
       "      <td>NaN</td>\n",
       "    </tr>\n",
       "    <tr>\n",
       "      <th>0bdne7</th>\n",
       "      <td>https://lobste.rs/avatars/nkhumphreys-100.png</td>\n",
       "      <td>2014-07-02T06:36:39.000-05:00</td>\n",
       "      <td>False</td>\n",
       "      <td>nkhumphreys</td>\n",
       "      <td>-1</td>\n",
       "      <td>False</td>\n",
       "      <td>Web developer and previously embedded C developer</td>\n",
       "      <td>NaN</td>\n",
       "    </tr>\n",
       "    <tr>\n",
       "      <th>1bhbod</th>\n",
       "      <td>https://secure.gravatar.com/avatar/85002353297...</td>\n",
       "      <td>2016-11-30T10:14:24.000-06:00</td>\n",
       "      <td>False</td>\n",
       "      <td>yumaikas</td>\n",
       "      <td>578</td>\n",
       "      <td>False</td>\n",
       "      <td>I blog infrequently at https://junglecoder.com...</td>\n",
       "      <td>NaN</td>\n",
       "    </tr>\n",
       "    <tr>\n",
       "      <th>1xkje1</th>\n",
       "      <td>https://secure.gravatar.com/avatar/c096ed07142...</td>\n",
       "      <td>2016-08-15T09:33:28.000-05:00</td>\n",
       "      <td>False</td>\n",
       "      <td>chriskrycho</td>\n",
       "      <td>27</td>\n",
       "      <td>False</td>\n",
       "      <td>I'm a husband and father; a theologian, compos...</td>\n",
       "      <td>NaN</td>\n",
       "    </tr>\n",
       "    <tr>\n",
       "      <th>2dasvh</th>\n",
       "      <td>https://lobste.rs/avatars/trn-100.png</td>\n",
       "      <td>2017-01-19T14:56:50.000-06:00</td>\n",
       "      <td>False</td>\n",
       "      <td>trn</td>\n",
       "      <td>429</td>\n",
       "      <td>False</td>\n",
       "      <td></td>\n",
       "      <td>NaN</td>\n",
       "    </tr>\n",
       "  </tbody>\n",
       "</table>\n",
       "</div>"
      ],
      "text/plain": [
       "                                               avatar_url  \\\n",
       "09zw7r              https://lobste.rs/avatars/trn-100.png   \n",
       "0bdne7      https://lobste.rs/avatars/nkhumphreys-100.png   \n",
       "1bhbod  https://secure.gravatar.com/avatar/85002353297...   \n",
       "1xkje1  https://secure.gravatar.com/avatar/c096ed07142...   \n",
       "2dasvh              https://lobste.rs/avatars/trn-100.png   \n",
       "\n",
       "                           created_at  is_admin     username  karma  \\\n",
       "09zw7r  2017-01-19T14:56:50.000-06:00     False          trn    429   \n",
       "0bdne7  2014-07-02T06:36:39.000-05:00     False  nkhumphreys     -1   \n",
       "1bhbod  2016-11-30T10:14:24.000-06:00     False     yumaikas    578   \n",
       "1xkje1  2016-08-15T09:33:28.000-05:00     False  chriskrycho     27   \n",
       "2dasvh  2017-01-19T14:56:50.000-06:00     False          trn    429   \n",
       "\n",
       "        is_moderator                                              about  \\\n",
       "09zw7r         False                                                      \n",
       "0bdne7         False  Web developer and previously embedded C developer   \n",
       "1bhbod         False  I blog infrequently at https://junglecoder.com...   \n",
       "1xkje1         False  I'm a husband and father; a theologian, compos...   \n",
       "2dasvh         False                                                      \n",
       "\n",
       "       github_username  \n",
       "09zw7r             NaN  \n",
       "0bdne7             NaN  \n",
       "1bhbod             NaN  \n",
       "1xkje1             NaN  \n",
       "2dasvh             NaN  "
      ]
     },
     "metadata": {},
     "output_type": "display_data"
    }
   ],
   "source": [
    "user_df.head()"
   ]
  },
  {
   "cell_type": "markdown",
   "metadata": {},
   "source": [
    "### Can we combine the user data without potential column overlap?"
   ]
  },
  {
   "cell_type": "code",
   "execution_count": null,
   "metadata": {},
   "outputs": [
    {
     "data": {
      "text/plain": [
       "{'created_at'}"
      ]
     },
     "metadata": {},
     "output_type": "display_data"
    }
   ],
   "source": [
    "set(user_df.columns).intersection(stories.columns)"
   ]
  },
  {
   "cell_type": "code",
   "execution_count": null,
   "metadata": {},
   "outputs": [],
   "source": [
    "user_df = user_df.rename(columns={'created_at': \n",
    "                                  'user_created_at'})"
   ]
  },
  {
   "cell_type": "code",
   "execution_count": null,
   "metadata": {},
   "outputs": [],
   "source": [
    "stories = pd.concat([stories.drop(['submitter_user'], axis=1), \n",
    "                     user_df], axis=1)"
   ]
  },
  {
   "cell_type": "code",
   "execution_count": null,
   "metadata": {},
   "outputs": [
    {
     "data": {
      "text/html": [
       "<div>\n",
       "<style scoped>\n",
       "    .dataframe tbody tr th:only-of-type {\n",
       "        vertical-align: middle;\n",
       "    }\n",
       "\n",
       "    .dataframe tbody tr th {\n",
       "        vertical-align: top;\n",
       "    }\n",
       "\n",
       "    .dataframe thead th {\n",
       "        text-align: right;\n",
       "    }\n",
       "</style>\n",
       "<table border=\"1\" class=\"dataframe\">\n",
       "  <thead>\n",
       "    <tr style=\"text-align: right;\">\n",
       "      <th></th>\n",
       "      <th>comment_count</th>\n",
       "      <th>comments_url</th>\n",
       "      <th>created_at</th>\n",
       "      <th>description</th>\n",
       "      <th>downvotes</th>\n",
       "      <th>last_updated</th>\n",
       "      <th>score</th>\n",
       "      <th>short_id_url</th>\n",
       "      <th>tags</th>\n",
       "      <th>title</th>\n",
       "      <th>upvotes</th>\n",
       "      <th>url</th>\n",
       "      <th>avatar_url</th>\n",
       "      <th>user_created_at</th>\n",
       "      <th>is_admin</th>\n",
       "      <th>username</th>\n",
       "      <th>karma</th>\n",
       "      <th>is_moderator</th>\n",
       "      <th>about</th>\n",
       "      <th>github_username</th>\n",
       "    </tr>\n",
       "  </thead>\n",
       "  <tbody>\n",
       "    <tr>\n",
       "      <th>09zw7r</th>\n",
       "      <td>0</td>\n",
       "      <td>https://lobste.rs/s/09zw7r/edited_truth</td>\n",
       "      <td>2017-08-08 20:11:09</td>\n",
       "      <td></td>\n",
       "      <td>0</td>\n",
       "      <td>2017-08-09T11:03:57.014269</td>\n",
       "      <td>3</td>\n",
       "      <td>https://lobste.rs/s/09zw7r</td>\n",
       "      <td>[crypto, pdf]</td>\n",
       "      <td>The Edited Truth</td>\n",
       "      <td>3</td>\n",
       "      <td>https://eprint.iacr.org/2017/714.pdf</td>\n",
       "      <td>https://lobste.rs/avatars/trn-100.png</td>\n",
       "      <td>2017-01-19T14:56:50.000-06:00</td>\n",
       "      <td>False</td>\n",
       "      <td>trn</td>\n",
       "      <td>429</td>\n",
       "      <td>False</td>\n",
       "      <td></td>\n",
       "      <td>NaN</td>\n",
       "    </tr>\n",
       "    <tr>\n",
       "      <th>0bdne7</th>\n",
       "      <td>17</td>\n",
       "      <td>https://lobste.rs/s/0bdne7/rise_social_media_v...</td>\n",
       "      <td>2017-08-08 21:12:38</td>\n",
       "      <td></td>\n",
       "      <td>9</td>\n",
       "      <td>2017-08-09T11:03:57.014269</td>\n",
       "      <td>-1</td>\n",
       "      <td>https://lobste.rs/s/0bdne7</td>\n",
       "      <td>[law, privacy]</td>\n",
       "      <td>The Rise of The Social Media Vigilante</td>\n",
       "      <td>8</td>\n",
       "      <td>https://medium.com/@nkhumphreys_89452/the-rise...</td>\n",
       "      <td>https://lobste.rs/avatars/nkhumphreys-100.png</td>\n",
       "      <td>2014-07-02T06:36:39.000-05:00</td>\n",
       "      <td>False</td>\n",
       "      <td>nkhumphreys</td>\n",
       "      <td>-1</td>\n",
       "      <td>False</td>\n",
       "      <td>Web developer and previously embedded C developer</td>\n",
       "      <td>NaN</td>\n",
       "    </tr>\n",
       "    <tr>\n",
       "      <th>1bhbod</th>\n",
       "      <td>11</td>\n",
       "      <td>https://lobste.rs/s/1bhbod/tcl_misunderstood_a...</td>\n",
       "      <td>2017-04-30 20:28:52</td>\n",
       "      <td>&lt;p&gt;Did any language end up taking that “highly...</td>\n",
       "      <td>0</td>\n",
       "      <td>2017-05-01T06:29:11.725518</td>\n",
       "      <td>17</td>\n",
       "      <td>https://lobste.rs/s/1bhbod</td>\n",
       "      <td>[programming]</td>\n",
       "      <td>Tcl the misunderstood - antirez</td>\n",
       "      <td>17</td>\n",
       "      <td>http://antirez.com/articoli/tclmisunderstood.html</td>\n",
       "      <td>https://secure.gravatar.com/avatar/85002353297...</td>\n",
       "      <td>2016-11-30T10:14:24.000-06:00</td>\n",
       "      <td>False</td>\n",
       "      <td>yumaikas</td>\n",
       "      <td>578</td>\n",
       "      <td>False</td>\n",
       "      <td>I blog infrequently at https://junglecoder.com...</td>\n",
       "      <td>NaN</td>\n",
       "    </tr>\n",
       "    <tr>\n",
       "      <th>1xkje1</th>\n",
       "      <td>0</td>\n",
       "      <td>https://lobste.rs/s/1xkje1/interview_4_jonatha...</td>\n",
       "      <td>2017-05-01 02:31:35</td>\n",
       "      <td>&lt;p&gt;Rust’s own Jonathan Turner on his backgroun...</td>\n",
       "      <td>0</td>\n",
       "      <td>2017-05-01T06:29:11.725518</td>\n",
       "      <td>1</td>\n",
       "      <td>https://lobste.rs/s/1xkje1</td>\n",
       "      <td>[audio, javascript, rust]</td>\n",
       "      <td>🎤🎙 Interview 4 – Jonathan Turner: Part 1/3</td>\n",
       "      <td>1</td>\n",
       "      <td>http://www.newrustacean.com/show_notes/intervi...</td>\n",
       "      <td>https://secure.gravatar.com/avatar/c096ed07142...</td>\n",
       "      <td>2016-08-15T09:33:28.000-05:00</td>\n",
       "      <td>False</td>\n",
       "      <td>chriskrycho</td>\n",
       "      <td>27</td>\n",
       "      <td>False</td>\n",
       "      <td>I'm a husband and father; a theologian, compos...</td>\n",
       "      <td>NaN</td>\n",
       "    </tr>\n",
       "    <tr>\n",
       "      <th>2dasvh</th>\n",
       "      <td>19</td>\n",
       "      <td>https://lobste.rs/s/2dasvh/return_hipster_pda</td>\n",
       "      <td>2017-08-08 14:25:29</td>\n",
       "      <td></td>\n",
       "      <td>0</td>\n",
       "      <td>2017-08-09T11:03:56.287654</td>\n",
       "      <td>20</td>\n",
       "      <td>https://lobste.rs/s/2dasvh</td>\n",
       "      <td>[practices]</td>\n",
       "      <td>The Return of the Hipster PDA</td>\n",
       "      <td>20</td>\n",
       "      <td>http://www.agilesysadmin.net/return-of-the-hip...</td>\n",
       "      <td>https://lobste.rs/avatars/trn-100.png</td>\n",
       "      <td>2017-01-19T14:56:50.000-06:00</td>\n",
       "      <td>False</td>\n",
       "      <td>trn</td>\n",
       "      <td>429</td>\n",
       "      <td>False</td>\n",
       "      <td></td>\n",
       "      <td>NaN</td>\n",
       "    </tr>\n",
       "  </tbody>\n",
       "</table>\n",
       "</div>"
      ],
      "text/plain": [
       "        comment_count                                       comments_url  \\\n",
       "09zw7r              0            https://lobste.rs/s/09zw7r/edited_truth   \n",
       "0bdne7             17  https://lobste.rs/s/0bdne7/rise_social_media_v...   \n",
       "1bhbod             11  https://lobste.rs/s/1bhbod/tcl_misunderstood_a...   \n",
       "1xkje1              0  https://lobste.rs/s/1xkje1/interview_4_jonatha...   \n",
       "2dasvh             19      https://lobste.rs/s/2dasvh/return_hipster_pda   \n",
       "\n",
       "                created_at                                        description  \\\n",
       "09zw7r 2017-08-08 20:11:09                                                      \n",
       "0bdne7 2017-08-08 21:12:38                                                      \n",
       "1bhbod 2017-04-30 20:28:52  <p>Did any language end up taking that “highly...   \n",
       "1xkje1 2017-05-01 02:31:35  <p>Rust’s own Jonathan Turner on his backgroun...   \n",
       "2dasvh 2017-08-08 14:25:29                                                      \n",
       "\n",
       "        downvotes                last_updated  score  \\\n",
       "09zw7r          0  2017-08-09T11:03:57.014269      3   \n",
       "0bdne7          9  2017-08-09T11:03:57.014269     -1   \n",
       "1bhbod          0  2017-05-01T06:29:11.725518     17   \n",
       "1xkje1          0  2017-05-01T06:29:11.725518      1   \n",
       "2dasvh          0  2017-08-09T11:03:56.287654     20   \n",
       "\n",
       "                      short_id_url                       tags  \\\n",
       "09zw7r  https://lobste.rs/s/09zw7r              [crypto, pdf]   \n",
       "0bdne7  https://lobste.rs/s/0bdne7             [law, privacy]   \n",
       "1bhbod  https://lobste.rs/s/1bhbod              [programming]   \n",
       "1xkje1  https://lobste.rs/s/1xkje1  [audio, javascript, rust]   \n",
       "2dasvh  https://lobste.rs/s/2dasvh                [practices]   \n",
       "\n",
       "                                             title  upvotes  \\\n",
       "09zw7r                            The Edited Truth        3   \n",
       "0bdne7      The Rise of The Social Media Vigilante        8   \n",
       "1bhbod             Tcl the misunderstood - antirez       17   \n",
       "1xkje1  🎤🎙 Interview 4 – Jonathan Turner: Part 1/3        1   \n",
       "2dasvh               The Return of the Hipster PDA       20   \n",
       "\n",
       "                                                      url  \\\n",
       "09zw7r               https://eprint.iacr.org/2017/714.pdf   \n",
       "0bdne7  https://medium.com/@nkhumphreys_89452/the-rise...   \n",
       "1bhbod  http://antirez.com/articoli/tclmisunderstood.html   \n",
       "1xkje1  http://www.newrustacean.com/show_notes/intervi...   \n",
       "2dasvh  http://www.agilesysadmin.net/return-of-the-hip...   \n",
       "\n",
       "                                               avatar_url  \\\n",
       "09zw7r              https://lobste.rs/avatars/trn-100.png   \n",
       "0bdne7      https://lobste.rs/avatars/nkhumphreys-100.png   \n",
       "1bhbod  https://secure.gravatar.com/avatar/85002353297...   \n",
       "1xkje1  https://secure.gravatar.com/avatar/c096ed07142...   \n",
       "2dasvh              https://lobste.rs/avatars/trn-100.png   \n",
       "\n",
       "                      user_created_at  is_admin     username  karma  \\\n",
       "09zw7r  2017-01-19T14:56:50.000-06:00     False          trn    429   \n",
       "0bdne7  2014-07-02T06:36:39.000-05:00     False  nkhumphreys     -1   \n",
       "1bhbod  2016-11-30T10:14:24.000-06:00     False     yumaikas    578   \n",
       "1xkje1  2016-08-15T09:33:28.000-05:00     False  chriskrycho     27   \n",
       "2dasvh  2017-01-19T14:56:50.000-06:00     False          trn    429   \n",
       "\n",
       "        is_moderator                                              about  \\\n",
       "09zw7r         False                                                      \n",
       "0bdne7         False  Web developer and previously embedded C developer   \n",
       "1bhbod         False  I blog infrequently at https://junglecoder.com...   \n",
       "1xkje1         False  I'm a husband and father; a theologian, compos...   \n",
       "2dasvh         False                                                      \n",
       "\n",
       "       github_username  \n",
       "09zw7r             NaN  \n",
       "0bdne7             NaN  \n",
       "1bhbod             NaN  \n",
       "1xkje1             NaN  \n",
       "2dasvh             NaN  "
      ]
     },
     "metadata": {},
     "output_type": "display_data"
    }
   ],
   "source": [
    "stories.head()"
   ]
  },
  {
   "cell_type": "markdown",
   "metadata": {},
   "source": [
    "### Let's check for nulls"
   ]
  },
  {
   "cell_type": "code",
   "execution_count": null,
   "metadata": {},
   "outputs": [
    {
     "data": {
      "text/plain": [
       "(74, 20)"
      ]
     },
     "metadata": {},
     "output_type": "display_data"
    }
   ],
   "source": [
    "stories.shape"
   ]
  },
  {
   "cell_type": "code",
   "execution_count": null,
   "metadata": {},
   "outputs": [
    {
     "data": {
      "text/plain": [
       "(8, 20)"
      ]
     },
     "metadata": {},
     "output_type": "display_data"
    }
   ],
   "source": [
    "stories.dropna().shape"
   ]
  },
  {
   "cell_type": "code",
   "execution_count": null,
   "metadata": {},
   "outputs": [
    {
     "data": {
      "text/plain": [
       "(74, 19)"
      ]
     },
     "metadata": {},
     "output_type": "display_data"
    }
   ],
   "source": [
    "stories.dropna(thresh=10, axis=1).shape"
   ]
  },
  {
   "cell_type": "markdown",
   "metadata": {},
   "source": [
    "### Exercise: which columns would be dropped?"
   ]
  },
  {
   "cell_type": "code",
   "execution_count": null,
   "metadata": {},
   "outputs": [
    {
     "data": {
      "text/plain": [
       "{'github_username'}"
      ]
     },
     "metadata": {},
     "output_type": "display_data"
    }
   ],
   "source": [
    "set(stories.columns) - set(stories.dropna(thresh=10, axis=1).columns)\n"
   ]
  },
  {
   "cell_type": "markdown",
   "metadata": {},
   "source": [
    "## Let's make the tags easier to use by having them as features in the columns."
   ]
  },
  {
   "cell_type": "code",
   "execution_count": null,
   "metadata": {},
   "outputs": [],
   "source": [
    "tag_df = stories.tags.apply(pd.Series)"
   ]
  },
  {
   "cell_type": "code",
   "execution_count": null,
   "metadata": {},
   "outputs": [
    {
     "data": {
      "text/html": [
       "<div>\n",
       "<style scoped>\n",
       "    .dataframe tbody tr th:only-of-type {\n",
       "        vertical-align: middle;\n",
       "    }\n",
       "\n",
       "    .dataframe tbody tr th {\n",
       "        vertical-align: top;\n",
       "    }\n",
       "\n",
       "    .dataframe thead th {\n",
       "        text-align: right;\n",
       "    }\n",
       "</style>\n",
       "<table border=\"1\" class=\"dataframe\">\n",
       "  <thead>\n",
       "    <tr style=\"text-align: right;\">\n",
       "      <th></th>\n",
       "      <th>0</th>\n",
       "      <th>1</th>\n",
       "      <th>2</th>\n",
       "      <th>3</th>\n",
       "      <th>4</th>\n",
       "    </tr>\n",
       "  </thead>\n",
       "  <tbody>\n",
       "    <tr>\n",
       "      <th>09zw7r</th>\n",
       "      <td>crypto</td>\n",
       "      <td>pdf</td>\n",
       "      <td>NaN</td>\n",
       "      <td>NaN</td>\n",
       "      <td>NaN</td>\n",
       "    </tr>\n",
       "    <tr>\n",
       "      <th>0bdne7</th>\n",
       "      <td>law</td>\n",
       "      <td>privacy</td>\n",
       "      <td>NaN</td>\n",
       "      <td>NaN</td>\n",
       "      <td>NaN</td>\n",
       "    </tr>\n",
       "    <tr>\n",
       "      <th>1bhbod</th>\n",
       "      <td>programming</td>\n",
       "      <td>NaN</td>\n",
       "      <td>NaN</td>\n",
       "      <td>NaN</td>\n",
       "      <td>NaN</td>\n",
       "    </tr>\n",
       "    <tr>\n",
       "      <th>1xkje1</th>\n",
       "      <td>audio</td>\n",
       "      <td>javascript</td>\n",
       "      <td>rust</td>\n",
       "      <td>NaN</td>\n",
       "      <td>NaN</td>\n",
       "    </tr>\n",
       "    <tr>\n",
       "      <th>2dasvh</th>\n",
       "      <td>practices</td>\n",
       "      <td>NaN</td>\n",
       "      <td>NaN</td>\n",
       "      <td>NaN</td>\n",
       "      <td>NaN</td>\n",
       "    </tr>\n",
       "  </tbody>\n",
       "</table>\n",
       "</div>"
      ],
      "text/plain": [
       "                  0           1     2    3    4\n",
       "09zw7r       crypto         pdf   NaN  NaN  NaN\n",
       "0bdne7          law     privacy   NaN  NaN  NaN\n",
       "1bhbod  programming         NaN   NaN  NaN  NaN\n",
       "1xkje1        audio  javascript  rust  NaN  NaN\n",
       "2dasvh    practices         NaN   NaN  NaN  NaN"
      ]
     },
     "metadata": {},
     "output_type": "display_data"
    }
   ],
   "source": [
    "tag_df.head()"
   ]
  },
  {
   "cell_type": "code",
   "execution_count": null,
   "metadata": {},
   "outputs": [
    {
     "data": {
      "text/plain": [
       "array(['crypto', 'pdf', nan, 'law', 'privacy', 'programming', 'audio',\n",
       "       'javascript', 'rust', 'practices', 'ruby', 'devops', 'web',\n",
       "       'hardware', 'science', 'reversing', 'security', 'openbsd',\n",
       "       'windows', 'design', 'compilers', 'haskell', 'c++', 'assembly',\n",
       "       'games', 'math', 'release', 'event', 'netbsd', 'unix', 'c',\n",
       "       'linux', 'testing', 'lua', 'job', 'video', 'philosophy', 'android',\n",
       "       'networking', 'erlang', 'emacs', 'historical', 'browsers',\n",
       "       'person', 'culture', 'java', 'go', 'book', 'css', 'debugging',\n",
       "       'education', 'art', 'compsci', 'databases'], dtype=object)"
      ]
     },
     "metadata": {},
     "output_type": "display_data"
    }
   ],
   "source": [
    "pd.unique(tag_df.values.ravel())"
   ]
  },
  {
   "cell_type": "code",
   "execution_count": null,
   "metadata": {},
   "outputs": [
    {
     "data": {
      "text/plain": [
       "{'android',\n",
       " 'art',\n",
       " 'assembly',\n",
       " 'audio',\n",
       " 'book',\n",
       " 'browsers',\n",
       " 'c',\n",
       " 'c++',\n",
       " 'compilers',\n",
       " 'compsci',\n",
       " 'crypto',\n",
       " 'css',\n",
       " 'culture',\n",
       " 'databases',\n",
       " 'debugging',\n",
       " 'design',\n",
       " 'devops',\n",
       " 'education',\n",
       " 'emacs',\n",
       " 'erlang',\n",
       " 'event',\n",
       " 'games',\n",
       " 'go',\n",
       " 'hardware',\n",
       " 'haskell',\n",
       " 'historical',\n",
       " 'java',\n",
       " 'javascript',\n",
       " 'job',\n",
       " 'law',\n",
       " 'linux',\n",
       " 'lua',\n",
       " 'math',\n",
       " nan,\n",
       " 'netbsd',\n",
       " 'networking',\n",
       " 'openbsd',\n",
       " 'pdf',\n",
       " 'person',\n",
       " 'philosophy',\n",
       " 'practices',\n",
       " 'privacy',\n",
       " 'programming',\n",
       " 'release',\n",
       " 'reversing',\n",
       " 'ruby',\n",
       " 'rust',\n",
       " 'science',\n",
       " 'security',\n",
       " 'testing',\n",
       " 'unix',\n",
       " 'video',\n",
       " 'web',\n",
       " 'windows'}"
      ]
     },
     "metadata": {},
     "output_type": "display_data"
    }
   ],
   "source": [
    "set(tag_df.values.ravel())"
   ]
  },
  {
   "cell_type": "code",
   "execution_count": null,
   "metadata": {},
   "outputs": [
    {
     "data": {
      "text/plain": [
       "54"
      ]
     },
     "metadata": {},
     "output_type": "display_data"
    }
   ],
   "source": [
    "len(pd.unique(tag_df.values.ravel()))"
   ]
  },
  {
   "cell_type": "code",
   "execution_count": null,
   "metadata": {},
   "outputs": [
    {
     "data": {
      "text/plain": [
       "[(nan, 231),\n",
       " ('programming', 13),\n",
       " ('hardware', 10),\n",
       " ('security', 10),\n",
       " ('practices', 8)]"
      ]
     },
     "metadata": {},
     "output_type": "display_data"
    }
   ],
   "source": [
    "# most common tags\n",
    "\n",
    "Counter(tag_df.values.ravel()).most_common(5)"
   ]
  },
  {
   "cell_type": "markdown",
   "metadata": {},
   "source": [
    "### Let's create a dummy df with our tags"
   ]
  },
  {
   "cell_type": "code",
   "execution_count": null,
   "metadata": {},
   "outputs": [],
   "source": [
    "tag_df = pd.get_dummies(tag_df.apply(pd.Series).stack()).sum()"
   ]
  },
  {
   "cell_type": "code",
   "execution_count": null,
   "metadata": {},
   "outputs": [
    {
     "data": {
      "text/plain": [
       "android     1\n",
       "art         1\n",
       "assembly    3\n",
       "audio       1\n",
       "book        2\n",
       "dtype: int64"
      ]
     },
     "metadata": {},
     "output_type": "display_data"
    }
   ],
   "source": [
    "tag_df.head()"
   ]
  },
  {
   "cell_type": "markdown",
   "metadata": {},
   "source": [
    "### Now we can add it back to our stories DataFrame"
   ]
  },
  {
   "cell_type": "code",
   "execution_count": null,
   "metadata": {},
   "outputs": [],
   "source": [
    "stories = pd.concat([stories.drop('tags', axis=1), \n",
    "                     tag_df], axis=1)"
   ]
  },
  {
   "cell_type": "code",
   "execution_count": null,
   "metadata": {},
   "outputs": [
    {
     "data": {
      "text/html": [
       "<div>\n",
       "<style scoped>\n",
       "    .dataframe tbody tr th:only-of-type {\n",
       "        vertical-align: middle;\n",
       "    }\n",
       "\n",
       "    .dataframe tbody tr th {\n",
       "        vertical-align: top;\n",
       "    }\n",
       "\n",
       "    .dataframe thead th {\n",
       "        text-align: right;\n",
       "    }\n",
       "</style>\n",
       "<table border=\"1\" class=\"dataframe\">\n",
       "  <thead>\n",
       "    <tr style=\"text-align: right;\">\n",
       "      <th></th>\n",
       "      <th>comment_count</th>\n",
       "      <th>comments_url</th>\n",
       "      <th>created_at</th>\n",
       "      <th>description</th>\n",
       "      <th>downvotes</th>\n",
       "      <th>last_updated</th>\n",
       "      <th>score</th>\n",
       "      <th>short_id_url</th>\n",
       "      <th>title</th>\n",
       "      <th>upvotes</th>\n",
       "      <th>url</th>\n",
       "      <th>avatar_url</th>\n",
       "      <th>user_created_at</th>\n",
       "      <th>is_admin</th>\n",
       "      <th>username</th>\n",
       "      <th>karma</th>\n",
       "      <th>is_moderator</th>\n",
       "      <th>about</th>\n",
       "      <th>github_username</th>\n",
       "      <th>0</th>\n",
       "    </tr>\n",
       "  </thead>\n",
       "  <tbody>\n",
       "    <tr>\n",
       "      <th>09zw7r</th>\n",
       "      <td>0.0</td>\n",
       "      <td>https://lobste.rs/s/09zw7r/edited_truth</td>\n",
       "      <td>2017-08-08 20:11:09</td>\n",
       "      <td></td>\n",
       "      <td>0.0</td>\n",
       "      <td>2017-08-09T11:03:57.014269</td>\n",
       "      <td>3.0</td>\n",
       "      <td>https://lobste.rs/s/09zw7r</td>\n",
       "      <td>The Edited Truth</td>\n",
       "      <td>3.0</td>\n",
       "      <td>https://eprint.iacr.org/2017/714.pdf</td>\n",
       "      <td>https://lobste.rs/avatars/trn-100.png</td>\n",
       "      <td>2017-01-19T14:56:50.000-06:00</td>\n",
       "      <td>False</td>\n",
       "      <td>trn</td>\n",
       "      <td>429.0</td>\n",
       "      <td>False</td>\n",
       "      <td></td>\n",
       "      <td>NaN</td>\n",
       "      <td>NaN</td>\n",
       "    </tr>\n",
       "    <tr>\n",
       "      <th>0bdne7</th>\n",
       "      <td>17.0</td>\n",
       "      <td>https://lobste.rs/s/0bdne7/rise_social_media_v...</td>\n",
       "      <td>2017-08-08 21:12:38</td>\n",
       "      <td></td>\n",
       "      <td>9.0</td>\n",
       "      <td>2017-08-09T11:03:57.014269</td>\n",
       "      <td>-1.0</td>\n",
       "      <td>https://lobste.rs/s/0bdne7</td>\n",
       "      <td>The Rise of The Social Media Vigilante</td>\n",
       "      <td>8.0</td>\n",
       "      <td>https://medium.com/@nkhumphreys_89452/the-rise...</td>\n",
       "      <td>https://lobste.rs/avatars/nkhumphreys-100.png</td>\n",
       "      <td>2014-07-02T06:36:39.000-05:00</td>\n",
       "      <td>False</td>\n",
       "      <td>nkhumphreys</td>\n",
       "      <td>-1.0</td>\n",
       "      <td>False</td>\n",
       "      <td>Web developer and previously embedded C developer</td>\n",
       "      <td>NaN</td>\n",
       "      <td>NaN</td>\n",
       "    </tr>\n",
       "    <tr>\n",
       "      <th>1bhbod</th>\n",
       "      <td>11.0</td>\n",
       "      <td>https://lobste.rs/s/1bhbod/tcl_misunderstood_a...</td>\n",
       "      <td>2017-04-30 20:28:52</td>\n",
       "      <td>&lt;p&gt;Did any language end up taking that “highly...</td>\n",
       "      <td>0.0</td>\n",
       "      <td>2017-05-01T06:29:11.725518</td>\n",
       "      <td>17.0</td>\n",
       "      <td>https://lobste.rs/s/1bhbod</td>\n",
       "      <td>Tcl the misunderstood - antirez</td>\n",
       "      <td>17.0</td>\n",
       "      <td>http://antirez.com/articoli/tclmisunderstood.html</td>\n",
       "      <td>https://secure.gravatar.com/avatar/85002353297...</td>\n",
       "      <td>2016-11-30T10:14:24.000-06:00</td>\n",
       "      <td>False</td>\n",
       "      <td>yumaikas</td>\n",
       "      <td>578.0</td>\n",
       "      <td>False</td>\n",
       "      <td>I blog infrequently at https://junglecoder.com...</td>\n",
       "      <td>NaN</td>\n",
       "      <td>NaN</td>\n",
       "    </tr>\n",
       "    <tr>\n",
       "      <th>1xkje1</th>\n",
       "      <td>0.0</td>\n",
       "      <td>https://lobste.rs/s/1xkje1/interview_4_jonatha...</td>\n",
       "      <td>2017-05-01 02:31:35</td>\n",
       "      <td>&lt;p&gt;Rust’s own Jonathan Turner on his backgroun...</td>\n",
       "      <td>0.0</td>\n",
       "      <td>2017-05-01T06:29:11.725518</td>\n",
       "      <td>1.0</td>\n",
       "      <td>https://lobste.rs/s/1xkje1</td>\n",
       "      <td>🎤🎙 Interview 4 – Jonathan Turner: Part 1/3</td>\n",
       "      <td>1.0</td>\n",
       "      <td>http://www.newrustacean.com/show_notes/intervi...</td>\n",
       "      <td>https://secure.gravatar.com/avatar/c096ed07142...</td>\n",
       "      <td>2016-08-15T09:33:28.000-05:00</td>\n",
       "      <td>False</td>\n",
       "      <td>chriskrycho</td>\n",
       "      <td>27.0</td>\n",
       "      <td>False</td>\n",
       "      <td>I'm a husband and father; a theologian, compos...</td>\n",
       "      <td>NaN</td>\n",
       "      <td>NaN</td>\n",
       "    </tr>\n",
       "    <tr>\n",
       "      <th>2dasvh</th>\n",
       "      <td>19.0</td>\n",
       "      <td>https://lobste.rs/s/2dasvh/return_hipster_pda</td>\n",
       "      <td>2017-08-08 14:25:29</td>\n",
       "      <td></td>\n",
       "      <td>0.0</td>\n",
       "      <td>2017-08-09T11:03:56.287654</td>\n",
       "      <td>20.0</td>\n",
       "      <td>https://lobste.rs/s/2dasvh</td>\n",
       "      <td>The Return of the Hipster PDA</td>\n",
       "      <td>20.0</td>\n",
       "      <td>http://www.agilesysadmin.net/return-of-the-hip...</td>\n",
       "      <td>https://lobste.rs/avatars/trn-100.png</td>\n",
       "      <td>2017-01-19T14:56:50.000-06:00</td>\n",
       "      <td>False</td>\n",
       "      <td>trn</td>\n",
       "      <td>429.0</td>\n",
       "      <td>False</td>\n",
       "      <td></td>\n",
       "      <td>NaN</td>\n",
       "      <td>NaN</td>\n",
       "    </tr>\n",
       "  </tbody>\n",
       "</table>\n",
       "</div>"
      ],
      "text/plain": [
       "        comment_count                                       comments_url  \\\n",
       "09zw7r            0.0            https://lobste.rs/s/09zw7r/edited_truth   \n",
       "0bdne7           17.0  https://lobste.rs/s/0bdne7/rise_social_media_v...   \n",
       "1bhbod           11.0  https://lobste.rs/s/1bhbod/tcl_misunderstood_a...   \n",
       "1xkje1            0.0  https://lobste.rs/s/1xkje1/interview_4_jonatha...   \n",
       "2dasvh           19.0      https://lobste.rs/s/2dasvh/return_hipster_pda   \n",
       "\n",
       "                created_at                                        description  \\\n",
       "09zw7r 2017-08-08 20:11:09                                                      \n",
       "0bdne7 2017-08-08 21:12:38                                                      \n",
       "1bhbod 2017-04-30 20:28:52  <p>Did any language end up taking that “highly...   \n",
       "1xkje1 2017-05-01 02:31:35  <p>Rust’s own Jonathan Turner on his backgroun...   \n",
       "2dasvh 2017-08-08 14:25:29                                                      \n",
       "\n",
       "        downvotes                last_updated  score  \\\n",
       "09zw7r        0.0  2017-08-09T11:03:57.014269    3.0   \n",
       "0bdne7        9.0  2017-08-09T11:03:57.014269   -1.0   \n",
       "1bhbod        0.0  2017-05-01T06:29:11.725518   17.0   \n",
       "1xkje1        0.0  2017-05-01T06:29:11.725518    1.0   \n",
       "2dasvh        0.0  2017-08-09T11:03:56.287654   20.0   \n",
       "\n",
       "                      short_id_url  \\\n",
       "09zw7r  https://lobste.rs/s/09zw7r   \n",
       "0bdne7  https://lobste.rs/s/0bdne7   \n",
       "1bhbod  https://lobste.rs/s/1bhbod   \n",
       "1xkje1  https://lobste.rs/s/1xkje1   \n",
       "2dasvh  https://lobste.rs/s/2dasvh   \n",
       "\n",
       "                                             title  upvotes  \\\n",
       "09zw7r                            The Edited Truth      3.0   \n",
       "0bdne7      The Rise of The Social Media Vigilante      8.0   \n",
       "1bhbod             Tcl the misunderstood - antirez     17.0   \n",
       "1xkje1  🎤🎙 Interview 4 – Jonathan Turner: Part 1/3      1.0   \n",
       "2dasvh               The Return of the Hipster PDA     20.0   \n",
       "\n",
       "                                                      url  \\\n",
       "09zw7r               https://eprint.iacr.org/2017/714.pdf   \n",
       "0bdne7  https://medium.com/@nkhumphreys_89452/the-rise...   \n",
       "1bhbod  http://antirez.com/articoli/tclmisunderstood.html   \n",
       "1xkje1  http://www.newrustacean.com/show_notes/intervi...   \n",
       "2dasvh  http://www.agilesysadmin.net/return-of-the-hip...   \n",
       "\n",
       "                                               avatar_url  \\\n",
       "09zw7r              https://lobste.rs/avatars/trn-100.png   \n",
       "0bdne7      https://lobste.rs/avatars/nkhumphreys-100.png   \n",
       "1bhbod  https://secure.gravatar.com/avatar/85002353297...   \n",
       "1xkje1  https://secure.gravatar.com/avatar/c096ed07142...   \n",
       "2dasvh              https://lobste.rs/avatars/trn-100.png   \n",
       "\n",
       "                      user_created_at is_admin     username  karma  \\\n",
       "09zw7r  2017-01-19T14:56:50.000-06:00    False          trn  429.0   \n",
       "0bdne7  2014-07-02T06:36:39.000-05:00    False  nkhumphreys   -1.0   \n",
       "1bhbod  2016-11-30T10:14:24.000-06:00    False     yumaikas  578.0   \n",
       "1xkje1  2016-08-15T09:33:28.000-05:00    False  chriskrycho   27.0   \n",
       "2dasvh  2017-01-19T14:56:50.000-06:00    False          trn  429.0   \n",
       "\n",
       "       is_moderator                                              about  \\\n",
       "09zw7r        False                                                      \n",
       "0bdne7        False  Web developer and previously embedded C developer   \n",
       "1bhbod        False  I blog infrequently at https://junglecoder.com...   \n",
       "1xkje1        False  I'm a husband and father; a theologian, compos...   \n",
       "2dasvh        False                                                      \n",
       "\n",
       "       github_username   0  \n",
       "09zw7r             NaN NaN  \n",
       "0bdne7             NaN NaN  \n",
       "1bhbod             NaN NaN  \n",
       "1xkje1             NaN NaN  \n",
       "2dasvh             NaN NaN  "
      ]
     },
     "metadata": {},
     "output_type": "display_data"
    }
   ],
   "source": [
    "stories.head()"
   ]
  },
  {
   "cell_type": "markdown",
   "metadata": {},
   "source": [
    "### Another potentially useful feature is the post times..."
   ]
  },
  {
   "cell_type": "code",
   "execution_count": null,
   "metadata": {},
   "outputs": [],
   "source": [
    "stories['created_hour'] = stories.created_at.map(\n",
    "    lambda x: x.hour)"
   ]
  },
  {
   "cell_type": "code",
   "execution_count": null,
   "metadata": {},
   "outputs": [],
   "source": [
    "stories['created_dow'] = stories.created_at.map(\n",
    "    lambda x: x.weekday())"
   ]
  },
  {
   "cell_type": "markdown",
   "metadata": {},
   "source": [
    "### Let's analyze some of the correlations in our features so far..."
   ]
  },
  {
   "cell_type": "code",
   "execution_count": null,
   "metadata": {},
   "outputs": [
    {
     "data": {
      "text/html": [
       "<div>\n",
       "<style scoped>\n",
       "    .dataframe tbody tr th:only-of-type {\n",
       "        vertical-align: middle;\n",
       "    }\n",
       "\n",
       "    .dataframe tbody tr th {\n",
       "        vertical-align: top;\n",
       "    }\n",
       "\n",
       "    .dataframe thead th {\n",
       "        text-align: right;\n",
       "    }\n",
       "</style>\n",
       "<table border=\"1\" class=\"dataframe\">\n",
       "  <thead>\n",
       "    <tr style=\"text-align: right;\">\n",
       "      <th></th>\n",
       "      <th>created_hour</th>\n",
       "      <th>score</th>\n",
       "    </tr>\n",
       "  </thead>\n",
       "  <tbody>\n",
       "    <tr>\n",
       "      <th>created_hour</th>\n",
       "      <td>1.000000</td>\n",
       "      <td>0.253917</td>\n",
       "    </tr>\n",
       "    <tr>\n",
       "      <th>score</th>\n",
       "      <td>0.253917</td>\n",
       "      <td>1.000000</td>\n",
       "    </tr>\n",
       "  </tbody>\n",
       "</table>\n",
       "</div>"
      ],
      "text/plain": [
       "              created_hour     score\n",
       "created_hour      1.000000  0.253917\n",
       "score             0.253917  1.000000"
      ]
     },
     "metadata": {},
     "output_type": "display_data"
    }
   ],
   "source": [
    "stories[['created_hour', 'score']].corr()"
   ]
  },
  {
   "cell_type": "code",
   "execution_count": null,
   "metadata": {},
   "outputs": [
    {
     "data": {
      "text/html": [
       "<div>\n",
       "<style scoped>\n",
       "    .dataframe tbody tr th:only-of-type {\n",
       "        vertical-align: middle;\n",
       "    }\n",
       "\n",
       "    .dataframe tbody tr th {\n",
       "        vertical-align: top;\n",
       "    }\n",
       "\n",
       "    .dataframe thead th {\n",
       "        text-align: right;\n",
       "    }\n",
       "</style>\n",
       "<table border=\"1\" class=\"dataframe\">\n",
       "  <thead>\n",
       "    <tr style=\"text-align: right;\">\n",
       "      <th></th>\n",
       "      <th>created_dow</th>\n",
       "      <th>score</th>\n",
       "    </tr>\n",
       "  </thead>\n",
       "  <tbody>\n",
       "    <tr>\n",
       "      <th>created_dow</th>\n",
       "      <td>1.000000</td>\n",
       "      <td>-0.113918</td>\n",
       "    </tr>\n",
       "    <tr>\n",
       "      <th>score</th>\n",
       "      <td>-0.113918</td>\n",
       "      <td>1.000000</td>\n",
       "    </tr>\n",
       "  </tbody>\n",
       "</table>\n",
       "</div>"
      ],
      "text/plain": [
       "             created_dow     score\n",
       "created_dow     1.000000 -0.113918\n",
       "score          -0.113918  1.000000"
      ]
     },
     "metadata": {},
     "output_type": "display_data"
    }
   ],
   "source": [
    "stories[['created_dow', 'score']].corr()"
   ]
  },
  {
   "cell_type": "code",
   "execution_count": null,
   "metadata": {},
   "outputs": [
    {
     "data": {
      "text/html": [
       "<div>\n",
       "<style scoped>\n",
       "    .dataframe tbody tr th:only-of-type {\n",
       "        vertical-align: middle;\n",
       "    }\n",
       "\n",
       "    .dataframe tbody tr th {\n",
       "        vertical-align: top;\n",
       "    }\n",
       "\n",
       "    .dataframe thead th {\n",
       "        text-align: right;\n",
       "    }\n",
       "</style>\n",
       "<table border=\"1\" class=\"dataframe\">\n",
       "  <thead>\n",
       "    <tr style=\"text-align: right;\">\n",
       "      <th></th>\n",
       "      <th>karma</th>\n",
       "      <th>score</th>\n",
       "    </tr>\n",
       "  </thead>\n",
       "  <tbody>\n",
       "    <tr>\n",
       "      <th>karma</th>\n",
       "      <td>1.000000</td>\n",
       "      <td>-0.061921</td>\n",
       "    </tr>\n",
       "    <tr>\n",
       "      <th>score</th>\n",
       "      <td>-0.061921</td>\n",
       "      <td>1.000000</td>\n",
       "    </tr>\n",
       "  </tbody>\n",
       "</table>\n",
       "</div>"
      ],
      "text/plain": [
       "          karma     score\n",
       "karma  1.000000 -0.061921\n",
       "score -0.061921  1.000000"
      ]
     },
     "metadata": {},
     "output_type": "display_data"
    }
   ],
   "source": [
    "stories[['karma', 'score']].corr()"
   ]
  },
  {
   "cell_type": "code",
   "execution_count": null,
   "metadata": {},
   "outputs": [
    {
     "data": {
      "text/html": [
       "<div>\n",
       "<style scoped>\n",
       "    .dataframe tbody tr th:only-of-type {\n",
       "        vertical-align: middle;\n",
       "    }\n",
       "\n",
       "    .dataframe tbody tr th {\n",
       "        vertical-align: top;\n",
       "    }\n",
       "\n",
       "    .dataframe thead th {\n",
       "        text-align: right;\n",
       "    }\n",
       "</style>\n",
       "<table border=\"1\" class=\"dataframe\">\n",
       "  <thead>\n",
       "    <tr style=\"text-align: right;\">\n",
       "      <th></th>\n",
       "      <th>comment_count</th>\n",
       "      <th>score</th>\n",
       "    </tr>\n",
       "  </thead>\n",
       "  <tbody>\n",
       "    <tr>\n",
       "      <th>comment_count</th>\n",
       "      <td>1.000000</td>\n",
       "      <td>0.637632</td>\n",
       "    </tr>\n",
       "    <tr>\n",
       "      <th>score</th>\n",
       "      <td>0.637632</td>\n",
       "      <td>1.000000</td>\n",
       "    </tr>\n",
       "  </tbody>\n",
       "</table>\n",
       "</div>"
      ],
      "text/plain": [
       "               comment_count     score\n",
       "comment_count       1.000000  0.637632\n",
       "score               0.637632  1.000000"
      ]
     },
     "metadata": {},
     "output_type": "display_data"
    }
   ],
   "source": [
    "stories[['comment_count', 'score']].corr()"
   ]
  },
  {
   "cell_type": "code",
   "execution_count": null,
   "metadata": {},
   "outputs": [
    {
     "data": {
      "text/html": [
       "<div>\n",
       "<style scoped>\n",
       "    .dataframe tbody tr th:only-of-type {\n",
       "        vertical-align: middle;\n",
       "    }\n",
       "\n",
       "    .dataframe tbody tr th {\n",
       "        vertical-align: top;\n",
       "    }\n",
       "\n",
       "    .dataframe thead th {\n",
       "        text-align: right;\n",
       "    }\n",
       "</style>\n",
       "<table border=\"1\" class=\"dataframe\">\n",
       "  <thead>\n",
       "    <tr style=\"text-align: right;\">\n",
       "      <th></th>\n",
       "      <th>score</th>\n",
       "    </tr>\n",
       "  </thead>\n",
       "  <tbody>\n",
       "    <tr>\n",
       "      <th>score</th>\n",
       "      <td>1.0</td>\n",
       "    </tr>\n",
       "  </tbody>\n",
       "</table>\n",
       "</div>"
      ],
      "text/plain": [
       "       score\n",
       "score    1.0"
      ]
     },
     "metadata": {},
     "output_type": "display_data"
    }
   ],
   "source": [
    "stories[[ 'score']].corr()"
   ]
  },
  {
   "cell_type": "markdown",
   "metadata": {},
   "source": [
    "### We might also want/need to normalize scores. We can use a Scaler / MinMaxScaler or Normalizer"
   ]
  },
  {
   "cell_type": "code",
   "execution_count": null,
   "metadata": {},
   "outputs": [],
   "source": [
    "stories['score']=stories['score'].fillna(stories.score.mean())"
   ]
  },
  {
   "cell_type": "code",
   "execution_count": null,
   "metadata": {},
   "outputs": [],
   "source": [
    "normed_score = preprocessing.normalize(stories[['score']])"
   ]
  },
  {
   "cell_type": "code",
   "execution_count": null,
   "metadata": {},
   "outputs": [
    {
     "data": {
      "text/plain": [
       "array([[ 1.],\n",
       "       [-1.],\n",
       "       [ 1.],\n",
       "       [ 1.],\n",
       "       [ 1.]])"
      ]
     },
     "metadata": {},
     "output_type": "display_data"
    }
   ],
   "source": [
    "normed_score[:5]"
   ]
  },
  {
   "cell_type": "markdown",
   "metadata": {},
   "source": [
    "#### hmm... maybe a min-max scaler works better for our needs!"
   ]
  },
  {
   "cell_type": "code",
   "execution_count": null,
   "metadata": {},
   "outputs": [],
   "source": [
    "scaler = preprocessing.MinMaxScaler()"
   ]
  },
  {
   "cell_type": "code",
   "execution_count": null,
   "metadata": {},
   "outputs": [],
   "source": [
    "scaled_score = scaler.fit_transform(stories[['score']])"
   ]
  },
  {
   "cell_type": "code",
   "execution_count": null,
   "metadata": {},
   "outputs": [
    {
     "data": {
      "text/plain": [
       "array([[0.07272727],\n",
       "       [0.        ],\n",
       "       [0.32727273],\n",
       "       [0.03636364],\n",
       "       [0.38181818]])"
      ]
     },
     "metadata": {},
     "output_type": "display_data"
    }
   ],
   "source": [
    "scaled_score[:5]"
   ]
  },
  {
   "cell_type": "code",
   "execution_count": null,
   "metadata": {},
   "outputs": [
    {
     "data": {
      "text/plain": [
       "09zw7r     0.072727\n",
       "0bdne7     0.000000\n",
       "1bhbod     0.327273\n",
       "1xkje1     0.036364\n",
       "2dasvh     0.381818\n",
       "             ...   \n",
       "testing    0.155037\n",
       "unix       0.155037\n",
       "video      0.155037\n",
       "web        0.155037\n",
       "windows    0.155037\n",
       "Name: scaled_score, Length: 127, dtype: float64"
      ]
     },
     "metadata": {},
     "output_type": "display_data"
    }
   ],
   "source": [
    "stories['scaled_score'] = scaled_score[:,0]\n",
    "stories['scaled_score']"
   ]
  },
  {
   "cell_type": "code",
   "execution_count": null,
   "metadata": {},
   "outputs": [],
   "source": []
  }
 ],
 "metadata": {
  "language_info": {
   "name": "python"
  }
 },
 "nbformat": 4,
 "nbformat_minor": 2
}

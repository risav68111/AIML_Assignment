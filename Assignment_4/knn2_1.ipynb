{
 "cells": [
  {
   "cell_type": "markdown",
   "metadata": {},
   "source": [
    "# ASSIGNMENT 4\n",
    "\n",
    "#####  NAME: RISHAV KUMAR\n",
    "#####  ROLL NO. 2301560042\n",
    "\n",
    "My github account link : [Github](https://github.com/risav68111/AIML_Assignment)\n"
   ]
  },
  {
   "cell_type": "markdown",
   "metadata": {},
   "source": [
    "#  Question 2\n",
    "\n",
    "Dataset Link: [Link](https://github.com/Piyush-Bhardwaj/Breast-cancer-diagnosis-using-Machine-Learning.git)"
   ]
  },
  {
   "cell_type": "code",
   "execution_count": 120,
   "metadata": {},
   "outputs": [],
   "source": [
    "import pandas as pd\n",
    "import matplotlib.pyplot as plt\n",
    "from sklearn.model_selection import train_test_split\n",
    "from sklearn.neighbors import KNeighborsClassifier\n",
    "from sklearn.metrics import accuracy_score, classification_report, confusion_matrix\n",
    "from sklearn.preprocessing import StandardScaler\n"
   ]
  },
  {
   "cell_type": "code",
   "execution_count": 121,
   "metadata": {},
   "outputs": [
    {
     "data": {
      "text/html": [
       "<div>\n",
       "<style scoped>\n",
       "    .dataframe tbody tr th:only-of-type {\n",
       "        vertical-align: middle;\n",
       "    }\n",
       "\n",
       "    .dataframe tbody tr th {\n",
       "        vertical-align: top;\n",
       "    }\n",
       "\n",
       "    .dataframe thead th {\n",
       "        text-align: right;\n",
       "    }\n",
       "</style>\n",
       "<table border=\"1\" class=\"dataframe\">\n",
       "  <thead>\n",
       "    <tr style=\"text-align: right;\">\n",
       "      <th></th>\n",
       "      <th>clump_thickness</th>\n",
       "      <th>unif_cell_size</th>\n",
       "      <th>unif_cell_shape</th>\n",
       "      <th>marg_adhesion</th>\n",
       "      <th>single_epith_cell_size</th>\n",
       "      <th>bland_chrom</th>\n",
       "      <th>norm_nucleoli</th>\n",
       "      <th>mitoses</th>\n",
       "      <th>classes</th>\n",
       "    </tr>\n",
       "  </thead>\n",
       "  <tbody>\n",
       "    <tr>\n",
       "      <th>0</th>\n",
       "      <td>5</td>\n",
       "      <td>1</td>\n",
       "      <td>1</td>\n",
       "      <td>1</td>\n",
       "      <td>2</td>\n",
       "      <td>3</td>\n",
       "      <td>1</td>\n",
       "      <td>1</td>\n",
       "      <td>0</td>\n",
       "    </tr>\n",
       "    <tr>\n",
       "      <th>1</th>\n",
       "      <td>5</td>\n",
       "      <td>4</td>\n",
       "      <td>4</td>\n",
       "      <td>5</td>\n",
       "      <td>7</td>\n",
       "      <td>3</td>\n",
       "      <td>2</td>\n",
       "      <td>1</td>\n",
       "      <td>0</td>\n",
       "    </tr>\n",
       "    <tr>\n",
       "      <th>2</th>\n",
       "      <td>3</td>\n",
       "      <td>1</td>\n",
       "      <td>1</td>\n",
       "      <td>1</td>\n",
       "      <td>2</td>\n",
       "      <td>3</td>\n",
       "      <td>1</td>\n",
       "      <td>1</td>\n",
       "      <td>0</td>\n",
       "    </tr>\n",
       "    <tr>\n",
       "      <th>3</th>\n",
       "      <td>6</td>\n",
       "      <td>8</td>\n",
       "      <td>8</td>\n",
       "      <td>1</td>\n",
       "      <td>3</td>\n",
       "      <td>3</td>\n",
       "      <td>7</td>\n",
       "      <td>1</td>\n",
       "      <td>0</td>\n",
       "    </tr>\n",
       "    <tr>\n",
       "      <th>4</th>\n",
       "      <td>4</td>\n",
       "      <td>1</td>\n",
       "      <td>1</td>\n",
       "      <td>3</td>\n",
       "      <td>2</td>\n",
       "      <td>3</td>\n",
       "      <td>1</td>\n",
       "      <td>1</td>\n",
       "      <td>0</td>\n",
       "    </tr>\n",
       "  </tbody>\n",
       "</table>\n",
       "</div>"
      ],
      "text/plain": [
       "   clump_thickness  unif_cell_size  unif_cell_shape  marg_adhesion  \\\n",
       "0                5               1                1              1   \n",
       "1                5               4                4              5   \n",
       "2                3               1                1              1   \n",
       "3                6               8                8              1   \n",
       "4                4               1                1              3   \n",
       "\n",
       "   single_epith_cell_size  bland_chrom  norm_nucleoli  mitoses  classes  \n",
       "0                       2            3              1        1        0  \n",
       "1                       7            3              2        1        0  \n",
       "2                       2            3              1        1        0  \n",
       "3                       3            3              7        1        0  \n",
       "4                       2            3              1        1        0  "
      ]
     },
     "execution_count": 121,
     "metadata": {},
     "output_type": "execute_result"
    }
   ],
   "source": [
    "df = pd.read_csv(r\"C:\\Users\\risha\\Documents\\KRMU\\AIML_assigment\\datasets\\cancer.csv\").drop(columns=['id','bare_nuclei'])\n",
    "df.head()"
   ]
  },
  {
   "cell_type": "code",
   "execution_count": 122,
   "metadata": {},
   "outputs": [
    {
     "name": "stdout",
     "output_type": "stream",
     "text": [
      "<class 'pandas.core.frame.DataFrame'>\n",
      "RangeIndex: 699 entries, 0 to 698\n",
      "Data columns (total 9 columns):\n",
      " #   Column                  Non-Null Count  Dtype\n",
      "---  ------                  --------------  -----\n",
      " 0   clump_thickness         699 non-null    int64\n",
      " 1   unif_cell_size          699 non-null    int64\n",
      " 2   unif_cell_shape         699 non-null    int64\n",
      " 3   marg_adhesion           699 non-null    int64\n",
      " 4   single_epith_cell_size  699 non-null    int64\n",
      " 5   bland_chrom             699 non-null    int64\n",
      " 6   norm_nucleoli           699 non-null    int64\n",
      " 7   mitoses                 699 non-null    int64\n",
      " 8   classes                 699 non-null    int64\n",
      "dtypes: int64(9)\n",
      "memory usage: 49.3 KB\n"
     ]
    }
   ],
   "source": [
    "df.info()"
   ]
  },
  {
   "cell_type": "code",
   "execution_count": 123,
   "metadata": {},
   "outputs": [
    {
     "data": {
      "text/plain": [
       "clump_thickness           0\n",
       "unif_cell_size            0\n",
       "unif_cell_shape           0\n",
       "marg_adhesion             0\n",
       "single_epith_cell_size    0\n",
       "bland_chrom               0\n",
       "norm_nucleoli             0\n",
       "mitoses                   0\n",
       "classes                   0\n",
       "dtype: int64"
      ]
     },
     "execution_count": 123,
     "metadata": {},
     "output_type": "execute_result"
    }
   ],
   "source": [
    "df.isna().sum()"
   ]
  },
  {
   "cell_type": "code",
   "execution_count": 124,
   "metadata": {},
   "outputs": [
    {
     "data": {
      "text/plain": [
       "258"
      ]
     },
     "execution_count": 124,
     "metadata": {},
     "output_type": "execute_result"
    }
   ],
   "source": [
    "df.duplicated().sum()"
   ]
  },
  {
   "cell_type": "code",
   "execution_count": 125,
   "metadata": {},
   "outputs": [],
   "source": [
    "df=df.drop_duplicates()"
   ]
  },
  {
   "cell_type": "code",
   "execution_count": 126,
   "metadata": {},
   "outputs": [
    {
     "data": {
      "text/plain": [
       "Index(['clump_thickness', 'unif_cell_size', 'unif_cell_shape', 'marg_adhesion',\n",
       "       'single_epith_cell_size', 'bland_chrom', 'norm_nucleoli', 'mitoses',\n",
       "       'classes'],\n",
       "      dtype='object')"
      ]
     },
     "execution_count": 126,
     "metadata": {},
     "output_type": "execute_result"
    }
   ],
   "source": [
    "df.columns"
   ]
  },
  {
   "cell_type": "code",
   "execution_count": 127,
   "metadata": {},
   "outputs": [
    {
     "name": "stdout",
     "output_type": "stream",
     "text": [
      "[[38  4]\n",
      " [ 9 38]]\n",
      "Accuracy score of train KNN\n",
      "99.7159090909091\n",
      "Accuracy score of test KNN\n",
      "85.39325842696628\n",
      "[[40  2]\n",
      " [10 37]]\n",
      "Accuracy score of train KNN\n",
      "94.60227272727273\n",
      "Accuracy score of test KNN\n",
      "86.51685393258427\n",
      "[[39  3]\n",
      " [ 2 45]]\n",
      "Accuracy score of train KNN\n",
      "95.17045454545455\n",
      "Accuracy score of test KNN\n",
      "94.3820224719101\n",
      "[[39  3]\n",
      " [ 6 41]]\n",
      "Accuracy score of train KNN\n",
      "94.31818181818183\n",
      "Accuracy score of test KNN\n",
      "89.8876404494382\n",
      "[[38  4]\n",
      " [ 4 43]]\n",
      "Accuracy score of train KNN\n",
      "94.0340909090909\n",
      "Accuracy score of test KNN\n",
      "91.01123595505618\n",
      "[[40  2]\n",
      " [ 5 42]]\n",
      "Accuracy score of train KNN\n",
      "94.60227272727273\n",
      "Accuracy score of test KNN\n",
      "92.13483146067416\n",
      "[[40  2]\n",
      " [ 4 43]]\n",
      "Accuracy score of train KNN\n",
      "94.88636363636364\n",
      "Accuracy score of test KNN\n",
      "93.25842696629213\n",
      "[[40  2]\n",
      " [ 7 40]]\n",
      "Accuracy score of train KNN\n"
     ]
    },
    {
     "name": "stdout",
     "output_type": "stream",
     "text": [
      "94.60227272727273\n",
      "Accuracy score of test KNN\n",
      "89.8876404494382\n",
      "[[40  2]\n",
      " [ 3 44]]\n",
      "Accuracy score of train KNN\n",
      "94.88636363636364\n",
      "Accuracy score of test KNN\n",
      "94.3820224719101\n",
      "[[40  2]\n",
      " [ 4 43]]\n",
      "Accuracy score of train KNN\n",
      "94.88636363636364\n",
      "Accuracy score of test KNN\n",
      "93.25842696629213\n",
      "[[40  2]\n",
      " [ 3 44]]\n",
      "Accuracy score of train KNN\n",
      "94.31818181818183\n",
      "Accuracy score of test KNN\n",
      "94.3820224719101\n",
      "[[40  2]\n",
      " [ 3 44]]\n",
      "Accuracy score of train KNN\n",
      "94.0340909090909\n",
      "Accuracy score of test KNN\n",
      "94.3820224719101\n",
      "[[40  2]\n",
      " [ 2 45]]\n",
      "Accuracy score of train KNN\n",
      "94.0340909090909\n",
      "Accuracy score of test KNN\n",
      "95.50561797752809\n",
      "[[40  2]\n",
      " [ 2 45]]\n",
      "Accuracy score of train KNN\n",
      "94.60227272727273\n",
      "Accuracy score of test KNN\n",
      "95.50561797752809\n",
      "[[40  2]\n",
      " [ 2 45]]\n",
      "Accuracy score of train KNN\n",
      "94.31818181818183\n",
      "Accuracy score of test KNN\n",
      "95.50561797752809\n",
      "[[40  2]\n",
      " [ 2 45]]\n",
      "Accuracy score of train KNN\n",
      "94.0340909090909\n",
      "Accuracy score of test KNN\n",
      "95.50561797752809\n",
      "[[40  2]\n",
      " [ 2 45]]\n",
      "Accuracy score of train KNN\n",
      "93.75\n",
      "Accuracy score of test KNN\n",
      "95.50561797752809\n",
      "[[40  2]\n",
      " [ 2 45]]\n",
      "Accuracy score of train KNN\n",
      "92.89772727272727\n",
      "Accuracy score of test KNN\n",
      "95.50561797752809\n",
      "[[40  2]\n",
      " [ 2 45]]\n",
      "Accuracy score of train KNN\n",
      "93.18181818181817\n",
      "Accuracy score of test KNN\n",
      "95.50561797752809\n",
      "[[40  2]\n",
      " [ 2 45]]\n",
      "Accuracy score of train KNN\n",
      "92.89772727272727\n",
      "Accuracy score of test KNN\n",
      "95.50561797752809\n"
     ]
    }
   ],
   "source": [
    "knn = []\n",
    "for i in range(1,21):\n",
    "    classifier = KNeighborsClassifier(n_neighbors=i)\n",
    "    trained_model=classifier.fit(X_train,y_train)\n",
    "    trained_model.fit(X_train,y_train )\n",
    "    y_pred = classifier.predict(X_test)\n",
    "    cm_KNN = confusion_matrix(y_test, y_pred)\n",
    "    \n",
    "    print(cm_KNN)\n",
    "    print(\"Accuracy score of train KNN\")\n",
    "    print(accuracy_score(y_train, trained_model.predict(X_train))*100)\n",
    "    \n",
    "    print(\"Accuracy score of test KNN\")\n",
    "    print(accuracy_score(y_test, y_pred)*100)\n",
    "    \n",
    "    knn.append(accuracy_score(y_test, y_pred)*100)"
   ]
  },
  {
   "cell_type": "code",
   "execution_count": 128,
   "metadata": {},
   "outputs": [
    {
     "data": {
      "image/png": "[encoded data removed]",
      "text/plain": [
       "<Figure size 1200x800 with 1 Axes>"
      ]
     },
     "metadata": {},
     "output_type": "display_data"
    }
   ],
   "source": [
    "plt.figure(figsize=(12, 8))  \n",
    "plt.plot(range(1, 21),knn, marker='x', markerfacecolor='blue', color='orange', markersize=10)\n",
    "plt.title('Accuracy for different  K Value')  \n",
    "plt.xlabel('K Value')  \n",
    "plt.ylabel('Accuracy') \n",
    "\n",
    "plt.show()"
   ]
  },
  {
   "cell_type": "markdown",
   "metadata": {},
   "source": [
    "### KNN "
   ]
  },
  {
   "cell_type": "code",
   "execution_count": 129,
   "metadata": {},
   "outputs": [],
   "source": [
    "X = df.drop(columns=['classes'])\n",
    "y = df['classes']"
   ]
  },
  {
   "cell_type": "code",
   "execution_count": 130,
   "metadata": {},
   "outputs": [],
   "source": [
    "X_train, X_test, y_train, y_test = train_test_split(X, y, test_size=0.2, random_state=42)"
   ]
  },
  {
   "cell_type": "code",
   "execution_count": 131,
   "metadata": {},
   "outputs": [],
   "source": [
    "scaler = StandardScaler()\n",
    "X_train_scaled = scaler.fit_transform(X_train)\n",
    "X_test_scaled = scaler.transform(X_test)"
   ]
  },
  {
   "cell_type": "code",
   "execution_count": 132,
   "metadata": {},
   "outputs": [
    {
     "data": {
      "text/html": [
       "<style>#sk-container-id-6 {color: black;}#sk-container-id-6 pre{padding: 0;}#sk-container-id-6 div.sk-toggleable {background-color: white;}#sk-container-id-6 label.sk-toggleable__label {cursor: pointer;display: block;width: 100%;margin-bottom: 0;padding: 0.3em;box-sizing: border-box;text-align: center;}#sk-container-id-6 label.sk-toggleable__label-arrow:before {content: \"▸\";float: left;margin-right: 0.25em;color: #696969;}#sk-container-id-6 label.sk-toggleable__label-arrow:hover:before {color: black;}#sk-container-id-6 div.sk-estimator:hover label.sk-toggleable__label-arrow:before {color: black;}#sk-container-id-6 div.sk-toggleable__content {max-height: 0;max-width: 0;overflow: hidden;text-align: left;background-color: #f0f8ff;}#sk-container-id-6 div.sk-toggleable__content pre {margin: 0.2em;color: black;border-radius: 0.25em;background-color: #f0f8ff;}#sk-container-id-6 input.sk-toggleable__control:checked~div.sk-toggleable__content {max-height: 200px;max-width: 100%;overflow: auto;}#sk-container-id-6 input.sk-toggleable__control:checked~label.sk-toggleable__label-arrow:before {content: \"▾\";}#sk-container-id-6 div.sk-estimator input.sk-toggleable__control:checked~label.sk-toggleable__label {background-color: #d4ebff;}#sk-container-id-6 div.sk-label input.sk-toggleable__control:checked~label.sk-toggleable__label {background-color: #d4ebff;}#sk-container-id-6 input.sk-hidden--visually {border: 0;clip: rect(1px 1px 1px 1px);clip: rect(1px, 1px, 1px, 1px);height: 1px;margin: -1px;overflow: hidden;padding: 0;position: absolute;width: 1px;}#sk-container-id-6 div.sk-estimator {font-family: monospace;background-color: #f0f8ff;border: 1px dotted black;border-radius: 0.25em;box-sizing: border-box;margin-bottom: 0.5em;}#sk-container-id-6 div.sk-estimator:hover {background-color: #d4ebff;}#sk-container-id-6 div.sk-parallel-item::after {content: \"\";width: 100%;border-bottom: 1px solid gray;flex-grow: 1;}#sk-container-id-6 div.sk-label:hover label.sk-toggleable__label {background-color: #d4ebff;}#sk-container-id-6 div.sk-serial::before {content: \"\";position: absolute;border-left: 1px solid gray;box-sizing: border-box;top: 0;bottom: 0;left: 50%;z-index: 0;}#sk-container-id-6 div.sk-serial {display: flex;flex-direction: column;align-items: center;background-color: white;padding-right: 0.2em;padding-left: 0.2em;position: relative;}#sk-container-id-6 div.sk-item {position: relative;z-index: 1;}#sk-container-id-6 div.sk-parallel {display: flex;align-items: stretch;justify-content: center;background-color: white;position: relative;}#sk-container-id-6 div.sk-item::before, #sk-container-id-6 div.sk-parallel-item::before {content: \"\";position: absolute;border-left: 1px solid gray;box-sizing: border-box;top: 0;bottom: 0;left: 50%;z-index: -1;}#sk-container-id-6 div.sk-parallel-item {display: flex;flex-direction: column;z-index: 1;position: relative;background-color: white;}#sk-container-id-6 div.sk-parallel-item:first-child::after {align-self: flex-end;width: 50%;}#sk-container-id-6 div.sk-parallel-item:last-child::after {align-self: flex-start;width: 50%;}#sk-container-id-6 div.sk-parallel-item:only-child::after {width: 0;}#sk-container-id-6 div.sk-dashed-wrapped {border: 1px dashed gray;margin: 0 0.4em 0.5em 0.4em;box-sizing: border-box;padding-bottom: 0.4em;background-color: white;}#sk-container-id-6 div.sk-label label {font-family: monospace;font-weight: bold;display: inline-block;line-height: 1.2em;}#sk-container-id-6 div.sk-label-container {text-align: center;}#sk-container-id-6 div.sk-container {/* jupyter's `normalize.less` sets `[hidden] { display: none; }` but bootstrap.min.css set `[hidden] { display: none !important; }` so we also need the `!important` here to be able to override the default hidden behavior on the sphinx rendered scikit-learn.org. See: https://github.com/scikit-learn/scikit-learn/issues/21755 */display: inline-block !important;position: relative;}#sk-container-id-6 div.sk-text-repr-fallback {display: none;}</style><div id=\"sk-container-id-6\" class=\"sk-top-container\"><div class=\"sk-text-repr-fallback\"><pre>KNeighborsClassifier(n_neighbors=3)</pre><b>In a Jupyter environment, please rerun this cell to show the HTML representation or trust the notebook. <br />On GitHub, the HTML representation is unable to render, please try loading this page with nbviewer.org.</b></div><div class=\"sk-container\" hidden><div class=\"sk-item\"><div class=\"sk-estimator sk-toggleable\"><input class=\"sk-toggleable__control sk-hidden--visually\" id=\"sk-estimator-id-6\" type=\"checkbox\" checked><label for=\"sk-estimator-id-6\" class=\"sk-toggleable__label sk-toggleable__label-arrow\">KNeighborsClassifier</label><div class=\"sk-toggleable__content\"><pre>KNeighborsClassifier(n_neighbors=3)</pre></div></div></div></div></div>"
      ],
      "text/plain": [
       "KNeighborsClassifier(n_neighbors=3)"
      ]
     },
     "execution_count": 132,
     "metadata": {},
     "output_type": "execute_result"
    }
   ],
   "source": [
    "# Train a KNN classifier on the training data\n",
    "knn_classifier = KNeighborsClassifier(n_neighbors=3)\n",
    "knn_classifier.fit(X_train_scaled, y_train)"
   ]
  },
  {
   "cell_type": "code",
   "execution_count": 133,
   "metadata": {},
   "outputs": [],
   "source": [
    "y_pred = knn_classifier.predict(X_test_scaled)"
   ]
  },
  {
   "cell_type": "code",
   "execution_count": 134,
   "metadata": {},
   "outputs": [],
   "source": [
    "accuracy = accuracy_score(y_test, y_pred)"
   ]
  },
  {
   "cell_type": "code",
   "execution_count": 135,
   "metadata": {},
   "outputs": [
    {
     "name": "stdout",
     "output_type": "stream",
     "text": [
      "Model Evaluation:\n",
      "Accuracy: 0.92\n"
     ]
    }
   ],
   "source": [
    "print(\"Model Evaluation:\")\n",
    "print(f\"Accuracy: {accuracy:.2f}\")"
   ]
  },
  {
   "cell_type": "code",
   "execution_count": 136,
   "metadata": {},
   "outputs": [
    {
     "name": "stdout",
     "output_type": "stream",
     "text": [
      "\n",
      "Classification Report:\n",
      "              precision    recall  f1-score   support\n",
      "\n",
      "           0       0.93      0.90      0.92        42\n",
      "           1       0.92      0.94      0.93        47\n",
      "\n",
      "    accuracy                           0.92        89\n",
      "   macro avg       0.92      0.92      0.92        89\n",
      "weighted avg       0.92      0.92      0.92        89\n",
      "\n"
     ]
    }
   ],
   "source": [
    "print(\"\\nClassification Report:\")\n",
    "print(classification_report(y_test, y_pred))"
   ]
  },
  {
   "cell_type": "code",
   "execution_count": 137,
   "metadata": {},
   "outputs": [
    {
     "name": "stdout",
     "output_type": "stream",
     "text": [
      "\n",
      "Confusion Matrix:\n",
      "[[38  4]\n",
      " [ 3 44]]\n"
     ]
    }
   ],
   "source": [
    "print(\"\\nConfusion Matrix:\")\n",
    "print(confusion_matrix(y_test, y_pred))"
   ]
  },
  {
   "cell_type": "code",
   "execution_count": null,
   "metadata": {},
   "outputs": [],
   "source": []
  }
 ],
 "metadata": {
  "kernelspec": {
   "display_name": "Python 3",
   "language": "python",
   "name": "python3"
  },
  "language_info": {
   "codemirror_mode": {
    "name": "ipython",
    "version": 3
   },
   "file_extension": ".py",
   "mimetype": "text/x-python",
   "name": "python",
   "nbconvert_exporter": "python",
   "pygments_lexer": "ipython3",
   "version": "3.12.0"
  }
 },
 "nbformat": 4,
 "nbformat_minor": 2
}

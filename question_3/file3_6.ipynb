{
 "cells": [
  {
   "cell_type": "code",
   "execution_count": null,
   "metadata": {},
   "outputs": [],
   "source": []
  },
  {
   "cell_type": "markdown",
   "metadata": {},
   "source": [
    "## Case Study: Preparing Lobste.rs"
   ]
  },
  {
   "cell_type": "code",
   "execution_count": 91,
   "metadata": {},
   "outputs": [],
   "source": [
    "import pandas as pd\n",
    "import requests\n",
    "from fuzzywuzzy import fuzz\n",
    "from collections import Counter\n",
    "from sklearn import preprocessing"
   ]
  },
  {
   "cell_type": "markdown",
   "metadata": {},
   "source": [
    "### If you'd rather read from the API to get the latest, uncomment the details (and add comment to the final line)"
   ]
  },
  {
   "cell_type": "code",
   "execution_count": 92,
   "metadata": {},
   "outputs": [],
   "source": [
    "stories = pd.read_json(r'C:\\Users\\risha\\Documents\\KRMU\\AIML_assigment\\datasets\\all_lobsters.json')"
   ]
  },
  {
   "cell_type": "code",
   "execution_count": 93,
   "metadata": {},
   "outputs": [
    {
     "data": {
      "text/html": [
       "<div>\n",
       "<style scoped>\n",
       "    .dataframe tbody tr th:only-of-type {\n",
       "        vertical-align: middle;\n",
       "    }\n",
       "\n",
       "    .dataframe tbody tr th {\n",
       "        vertical-align: top;\n",
       "    }\n",
       "\n",
       "    .dataframe thead th {\n",
       "        text-align: right;\n",
       "    }\n",
       "</style>\n",
       "<table border=\"1\" class=\"dataframe\">\n",
       "  <thead>\n",
       "    <tr style=\"text-align: right;\">\n",
       "      <th></th>\n",
       "      <th>comment_count</th>\n",
       "      <th>comments_url</th>\n",
       "      <th>created_at</th>\n",
       "      <th>description</th>\n",
       "      <th>downvotes</th>\n",
       "      <th>last_updated</th>\n",
       "      <th>score</th>\n",
       "      <th>short_id_url</th>\n",
       "      <th>submitter_user</th>\n",
       "      <th>tags</th>\n",
       "      <th>title</th>\n",
       "      <th>upvotes</th>\n",
       "      <th>url</th>\n",
       "    </tr>\n",
       "  </thead>\n",
       "  <tbody>\n",
       "    <tr>\n",
       "      <th>09zw7r</th>\n",
       "      <td>0</td>\n",
       "      <td>https://lobste.rs/s/09zw7r/edited_truth</td>\n",
       "      <td>2017-08-08 20:11:09</td>\n",
       "      <td></td>\n",
       "      <td>0</td>\n",
       "      <td>2017-08-09T11:03:57.014269</td>\n",
       "      <td>3</td>\n",
       "      <td>https://lobste.rs/s/09zw7r</td>\n",
       "      <td>{'avatar_url': 'https://lobste.rs/avatars/trn-...</td>\n",
       "      <td>[crypto, pdf]</td>\n",
       "      <td>The Edited Truth</td>\n",
       "      <td>3</td>\n",
       "      <td>https://eprint.iacr.org/2017/714.pdf</td>\n",
       "    </tr>\n",
       "    <tr>\n",
       "      <th>0bdne7</th>\n",
       "      <td>17</td>\n",
       "      <td>https://lobste.rs/s/0bdne7/rise_social_media_v...</td>\n",
       "      <td>2017-08-08 21:12:38</td>\n",
       "      <td></td>\n",
       "      <td>9</td>\n",
       "      <td>2017-08-09T11:03:57.014269</td>\n",
       "      <td>-1</td>\n",
       "      <td>https://lobste.rs/s/0bdne7</td>\n",
       "      <td>{'avatar_url': 'https://lobste.rs/avatars/nkhu...</td>\n",
       "      <td>[law, privacy]</td>\n",
       "      <td>The Rise of The Social Media Vigilante</td>\n",
       "      <td>8</td>\n",
       "      <td>https://medium.com/@nkhumphreys_89452/the-rise...</td>\n",
       "    </tr>\n",
       "    <tr>\n",
       "      <th>1bhbod</th>\n",
       "      <td>11</td>\n",
       "      <td>https://lobste.rs/s/1bhbod/tcl_misunderstood_a...</td>\n",
       "      <td>2017-04-30 20:28:52</td>\n",
       "      <td>&lt;p&gt;Did any language end up taking that “highly...</td>\n",
       "      <td>0</td>\n",
       "      <td>2017-05-01T06:29:11.725518</td>\n",
       "      <td>17</td>\n",
       "      <td>https://lobste.rs/s/1bhbod</td>\n",
       "      <td>{'is_moderator': False, 'is_admin': False, 'us...</td>\n",
       "      <td>[programming]</td>\n",
       "      <td>Tcl the misunderstood - antirez</td>\n",
       "      <td>17</td>\n",
       "      <td>http://antirez.com/articoli/tclmisunderstood.html</td>\n",
       "    </tr>\n",
       "    <tr>\n",
       "      <th>1xkje1</th>\n",
       "      <td>0</td>\n",
       "      <td>https://lobste.rs/s/1xkje1/interview_4_jonatha...</td>\n",
       "      <td>2017-05-01 02:31:35</td>\n",
       "      <td>&lt;p&gt;Rust’s own Jonathan Turner on his backgroun...</td>\n",
       "      <td>0</td>\n",
       "      <td>2017-05-01T06:29:11.725518</td>\n",
       "      <td>1</td>\n",
       "      <td>https://lobste.rs/s/1xkje1</td>\n",
       "      <td>{'is_moderator': False, 'is_admin': False, 'us...</td>\n",
       "      <td>[audio, javascript, rust]</td>\n",
       "      <td>🎤🎙 Interview 4 – Jonathan Turner: Part 1/3</td>\n",
       "      <td>1</td>\n",
       "      <td>http://www.newrustacean.com/show_notes/intervi...</td>\n",
       "    </tr>\n",
       "    <tr>\n",
       "      <th>2dasvh</th>\n",
       "      <td>19</td>\n",
       "      <td>https://lobste.rs/s/2dasvh/return_hipster_pda</td>\n",
       "      <td>2017-08-08 14:25:29</td>\n",
       "      <td></td>\n",
       "      <td>0</td>\n",
       "      <td>2017-08-09T11:03:56.287654</td>\n",
       "      <td>20</td>\n",
       "      <td>https://lobste.rs/s/2dasvh</td>\n",
       "      <td>{'created_at': '2017-01-19T14:56:50.000-06:00'...</td>\n",
       "      <td>[practices]</td>\n",
       "      <td>The Return of the Hipster PDA</td>\n",
       "      <td>20</td>\n",
       "      <td>http://www.agilesysadmin.net/return-of-the-hip...</td>\n",
       "    </tr>\n",
       "  </tbody>\n",
       "</table>\n",
       "</div>"
      ],
      "text/plain": [
       "        comment_count                                       comments_url  \\\n",
       "09zw7r              0            https://lobste.rs/s/09zw7r/edited_truth   \n",
       "0bdne7             17  https://lobste.rs/s/0bdne7/rise_social_media_v...   \n",
       "1bhbod             11  https://lobste.rs/s/1bhbod/tcl_misunderstood_a...   \n",
       "1xkje1              0  https://lobste.rs/s/1xkje1/interview_4_jonatha...   \n",
       "2dasvh             19      https://lobste.rs/s/2dasvh/return_hipster_pda   \n",
       "\n",
       "                created_at                                        description  \\\n",
       "09zw7r 2017-08-08 20:11:09                                                      \n",
       "0bdne7 2017-08-08 21:12:38                                                      \n",
       "1bhbod 2017-04-30 20:28:52  <p>Did any language end up taking that “highly...   \n",
       "1xkje1 2017-05-01 02:31:35  <p>Rust’s own Jonathan Turner on his backgroun...   \n",
       "2dasvh 2017-08-08 14:25:29                                                      \n",
       "\n",
       "        downvotes                last_updated  score  \\\n",
       "09zw7r          0  2017-08-09T11:03:57.014269      3   \n",
       "0bdne7          9  2017-08-09T11:03:57.014269     -1   \n",
       "1bhbod          0  2017-05-01T06:29:11.725518     17   \n",
       "1xkje1          0  2017-05-01T06:29:11.725518      1   \n",
       "2dasvh          0  2017-08-09T11:03:56.287654     20   \n",
       "\n",
       "                      short_id_url  \\\n",
       "09zw7r  https://lobste.rs/s/09zw7r   \n",
       "0bdne7  https://lobste.rs/s/0bdne7   \n",
       "1bhbod  https://lobste.rs/s/1bhbod   \n",
       "1xkje1  https://lobste.rs/s/1xkje1   \n",
       "2dasvh  https://lobste.rs/s/2dasvh   \n",
       "\n",
       "                                           submitter_user  \\\n",
       "09zw7r  {'avatar_url': 'https://lobste.rs/avatars/trn-...   \n",
       "0bdne7  {'avatar_url': 'https://lobste.rs/avatars/nkhu...   \n",
       "1bhbod  {'is_moderator': False, 'is_admin': False, 'us...   \n",
       "1xkje1  {'is_moderator': False, 'is_admin': False, 'us...   \n",
       "2dasvh  {'created_at': '2017-01-19T14:56:50.000-06:00'...   \n",
       "\n",
       "                             tags                                       title  \\\n",
       "09zw7r              [crypto, pdf]                            The Edited Truth   \n",
       "0bdne7             [law, privacy]      The Rise of The Social Media Vigilante   \n",
       "1bhbod              [programming]             Tcl the misunderstood - antirez   \n",
       "1xkje1  [audio, javascript, rust]  🎤🎙 Interview 4 – Jonathan Turner: Part 1/3   \n",
       "2dasvh                [practices]               The Return of the Hipster PDA   \n",
       "\n",
       "        upvotes                                                url  \n",
       "09zw7r        3               https://eprint.iacr.org/2017/714.pdf  \n",
       "0bdne7        8  https://medium.com/@nkhumphreys_89452/the-rise...  \n",
       "1bhbod       17  http://antirez.com/articoli/tclmisunderstood.html  \n",
       "1xkje1        1  http://www.newrustacean.com/show_notes/intervi...  \n",
       "2dasvh       20  http://www.agilesysadmin.net/return-of-the-hip...  "
      ]
     },
     "execution_count": 93,
     "metadata": {},
     "output_type": "execute_result"
    }
   ],
   "source": [
    "stories.head()"
   ]
  },
  {
   "cell_type": "code",
   "execution_count": 94,
   "metadata": {},
   "outputs": [
    {
     "data": {
      "text/plain": [
       "comment_count              int64\n",
       "comments_url              object\n",
       "created_at        datetime64[ns]\n",
       "description               object\n",
       "downvotes                  int64\n",
       "last_updated              object\n",
       "score                      int64\n",
       "short_id_url              object\n",
       "submitter_user            object\n",
       "tags                      object\n",
       "title                     object\n",
       "upvotes                    int64\n",
       "url                       object\n",
       "dtype: object"
      ]
     },
     "execution_count": 94,
     "metadata": {},
     "output_type": "execute_result"
    }
   ],
   "source": [
    "stories.dtypes"
   ]
  },
  {
   "cell_type": "markdown",
   "metadata": {},
   "source": [
    "### Let's take a look at the submitter_user field, as it appears like a dict"
   ]
  },
  {
   "cell_type": "code",
   "execution_count": 95,
   "metadata": {},
   "outputs": [
    {
     "data": {
      "text/plain": [
       "{'is_moderator': False,\n",
       " 'is_admin': False,\n",
       " 'username': 'chriskrycho',\n",
       " 'karma': 27,\n",
       " 'avatar_url': 'https://secure.gravatar.com/avatar/c096ed07142659408dc6651f8320acd3?r=pg&d=identicon&s=100',\n",
       " 'created_at': '2016-08-15T09:33:28.000-05:00',\n",
       " 'about': \"I'm a husband and father; a theologian, composer, poet, and essayist; a front end developer at [Olo](http://www.olo.com); a [Rust](https://www.rust-lang.org/en-US/) enthusiast host; and the host of the [Winning Slowly](http://www.winningslowly.org), [New Rustacean](http://www.newrustacean.com/), [Sap.py](http://www.sap-py.com), and [Run With Me](http://runwith.chriskrycho.com/) podcasts.\"}"
      ]
     },
     "execution_count": 95,
     "metadata": {},
     "output_type": "execute_result"
    }
   ],
   "source": [
    "stories.submitter_user.iloc[3]"
   ]
  },
  {
   "cell_type": "code",
   "execution_count": 96,
   "metadata": {},
   "outputs": [],
   "source": [
    "user_df = stories['submitter_user'].apply(pd.Series)"
   ]
  },
  {
   "cell_type": "code",
   "execution_count": 97,
   "metadata": {},
   "outputs": [
    {
     "data": {
      "text/html": [
       "<div>\n",
       "<style scoped>\n",
       "    .dataframe tbody tr th:only-of-type {\n",
       "        vertical-align: middle;\n",
       "    }\n",
       "\n",
       "    .dataframe tbody tr th {\n",
       "        vertical-align: top;\n",
       "    }\n",
       "\n",
       "    .dataframe thead th {\n",
       "        text-align: right;\n",
       "    }\n",
       "</style>\n",
       "<table border=\"1\" class=\"dataframe\">\n",
       "  <thead>\n",
       "    <tr style=\"text-align: right;\">\n",
       "      <th></th>\n",
       "      <th>avatar_url</th>\n",
       "      <th>created_at</th>\n",
       "      <th>is_admin</th>\n",
       "      <th>username</th>\n",
       "      <th>karma</th>\n",
       "      <th>is_moderator</th>\n",
       "      <th>about</th>\n",
       "      <th>github_username</th>\n",
       "    </tr>\n",
       "  </thead>\n",
       "  <tbody>\n",
       "    <tr>\n",
       "      <th>09zw7r</th>\n",
       "      <td>https://lobste.rs/avatars/trn-100.png</td>\n",
       "      <td>2017-01-19T14:56:50.000-06:00</td>\n",
       "      <td>False</td>\n",
       "      <td>trn</td>\n",
       "      <td>429</td>\n",
       "      <td>False</td>\n",
       "      <td></td>\n",
       "      <td>NaN</td>\n",
       "    </tr>\n",
       "    <tr>\n",
       "      <th>0bdne7</th>\n",
       "      <td>https://lobste.rs/avatars/nkhumphreys-100.png</td>\n",
       "      <td>2014-07-02T06:36:39.000-05:00</td>\n",
       "      <td>False</td>\n",
       "      <td>nkhumphreys</td>\n",
       "      <td>-1</td>\n",
       "      <td>False</td>\n",
       "      <td>Web developer and previously embedded C developer</td>\n",
       "      <td>NaN</td>\n",
       "    </tr>\n",
       "    <tr>\n",
       "      <th>1bhbod</th>\n",
       "      <td>https://secure.gravatar.com/avatar/85002353297...</td>\n",
       "      <td>2016-11-30T10:14:24.000-06:00</td>\n",
       "      <td>False</td>\n",
       "      <td>yumaikas</td>\n",
       "      <td>578</td>\n",
       "      <td>False</td>\n",
       "      <td>I blog infrequently at https://junglecoder.com...</td>\n",
       "      <td>NaN</td>\n",
       "    </tr>\n",
       "    <tr>\n",
       "      <th>1xkje1</th>\n",
       "      <td>https://secure.gravatar.com/avatar/c096ed07142...</td>\n",
       "      <td>2016-08-15T09:33:28.000-05:00</td>\n",
       "      <td>False</td>\n",
       "      <td>chriskrycho</td>\n",
       "      <td>27</td>\n",
       "      <td>False</td>\n",
       "      <td>I'm a husband and father; a theologian, compos...</td>\n",
       "      <td>NaN</td>\n",
       "    </tr>\n",
       "    <tr>\n",
       "      <th>2dasvh</th>\n",
       "      <td>https://lobste.rs/avatars/trn-100.png</td>\n",
       "      <td>2017-01-19T14:56:50.000-06:00</td>\n",
       "      <td>False</td>\n",
       "      <td>trn</td>\n",
       "      <td>429</td>\n",
       "      <td>False</td>\n",
       "      <td></td>\n",
       "      <td>NaN</td>\n",
       "    </tr>\n",
       "  </tbody>\n",
       "</table>\n",
       "</div>"
      ],
      "text/plain": [
       "                                               avatar_url  \\\n",
       "09zw7r              https://lobste.rs/avatars/trn-100.png   \n",
       "0bdne7      https://lobste.rs/avatars/nkhumphreys-100.png   \n",
       "1bhbod  https://secure.gravatar.com/avatar/85002353297...   \n",
       "1xkje1  https://secure.gravatar.com/avatar/c096ed07142...   \n",
       "2dasvh              https://lobste.rs/avatars/trn-100.png   \n",
       "\n",
       "                           created_at  is_admin     username  karma  \\\n",
       "09zw7r  2017-01-19T14:56:50.000-06:00     False          trn    429   \n",
       "0bdne7  2014-07-02T06:36:39.000-05:00     False  nkhumphreys     -1   \n",
       "1bhbod  2016-11-30T10:14:24.000-06:00     False     yumaikas    578   \n",
       "1xkje1  2016-08-15T09:33:28.000-05:00     False  chriskrycho     27   \n",
       "2dasvh  2017-01-19T14:56:50.000-06:00     False          trn    429   \n",
       "\n",
       "        is_moderator                                              about  \\\n",
       "09zw7r         False                                                      \n",
       "0bdne7         False  Web developer and previously embedded C developer   \n",
       "1bhbod         False  I blog infrequently at https://junglecoder.com...   \n",
       "1xkje1         False  I'm a husband and father; a theologian, compos...   \n",
       "2dasvh         False                                                      \n",
       "\n",
       "       github_username  \n",
       "09zw7r             NaN  \n",
       "0bdne7             NaN  \n",
       "1bhbod             NaN  \n",
       "1xkje1             NaN  \n",
       "2dasvh             NaN  "
      ]
     },
     "execution_count": 97,
     "metadata": {},
     "output_type": "execute_result"
    }
   ],
   "source": [
    "user_df.head()"
   ]
  },
  {
   "cell_type": "markdown",
   "metadata": {},
   "source": [
    "### Can we combine the user data without potential column overlap?"
   ]
  },
  {
   "cell_type": "code",
   "execution_count": 98,
   "metadata": {},
   "outputs": [
    {
     "data": {
      "text/plain": [
       "{'created_at'}"
      ]
     },
     "execution_count": 98,
     "metadata": {},
     "output_type": "execute_result"
    }
   ],
   "source": [
    "set(user_df.columns).intersection(stories.columns)"
   ]
  },
  {
   "cell_type": "code",
   "execution_count": 99,
   "metadata": {},
   "outputs": [],
   "source": [
    "user_df = user_df.rename(columns={'created_at': \n",
    "                                  'user_created_at'})"
   ]
  },
  {
   "cell_type": "code",
   "execution_count": 100,
   "metadata": {},
   "outputs": [],
   "source": [
    "stories = pd.concat([stories.drop(['submitter_user'], axis=1), \n",
    "                     user_df], axis=1)"
   ]
  },
  {
   "cell_type": "code",
   "execution_count": 101,
   "metadata": {},
   "outputs": [
    {
     "data": {
      "text/html": [
       "<div>\n",
       "<style scoped>\n",
       "    .dataframe tbody tr th:only-of-type {\n",
       "        vertical-align: middle;\n",
       "    }\n",
       "\n",
       "    .dataframe tbody tr th {\n",
       "        vertical-align: top;\n",
       "    }\n",
       "\n",
       "    .dataframe thead th {\n",
       "        text-align: right;\n",
       "    }\n",
       "</style>\n",
       "<table border=\"1\" class=\"dataframe\">\n",
       "  <thead>\n",
       "    <tr style=\"text-align: right;\">\n",
       "      <th></th>\n",
       "      <th>comment_count</th>\n",
       "      <th>comments_url</th>\n",
       "      <th>created_at</th>\n",
       "      <th>description</th>\n",
       "      <th>downvotes</th>\n",
       "      <th>last_updated</th>\n",
       "      <th>score</th>\n",
       "      <th>short_id_url</th>\n",
       "      <th>tags</th>\n",
       "      <th>title</th>\n",
       "      <th>upvotes</th>\n",
       "      <th>url</th>\n",
       "      <th>avatar_url</th>\n",
       "      <th>user_created_at</th>\n",
       "      <th>is_admin</th>\n",
       "      <th>username</th>\n",
       "      <th>karma</th>\n",
       "      <th>is_moderator</th>\n",
       "      <th>about</th>\n",
       "      <th>github_username</th>\n",
       "    </tr>\n",
       "  </thead>\n",
       "  <tbody>\n",
       "    <tr>\n",
       "      <th>09zw7r</th>\n",
       "      <td>0</td>\n",
       "      <td>https://lobste.rs/s/09zw7r/edited_truth</td>\n",
       "      <td>2017-08-08 20:11:09</td>\n",
       "      <td></td>\n",
       "      <td>0</td>\n",
       "      <td>2017-08-09T11:03:57.014269</td>\n",
       "      <td>3</td>\n",
       "      <td>https://lobste.rs/s/09zw7r</td>\n",
       "      <td>[crypto, pdf]</td>\n",
       "      <td>The Edited Truth</td>\n",
       "      <td>3</td>\n",
       "      <td>https://eprint.iacr.org/2017/714.pdf</td>\n",
       "      <td>https://lobste.rs/avatars/trn-100.png</td>\n",
       "      <td>2017-01-19T14:56:50.000-06:00</td>\n",
       "      <td>False</td>\n",
       "      <td>trn</td>\n",
       "      <td>429</td>\n",
       "      <td>False</td>\n",
       "      <td></td>\n",
       "      <td>NaN</td>\n",
       "    </tr>\n",
       "    <tr>\n",
       "      <th>0bdne7</th>\n",
       "      <td>17</td>\n",
       "      <td>https://lobste.rs/s/0bdne7/rise_social_media_v...</td>\n",
       "      <td>2017-08-08 21:12:38</td>\n",
       "      <td></td>\n",
       "      <td>9</td>\n",
       "      <td>2017-08-09T11:03:57.014269</td>\n",
       "      <td>-1</td>\n",
       "      <td>https://lobste.rs/s/0bdne7</td>\n",
       "      <td>[law, privacy]</td>\n",
       "      <td>The Rise of The Social Media Vigilante</td>\n",
       "      <td>8</td>\n",
       "      <td>https://medium.com/@nkhumphreys_89452/the-rise...</td>\n",
       "      <td>https://lobste.rs/avatars/nkhumphreys-100.png</td>\n",
       "      <td>2014-07-02T06:36:39.000-05:00</td>\n",
       "      <td>False</td>\n",
       "      <td>nkhumphreys</td>\n",
       "      <td>-1</td>\n",
       "      <td>False</td>\n",
       "      <td>Web developer and previously embedded C developer</td>\n",
       "      <td>NaN</td>\n",
       "    </tr>\n",
       "    <tr>\n",
       "      <th>1bhbod</th>\n",
       "      <td>11</td>\n",
       "      <td>https://lobste.rs/s/1bhbod/tcl_misunderstood_a...</td>\n",
       "      <td>2017-04-30 20:28:52</td>\n",
       "      <td>&lt;p&gt;Did any language end up taking that “highly...</td>\n",
       "      <td>0</td>\n",
       "      <td>2017-05-01T06:29:11.725518</td>\n",
       "      <td>17</td>\n",
       "      <td>https://lobste.rs/s/1bhbod</td>\n",
       "      <td>[programming]</td>\n",
       "      <td>Tcl the misunderstood - antirez</td>\n",
       "      <td>17</td>\n",
       "      <td>http://antirez.com/articoli/tclmisunderstood.html</td>\n",
       "      <td>https://secure.gravatar.com/avatar/85002353297...</td>\n",
       "      <td>2016-11-30T10:14:24.000-06:00</td>\n",
       "      <td>False</td>\n",
       "      <td>yumaikas</td>\n",
       "      <td>578</td>\n",
       "      <td>False</td>\n",
       "      <td>I blog infrequently at https://junglecoder.com...</td>\n",
       "      <td>NaN</td>\n",
       "    </tr>\n",
       "    <tr>\n",
       "      <th>1xkje1</th>\n",
       "      <td>0</td>\n",
       "      <td>https://lobste.rs/s/1xkje1/interview_4_jonatha...</td>\n",
       "      <td>2017-05-01 02:31:35</td>\n",
       "      <td>&lt;p&gt;Rust’s own Jonathan Turner on his backgroun...</td>\n",
       "      <td>0</td>\n",
       "      <td>2017-05-01T06:29:11.725518</td>\n",
       "      <td>1</td>\n",
       "      <td>https://lobste.rs/s/1xkje1</td>\n",
       "      <td>[audio, javascript, rust]</td>\n",
       "      <td>🎤🎙 Interview 4 – Jonathan Turner: Part 1/3</td>\n",
       "      <td>1</td>\n",
       "      <td>http://www.newrustacean.com/show_notes/intervi...</td>\n",
       "      <td>https://secure.gravatar.com/avatar/c096ed07142...</td>\n",
       "      <td>2016-08-15T09:33:28.000-05:00</td>\n",
       "      <td>False</td>\n",
       "      <td>chriskrycho</td>\n",
       "      <td>27</td>\n",
       "      <td>False</td>\n",
       "      <td>I'm a husband and father; a theologian, compos...</td>\n",
       "      <td>NaN</td>\n",
       "    </tr>\n",
       "    <tr>\n",
       "      <th>2dasvh</th>\n",
       "      <td>19</td>\n",
       "      <td>https://lobste.rs/s/2dasvh/return_hipster_pda</td>\n",
       "      <td>2017-08-08 14:25:29</td>\n",
       "      <td></td>\n",
       "      <td>0</td>\n",
       "      <td>2017-08-09T11:03:56.287654</td>\n",
       "      <td>20</td>\n",
       "      <td>https://lobste.rs/s/2dasvh</td>\n",
       "      <td>[practices]</td>\n",
       "      <td>The Return of the Hipster PDA</td>\n",
       "      <td>20</td>\n",
       "      <td>http://www.agilesysadmin.net/return-of-the-hip...</td>\n",
       "      <td>https://lobste.rs/avatars/trn-100.png</td>\n",
       "      <td>2017-01-19T14:56:50.000-06:00</td>\n",
       "      <td>False</td>\n",
       "      <td>trn</td>\n",
       "      <td>429</td>\n",
       "      <td>False</td>\n",
       "      <td></td>\n",
       "      <td>NaN</td>\n",
       "    </tr>\n",
       "  </tbody>\n",
       "</table>\n",
       "</div>"
      ],
      "text/plain": [
       "        comment_count                                       comments_url  \\\n",
       "09zw7r              0            https://lobste.rs/s/09zw7r/edited_truth   \n",
       "0bdne7             17  https://lobste.rs/s/0bdne7/rise_social_media_v...   \n",
       "1bhbod             11  https://lobste.rs/s/1bhbod/tcl_misunderstood_a...   \n",
       "1xkje1              0  https://lobste.rs/s/1xkje1/interview_4_jonatha...   \n",
       "2dasvh             19      https://lobste.rs/s/2dasvh/return_hipster_pda   \n",
       "\n",
       "                created_at                                        description  \\\n",
       "09zw7r 2017-08-08 20:11:09                                                      \n",
       "0bdne7 2017-08-08 21:12:38                                                      \n",
       "1bhbod 2017-04-30 20:28:52  <p>Did any language end up taking that “highly...   \n",
       "1xkje1 2017-05-01 02:31:35  <p>Rust’s own Jonathan Turner on his backgroun...   \n",
       "2dasvh 2017-08-08 14:25:29                                                      \n",
       "\n",
       "        downvotes                last_updated  score  \\\n",
       "09zw7r          0  2017-08-09T11:03:57.014269      3   \n",
       "0bdne7          9  2017-08-09T11:03:57.014269     -1   \n",
       "1bhbod          0  2017-05-01T06:29:11.725518     17   \n",
       "1xkje1          0  2017-05-01T06:29:11.725518      1   \n",
       "2dasvh          0  2017-08-09T11:03:56.287654     20   \n",
       "\n",
       "                      short_id_url                       tags  \\\n",
       "09zw7r  https://lobste.rs/s/09zw7r              [crypto, pdf]   \n",
       "0bdne7  https://lobste.rs/s/0bdne7             [law, privacy]   \n",
       "1bhbod  https://lobste.rs/s/1bhbod              [programming]   \n",
       "1xkje1  https://lobste.rs/s/1xkje1  [audio, javascript, rust]   \n",
       "2dasvh  https://lobste.rs/s/2dasvh                [practices]   \n",
       "\n",
       "                                             title  upvotes  \\\n",
       "09zw7r                            The Edited Truth        3   \n",
       "0bdne7      The Rise of The Social Media Vigilante        8   \n",
       "1bhbod             Tcl the misunderstood - antirez       17   \n",
       "1xkje1  🎤🎙 Interview 4 – Jonathan Turner: Part 1/3        1   \n",
       "2dasvh               The Return of the Hipster PDA       20   \n",
       "\n",
       "                                                      url  \\\n",
       "09zw7r               https://eprint.iacr.org/2017/714.pdf   \n",
       "0bdne7  https://medium.com/@nkhumphreys_89452/the-rise...   \n",
       "1bhbod  http://antirez.com/articoli/tclmisunderstood.html   \n",
       "1xkje1  http://www.newrustacean.com/show_notes/intervi...   \n",
       "2dasvh  http://www.agilesysadmin.net/return-of-the-hip...   \n",
       "\n",
       "                                               avatar_url  \\\n",
       "09zw7r              https://lobste.rs/avatars/trn-100.png   \n",
       "0bdne7      https://lobste.rs/avatars/nkhumphreys-100.png   \n",
       "1bhbod  https://secure.gravatar.com/avatar/85002353297...   \n",
       "1xkje1  https://secure.gravatar.com/avatar/c096ed07142...   \n",
       "2dasvh              https://lobste.rs/avatars/trn-100.png   \n",
       "\n",
       "                      user_created_at  is_admin     username  karma  \\\n",
       "09zw7r  2017-01-19T14:56:50.000-06:00     False          trn    429   \n",
       "0bdne7  2014-07-02T06:36:39.000-05:00     False  nkhumphreys     -1   \n",
       "1bhbod  2016-11-30T10:14:24.000-06:00     False     yumaikas    578   \n",
       "1xkje1  2016-08-15T09:33:28.000-05:00     False  chriskrycho     27   \n",
       "2dasvh  2017-01-19T14:56:50.000-06:00     False          trn    429   \n",
       "\n",
       "        is_moderator                                              about  \\\n",
       "09zw7r         False                                                      \n",
       "0bdne7         False  Web developer and previously embedded C developer   \n",
       "1bhbod         False  I blog infrequently at https://junglecoder.com...   \n",
       "1xkje1         False  I'm a husband and father; a theologian, compos...   \n",
       "2dasvh         False                                                      \n",
       "\n",
       "       github_username  \n",
       "09zw7r             NaN  \n",
       "0bdne7             NaN  \n",
       "1bhbod             NaN  \n",
       "1xkje1             NaN  \n",
       "2dasvh             NaN  "
      ]
     },
     "execution_count": 101,
     "metadata": {},
     "output_type": "execute_result"
    }
   ],
   "source": [
    "stories.head()"
   ]
  },
  {
   "cell_type": "markdown",
   "metadata": {},
   "source": [
    "### Let's check for nulls"
   ]
  },
  {
   "cell_type": "code",
   "execution_count": 102,
   "metadata": {},
   "outputs": [
    {
     "data": {
      "text/plain": [
       "(74, 20)"
      ]
     },
     "execution_count": 102,
     "metadata": {},
     "output_type": "execute_result"
    }
   ],
   "source": [
    "stories.shape"
   ]
  },
  {
   "cell_type": "code",
   "execution_count": 103,
   "metadata": {},
   "outputs": [
    {
     "data": {
      "text/plain": [
       "(8, 20)"
      ]
     },
     "execution_count": 103,
     "metadata": {},
     "output_type": "execute_result"
    }
   ],
   "source": [
    "stories.dropna().shape"
   ]
  },
  {
   "cell_type": "code",
   "execution_count": 104,
   "metadata": {},
   "outputs": [
    {
     "data": {
      "text/plain": [
       "(74, 19)"
      ]
     },
     "execution_count": 104,
     "metadata": {},
     "output_type": "execute_result"
    }
   ],
   "source": [
    "stories.dropna(thresh=10, axis=1).shape"
   ]
  },
  {
   "cell_type": "markdown",
   "metadata": {},
   "source": [
    "### Exercise: which columns would be dropped?"
   ]
  },
  {
   "cell_type": "code",
   "execution_count": 105,
   "metadata": {},
   "outputs": [
    {
     "data": {
      "text/plain": [
       "{'github_username'}"
      ]
     },
     "execution_count": 105,
     "metadata": {},
     "output_type": "execute_result"
    }
   ],
   "source": [
    "set(stories.columns) - set(stories.dropna(thresh=10, axis=1).columns)\n"
   ]
  },
  {
   "cell_type": "markdown",
   "metadata": {},
   "source": [
    "## Let's make the tags easier to use by having them as features in the columns."
   ]
  },
  {
   "cell_type": "code",
   "execution_count": 106,
   "metadata": {},
   "outputs": [],
   "source": [
    "tag_df = stories.tags.apply(pd.Series)"
   ]
  },
  {
   "cell_type": "code",
   "execution_count": 107,
   "metadata": {},
   "outputs": [
    {
     "data": {
      "text/html": [
       "<div>\n",
       "<style scoped>\n",
       "    .dataframe tbody tr th:only-of-type {\n",
       "        vertical-align: middle;\n",
       "    }\n",
       "\n",
       "    .dataframe tbody tr th {\n",
       "        vertical-align: top;\n",
       "    }\n",
       "\n",
       "    .dataframe thead th {\n",
       "        text-align: right;\n",
       "    }\n",
       "</style>\n",
       "<table border=\"1\" class=\"dataframe\">\n",
       "  <thead>\n",
       "    <tr style=\"text-align: right;\">\n",
       "      <th></th>\n",
       "      <th>0</th>\n",
       "      <th>1</th>\n",
       "      <th>2</th>\n",
       "      <th>3</th>\n",
       "      <th>4</th>\n",
       "    </tr>\n",
       "  </thead>\n",
       "  <tbody>\n",
       "    <tr>\n",
       "      <th>09zw7r</th>\n",
       "      <td>crypto</td>\n",
       "      <td>pdf</td>\n",
       "      <td>NaN</td>\n",
       "      <td>NaN</td>\n",
       "      <td>NaN</td>\n",
       "    </tr>\n",
       "    <tr>\n",
       "      <th>0bdne7</th>\n",
       "      <td>law</td>\n",
       "      <td>privacy</td>\n",
       "      <td>NaN</td>\n",
       "      <td>NaN</td>\n",
       "      <td>NaN</td>\n",
       "    </tr>\n",
       "    <tr>\n",
       "      <th>1bhbod</th>\n",
       "      <td>programming</td>\n",
       "      <td>NaN</td>\n",
       "      <td>NaN</td>\n",
       "      <td>NaN</td>\n",
       "      <td>NaN</td>\n",
       "    </tr>\n",
       "    <tr>\n",
       "      <th>1xkje1</th>\n",
       "      <td>audio</td>\n",
       "      <td>javascript</td>\n",
       "      <td>rust</td>\n",
       "      <td>NaN</td>\n",
       "      <td>NaN</td>\n",
       "    </tr>\n",
       "    <tr>\n",
       "      <th>2dasvh</th>\n",
       "      <td>practices</td>\n",
       "      <td>NaN</td>\n",
       "      <td>NaN</td>\n",
       "      <td>NaN</td>\n",
       "      <td>NaN</td>\n",
       "    </tr>\n",
       "  </tbody>\n",
       "</table>\n",
       "</div>"
      ],
      "text/plain": [
       "                  0           1     2    3    4\n",
       "09zw7r       crypto         pdf   NaN  NaN  NaN\n",
       "0bdne7          law     privacy   NaN  NaN  NaN\n",
       "1bhbod  programming         NaN   NaN  NaN  NaN\n",
       "1xkje1        audio  javascript  rust  NaN  NaN\n",
       "2dasvh    practices         NaN   NaN  NaN  NaN"
      ]
     },
     "execution_count": 107,
     "metadata": {},
     "output_type": "execute_result"
    }
   ],
   "source": [
    "tag_df.head()"
   ]
  },
  {
   "cell_type": "code",
   "execution_count": 108,
   "metadata": {},
   "outputs": [
    {
     "data": {
      "text/plain": [
       "array(['crypto', 'pdf', nan, 'law', 'privacy', 'programming', 'audio',\n",
       "       'javascript', 'rust', 'practices', 'ruby', 'devops', 'web',\n",
       "       'hardware', 'science', 'reversing', 'security', 'openbsd',\n",
       "       'windows', 'design', 'compilers', 'haskell', 'c++', 'assembly',\n",
       "       'games', 'math', 'release', 'event', 'netbsd', 'unix', 'c',\n",
       "       'linux', 'testing', 'lua', 'job', 'video', 'philosophy', 'android',\n",
       "       'networking', 'erlang', 'emacs', 'historical', 'browsers',\n",
       "       'person', 'culture', 'java', 'go', 'book', 'css', 'debugging',\n",
       "       'education', 'art', 'compsci', 'databases'], dtype=object)"
      ]
     },
     "execution_count": 108,
     "metadata": {},
     "output_type": "execute_result"
    }
   ],
   "source": [
    "pd.unique(tag_df.values.ravel())"
   ]
  },
  {
   "cell_type": "code",
   "execution_count": 109,
   "metadata": {},
   "outputs": [
    {
     "data": {
      "text/plain": [
       "{'android',\n",
       " 'art',\n",
       " 'assembly',\n",
       " 'audio',\n",
       " 'book',\n",
       " 'browsers',\n",
       " 'c',\n",
       " 'c++',\n",
       " 'compilers',\n",
       " 'compsci',\n",
       " 'crypto',\n",
       " 'css',\n",
       " 'culture',\n",
       " 'databases',\n",
       " 'debugging',\n",
       " 'design',\n",
       " 'devops',\n",
       " 'education',\n",
       " 'emacs',\n",
       " 'erlang',\n",
       " 'event',\n",
       " 'games',\n",
       " 'go',\n",
       " 'hardware',\n",
       " 'haskell',\n",
       " 'historical',\n",
       " 'java',\n",
       " 'javascript',\n",
       " 'job',\n",
       " 'law',\n",
       " 'linux',\n",
       " 'lua',\n",
       " 'math',\n",
       " nan,\n",
       " 'netbsd',\n",
       " 'networking',\n",
       " 'openbsd',\n",
       " 'pdf',\n",
       " 'person',\n",
       " 'philosophy',\n",
       " 'practices',\n",
       " 'privacy',\n",
       " 'programming',\n",
       " 'release',\n",
       " 'reversing',\n",
       " 'ruby',\n",
       " 'rust',\n",
       " 'science',\n",
       " 'security',\n",
       " 'testing',\n",
       " 'unix',\n",
       " 'video',\n",
       " 'web',\n",
       " 'windows'}"
      ]
     },
     "execution_count": 109,
     "metadata": {},
     "output_type": "execute_result"
    }
   ],
   "source": [
    "set(tag_df.values.ravel())"
   ]
  },
  {
   "cell_type": "code",
   "execution_count": 110,
   "metadata": {},
   "outputs": [
    {
     "data": {
      "text/plain": [
       "54"
      ]
     },
     "execution_count": 110,
     "metadata": {},
     "output_type": "execute_result"
    }
   ],
   "source": [
    "len(pd.unique(tag_df.values.ravel()))"
   ]
  },
  {
   "cell_type": "code",
   "execution_count": 111,
   "metadata": {},
   "outputs": [
    {
     "data": {
      "text/plain": [
       "[(nan, 231),\n",
       " ('programming', 13),\n",
       " ('hardware', 10),\n",
       " ('security', 10),\n",
       " ('practices', 8)]"
      ]
     },
     "execution_count": 111,
     "metadata": {},
     "output_type": "execute_result"
    }
   ],
   "source": [
    "# most common tags\n",
    "\n",
    "Counter(tag_df.values.ravel()).most_common(5)"
   ]
  },
  {
   "cell_type": "markdown",
   "metadata": {},
   "source": [
    "### Let's create a dummy df with our tags"
   ]
  },
  {
   "cell_type": "code",
   "execution_count": 112,
   "metadata": {},
   "outputs": [],
   "source": [
    "tag_df = pd.get_dummies(tag_df.apply(pd.Series).stack()).sum()"
   ]
  },
  {
   "cell_type": "code",
   "execution_count": 113,
   "metadata": {},
   "outputs": [
    {
     "data": {
      "text/plain": [
       "android     1\n",
       "art         1\n",
       "assembly    3\n",
       "audio       1\n",
       "book        2\n",
       "dtype: int64"
      ]
     },
     "execution_count": 113,
     "metadata": {},
     "output_type": "execute_result"
    }
   ],
   "source": [
    "tag_df.head()"
   ]
  },
  {
   "cell_type": "markdown",
   "metadata": {},
   "source": [
    "### Now we can add it back to our stories DataFrame"
   ]
  },
  {
   "cell_type": "code",
   "execution_count": 114,
   "metadata": {},
   "outputs": [],
   "source": [
    "stories = pd.concat([stories.drop('tags', axis=1), \n",
    "                     tag_df], axis=1)"
   ]
  },
  {
   "cell_type": "code",
   "execution_count": 115,
   "metadata": {},
   "outputs": [
    {
     "data": {
      "text/html": [
       "<div>\n",
       "<style scoped>\n",
       "    .dataframe tbody tr th:only-of-type {\n",
       "        vertical-align: middle;\n",
       "    }\n",
       "\n",
       "    .dataframe tbody tr th {\n",
       "        vertical-align: top;\n",
       "    }\n",
       "\n",
       "    .dataframe thead th {\n",
       "        text-align: right;\n",
       "    }\n",
       "</style>\n",
       "<table border=\"1\" class=\"dataframe\">\n",
       "  <thead>\n",
       "    <tr style=\"text-align: right;\">\n",
       "      <th></th>\n",
       "      <th>comment_count</th>\n",
       "      <th>comments_url</th>\n",
       "      <th>created_at</th>\n",
       "      <th>description</th>\n",
       "      <th>downvotes</th>\n",
       "      <th>last_updated</th>\n",
       "      <th>score</th>\n",
       "      <th>short_id_url</th>\n",
       "      <th>title</th>\n",
       "      <th>upvotes</th>\n",
       "      <th>url</th>\n",
       "      <th>avatar_url</th>\n",
       "      <th>user_created_at</th>\n",
       "      <th>is_admin</th>\n",
       "      <th>username</th>\n",
       "      <th>karma</th>\n",
       "      <th>is_moderator</th>\n",
       "      <th>about</th>\n",
       "      <th>github_username</th>\n",
       "      <th>0</th>\n",
       "    </tr>\n",
       "  </thead>\n",
       "  <tbody>\n",
       "    <tr>\n",
       "      <th>09zw7r</th>\n",
       "      <td>0.0</td>\n",
       "      <td>https://lobste.rs/s/09zw7r/edited_truth</td>\n",
       "      <td>2017-08-08 20:11:09</td>\n",
       "      <td></td>\n",
       "      <td>0.0</td>\n",
       "      <td>2017-08-09T11:03:57.014269</td>\n",
       "      <td>3.0</td>\n",
       "      <td>https://lobste.rs/s/09zw7r</td>\n",
       "      <td>The Edited Truth</td>\n",
       "      <td>3.0</td>\n",
       "      <td>https://eprint.iacr.org/2017/714.pdf</td>\n",
       "      <td>https://lobste.rs/avatars/trn-100.png</td>\n",
       "      <td>2017-01-19T14:56:50.000-06:00</td>\n",
       "      <td>False</td>\n",
       "      <td>trn</td>\n",
       "      <td>429.0</td>\n",
       "      <td>False</td>\n",
       "      <td></td>\n",
       "      <td>NaN</td>\n",
       "      <td>NaN</td>\n",
       "    </tr>\n",
       "    <tr>\n",
       "      <th>0bdne7</th>\n",
       "      <td>17.0</td>\n",
       "      <td>https://lobste.rs/s/0bdne7/rise_social_media_v...</td>\n",
       "      <td>2017-08-08 21:12:38</td>\n",
       "      <td></td>\n",
       "      <td>9.0</td>\n",
       "      <td>2017-08-09T11:03:57.014269</td>\n",
       "      <td>-1.0</td>\n",
       "      <td>https://lobste.rs/s/0bdne7</td>\n",
       "      <td>The Rise of The Social Media Vigilante</td>\n",
       "      <td>8.0</td>\n",
       "      <td>https://medium.com/@nkhumphreys_89452/the-rise...</td>\n",
       "      <td>https://lobste.rs/avatars/nkhumphreys-100.png</td>\n",
       "      <td>2014-07-02T06:36:39.000-05:00</td>\n",
       "      <td>False</td>\n",
       "      <td>nkhumphreys</td>\n",
       "      <td>-1.0</td>\n",
       "      <td>False</td>\n",
       "      <td>Web developer and previously embedded C developer</td>\n",
       "      <td>NaN</td>\n",
       "      <td>NaN</td>\n",
       "    </tr>\n",
       "    <tr>\n",
       "      <th>1bhbod</th>\n",
       "      <td>11.0</td>\n",
       "      <td>https://lobste.rs/s/1bhbod/tcl_misunderstood_a...</td>\n",
       "      <td>2017-04-30 20:28:52</td>\n",
       "      <td>&lt;p&gt;Did any language end up taking that “highly...</td>\n",
       "      <td>0.0</td>\n",
       "      <td>2017-05-01T06:29:11.725518</td>\n",
       "      <td>17.0</td>\n",
       "      <td>https://lobste.rs/s/1bhbod</td>\n",
       "      <td>Tcl the misunderstood - antirez</td>\n",
       "      <td>17.0</td>\n",
       "      <td>http://antirez.com/articoli/tclmisunderstood.html</td>\n",
       "      <td>https://secure.gravatar.com/avatar/85002353297...</td>\n",
       "      <td>2016-11-30T10:14:24.000-06:00</td>\n",
       "      <td>False</td>\n",
       "      <td>yumaikas</td>\n",
       "      <td>578.0</td>\n",
       "      <td>False</td>\n",
       "      <td>I blog infrequently at https://junglecoder.com...</td>\n",
       "      <td>NaN</td>\n",
       "      <td>NaN</td>\n",
       "    </tr>\n",
       "    <tr>\n",
       "      <th>1xkje1</th>\n",
       "      <td>0.0</td>\n",
       "      <td>https://lobste.rs/s/1xkje1/interview_4_jonatha...</td>\n",
       "      <td>2017-05-01 02:31:35</td>\n",
       "      <td>&lt;p&gt;Rust’s own Jonathan Turner on his backgroun...</td>\n",
       "      <td>0.0</td>\n",
       "      <td>2017-05-01T06:29:11.725518</td>\n",
       "      <td>1.0</td>\n",
       "      <td>https://lobste.rs/s/1xkje1</td>\n",
       "      <td>🎤🎙 Interview 4 – Jonathan Turner: Part 1/3</td>\n",
       "      <td>1.0</td>\n",
       "      <td>http://www.newrustacean.com/show_notes/intervi...</td>\n",
       "      <td>https://secure.gravatar.com/avatar/c096ed07142...</td>\n",
       "      <td>2016-08-15T09:33:28.000-05:00</td>\n",
       "      <td>False</td>\n",
       "      <td>chriskrycho</td>\n",
       "      <td>27.0</td>\n",
       "      <td>False</td>\n",
       "      <td>I'm a husband and father; a theologian, compos...</td>\n",
       "      <td>NaN</td>\n",
       "      <td>NaN</td>\n",
       "    </tr>\n",
       "    <tr>\n",
       "      <th>2dasvh</th>\n",
       "      <td>19.0</td>\n",
       "      <td>https://lobste.rs/s/2dasvh/return_hipster_pda</td>\n",
       "      <td>2017-08-08 14:25:29</td>\n",
       "      <td></td>\n",
       "      <td>0.0</td>\n",
       "      <td>2017-08-09T11:03:56.287654</td>\n",
       "      <td>20.0</td>\n",
       "      <td>https://lobste.rs/s/2dasvh</td>\n",
       "      <td>The Return of the Hipster PDA</td>\n",
       "      <td>20.0</td>\n",
       "      <td>http://www.agilesysadmin.net/return-of-the-hip...</td>\n",
       "      <td>https://lobste.rs/avatars/trn-100.png</td>\n",
       "      <td>2017-01-19T14:56:50.000-06:00</td>\n",
       "      <td>False</td>\n",
       "      <td>trn</td>\n",
       "      <td>429.0</td>\n",
       "      <td>False</td>\n",
       "      <td></td>\n",
       "      <td>NaN</td>\n",
       "      <td>NaN</td>\n",
       "    </tr>\n",
       "  </tbody>\n",
       "</table>\n",
       "</div>"
      ],
      "text/plain": [
       "        comment_count                                       comments_url  \\\n",
       "09zw7r            0.0            https://lobste.rs/s/09zw7r/edited_truth   \n",
       "0bdne7           17.0  https://lobste.rs/s/0bdne7/rise_social_media_v...   \n",
       "1bhbod           11.0  https://lobste.rs/s/1bhbod/tcl_misunderstood_a...   \n",
       "1xkje1            0.0  https://lobste.rs/s/1xkje1/interview_4_jonatha...   \n",
       "2dasvh           19.0      https://lobste.rs/s/2dasvh/return_hipster_pda   \n",
       "\n",
       "                created_at                                        description  \\\n",
       "09zw7r 2017-08-08 20:11:09                                                      \n",
       "0bdne7 2017-08-08 21:12:38                                                      \n",
       "1bhbod 2017-04-30 20:28:52  <p>Did any language end up taking that “highly...   \n",
       "1xkje1 2017-05-01 02:31:35  <p>Rust’s own Jonathan Turner on his backgroun...   \n",
       "2dasvh 2017-08-08 14:25:29                                                      \n",
       "\n",
       "        downvotes                last_updated  score  \\\n",
       "09zw7r        0.0  2017-08-09T11:03:57.014269    3.0   \n",
       "0bdne7        9.0  2017-08-09T11:03:57.014269   -1.0   \n",
       "1bhbod        0.0  2017-05-01T06:29:11.725518   17.0   \n",
       "1xkje1        0.0  2017-05-01T06:29:11.725518    1.0   \n",
       "2dasvh        0.0  2017-08-09T11:03:56.287654   20.0   \n",
       "\n",
       "                      short_id_url  \\\n",
       "09zw7r  https://lobste.rs/s/09zw7r   \n",
       "0bdne7  https://lobste.rs/s/0bdne7   \n",
       "1bhbod  https://lobste.rs/s/1bhbod   \n",
       "1xkje1  https://lobste.rs/s/1xkje1   \n",
       "2dasvh  https://lobste.rs/s/2dasvh   \n",
       "\n",
       "                                             title  upvotes  \\\n",
       "09zw7r                            The Edited Truth      3.0   \n",
       "0bdne7      The Rise of The Social Media Vigilante      8.0   \n",
       "1bhbod             Tcl the misunderstood - antirez     17.0   \n",
       "1xkje1  🎤🎙 Interview 4 – Jonathan Turner: Part 1/3      1.0   \n",
       "2dasvh               The Return of the Hipster PDA     20.0   \n",
       "\n",
       "                                                      url  \\\n",
       "09zw7r               https://eprint.iacr.org/2017/714.pdf   \n",
       "0bdne7  https://medium.com/@nkhumphreys_89452/the-rise...   \n",
       "1bhbod  http://antirez.com/articoli/tclmisunderstood.html   \n",
       "1xkje1  http://www.newrustacean.com/show_notes/intervi...   \n",
       "2dasvh  http://www.agilesysadmin.net/return-of-the-hip...   \n",
       "\n",
       "                                               avatar_url  \\\n",
       "09zw7r              https://lobste.rs/avatars/trn-100.png   \n",
       "0bdne7      https://lobste.rs/avatars/nkhumphreys-100.png   \n",
       "1bhbod  https://secure.gravatar.com/avatar/85002353297...   \n",
       "1xkje1  https://secure.gravatar.com/avatar/c096ed07142...   \n",
       "2dasvh              https://lobste.rs/avatars/trn-100.png   \n",
       "\n",
       "                      user_created_at is_admin     username  karma  \\\n",
       "09zw7r  2017-01-19T14:56:50.000-06:00    False          trn  429.0   \n",
       "0bdne7  2014-07-02T06:36:39.000-05:00    False  nkhumphreys   -1.0   \n",
       "1bhbod  2016-11-30T10:14:24.000-06:00    False     yumaikas  578.0   \n",
       "1xkje1  2016-08-15T09:33:28.000-05:00    False  chriskrycho   27.0   \n",
       "2dasvh  2017-01-19T14:56:50.000-06:00    False          trn  429.0   \n",
       "\n",
       "       is_moderator                                              about  \\\n",
       "09zw7r        False                                                      \n",
       "0bdne7        False  Web developer and previously embedded C developer   \n",
       "1bhbod        False  I blog infrequently at https://junglecoder.com...   \n",
       "1xkje1        False  I'm a husband and father; a theologian, compos...   \n",
       "2dasvh        False                                                      \n",
       "\n",
       "       github_username   0  \n",
       "09zw7r             NaN NaN  \n",
       "0bdne7             NaN NaN  \n",
       "1bhbod             NaN NaN  \n",
       "1xkje1             NaN NaN  \n",
       "2dasvh             NaN NaN  "
      ]
     },
     "execution_count": 115,
     "metadata": {},
     "output_type": "execute_result"
    }
   ],
   "source": [
    "stories.head()"
   ]
  },
  {
   "cell_type": "markdown",
   "metadata": {},
   "source": [
    "### Another potentially useful feature is the post times..."
   ]
  },
  {
   "cell_type": "code",
   "execution_count": 116,
   "metadata": {},
   "outputs": [],
   "source": [
    "stories['created_hour'] = stories.created_at.map(\n",
    "    lambda x: x.hour)"
   ]
  },
  {
   "cell_type": "code",
   "execution_count": 117,
   "metadata": {},
   "outputs": [],
   "source": [
    "stories['created_dow'] = stories.created_at.map(\n",
    "    lambda x: x.weekday())"
   ]
  },
  {
   "cell_type": "markdown",
   "metadata": {},
   "source": [
    "### Let's analyze some of the correlations in our features so far..."
   ]
  },
  {
   "cell_type": "code",
   "execution_count": 118,
   "metadata": {},
   "outputs": [
    {
     "data": {
      "text/html": [
       "<div>\n",
       "<style scoped>\n",
       "    .dataframe tbody tr th:only-of-type {\n",
       "        vertical-align: middle;\n",
       "    }\n",
       "\n",
       "    .dataframe tbody tr th {\n",
       "        vertical-align: top;\n",
       "    }\n",
       "\n",
       "    .dataframe thead th {\n",
       "        text-align: right;\n",
       "    }\n",
       "</style>\n",
       "<table border=\"1\" class=\"dataframe\">\n",
       "  <thead>\n",
       "    <tr style=\"text-align: right;\">\n",
       "      <th></th>\n",
       "      <th>created_hour</th>\n",
       "      <th>score</th>\n",
       "    </tr>\n",
       "  </thead>\n",
       "  <tbody>\n",
       "    <tr>\n",
       "      <th>created_hour</th>\n",
       "      <td>1.000000</td>\n",
       "      <td>0.253917</td>\n",
       "    </tr>\n",
       "    <tr>\n",
       "      <th>score</th>\n",
       "      <td>0.253917</td>\n",
       "      <td>1.000000</td>\n",
       "    </tr>\n",
       "  </tbody>\n",
       "</table>\n",
       "</div>"
      ],
      "text/plain": [
       "              created_hour     score\n",
       "created_hour      1.000000  0.253917\n",
       "score             0.253917  1.000000"
      ]
     },
     "execution_count": 118,
     "metadata": {},
     "output_type": "execute_result"
    }
   ],
   "source": [
    "stories[['created_hour', 'score']].corr()"
   ]
  },
  {
   "cell_type": "code",
   "execution_count": 119,
   "metadata": {},
   "outputs": [
    {
     "data": {
      "text/html": [
       "<div>\n",
       "<style scoped>\n",
       "    .dataframe tbody tr th:only-of-type {\n",
       "        vertical-align: middle;\n",
       "    }\n",
       "\n",
       "    .dataframe tbody tr th {\n",
       "        vertical-align: top;\n",
       "    }\n",
       "\n",
       "    .dataframe thead th {\n",
       "        text-align: right;\n",
       "    }\n",
       "</style>\n",
       "<table border=\"1\" class=\"dataframe\">\n",
       "  <thead>\n",
       "    <tr style=\"text-align: right;\">\n",
       "      <th></th>\n",
       "      <th>created_dow</th>\n",
       "      <th>score</th>\n",
       "    </tr>\n",
       "  </thead>\n",
       "  <tbody>\n",
       "    <tr>\n",
       "      <th>created_dow</th>\n",
       "      <td>1.000000</td>\n",
       "      <td>-0.113918</td>\n",
       "    </tr>\n",
       "    <tr>\n",
       "      <th>score</th>\n",
       "      <td>-0.113918</td>\n",
       "      <td>1.000000</td>\n",
       "    </tr>\n",
       "  </tbody>\n",
       "</table>\n",
       "</div>"
      ],
      "text/plain": [
       "             created_dow     score\n",
       "created_dow     1.000000 -0.113918\n",
       "score          -0.113918  1.000000"
      ]
     },
     "execution_count": 119,
     "metadata": {},
     "output_type": "execute_result"
    }
   ],
   "source": [
    "stories[['created_dow', 'score']].corr()"
   ]
  },
  {
   "cell_type": "code",
   "execution_count": 120,
   "metadata": {},
   "outputs": [
    {
     "data": {
      "text/html": [
       "<div>\n",
       "<style scoped>\n",
       "    .dataframe tbody tr th:only-of-type {\n",
       "        vertical-align: middle;\n",
       "    }\n",
       "\n",
       "    .dataframe tbody tr th {\n",
       "        vertical-align: top;\n",
       "    }\n",
       "\n",
       "    .dataframe thead th {\n",
       "        text-align: right;\n",
       "    }\n",
       "</style>\n",
       "<table border=\"1\" class=\"dataframe\">\n",
       "  <thead>\n",
       "    <tr style=\"text-align: right;\">\n",
       "      <th></th>\n",
       "      <th>karma</th>\n",
       "      <th>score</th>\n",
       "    </tr>\n",
       "  </thead>\n",
       "  <tbody>\n",
       "    <tr>\n",
       "      <th>karma</th>\n",
       "      <td>1.000000</td>\n",
       "      <td>-0.061921</td>\n",
       "    </tr>\n",
       "    <tr>\n",
       "      <th>score</th>\n",
       "      <td>-0.061921</td>\n",
       "      <td>1.000000</td>\n",
       "    </tr>\n",
       "  </tbody>\n",
       "</table>\n",
       "</div>"
      ],
      "text/plain": [
       "          karma     score\n",
       "karma  1.000000 -0.061921\n",
       "score -0.061921  1.000000"
      ]
     },
     "execution_count": 120,
     "metadata": {},
     "output_type": "execute_result"
    }
   ],
   "source": [
    "stories[['karma', 'score']].corr()"
   ]
  },
  {
   "cell_type": "code",
   "execution_count": 121,
   "metadata": {},
   "outputs": [
    {
     "data": {
      "text/html": [
       "<div>\n",
       "<style scoped>\n",
       "    .dataframe tbody tr th:only-of-type {\n",
       "        vertical-align: middle;\n",
       "    }\n",
       "\n",
       "    .dataframe tbody tr th {\n",
       "        vertical-align: top;\n",
       "    }\n",
       "\n",
       "    .dataframe thead th {\n",
       "        text-align: right;\n",
       "    }\n",
       "</style>\n",
       "<table border=\"1\" class=\"dataframe\">\n",
       "  <thead>\n",
       "    <tr style=\"text-align: right;\">\n",
       "      <th></th>\n",
       "      <th>comment_count</th>\n",
       "      <th>score</th>\n",
       "    </tr>\n",
       "  </thead>\n",
       "  <tbody>\n",
       "    <tr>\n",
       "      <th>comment_count</th>\n",
       "      <td>1.000000</td>\n",
       "      <td>0.637632</td>\n",
       "    </tr>\n",
       "    <tr>\n",
       "      <th>score</th>\n",
       "      <td>0.637632</td>\n",
       "      <td>1.000000</td>\n",
       "    </tr>\n",
       "  </tbody>\n",
       "</table>\n",
       "</div>"
      ],
      "text/plain": [
       "               comment_count     score\n",
       "comment_count       1.000000  0.637632\n",
       "score               0.637632  1.000000"
      ]
     },
     "execution_count": 121,
     "metadata": {},
     "output_type": "execute_result"
    }
   ],
   "source": [
    "stories[['comment_count', 'score']].corr()"
   ]
  },
  {
   "cell_type": "code",
   "execution_count": 123,
   "metadata": {},
   "outputs": [
    {
     "data": {
      "text/html": [
       "<div>\n",
       "<style scoped>\n",
       "    .dataframe tbody tr th:only-of-type {\n",
       "        vertical-align: middle;\n",
       "    }\n",
       "\n",
       "    .dataframe tbody tr th {\n",
       "        vertical-align: top;\n",
       "    }\n",
       "\n",
       "    .dataframe thead th {\n",
       "        text-align: right;\n",
       "    }\n",
       "</style>\n",
       "<table border=\"1\" class=\"dataframe\">\n",
       "  <thead>\n",
       "    <tr style=\"text-align: right;\">\n",
       "      <th></th>\n",
       "      <th>score</th>\n",
       "    </tr>\n",
       "  </thead>\n",
       "  <tbody>\n",
       "    <tr>\n",
       "      <th>score</th>\n",
       "      <td>1.0</td>\n",
       "    </tr>\n",
       "  </tbody>\n",
       "</table>\n",
       "</div>"
      ],
      "text/plain": [
       "       score\n",
       "score    1.0"
      ]
     },
     "execution_count": 123,
     "metadata": {},
     "output_type": "execute_result"
    }
   ],
   "source": [
    "stories[[ 'score']].corr()"
   ]
  },
  {
   "cell_type": "markdown",
   "metadata": {},
   "source": [
    "### We might also want/need to normalize scores. We can use a Scaler / MinMaxScaler or Normalizer"
   ]
  },
  {
   "cell_type": "code",
   "execution_count": 125,
   "metadata": {},
   "outputs": [],
   "source": [
    "stories['score']=stories['score'].fillna(stories.score.mean())"
   ]
  },
  {
   "cell_type": "code",
   "execution_count": 126,
   "metadata": {},
   "outputs": [],
   "source": [
    "normed_score = preprocessing.normalize(stories[['score']])"
   ]
  },
  {
   "cell_type": "code",
   "execution_count": 127,
   "metadata": {},
   "outputs": [
    {
     "data": {
      "text/plain": [
       "array([[ 1.],\n",
       "       [-1.],\n",
       "       [ 1.],\n",
       "       [ 1.],\n",
       "       [ 1.]])"
      ]
     },
     "execution_count": 127,
     "metadata": {},
     "output_type": "execute_result"
    }
   ],
   "source": [
    "normed_score[:5]"
   ]
  },
  {
   "cell_type": "markdown",
   "metadata": {},
   "source": [
    "#### hmm... maybe a min-max scaler works better for our needs!"
   ]
  },
  {
   "cell_type": "code",
   "execution_count": 128,
   "metadata": {},
   "outputs": [],
   "source": [
    "scaler = preprocessing.MinMaxScaler()"
   ]
  },
  {
   "cell_type": "code",
   "execution_count": 129,
   "metadata": {},
   "outputs": [],
   "source": [
    "scaled_score = scaler.fit_transform(stories[['score']])"
   ]
  },
  {
   "cell_type": "code",
   "execution_count": 130,
   "metadata": {},
   "outputs": [
    {
     "data": {
      "text/plain": [
       "array([[0.07272727],\n",
       "       [0.        ],\n",
       "       [0.32727273],\n",
       "       [0.03636364],\n",
       "       [0.38181818]])"
      ]
     },
     "execution_count": 130,
     "metadata": {},
     "output_type": "execute_result"
    }
   ],
   "source": [
    "scaled_score[:5]"
   ]
  },
  {
   "cell_type": "code",
   "execution_count": 132,
   "metadata": {},
   "outputs": [
    {
     "data": {
      "text/plain": [
       "09zw7r     0.072727\n",
       "0bdne7     0.000000\n",
       "1bhbod     0.327273\n",
       "1xkje1     0.036364\n",
       "2dasvh     0.381818\n",
       "             ...   \n",
       "testing    0.155037\n",
       "unix       0.155037\n",
       "video      0.155037\n",
       "web        0.155037\n",
       "windows    0.155037\n",
       "Name: scaled_score, Length: 127, dtype: float64"
      ]
     },
     "execution_count": 132,
     "metadata": {},
     "output_type": "execute_result"
    }
   ],
   "source": [
    "stories['scaled_score'] = scaled_score[:,0]\n",
    "stories['scaled_score']"
   ]
  },
  {
   "cell_type": "code",
   "execution_count": null,
   "metadata": {},
   "outputs": [],
   "source": []
  }
 ],
 "metadata": {
  "kernelspec": {
   "display_name": "Python 3",
   "language": "python",
   "name": "python3"
  },
  "language_info": {
   "codemirror_mode": {
    "name": "ipython",
    "version": 3
   },
   "file_extension": ".py",
   "mimetype": "text/x-python",
   "name": "python",
   "nbconvert_exporter": "python",
   "pygments_lexer": "ipython3",
   "version": "3.12.0"
  }
 },
 "nbformat": 4,
 "nbformat_minor": 2
}

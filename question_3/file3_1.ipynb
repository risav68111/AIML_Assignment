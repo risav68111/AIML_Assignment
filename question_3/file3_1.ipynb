{
 "cells": [
  {
   "cell_type": "markdown",
   "metadata": {},
   "source": [
    "## Data Validation with Voluptuous (Schema Definitions)\n"
   ]
  },
  {
   "cell_type": "code",
   "execution_count": 75,
   "metadata": {},
   "outputs": [],
   "source": [
    "import logging\n",
    "import pandas as pd\n",
    "from datetime import datetime\n",
    "from voluptuous import Schema, Required, Range, All, ALLOW_EXTRA\n",
    "from voluptuous.error import MultipleInvalid, Invalid\n"
   ]
  },
  {
   "cell_type": "code",
   "execution_count": 76,
   "metadata": {},
   "outputs": [],
   "source": [
    "logger = logging.getLogger(0)\n",
    "logger.setLevel(logging.WARNING)"
   ]
  },
  {
   "cell_type": "code",
   "execution_count": 77,
   "metadata": {},
   "outputs": [
    {
     "data": {
      "text/html": [
       "<div>\n",
       "<style scoped>\n",
       "    .dataframe tbody tr th:only-of-type {\n",
       "        vertical-align: middle;\n",
       "    }\n",
       "\n",
       "    .dataframe tbody tr th {\n",
       "        vertical-align: top;\n",
       "    }\n",
       "\n",
       "    .dataframe thead th {\n",
       "        text-align: right;\n",
       "    }\n",
       "</style>\n",
       "<table border=\"1\" class=\"dataframe\">\n",
       "  <thead>\n",
       "    <tr style=\"text-align: right;\">\n",
       "      <th></th>\n",
       "      <th>Unnamed: 0</th>\n",
       "      <th>timestamp</th>\n",
       "      <th>city</th>\n",
       "      <th>store_id</th>\n",
       "      <th>sale_number</th>\n",
       "      <th>sale_amount</th>\n",
       "      <th>associate</th>\n",
       "    </tr>\n",
       "  </thead>\n",
       "  <tbody>\n",
       "    <tr>\n",
       "      <th>0</th>\n",
       "      <td>0</td>\n",
       "      <td>2018-09-10 05:00:45</td>\n",
       "      <td>Williamburgh</td>\n",
       "      <td>6</td>\n",
       "      <td>1530</td>\n",
       "      <td>1167.0</td>\n",
       "      <td>Gary Lee</td>\n",
       "    </tr>\n",
       "    <tr>\n",
       "      <th>1</th>\n",
       "      <td>1</td>\n",
       "      <td>2018-09-12 10:01:27</td>\n",
       "      <td>Ibarraberg</td>\n",
       "      <td>1</td>\n",
       "      <td>2744</td>\n",
       "      <td>258.0</td>\n",
       "      <td>Daniel Davis</td>\n",
       "    </tr>\n",
       "    <tr>\n",
       "      <th>2</th>\n",
       "      <td>2</td>\n",
       "      <td>2018-09-13 12:01:48</td>\n",
       "      <td>Sarachester</td>\n",
       "      <td>2</td>\n",
       "      <td>1908</td>\n",
       "      <td>266.0</td>\n",
       "      <td>Michael Roth</td>\n",
       "    </tr>\n",
       "    <tr>\n",
       "      <th>3</th>\n",
       "      <td>3</td>\n",
       "      <td>2018-09-14 20:02:19</td>\n",
       "      <td>Caldwellbury</td>\n",
       "      <td>14</td>\n",
       "      <td>771</td>\n",
       "      <td>-108.0</td>\n",
       "      <td>Michaela Stewart</td>\n",
       "    </tr>\n",
       "    <tr>\n",
       "      <th>4</th>\n",
       "      <td>4</td>\n",
       "      <td>2018-09-16 01:03:21</td>\n",
       "      <td>Erikaland</td>\n",
       "      <td>11</td>\n",
       "      <td>1571</td>\n",
       "      <td>-372.0</td>\n",
       "      <td>Mark Taylor</td>\n",
       "    </tr>\n",
       "  </tbody>\n",
       "</table>\n",
       "</div>"
      ],
      "text/plain": [
       "   Unnamed: 0            timestamp          city  store_id  sale_number  \\\n",
       "0           0  2018-09-10 05:00:45  Williamburgh         6         1530   \n",
       "1           1  2018-09-12 10:01:27    Ibarraberg         1         2744   \n",
       "2           2  2018-09-13 12:01:48   Sarachester         2         1908   \n",
       "3           3  2018-09-14 20:02:19  Caldwellbury        14          771   \n",
       "4           4  2018-09-16 01:03:21     Erikaland        11         1571   \n",
       "\n",
       "   sale_amount         associate  \n",
       "0       1167.0          Gary Lee  \n",
       "1        258.0      Daniel Davis  \n",
       "2        266.0      Michael Roth  \n",
       "3       -108.0  Michaela Stewart  \n",
       "4       -372.0       Mark Taylor  "
      ]
     },
     "execution_count": 77,
     "metadata": {},
     "output_type": "execute_result"
    }
   ],
   "source": [
    "path =r'C:\\Users\\risha\\Documents\\KRMU\\AIML_assigment\\datasets\\sales_data.csv'\n",
    "sales = pd.read_csv(path)\n",
    "sales.head()"
   ]
  },
  {
   "cell_type": "code",
   "execution_count": 78,
   "metadata": {},
   "outputs": [],
   "source": [
    "sales=sales.drop(['Unnamed: 0'], axis=1)"
   ]
  },
  {
   "cell_type": "code",
   "execution_count": 79,
   "metadata": {},
   "outputs": [
    {
     "data": {
      "text/plain": [
       "timestamp       object\n",
       "city            object\n",
       "store_id         int64\n",
       "sale_number      int64\n",
       "sale_amount    float64\n",
       "associate       object\n",
       "dtype: object"
      ]
     },
     "execution_count": 79,
     "metadata": {},
     "output_type": "execute_result"
    }
   ],
   "source": [
    "sales.dtypes"
   ]
  },
  {
   "cell_type": "code",
   "execution_count": 80,
   "metadata": {},
   "outputs": [
    {
     "data": {
      "text/plain": [
       "0     2018-09-10 05:00:45\n",
       "1     2018-09-12 10:01:27\n",
       "2     2018-09-13 12:01:48\n",
       "3     2018-09-14 20:02:19\n",
       "4     2018-09-16 01:03:21\n",
       "              ...        \n",
       "208   2019-09-01 06:46:44\n",
       "209   2019-09-03 12:47:26\n",
       "210   2019-09-05 18:47:30\n",
       "211   2019-09-07 23:48:08\n",
       "212   2018-09-09 04:48:48\n",
       "Name: timestamp, Length: 213, dtype: datetime64[ns]"
      ]
     },
     "execution_count": 80,
     "metadata": {},
     "output_type": "execute_result"
    }
   ],
   "source": [
    "sales['timestamp'].map(lambda x: datetime.strptime(x,'%Y-%m-%d %H:%M:%S'))"
   ]
  },
  {
   "cell_type": "markdown",
   "metadata": {},
   "source": [
    "### Data Quality Check"
   ]
  },
  {
   "cell_type": "code",
   "execution_count": 81,
   "metadata": {},
   "outputs": [
    {
     "data": {
      "text/html": [
       "<div>\n",
       "<style scoped>\n",
       "    .dataframe tbody tr th:only-of-type {\n",
       "        vertical-align: middle;\n",
       "    }\n",
       "\n",
       "    .dataframe tbody tr th {\n",
       "        vertical-align: top;\n",
       "    }\n",
       "\n",
       "    .dataframe thead th {\n",
       "        text-align: right;\n",
       "    }\n",
       "</style>\n",
       "<table border=\"1\" class=\"dataframe\">\n",
       "  <thead>\n",
       "    <tr style=\"text-align: right;\">\n",
       "      <th></th>\n",
       "      <th>timestamp</th>\n",
       "      <th>city</th>\n",
       "      <th>store_id</th>\n",
       "      <th>sale_number</th>\n",
       "      <th>sale_amount</th>\n",
       "      <th>associate</th>\n",
       "    </tr>\n",
       "  </thead>\n",
       "  <tbody>\n",
       "    <tr>\n",
       "      <th>0</th>\n",
       "      <td>2018-09-10 05:00:45</td>\n",
       "      <td>Williamburgh</td>\n",
       "      <td>6</td>\n",
       "      <td>1530</td>\n",
       "      <td>1167.0</td>\n",
       "      <td>Gary Lee</td>\n",
       "    </tr>\n",
       "    <tr>\n",
       "      <th>1</th>\n",
       "      <td>2018-09-12 10:01:27</td>\n",
       "      <td>Ibarraberg</td>\n",
       "      <td>1</td>\n",
       "      <td>2744</td>\n",
       "      <td>258.0</td>\n",
       "      <td>Daniel Davis</td>\n",
       "    </tr>\n",
       "    <tr>\n",
       "      <th>2</th>\n",
       "      <td>2018-09-13 12:01:48</td>\n",
       "      <td>Sarachester</td>\n",
       "      <td>2</td>\n",
       "      <td>1908</td>\n",
       "      <td>266.0</td>\n",
       "      <td>Michael Roth</td>\n",
       "    </tr>\n",
       "    <tr>\n",
       "      <th>3</th>\n",
       "      <td>2018-09-14 20:02:19</td>\n",
       "      <td>Caldwellbury</td>\n",
       "      <td>14</td>\n",
       "      <td>771</td>\n",
       "      <td>-108.0</td>\n",
       "      <td>Michaela Stewart</td>\n",
       "    </tr>\n",
       "    <tr>\n",
       "      <th>4</th>\n",
       "      <td>2018-09-16 01:03:21</td>\n",
       "      <td>Erikaland</td>\n",
       "      <td>11</td>\n",
       "      <td>1571</td>\n",
       "      <td>-372.0</td>\n",
       "      <td>Mark Taylor</td>\n",
       "    </tr>\n",
       "  </tbody>\n",
       "</table>\n",
       "</div>"
      ],
      "text/plain": [
       "             timestamp          city  store_id  sale_number  sale_amount  \\\n",
       "0  2018-09-10 05:00:45  Williamburgh         6         1530       1167.0   \n",
       "1  2018-09-12 10:01:27    Ibarraberg         1         2744        258.0   \n",
       "2  2018-09-13 12:01:48   Sarachester         2         1908        266.0   \n",
       "3  2018-09-14 20:02:19  Caldwellbury        14          771       -108.0   \n",
       "4  2018-09-16 01:03:21     Erikaland        11         1571       -372.0   \n",
       "\n",
       "          associate  \n",
       "0          Gary Lee  \n",
       "1      Daniel Davis  \n",
       "2      Michael Roth  \n",
       "3  Michaela Stewart  \n",
       "4       Mark Taylor  "
      ]
     },
     "execution_count": 81,
     "metadata": {},
     "output_type": "execute_result"
    }
   ],
   "source": [
    "sales.head()"
   ]
  },
  {
   "cell_type": "code",
   "execution_count": 82,
   "metadata": {},
   "outputs": [
    {
     "data": {
      "text/plain": [
       "timestamp       object\n",
       "city            object\n",
       "store_id         int64\n",
       "sale_number      int64\n",
       "sale_amount    float64\n",
       "associate       object\n",
       "dtype: object"
      ]
     },
     "execution_count": 82,
     "metadata": {},
     "output_type": "execute_result"
    }
   ],
   "source": [
    "sales.dtypes"
   ]
  },
  {
   "cell_type": "markdown",
   "metadata": {},
   "source": [
    "## Defining our first schema"
   ]
  },
  {
   "cell_type": "code",
   "execution_count": 83,
   "metadata": {},
   "outputs": [],
   "source": [
    "schema = Schema({ Required('sale_amount'): All(float, Range(min=2.50, max=1450.99)),}, extra=ALLOW_EXTRA)"
   ]
  },
  {
   "cell_type": "code",
   "execution_count": 84,
   "metadata": {},
   "outputs": [
    {
     "name": "stderr",
     "output_type": "stream",
     "text": [
      "WARNING:root:issue with sale: 3 (-108.0) - value must be at least 2.5 for dictionary value @ data['sale_amount']\n",
      "WARNING:root:issue with sale: 4 (-372.0) - value must be at least 2.5 for dictionary value @ data['sale_amount']\n",
      "WARNING:root:issue with sale: 5 (-399.0) - value must be at least 2.5 for dictionary value @ data['sale_amount']\n",
      "WARNING:root:issue with sale: 6 (-304.0) - value must be at least 2.5 for dictionary value @ data['sale_amount']\n",
      "WARNING:root:issue with sale: 7 (-295.0) - value must be at least 2.5 for dictionary value @ data['sale_amount']\n",
      "WARNING:root:issue with sale: 10 (-89.0) - value must be at least 2.5 for dictionary value @ data['sale_amount']\n",
      "WARNING:root:issue with sale: 13 (-303.0) - value must be at least 2.5 for dictionary value @ data['sale_amount']\n",
      "WARNING:root:issue with sale: 15 (-432.0) - value must be at least 2.5 for dictionary value @ data['sale_amount']\n",
      "WARNING:root:issue with sale: 19 (-177.0) - value must be at least 2.5 for dictionary value @ data['sale_amount']\n",
      "WARNING:root:issue with sale: 20 (-154.0) - value must be at least 2.5 for dictionary value @ data['sale_amount']\n",
      "WARNING:root:issue with sale: 22 (-130.0) - value must be at least 2.5 for dictionary value @ data['sale_amount']\n",
      "WARNING:root:issue with sale: 23 (1487.0) - value must be at most 1450.99 for dictionary value @ data['sale_amount']\n",
      "WARNING:root:issue with sale: 25 (-145.0) - value must be at least 2.5 for dictionary value @ data['sale_amount']\n",
      "WARNING:root:issue with sale: 28 (1471.0) - value must be at most 1450.99 for dictionary value @ data['sale_amount']\n",
      "WARNING:root:issue with sale: 31 (-259.0) - value must be at least 2.5 for dictionary value @ data['sale_amount']\n",
      "WARNING:root:issue with sale: 38 (-241.0) - value must be at least 2.5 for dictionary value @ data['sale_amount']\n",
      "WARNING:root:issue with sale: 40 (-4.0) - value must be at least 2.5 for dictionary value @ data['sale_amount']\n",
      "WARNING:root:issue with sale: 41 (1581.0) - value must be at most 1450.99 for dictionary value @ data['sale_amount']\n",
      "WARNING:root:issue with sale: 45 (1529.0) - value must be at most 1450.99 for dictionary value @ data['sale_amount']\n",
      "WARNING:root:issue with sale: 46 (-238.0) - value must be at least 2.5 for dictionary value @ data['sale_amount']\n",
      "WARNING:root:issue with sale: 48 (-284.0) - value must be at least 2.5 for dictionary value @ data['sale_amount']\n",
      "WARNING:root:issue with sale: 51 (-164.0) - value must be at least 2.5 for dictionary value @ data['sale_amount']\n",
      "WARNING:root:issue with sale: 55 (-184.0) - value must be at least 2.5 for dictionary value @ data['sale_amount']\n",
      "WARNING:root:issue with sale: 56 (-304.0) - value must be at least 2.5 for dictionary value @ data['sale_amount']\n",
      "WARNING:root:issue with sale: 59 (1579.0) - value must be at most 1450.99 for dictionary value @ data['sale_amount']\n",
      "WARNING:root:issue with sale: 60 (-455.0) - value must be at least 2.5 for dictionary value @ data['sale_amount']\n",
      "WARNING:root:issue with sale: 63 (1551.0) - value must be at most 1450.99 for dictionary value @ data['sale_amount']\n",
      "WARNING:root:issue with sale: 65 (-397.0) - value must be at least 2.5 for dictionary value @ data['sale_amount']\n",
      "WARNING:root:issue with sale: 69 (-400.0) - value must be at least 2.5 for dictionary value @ data['sale_amount']\n",
      "WARNING:root:issue with sale: 70 (1482.0) - value must be at most 1450.99 for dictionary value @ data['sale_amount']\n",
      "WARNING:root:issue with sale: 71 (-321.0) - value must be at least 2.5 for dictionary value @ data['sale_amount']\n",
      "WARNING:root:issue with sale: 74 (-47.0) - value must be at least 2.5 for dictionary value @ data['sale_amount']\n",
      "WARNING:root:issue with sale: 76 (-68.0) - value must be at least 2.5 for dictionary value @ data['sale_amount']\n",
      "WARNING:root:issue with sale: 86 (1454.0) - value must be at most 1450.99 for dictionary value @ data['sale_amount']\n",
      "WARNING:root:issue with sale: 101 (-213.0) - value must be at least 2.5 for dictionary value @ data['sale_amount']\n",
      "WARNING:root:issue with sale: 103 (-144.0) - value must be at least 2.5 for dictionary value @ data['sale_amount']\n",
      "WARNING:root:issue with sale: 104 (-265.0) - value must be at least 2.5 for dictionary value @ data['sale_amount']\n",
      "WARNING:root:issue with sale: 107 (-349.0) - value must be at least 2.5 for dictionary value @ data['sale_amount']\n",
      "WARNING:root:issue with sale: 111 (-78.0) - value must be at least 2.5 for dictionary value @ data['sale_amount']\n",
      "WARNING:root:issue with sale: 112 (-310.0) - value must be at least 2.5 for dictionary value @ data['sale_amount']\n",
      "WARNING:root:issue with sale: 116 (1570.0) - value must be at most 1450.99 for dictionary value @ data['sale_amount']\n",
      "WARNING:root:issue with sale: 120 (1490.0) - value must be at most 1450.99 for dictionary value @ data['sale_amount']\n",
      "WARNING:root:issue with sale: 123 (-179.0) - value must be at least 2.5 for dictionary value @ data['sale_amount']\n",
      "WARNING:root:issue with sale: 124 (-391.0) - value must be at least 2.5 for dictionary value @ data['sale_amount']\n",
      "WARNING:root:issue with sale: 129 (1504.0) - value must be at most 1450.99 for dictionary value @ data['sale_amount']\n",
      "WARNING:root:issue with sale: 130 (-91.0) - value must be at least 2.5 for dictionary value @ data['sale_amount']\n",
      "WARNING:root:issue with sale: 132 (-372.0) - value must be at least 2.5 for dictionary value @ data['sale_amount']\n",
      "WARNING:root:issue with sale: 141 (1512.0) - value must be at most 1450.99 for dictionary value @ data['sale_amount']\n",
      "WARNING:root:issue with sale: 142 (-449.0) - value must be at least 2.5 for dictionary value @ data['sale_amount']\n",
      "WARNING:root:issue with sale: 149 (1494.0) - value must be at most 1450.99 for dictionary value @ data['sale_amount']\n",
      "WARNING:root:issue with sale: 152 (-405.0) - value must be at least 2.5 for dictionary value @ data['sale_amount']\n",
      "WARNING:root:issue with sale: 155 (1599.0) - value must be at most 1450.99 for dictionary value @ data['sale_amount']\n",
      "WARNING:root:issue with sale: 156 (1527.0) - value must be at most 1450.99 for dictionary value @ data['sale_amount']\n",
      "WARNING:root:issue with sale: 157 (-462.0) - value must be at least 2.5 for dictionary value @ data['sale_amount']\n",
      "WARNING:root:issue with sale: 162 (-358.0) - value must be at least 2.5 for dictionary value @ data['sale_amount']\n",
      "WARNING:root:issue with sale: 164 (-78.0) - value must be at least 2.5 for dictionary value @ data['sale_amount']\n",
      "WARNING:root:issue with sale: 167 (-358.0) - value must be at least 2.5 for dictionary value @ data['sale_amount']\n",
      "WARNING:root:issue with sale: 171 (-391.0) - value must be at least 2.5 for dictionary value @ data['sale_amount']\n",
      "WARNING:root:issue with sale: 178 (-304.0) - value must be at least 2.5 for dictionary value @ data['sale_amount']\n",
      "WARNING:root:issue with sale: 180 (-9.0) - value must be at least 2.5 for dictionary value @ data['sale_amount']\n",
      "WARNING:root:issue with sale: 187 (1475.0) - value must be at most 1450.99 for dictionary value @ data['sale_amount']\n",
      "WARNING:root:issue with sale: 194 (-433.0) - value must be at least 2.5 for dictionary value @ data['sale_amount']\n",
      "WARNING:root:issue with sale: 195 (-329.0) - value must be at least 2.5 for dictionary value @ data['sale_amount']\n",
      "WARNING:root:issue with sale: 196 (-147.0) - value must be at least 2.5 for dictionary value @ data['sale_amount']\n",
      "WARNING:root:issue with sale: 203 (-319.0) - value must be at least 2.5 for dictionary value @ data['sale_amount']\n",
      "WARNING:root:issue with sale: 206 (-132.0) - value must be at least 2.5 for dictionary value @ data['sale_amount']\n",
      "WARNING:root:issue with sale: 207 (-20.0) - value must be at least 2.5 for dictionary value @ data['sale_amount']\n",
      "WARNING:root:issue with sale: 209 (1539.0) - value must be at most 1450.99 for dictionary value @ data['sale_amount']\n",
      "WARNING:root:issue with sale: 211 (-167.0) - value must be at least 2.5 for dictionary value @ data['sale_amount']\n"
     ]
    }
   ],
   "source": [
    "error_count = 0\n",
    "for s_id, sale in sales.T.to_dict().items():\n",
    "    try:\n",
    "        schema(sale)\n",
    "    except MultipleInvalid as e:\n",
    "        logging.warning('issue with sale: %s (%s) - %s', s_id, sale['sale_amount'], e)\n",
    "        error_count += 1"
   ]
  },
  {
   "cell_type": "code",
   "execution_count": 85,
   "metadata": {},
   "outputs": [
    {
     "data": {
      "text/plain": [
       "69"
      ]
     },
     "execution_count": 85,
     "metadata": {},
     "output_type": "execute_result"
    }
   ],
   "source": [
    "error_count"
   ]
  },
  {
   "cell_type": "code",
   "execution_count": 86,
   "metadata": {},
   "outputs": [
    {
     "data": {
      "text/plain": [
       "(213, 6)"
      ]
     },
     "execution_count": 86,
     "metadata": {},
     "output_type": "execute_result"
    }
   ],
   "source": [
    "sales.shape"
   ]
  },
  {
   "cell_type": "markdown",
   "metadata": {},
   "source": [
    "### Questions we might want to answer:\n",
    "- Do we have an improperly defined schema?\n",
    "- Are negative values possibly returns or falsely marked? (data entry proceedures)\n",
    "- Are higher values combined purchases or special sales? (or potentially fraud?)\n",
    "- What should we do with our schema and our failing data points?"
   ]
  },
  {
   "cell_type": "markdown",
   "metadata": {
    "collapsed": true
   },
   "source": [
    "### Adding a custom Validation Case"
   ]
  },
  {
   "cell_type": "code",
   "execution_count": 87,
   "metadata": {},
   "outputs": [],
   "source": [
    "def ValidDate(fmt='%Y-%m-%d %H:%M:%S'):\n",
    "    return lambda v: datetime.strptime(v, fmt)"
   ]
  },
  {
   "cell_type": "code",
   "execution_count": 88,
   "metadata": {},
   "outputs": [],
   "source": [
    "schema = Schema({\n",
    "    Required('timestamp'): All(ValidDate()),}, extra=ALLOW_EXTRA)"
   ]
  },
  {
   "cell_type": "code",
   "execution_count": 89,
   "metadata": {},
   "outputs": [],
   "source": [
    "error_count = 0\n",
    "for s_id, sale in sales.T.to_dict().items():\n",
    "    try:\n",
    "        schema(sale)\n",
    "    except MultipleInvalid as e:\n",
    "        logging.warning('issue with sale: %s (%s) - %s', s_id, sale['timestamp'], e)\n",
    "        error_count += 1"
   ]
  },
  {
   "cell_type": "code",
   "execution_count": 90,
   "metadata": {},
   "outputs": [
    {
     "data": {
      "text/plain": [
       "0"
      ]
     },
     "execution_count": 90,
     "metadata": {},
     "output_type": "execute_result"
    }
   ],
   "source": [
    "error_count"
   ]
  },
  {
   "cell_type": "markdown",
   "metadata": {},
   "source": [
    "## So we have valid date structures, what about actual valid dates?"
   ]
  },
  {
   "cell_type": "code",
   "execution_count": 91,
   "metadata": {},
   "outputs": [],
   "source": [
    "def ValidDate(fmt='%Y-%m-%d %H:%M:%S'):\n",
    "    def validation_func(v):\n",
    "        try:\n",
    "            assert datetime.strptime(v, fmt) <= datetime.now()\n",
    "        except AssertionError:\n",
    "            raise Invalid('date is in the future! %s' % v)\n",
    "    return validation_func"
   ]
  },
  {
   "cell_type": "code",
   "execution_count": 92,
   "metadata": {},
   "outputs": [],
   "source": [
    "schema = Schema({\n",
    "    Required('timestamp'): All(ValidDate()),}, extra=ALLOW_EXTRA)"
   ]
  },
  {
   "cell_type": "code",
   "execution_count": 93,
   "metadata": {},
   "outputs": [],
   "source": [
    "error_count = 0\n",
    "for s_id, sale in sales.T.to_dict().items():\n",
    "    try:\n",
    "        schema(sale)\n",
    "    except MultipleInvalid as e:\n",
    "        logging.warning('issue with sale: %s (%s) - %s', \n",
    "                        s_id, sale['timestamp'], e)\n",
    "        error_count += 1"
   ]
  },
  {
   "cell_type": "code",
   "execution_count": 94,
   "metadata": {},
   "outputs": [
    {
     "data": {
      "text/plain": [
       "0"
      ]
     },
     "execution_count": 94,
     "metadata": {},
     "output_type": "execute_result"
    }
   ],
   "source": [
    "error_count"
   ]
  }
 ],
 "metadata": {
  "kernelspec": {
   "display_name": "Python 3",
   "language": "python",
   "name": "python3"
  },
  "language_info": {
   "codemirror_mode": {
    "name": "ipython",
    "version": 3
   },
   "file_extension": ".py",
   "mimetype": "text/x-python",
   "name": "python",
   "nbconvert_exporter": "python",
   "pygments_lexer": "ipython3",
   "version": "3.12.0"
  }
 },
 "nbformat": 4,
 "nbformat_minor": 2
}
